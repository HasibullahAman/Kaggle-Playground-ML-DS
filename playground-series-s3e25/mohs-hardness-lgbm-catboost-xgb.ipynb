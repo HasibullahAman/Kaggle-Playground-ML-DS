{
 "cells": [
  {
   "cell_type": "markdown",
   "metadata": {
    "_cell_guid": "b1076dfc-b9ad-4769-8c92-a6c4dae69d19",
    "_uuid": "8f2839f25d086af736a60e9eeb907d3b93b6e0e5"
   },
   "source": [
    "<center><span style=\"font-family:Comic Sans MS; color:navy \"><h1>Regression with a Mohs Hardness Dataset(LGBM+CatBoost+XGB)</h1></span></center>"
   ]
  },
  {
   "cell_type": "markdown",
   "metadata": {},
   "source": [
    "# <b>a <span style='color:#94D4F6'>|</span> Table of Conents</b>\n",
    "<a id=\"toc\"></a>\n",
    "- [1. Import Libraries](#1)\n",
    "- [2. Read Dataset](#2)\n",
    "- [3. Preprocessing](#3)\n",
    "- [4. Visualization](#4)\n",
    "- [5. Feature Engineering](#5)\n",
    "- [6. Split Dataset](#6)\n",
    "- [7. Modeling](#7)\n",
    "- [8. Predict test data](#8)\n",
    "- [9. Evaluation](#9)\n",
    "- [9. Submission](#10)\n",
    "\n"
   ]
  },
  {
   "cell_type": "markdown",
   "metadata": {},
   "source": [
    "<a id=\"1\"></a>\n",
    "# <b>1 <span style='color:#94D4F6'>|</span> Import Libraries</b>"
   ]
  },
  {
   "cell_type": "code",
   "execution_count": 7,
   "metadata": {},
   "outputs": [
    {
     "name": "stdout",
     "output_type": "stream",
     "text": [
      "Collecting catboost\n",
      "  Downloading catboost-1.2.2-cp39-cp39-win_amd64.whl (101.0 MB)\n",
      "     -                                        3.8/101.0 MB 4.0 kB/s eta 6:42:32\n"
     ]
    },
    {
     "name": "stderr",
     "output_type": "stream",
     "text": [
      "ERROR: Exception:\n",
      "Traceback (most recent call last):\n",
      "  File \"C:\\Users\\Hasibullah Aman\\anaconda3\\lib\\site-packages\\pip\\_vendor\\urllib3\\response.py\", line 435, in _error_catcher\n",
      "    yield\n",
      "  File \"C:\\Users\\Hasibullah Aman\\anaconda3\\lib\\site-packages\\pip\\_vendor\\urllib3\\response.py\", line 516, in read\n",
      "    data = self._fp.read(amt) if not fp_closed else b\"\"\n",
      "  File \"C:\\Users\\Hasibullah Aman\\anaconda3\\lib\\site-packages\\pip\\_vendor\\cachecontrol\\filewrapper.py\", line 90, in read\n",
      "    data = self.__fp.read(amt)\n",
      "  File \"C:\\Users\\Hasibullah Aman\\anaconda3\\lib\\http\\client.py\", line 463, in read\n",
      "    n = self.readinto(b)\n",
      "  File \"C:\\Users\\Hasibullah Aman\\anaconda3\\lib\\http\\client.py\", line 507, in readinto\n",
      "    n = self.fp.readinto(b)\n",
      "  File \"C:\\Users\\Hasibullah Aman\\anaconda3\\lib\\socket.py\", line 704, in readinto\n",
      "    return self._sock.recv_into(b)\n",
      "  File \"C:\\Users\\Hasibullah Aman\\anaconda3\\lib\\ssl.py\", line 1242, in recv_into\n",
      "    return self.read(nbytes, buffer)\n",
      "  File \"C:\\Users\\Hasibullah Aman\\anaconda3\\lib\\ssl.py\", line 1100, in read\n",
      "    return self._sslobj.read(len, buffer)\n",
      "socket.timeout: The read operation timed out\n",
      "\n",
      "During handling of the above exception, another exception occurred:\n",
      "\n",
      "Traceback (most recent call last):\n",
      "  File \"C:\\Users\\Hasibullah Aman\\anaconda3\\lib\\site-packages\\pip\\_internal\\cli\\base_command.py\", line 167, in exc_logging_wrapper\n",
      "    status = run_func(*args)\n",
      "  File \"C:\\Users\\Hasibullah Aman\\anaconda3\\lib\\site-packages\\pip\\_internal\\cli\\req_command.py\", line 247, in wrapper\n",
      "    return func(self, options, args)\n",
      "  File \"C:\\Users\\Hasibullah Aman\\anaconda3\\lib\\site-packages\\pip\\_internal\\commands\\install.py\", line 369, in run\n",
      "    requirement_set = resolver.resolve(\n",
      "  File \"C:\\Users\\Hasibullah Aman\\anaconda3\\lib\\site-packages\\pip\\_internal\\resolution\\resolvelib\\resolver.py\", line 92, in resolve\n",
      "    result = self._result = resolver.resolve(\n",
      "  File \"C:\\Users\\Hasibullah Aman\\anaconda3\\lib\\site-packages\\pip\\_vendor\\resolvelib\\resolvers.py\", line 481, in resolve\n",
      "    state = resolution.resolve(requirements, max_rounds=max_rounds)\n",
      "  File \"C:\\Users\\Hasibullah Aman\\anaconda3\\lib\\site-packages\\pip\\_vendor\\resolvelib\\resolvers.py\", line 348, in resolve\n",
      "    self._add_to_criteria(self.state.criteria, r, parent=None)\n",
      "  File \"C:\\Users\\Hasibullah Aman\\anaconda3\\lib\\site-packages\\pip\\_vendor\\resolvelib\\resolvers.py\", line 172, in _add_to_criteria\n",
      "    if not criterion.candidates:\n",
      "  File \"C:\\Users\\Hasibullah Aman\\anaconda3\\lib\\site-packages\\pip\\_vendor\\resolvelib\\structs.py\", line 151, in __bool__\n",
      "    return bool(self._sequence)\n",
      "  File \"C:\\Users\\Hasibullah Aman\\anaconda3\\lib\\site-packages\\pip\\_internal\\resolution\\resolvelib\\found_candidates.py\", line 155, in __bool__\n",
      "    return any(self)\n",
      "  File \"C:\\Users\\Hasibullah Aman\\anaconda3\\lib\\site-packages\\pip\\_internal\\resolution\\resolvelib\\found_candidates.py\", line 143, in <genexpr>\n",
      "    return (c for c in iterator if id(c) not in self._incompatible_ids)\n",
      "  File \"C:\\Users\\Hasibullah Aman\\anaconda3\\lib\\site-packages\\pip\\_internal\\resolution\\resolvelib\\found_candidates.py\", line 47, in _iter_built\n",
      "    candidate = func()\n",
      "  File \"C:\\Users\\Hasibullah Aman\\anaconda3\\lib\\site-packages\\pip\\_internal\\resolution\\resolvelib\\factory.py\", line 206, in _make_candidate_from_link\n",
      "    self._link_candidate_cache[link] = LinkCandidate(\n",
      "  File \"C:\\Users\\Hasibullah Aman\\anaconda3\\lib\\site-packages\\pip\\_internal\\resolution\\resolvelib\\candidates.py\", line 297, in __init__\n",
      "    super().__init__(\n",
      "  File \"C:\\Users\\Hasibullah Aman\\anaconda3\\lib\\site-packages\\pip\\_internal\\resolution\\resolvelib\\candidates.py\", line 162, in __init__\n",
      "    self.dist = self._prepare()\n",
      "  File \"C:\\Users\\Hasibullah Aman\\anaconda3\\lib\\site-packages\\pip\\_internal\\resolution\\resolvelib\\candidates.py\", line 231, in _prepare\n",
      "    dist = self._prepare_distribution()\n",
      "  File \"C:\\Users\\Hasibullah Aman\\anaconda3\\lib\\site-packages\\pip\\_internal\\resolution\\resolvelib\\candidates.py\", line 308, in _prepare_distribution\n",
      "    return preparer.prepare_linked_requirement(self._ireq, parallel_builds=True)\n",
      "  File \"C:\\Users\\Hasibullah Aman\\anaconda3\\lib\\site-packages\\pip\\_internal\\operations\\prepare.py\", line 438, in prepare_linked_requirement\n",
      "    return self._prepare_linked_requirement(req, parallel_builds)\n",
      "  File \"C:\\Users\\Hasibullah Aman\\anaconda3\\lib\\site-packages\\pip\\_internal\\operations\\prepare.py\", line 483, in _prepare_linked_requirement\n",
      "    local_file = unpack_url(\n",
      "  File \"C:\\Users\\Hasibullah Aman\\anaconda3\\lib\\site-packages\\pip\\_internal\\operations\\prepare.py\", line 165, in unpack_url\n",
      "    file = get_http_url(\n",
      "  File \"C:\\Users\\Hasibullah Aman\\anaconda3\\lib\\site-packages\\pip\\_internal\\operations\\prepare.py\", line 106, in get_http_url\n",
      "    from_path, content_type = download(link, temp_dir.path)\n",
      "  File \"C:\\Users\\Hasibullah Aman\\anaconda3\\lib\\site-packages\\pip\\_internal\\network\\download.py\", line 147, in __call__\n",
      "    for chunk in chunks:\n",
      "  File \"C:\\Users\\Hasibullah Aman\\anaconda3\\lib\\site-packages\\pip\\_internal\\cli\\progress_bars.py\", line 53, in _rich_progress_bar\n",
      "    for chunk in iterable:\n",
      "  File \"C:\\Users\\Hasibullah Aman\\anaconda3\\lib\\site-packages\\pip\\_internal\\network\\utils.py\", line 63, in response_chunks\n",
      "    for chunk in response.raw.stream(\n",
      "  File \"C:\\Users\\Hasibullah Aman\\anaconda3\\lib\\site-packages\\pip\\_vendor\\urllib3\\response.py\", line 573, in stream\n",
      "    data = self.read(amt=amt, decode_content=decode_content)\n",
      "  File \"C:\\Users\\Hasibullah Aman\\anaconda3\\lib\\site-packages\\pip\\_vendor\\urllib3\\response.py\", line 538, in read\n",
      "    raise IncompleteRead(self._fp_bytes_read, self.length_remaining)\n",
      "  File \"C:\\Users\\Hasibullah Aman\\anaconda3\\lib\\contextlib.py\", line 137, in __exit__\n",
      "    self.gen.throw(typ, value, traceback)\n",
      "  File \"C:\\Users\\Hasibullah Aman\\anaconda3\\lib\\site-packages\\pip\\_vendor\\urllib3\\response.py\", line 440, in _error_catcher\n",
      "    raise ReadTimeoutError(self._pool, None, \"Read timed out.\")\n",
      "pip._vendor.urllib3.exceptions.ReadTimeoutError: HTTPSConnectionPool(host='files.pythonhosted.org', port=443): Read timed out.\n"
     ]
    }
   ],
   "source": [
    "!pip install catboost"
   ]
  },
  {
   "cell_type": "code",
   "execution_count": 6,
   "metadata": {},
   "outputs": [
    {
     "ename": "ModuleNotFoundError",
     "evalue": "No module named 'catboost'",
     "output_type": "error",
     "traceback": [
      "\u001b[1;31m---------------------------------------------------------------------------\u001b[0m",
      "\u001b[1;31mModuleNotFoundError\u001b[0m                       Traceback (most recent call last)",
      "\u001b[1;32m~\\AppData\\Local\\Temp\\ipykernel_10096\\1635380741.py\u001b[0m in \u001b[0;36m<module>\u001b[1;34m\u001b[0m\n\u001b[0;32m     17\u001b[0m \u001b[1;33m\u001b[0m\u001b[0m\n\u001b[0;32m     18\u001b[0m \u001b[1;31m# Model\u001b[0m\u001b[1;33m\u001b[0m\u001b[1;33m\u001b[0m\u001b[0m\n\u001b[1;32m---> 19\u001b[1;33m \u001b[1;32mfrom\u001b[0m \u001b[0mcatboost\u001b[0m \u001b[1;32mimport\u001b[0m \u001b[0mCatBoostRegressor\u001b[0m\u001b[1;33m\u001b[0m\u001b[1;33m\u001b[0m\u001b[0m\n\u001b[0m\u001b[0;32m     20\u001b[0m \u001b[1;32mfrom\u001b[0m \u001b[0mxgboost\u001b[0m \u001b[1;32mimport\u001b[0m \u001b[0mXGBRegressor\u001b[0m\u001b[1;33m\u001b[0m\u001b[1;33m\u001b[0m\u001b[0m\n\u001b[0;32m     21\u001b[0m \u001b[1;32mfrom\u001b[0m \u001b[0mlightgbm\u001b[0m \u001b[1;32mimport\u001b[0m \u001b[0mLGBMRegressor\u001b[0m\u001b[1;33m\u001b[0m\u001b[1;33m\u001b[0m\u001b[0m\n",
      "\u001b[1;31mModuleNotFoundError\u001b[0m: No module named 'catboost'"
     ]
    }
   ],
   "source": [
    "import numpy as np # for doing some statical operation\n",
    "import pandas as pd # for working with data frame\n",
    "\n",
    "# plot\n",
    "import matplotlib.pyplot as plt\n",
    "import seaborn as sns\n",
    "import missingno as msno\n",
    "\n",
    "# encoding categorical features\n",
    "from sklearn.preprocessing import(\n",
    "    StandardScaler,# standard scalar will scale data from (-3 to 3)\n",
    "    LabelEncoder, # for label encoding categorical features\n",
    "    OneHotEncoder, # used for onehot encoding categorical features\n",
    ") \n",
    "# split the dataset\n",
    "from sklearn.model_selection import train_test_split\n",
    "\n",
    "# Model\n",
    "from catboost import CatBoostRegressor\n",
    "from xgboost import XGBRegressor\n",
    "from lightgbm import LGBMRegressor\n",
    "\n",
    "# Evaluation\n",
    "from sklearn.metrics import median_absolute_error"
   ]
  },
  {
   "cell_type": "markdown",
   "metadata": {},
   "source": [
    "<a id=\"2\"></a>\n",
    "# <b>2 <span style='color:#94D4F6'>|</span> Read Dataset</b>"
   ]
  },
  {
   "cell_type": "code",
   "execution_count": null,
   "metadata": {
    "execution": {
     "iopub.execute_input": "2023-11-14T17:56:13.359821Z",
     "iopub.status.busy": "2023-11-14T17:56:13.358913Z",
     "iopub.status.idle": "2023-11-14T17:56:13.415286Z",
     "shell.execute_reply": "2023-11-14T17:56:13.414385Z",
     "shell.execute_reply.started": "2023-11-14T17:56:13.359774Z"
    }
   },
   "outputs": [],
   "source": [
    "df = pd.read_csv('/kaggle/input/playground-series-s3e25/train.csv')\n",
    "test = pd.read_csv('/kaggle/input/playground-series-s3e25/test.csv')\n",
    "sub = pd.read_csv('/kaggle/input/playground-series-s3e25/sample_submission.csv')"
   ]
  },
  {
   "cell_type": "code",
   "execution_count": null,
   "metadata": {
    "execution": {
     "iopub.execute_input": "2023-11-14T17:56:13.759579Z",
     "iopub.status.busy": "2023-11-14T17:56:13.759193Z",
     "iopub.status.idle": "2023-11-14T17:56:13.782802Z",
     "shell.execute_reply": "2023-11-14T17:56:13.781930Z",
     "shell.execute_reply.started": "2023-11-14T17:56:13.759532Z"
    }
   },
   "outputs": [],
   "source": [
    "test.head()"
   ]
  },
  {
   "cell_type": "markdown",
   "metadata": {},
   "source": [
    "<a id=\"3\"></a>\n",
    "# <b>3 <span style='color:#94D4F6'>|</span> PreProcessing</b>"
   ]
  },
  {
   "cell_type": "code",
   "execution_count": null,
   "metadata": {
    "execution": {
     "iopub.execute_input": "2023-11-14T17:56:14.699399Z",
     "iopub.status.busy": "2023-11-14T17:56:14.699007Z",
     "iopub.status.idle": "2023-11-14T17:56:14.706216Z",
     "shell.execute_reply": "2023-11-14T17:56:14.705027Z",
     "shell.execute_reply.started": "2023-11-14T17:56:14.699370Z"
    }
   },
   "outputs": [],
   "source": [
    "df.shape"
   ]
  },
  {
   "cell_type": "code",
   "execution_count": null,
   "metadata": {
    "execution": {
     "iopub.execute_input": "2023-11-14T17:56:15.242199Z",
     "iopub.status.busy": "2023-11-14T17:56:15.241823Z",
     "iopub.status.idle": "2023-11-14T17:56:15.249329Z",
     "shell.execute_reply": "2023-11-14T17:56:15.248109Z",
     "shell.execute_reply.started": "2023-11-14T17:56:15.242170Z"
    }
   },
   "outputs": [],
   "source": [
    "df.columns"
   ]
  },
  {
   "cell_type": "markdown",
   "metadata": {},
   "source": [
    "### Types of columns"
   ]
  },
  {
   "cell_type": "code",
   "execution_count": null,
   "metadata": {
    "execution": {
     "iopub.execute_input": "2023-11-14T17:56:16.499287Z",
     "iopub.status.busy": "2023-11-14T17:56:16.498914Z",
     "iopub.status.idle": "2023-11-14T17:56:16.507945Z",
     "shell.execute_reply": "2023-11-14T17:56:16.506958Z",
     "shell.execute_reply.started": "2023-11-14T17:56:16.499259Z"
    }
   },
   "outputs": [],
   "source": [
    "df.dtypes"
   ]
  },
  {
   "cell_type": "code",
   "execution_count": null,
   "metadata": {
    "execution": {
     "iopub.execute_input": "2023-11-14T17:56:17.679697Z",
     "iopub.status.busy": "2023-11-14T17:56:17.679301Z",
     "iopub.status.idle": "2023-11-14T17:56:17.692096Z",
     "shell.execute_reply": "2023-11-14T17:56:17.691086Z",
     "shell.execute_reply.started": "2023-11-14T17:56:17.679667Z"
    }
   },
   "outputs": [],
   "source": [
    "df.info()"
   ]
  },
  {
   "cell_type": "markdown",
   "metadata": {},
   "source": [
    "### Describe the dataset"
   ]
  },
  {
   "cell_type": "code",
   "execution_count": null,
   "metadata": {
    "execution": {
     "iopub.execute_input": "2023-11-14T17:56:21.359383Z",
     "iopub.status.busy": "2023-11-14T17:56:21.359008Z",
     "iopub.status.idle": "2023-11-14T17:56:21.433565Z",
     "shell.execute_reply": "2023-11-14T17:56:21.432606Z",
     "shell.execute_reply.started": "2023-11-14T17:56:21.359354Z"
    }
   },
   "outputs": [],
   "source": [
    "df.describe().style.background_gradient(cmap ='summer')"
   ]
  },
  {
   "cell_type": "code",
   "execution_count": null,
   "metadata": {
    "execution": {
     "iopub.execute_input": "2023-11-14T17:56:22.159836Z",
     "iopub.status.busy": "2023-11-14T17:56:22.159436Z",
     "iopub.status.idle": "2023-11-14T17:56:23.085996Z",
     "shell.execute_reply": "2023-11-14T17:56:23.084813Z",
     "shell.execute_reply.started": "2023-11-14T17:56:22.159804Z"
    }
   },
   "outputs": [],
   "source": [
    "# Show missing Value\n",
    "msno.matrix(df)"
   ]
  },
  {
   "cell_type": "markdown",
   "metadata": {},
   "source": [
    "<span style='font-family:comic Sans MS; color:navy'>As you can see, we don't have any missing value now in our dataSet</span>"
   ]
  },
  {
   "cell_type": "markdown",
   "metadata": {},
   "source": [
    "<a id=\"4\"></a>\n",
    "# <b>4 <span style='color:#94D4F6'>|</span> Exploratory Data Analysis</b>"
   ]
  },
  {
   "cell_type": "code",
   "execution_count": null,
   "metadata": {
    "execution": {
     "iopub.execute_input": "2023-11-14T17:39:03.567527Z",
     "iopub.status.busy": "2023-11-14T17:39:03.567105Z"
    }
   },
   "outputs": [],
   "source": [
    "sns.pairplot(df)\n",
    "plt.show()"
   ]
  },
  {
   "cell_type": "markdown",
   "metadata": {},
   "source": [
    "<a id=\"5\"></a>\n",
    "# <b>5 <span style='color:#94D4F6'>|</span> Feature Engineering</b>"
   ]
  },
  {
   "cell_type": "code",
   "execution_count": null,
   "metadata": {},
   "outputs": [],
   "source": [
    "# correlation matrix between numerical cols in the dataset.\n",
    "fig, ax = plt.subplots(figsize=(10,18))\n",
    "coer = df.corr()\n",
    "sns.heatmap(coer, annot =True, ax=ax, vmin=-1, vmax=1, center= 0, cmap= 'coolwarm', linewidths=3, linecolor='black')\n",
    "plt.show()"
   ]
  },
  {
   "cell_type": "markdown",
   "metadata": {},
   "source": [
    "<span style='font-family:comic Sans MS; color:navy'>As you can see, we have some unnecessary columns which we didn't need for Prediction or maybe have a weak correlation.</span>"
   ]
  },
  {
   "cell_type": "code",
   "execution_count": null,
   "metadata": {
    "execution": {
     "iopub.execute_input": "2023-11-14T17:56:36.780096Z",
     "iopub.status.busy": "2023-11-14T17:56:36.779460Z",
     "iopub.status.idle": "2023-11-14T17:56:36.793494Z",
     "shell.execute_reply": "2023-11-14T17:56:36.792636Z",
     "shell.execute_reply.started": "2023-11-14T17:56:36.780063Z"
    }
   },
   "outputs": [],
   "source": [
    "df.corr()['Hardness'].sort_values(ascending=False) "
   ]
  },
  {
   "cell_type": "code",
   "execution_count": null,
   "metadata": {
    "execution": {
     "iopub.execute_input": "2023-11-14T17:56:41.819930Z",
     "iopub.status.busy": "2023-11-14T17:56:41.819209Z",
     "iopub.status.idle": "2023-11-14T17:56:41.826715Z",
     "shell.execute_reply": "2023-11-14T17:56:41.825523Z",
     "shell.execute_reply.started": "2023-11-14T17:56:41.819896Z"
    }
   },
   "outputs": [],
   "source": [
    "df = df.drop(['id'],axis=1)\n",
    "test = test.drop(['id'],axis=1)"
   ]
  },
  {
   "cell_type": "markdown",
   "metadata": {},
   "source": [
    "<div style=\"color:white;display:fill;border-radius:8px;background-color:#03112A;font-size:150%;letter-spacing:1.0px\"><p style=\"padding: 10px;color:white;\"><b><b><span style='color:#94D4F6'>5.1 |</span></b> Feature Scaling </b></p></div>"
   ]
  },
  {
   "cell_type": "code",
   "execution_count": null,
   "metadata": {
    "execution": {
     "iopub.execute_input": "2023-11-14T17:56:43.540163Z",
     "iopub.status.busy": "2023-11-14T17:56:43.539464Z",
     "iopub.status.idle": "2023-11-14T17:56:43.544470Z",
     "shell.execute_reply": "2023-11-14T17:56:43.543503Z",
     "shell.execute_reply.started": "2023-11-14T17:56:43.540127Z"
    }
   },
   "outputs": [],
   "source": [
    "# # scalar for all numerical columns excluding target column\n",
    "# sc_X = StandardScaler()\n",
    "# # scalar for the target column\n",
    "# sc_y = StandardScaler()\n",
    "# # list of col  names that include numerical values\n",
    "# numeric_cols = df.select_dtypes(include=np.number).columns.tolist()\n",
    "# # list of all numeric cols excluding the target col\n",
    "# numeric_cols_x = [x for i,x in enumerate(numeric_cols) if(x!='Hardness')]\n",
    "# # list includes target col name\n",
    "# numeric_cols_y = [x for i,x in enumerate(numeric_cols) if(x not in numeric_cols_x)]\n",
    "# df[numeric_cols_x] = sc_X.fit_transform(df[numeric_cols_x])\n",
    "# df[numeric_cols_y]= sc_y.fit_transform(df[numeric_cols_y])\n",
    "# df.head()"
   ]
  },
  {
   "cell_type": "markdown",
   "metadata": {},
   "source": [
    "<a id=\"6\"></a>\n",
    "<div style=\"color:white;display:fill;border-radius:8px;background-color:#03112A;font-size:150%;letter-spacing:1.0px\"><p style=\"padding: 10px;color:white;\"><b><b><span style='color:#94D4F6'>5.2 |</span></b> Spliting The Dataset to Train and Test</b></p></div>"
   ]
  },
  {
   "cell_type": "code",
   "execution_count": null,
   "metadata": {
    "execution": {
     "iopub.execute_input": "2023-11-14T17:56:44.020065Z",
     "iopub.status.busy": "2023-11-14T17:56:44.019284Z",
     "iopub.status.idle": "2023-11-14T17:56:44.035880Z",
     "shell.execute_reply": "2023-11-14T17:56:44.035084Z",
     "shell.execute_reply.started": "2023-11-14T17:56:44.020031Z"
    }
   },
   "outputs": [],
   "source": [
    "X = df.drop('Hardness', axis=1)\n",
    "y = df['Hardness']\n",
    "X_train, X_test, y_train, y_test = train_test_split(X, y, test_size = 0.20, random_state=42)\n",
    "X_train.shape, X_test.shape, y_train.shape, y_test.shape"
   ]
  },
  {
   "cell_type": "code",
   "execution_count": null,
   "metadata": {
    "execution": {
     "iopub.execute_input": "2023-11-14T17:56:44.040958Z",
     "iopub.status.busy": "2023-11-14T17:56:44.040268Z",
     "iopub.status.idle": "2023-11-14T17:56:44.066914Z",
     "shell.execute_reply": "2023-11-14T17:56:44.065862Z",
     "shell.execute_reply.started": "2023-11-14T17:56:44.040917Z"
    }
   },
   "outputs": [],
   "source": [
    "X_train"
   ]
  },
  {
   "cell_type": "code",
   "execution_count": null,
   "metadata": {
    "execution": {
     "iopub.execute_input": "2023-11-14T17:56:44.239120Z",
     "iopub.status.busy": "2023-11-14T17:56:44.238713Z",
     "iopub.status.idle": "2023-11-14T17:56:44.247414Z",
     "shell.execute_reply": "2023-11-14T17:56:44.246680Z",
     "shell.execute_reply.started": "2023-11-14T17:56:44.239087Z"
    }
   },
   "outputs": [],
   "source": [
    "y_train"
   ]
  },
  {
   "cell_type": "markdown",
   "metadata": {},
   "source": [
    "<a id=\"7\"></a>\n",
    "# <b>6 <span style='color:#94D4F6'>|</span> Modeling</b>"
   ]
  },
  {
   "cell_type": "code",
   "execution_count": null,
   "metadata": {
    "execution": {
     "iopub.execute_input": "2023-11-14T17:56:44.319072Z",
     "iopub.status.busy": "2023-11-14T17:56:44.318683Z",
     "iopub.status.idle": "2023-11-14T17:56:44.324319Z",
     "shell.execute_reply": "2023-11-14T17:56:44.323404Z",
     "shell.execute_reply.started": "2023-11-14T17:56:44.319046Z"
    }
   },
   "outputs": [],
   "source": [
    "cat_model = CatBoostRegressor(random_state=42, silent=True)\n",
    "xgb_model = XGBRegressor(random_state=42)\n",
    "lgb_model = LGBMRegressor(random_state=42)"
   ]
  },
  {
   "cell_type": "code",
   "execution_count": null,
   "metadata": {
    "execution": {
     "iopub.execute_input": "2023-11-14T17:56:44.539299Z",
     "iopub.status.busy": "2023-11-14T17:56:44.538909Z",
     "iopub.status.idle": "2023-11-14T17:56:48.604539Z",
     "shell.execute_reply": "2023-11-14T17:56:48.603448Z",
     "shell.execute_reply.started": "2023-11-14T17:56:44.539265Z"
    }
   },
   "outputs": [],
   "source": [
    "# Train models\n",
    "cat_model.fit(X_train, y_train)\n",
    "xgb_model.fit(X_train, y_train)\n",
    "lgb_model.fit(X_train, y_train)"
   ]
  },
  {
   "cell_type": "markdown",
   "metadata": {},
   "source": [
    "<a id=\"8\"></a>\n",
    "# <b>7 <span style='color:#94D4F6'>|</span> Predictions</b>"
   ]
  },
  {
   "cell_type": "code",
   "execution_count": null,
   "metadata": {
    "execution": {
     "iopub.execute_input": "2023-11-14T17:56:48.606866Z",
     "iopub.status.busy": "2023-11-14T17:56:48.606508Z",
     "iopub.status.idle": "2023-11-14T17:56:48.635090Z",
     "shell.execute_reply": "2023-11-14T17:56:48.634184Z",
     "shell.execute_reply.started": "2023-11-14T17:56:48.606837Z"
    }
   },
   "outputs": [],
   "source": [
    "cat_predictions = cat_model.predict(X_test)\n",
    "xgb_predictions = xgb_model.predict(X_test)\n",
    "lgb_predictions = lgb_model.predict(X_test)"
   ]
  },
  {
   "cell_type": "code",
   "execution_count": null,
   "metadata": {
    "execution": {
     "iopub.execute_input": "2023-11-14T17:56:48.637119Z",
     "iopub.status.busy": "2023-11-14T17:56:48.636745Z",
     "iopub.status.idle": "2023-11-14T17:56:48.641058Z",
     "shell.execute_reply": "2023-11-14T17:56:48.640273Z",
     "shell.execute_reply.started": "2023-11-14T17:56:48.637090Z"
    }
   },
   "outputs": [],
   "source": [
    "# Ensemble predictions (simple averaging)\n",
    "ensemble_predictions = (cat_predictions + xgb_predictions + lgb_predictions) / 3"
   ]
  },
  {
   "cell_type": "markdown",
   "metadata": {},
   "source": [
    "<a id=\"9\"></a>\n",
    "# <b>8 <span style='color:#94D4F6'>|</span> Evaluation</b>"
   ]
  },
  {
   "cell_type": "code",
   "execution_count": null,
   "metadata": {
    "execution": {
     "iopub.execute_input": "2023-11-14T17:56:48.643873Z",
     "iopub.status.busy": "2023-11-14T17:56:48.643310Z",
     "iopub.status.idle": "2023-11-14T17:56:48.654671Z",
     "shell.execute_reply": "2023-11-14T17:56:48.653962Z",
     "shell.execute_reply.started": "2023-11-14T17:56:48.643842Z"
    }
   },
   "outputs": [],
   "source": [
    "# Evaluate ensemble model\n",
    "ensemble_medae = median_absolute_error(y_test, ensemble_predictions)\n",
    "print(f\"Ensemble Model MedAE: {ensemble_medae}\")"
   ]
  },
  {
   "cell_type": "code",
   "execution_count": null,
   "metadata": {
    "execution": {
     "iopub.execute_input": "2023-11-14T17:56:48.656413Z",
     "iopub.status.busy": "2023-11-14T17:56:48.655894Z",
     "iopub.status.idle": "2023-11-14T17:56:49.459721Z",
     "shell.execute_reply": "2023-11-14T17:56:49.458978Z",
     "shell.execute_reply.started": "2023-11-14T17:56:48.656384Z"
    }
   },
   "outputs": [],
   "source": [
    "# Visualization\n",
    "fig, axes = plt.subplots(1, 2, figsize=(16, 6))\n",
    "\n",
    "# Scatter Plot: Predicted vs Actual\n",
    "axes[0].scatter(y_test, ensemble_predictions, color='blue', alpha=0.5)\n",
    "axes[0].plot([y_test.min(), y_test.max()], [y_test.min(), y_test.max()], 'r--')\n",
    "axes[0].set_xlabel('Actual Values')\n",
    "axes[0].set_ylabel('Predicted Values')\n",
    "axes[0].set_title('Scatter Plot: Predicted vs. Actual')\n",
    "\n",
    "# Line Plot: Predicted vs Actual\n",
    "axes[1].plot(y_test.values, color='blue', alpha=0.5, label='Actual')\n",
    "axes[1].plot(ensemble_predictions, color='green', alpha=0.5, label='Predicted')\n",
    "axes[1].set_title('Line Plot: Predicted vs. Actual')\n",
    "axes[1].legend()\n",
    "\n",
    "plt.tight_layout()\n",
    "plt.show()"
   ]
  },
  {
   "cell_type": "markdown",
   "metadata": {},
   "source": [
    "<a id=\"10\"></a>\n",
    "# <b>9 <span style='color:#94D4F6'>|</span> Submission</b>"
   ]
  },
  {
   "cell_type": "code",
   "execution_count": null,
   "metadata": {
    "execution": {
     "iopub.execute_input": "2023-11-14T17:56:49.461423Z",
     "iopub.status.busy": "2023-11-14T17:56:49.460960Z",
     "iopub.status.idle": "2023-11-14T17:56:49.484559Z",
     "shell.execute_reply": "2023-11-14T17:56:49.483813Z",
     "shell.execute_reply.started": "2023-11-14T17:56:49.461394Z"
    }
   },
   "outputs": [],
   "source": [
    "# predict\n",
    "test_1 = pd.read_csv('/kaggle/input/playground-series-s3e25/test.csv')\n",
    "test = test_1.drop('id',axis = 1)"
   ]
  },
  {
   "cell_type": "code",
   "execution_count": null,
   "metadata": {
    "execution": {
     "iopub.execute_input": "2023-11-14T17:59:14.099908Z",
     "iopub.status.busy": "2023-11-14T17:59:14.099454Z",
     "iopub.status.idle": "2023-11-14T17:59:14.164195Z",
     "shell.execute_reply": "2023-11-14T17:59:14.163063Z",
     "shell.execute_reply.started": "2023-11-14T17:59:14.099875Z"
    }
   },
   "outputs": [],
   "source": [
    "# ------- predict\n",
    "cat_prediction = cat_model.predict(test)\n",
    "xgb_prediction = xgb_model.predict(test)\n",
    "lgb_prediction = lgb_model.predict(test)\n",
    "# Ensemble predictions (simple averaging)\n",
    "ensemble_predictions = (cat_prediction + xgb_prediction + lgb_prediction) / 3\n",
    "submission = pd.DataFrame({\n",
    "    \"id\": test_1.id,\n",
    "    \"Hardness\": ensemble_predictions\n",
    "})\n",
    "submission"
   ]
  },
  {
   "cell_type": "code",
   "execution_count": null,
   "metadata": {
    "execution": {
     "iopub.execute_input": "2023-11-14T18:00:30.999983Z",
     "iopub.status.busy": "2023-11-14T18:00:30.999467Z",
     "iopub.status.idle": "2023-11-14T18:00:31.036235Z",
     "shell.execute_reply": "2023-11-14T18:00:31.034972Z",
     "shell.execute_reply.started": "2023-11-14T18:00:30.999936Z"
    }
   },
   "outputs": [],
   "source": [
    "submission.to_csv('./submission.csv', index=False)"
   ]
  },
  {
   "cell_type": "markdown",
   "metadata": {},
   "source": [
    "<center>\n",
    "<span style=\"font-family:Comic Sans MS; color:red\"><h2>Thank You😊</h2></span>\n",
    "</center>"
   ]
  }
 ],
 "metadata": {
  "kaggle": {
   "accelerator": "none",
   "dataSources": [
    {
     "databundleVersionId": 6989718,
     "sourceId": 60892,
     "sourceType": "competition"
    }
   ],
   "dockerImageVersionId": 30579,
   "isGpuEnabled": false,
   "isInternetEnabled": true,
   "language": "python",
   "sourceType": "notebook"
  },
  "kernelspec": {
   "display_name": "Python 3 (ipykernel)",
   "language": "python",
   "name": "python3"
  },
  "language_info": {
   "codemirror_mode": {
    "name": "ipython",
    "version": 3
   },
   "file_extension": ".py",
   "mimetype": "text/x-python",
   "name": "python",
   "nbconvert_exporter": "python",
   "pygments_lexer": "ipython3",
   "version": "3.9.13"
  }
 },
 "nbformat": 4,
 "nbformat_minor": 4
}
