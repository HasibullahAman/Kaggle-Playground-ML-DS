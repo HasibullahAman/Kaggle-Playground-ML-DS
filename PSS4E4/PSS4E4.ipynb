{
 "cells": [
  {
   "cell_type": "markdown",
   "id": "3f9ac9b6",
   "metadata": {},
   "source": [
    "<center><span style=\"font-family:Comic Sans MS; color:navy \"><h1>Regression with an Abalone Dataset</h1></span></center>\n"
   ]
  },
  {
   "cell_type": "markdown",
   "id": "824d9a41",
   "metadata": {},
   "source": [
    "# <b>a <span style='color:#94D4F6'>|</span> Table of Conents</b>\n",
    "<a id=\"toc\"></a>\n",
    "- [1. Import Libraries](#1)\n",
    "- [2. Read Dataset](#2)\n",
    "- [3. Preprocessing](#3)\n",
    "- [4. Visualization](#4)\n",
    "- [5. Feature Engineering](#5)\n",
    "- [6. Split Dataset](#6)\n",
    "- [7. Modeling](#7)\n",
    "- [8. Predict test data](#8)\n",
    "- [9. Evaluation](#9)\n",
    "- [9. Submission](#10)"
   ]
  },
  {
   "cell_type": "markdown",
   "id": "b52279c5",
   "metadata": {},
   "source": [
    "<a id=\"1\"></a>\n",
    "# <b>1 <span style='color:#94D4F6'>|</span> Import Libraries</b>"
   ]
  },
  {
   "cell_type": "code",
   "execution_count": 1,
   "id": "2868af03",
   "metadata": {},
   "outputs": [],
   "source": [
    "import numpy as np\n",
    "import pandas as pd\n",
    "import matplotlib.pyplot as plt\n",
    "import seaborn as sns"
   ]
  },
  {
   "cell_type": "code",
   "execution_count": null,
   "id": "45e4adfd",
   "metadata": {},
   "outputs": [],
   "source": []
  }
 ],
 "metadata": {
  "kernelspec": {
   "display_name": "Python 3 (ipykernel)",
   "language": "python",
   "name": "python3"
  },
  "language_info": {
   "codemirror_mode": {
    "name": "ipython",
    "version": 3
   },
   "file_extension": ".py",
   "mimetype": "text/x-python",
   "name": "python",
   "nbconvert_exporter": "python",
   "pygments_lexer": "ipython3",
   "version": "3.9.13"
  }
 },
 "nbformat": 4,
 "nbformat_minor": 5
}
