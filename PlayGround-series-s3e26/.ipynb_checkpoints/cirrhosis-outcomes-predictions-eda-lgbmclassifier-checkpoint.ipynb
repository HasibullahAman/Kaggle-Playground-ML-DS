{
 "cells": [
  {
   "cell_type": "markdown",
   "id": "10326b7f",
   "metadata": {
    "papermill": {
     "duration": 0.016682,
     "end_time": "2023-12-22T10:11:28.128959",
     "exception": false,
     "start_time": "2023-12-22T10:11:28.112277",
     "status": "completed"
    },
    "tags": []
   },
   "source": [
    "<center><span style=\"font-family:Comic Sans MS; color:navy \"><h1>Cirrhosis Outcomes Predictions(EDA,LGBMClassifiers ,84% Accuracy)</h1></span></center>"
   ]
  },
  {
   "cell_type": "markdown",
   "id": "ab0ab657",
   "metadata": {
    "papermill": {
     "duration": 0.015397,
     "end_time": "2023-12-22T10:11:28.160232",
     "exception": false,
     "start_time": "2023-12-22T10:11:28.144835",
     "status": "completed"
    },
    "tags": []
   },
   "source": [
    "# <b>a <span style='color:#94D4F6'>|</span> Table of Conents</b>\n",
    "<a id=\"toc\"></a>\n",
    "- [1. Import Libraries](#1)\n",
    "- [2. Read Dataset](#2)\n",
    "- [3. Visualization](#3)\n",
    "- [4. Preprocessing](#4)\n",
    "- [6. Split Dataset](#6)\n",
    "- [7. Modeling](#7)\n",
    "- [9. Evaluation](#8) \n",
    "- [8. Predict test data](#9)"
   ]
  },
  {
   "cell_type": "markdown",
   "id": "2fa0085a",
   "metadata": {
    "papermill": {
     "duration": 0.015485,
     "end_time": "2023-12-22T10:11:28.191491",
     "exception": false,
     "start_time": "2023-12-22T10:11:28.176006",
     "status": "completed"
    },
    "tags": []
   },
   "source": [
    "# <b>b <span style='color:#94D4F6'>|</span> About DataSet</b>"
   ]
  },
  {
   "cell_type": "markdown",
   "id": "c5f98eaf",
   "metadata": {
    "papermill": {
     "duration": 0.015421,
     "end_time": "2023-12-22T10:11:28.222599",
     "exception": false,
     "start_time": "2023-12-22T10:11:28.207178",
     "status": "completed"
    },
    "tags": []
   },
   "source": [
    "<div class=\"alert alert-block alert-info\" style=\"font-size:17px; background-color: #EEEFFF; font-family:Comic Sans MS; color: #00011A; border: 1px #00011A\">\n",
    "Cirrhosis results from prolonged liver damage, leading to extensive scarring, often due to conditions like hepatitis or chronic alcohol consumption. This competition is required a machine learning method to predict survival state of patients with liver cirrhosis. The survival states include 0 = D (death), 1 = C (censored), 2 = CL (censored due to liver transplantation)."
   ]
  },
  {
   "cell_type": "markdown",
   "id": "d161220a",
   "metadata": {
    "papermill": {
     "duration": 0.01539,
     "end_time": "2023-12-22T10:11:28.253684",
     "exception": false,
     "start_time": "2023-12-22T10:11:28.238294",
     "status": "completed"
    },
    "tags": []
   },
   "source": [
    "<a id=\"1\"></a>\n",
    "# <b>1 <span style='color:#94D4F6'>|</span> Import Libraries</b>"
   ]
  },
  {
   "cell_type": "code",
   "execution_count": 24,
   "id": "82cac58b",
   "metadata": {
    "_cell_guid": "b1076dfc-b9ad-4769-8c92-a6c4dae69d19",
    "_uuid": "8f2839f25d086af736a60e9eeb907d3b93b6e0e5",
    "papermill": {
     "duration": 4.279742,
     "end_time": "2023-12-22T10:11:32.549713",
     "exception": false,
     "start_time": "2023-12-22T10:11:28.269971",
     "status": "completed"
    },
    "tags": []
   },
   "outputs": [],
   "source": [
    "import numpy as np\n",
    "import pandas as pd\n",
    "\n",
    "# for EDA\n",
    "import matplotlib.pyplot as plt\n",
    "import seaborn as sns\n",
    "import squarify\n",
    "\n",
    "# for Preprocessing\n",
    "from sklearn.preprocessing import LabelEncoder\n",
    "from sklearn.model_selection import(\n",
    "    train_test_split,# used to split the data into training and testing\n",
    "    RandomizedSearchCV,# used for tuning the models parameters\n",
    "    cross_val_score,\n",
    ")\n",
    "\n",
    "# Modeling\n",
    "from sklearn.svm import SVR\n",
    "from sklearn.tree import DecisionTreeRegressor\n",
    "from sklearn.ensemble import RandomForestRegressor\n",
    "from xgboost import XGBRegressor\n",
    "from lightgbm import LGBMRegressor\n",
    "from lightgbm import LGBMClassifier\n",
    "from xgboost import XGBClassifier\n",
    "\n",
    "# For Evaluation \n",
    "from sklearn.metrics import accuracy_score\n",
    "from sklearn.metrics import confusion_matrix"
   ]
  },
  {
   "cell_type": "markdown",
   "id": "5ece74a3",
   "metadata": {
    "papermill": {
     "duration": 0.0155,
     "end_time": "2023-12-22T10:11:32.581130",
     "exception": false,
     "start_time": "2023-12-22T10:11:32.565630",
     "status": "completed"
    },
    "tags": []
   },
   "source": [
    "<a id=\"2\"></a>\n",
    "# <b>2 <span style='color:#94D4F6'>|</span> Read Dataset</b>"
   ]
  },
  {
   "cell_type": "code",
   "execution_count": 3,
   "id": "d1a0c43e",
   "metadata": {
    "papermill": {
     "duration": 0.127451,
     "end_time": "2023-12-22T10:11:32.724455",
     "exception": false,
     "start_time": "2023-12-22T10:11:32.597004",
     "status": "completed"
    },
    "tags": []
   },
   "outputs": [],
   "source": [
    "df = pd.read_csv('Data/train.csv')\n",
    "test = pd.read_csv('Data/test.csv')\n",
    "sample_submission = pd.read_csv('Data/sample_submission.csv')\n",
    "original_data = pd.read_csv('Data/cirrhosis.csv')\n",
    "testCopy = test.copy() "
   ]
  },
  {
   "cell_type": "code",
   "execution_count": 4,
   "id": "ba7f2dad",
   "metadata": {
    "papermill": {
     "duration": 0.058987,
     "end_time": "2023-12-22T10:11:32.799640",
     "exception": false,
     "start_time": "2023-12-22T10:11:32.740653",
     "status": "completed"
    },
    "tags": []
   },
   "outputs": [
    {
     "data": {
      "text/html": [
       "<div>\n",
       "<style scoped>\n",
       "    .dataframe tbody tr th:only-of-type {\n",
       "        vertical-align: middle;\n",
       "    }\n",
       "\n",
       "    .dataframe tbody tr th {\n",
       "        vertical-align: top;\n",
       "    }\n",
       "\n",
       "    .dataframe thead th {\n",
       "        text-align: right;\n",
       "    }\n",
       "</style>\n",
       "<table border=\"1\" class=\"dataframe\">\n",
       "  <thead>\n",
       "    <tr style=\"text-align: right;\">\n",
       "      <th></th>\n",
       "      <th>id</th>\n",
       "      <th>N_Days</th>\n",
       "      <th>Drug</th>\n",
       "      <th>Age</th>\n",
       "      <th>Sex</th>\n",
       "      <th>Ascites</th>\n",
       "      <th>Hepatomegaly</th>\n",
       "      <th>Spiders</th>\n",
       "      <th>Edema</th>\n",
       "      <th>Bilirubin</th>\n",
       "      <th>Cholesterol</th>\n",
       "      <th>Albumin</th>\n",
       "      <th>Copper</th>\n",
       "      <th>Alk_Phos</th>\n",
       "      <th>SGOT</th>\n",
       "      <th>Tryglicerides</th>\n",
       "      <th>Platelets</th>\n",
       "      <th>Prothrombin</th>\n",
       "      <th>Stage</th>\n",
       "      <th>Status</th>\n",
       "    </tr>\n",
       "  </thead>\n",
       "  <tbody>\n",
       "    <tr>\n",
       "      <th>0</th>\n",
       "      <td>0</td>\n",
       "      <td>999</td>\n",
       "      <td>D-penicillamine</td>\n",
       "      <td>21532</td>\n",
       "      <td>M</td>\n",
       "      <td>N</td>\n",
       "      <td>N</td>\n",
       "      <td>N</td>\n",
       "      <td>N</td>\n",
       "      <td>2.3</td>\n",
       "      <td>316.0</td>\n",
       "      <td>3.35</td>\n",
       "      <td>172.0</td>\n",
       "      <td>1601.0</td>\n",
       "      <td>179.80</td>\n",
       "      <td>63.0</td>\n",
       "      <td>394.0</td>\n",
       "      <td>9.7</td>\n",
       "      <td>3.0</td>\n",
       "      <td>D</td>\n",
       "    </tr>\n",
       "    <tr>\n",
       "      <th>1</th>\n",
       "      <td>1</td>\n",
       "      <td>2574</td>\n",
       "      <td>Placebo</td>\n",
       "      <td>19237</td>\n",
       "      <td>F</td>\n",
       "      <td>N</td>\n",
       "      <td>N</td>\n",
       "      <td>N</td>\n",
       "      <td>N</td>\n",
       "      <td>0.9</td>\n",
       "      <td>364.0</td>\n",
       "      <td>3.54</td>\n",
       "      <td>63.0</td>\n",
       "      <td>1440.0</td>\n",
       "      <td>134.85</td>\n",
       "      <td>88.0</td>\n",
       "      <td>361.0</td>\n",
       "      <td>11.0</td>\n",
       "      <td>3.0</td>\n",
       "      <td>C</td>\n",
       "    </tr>\n",
       "    <tr>\n",
       "      <th>2</th>\n",
       "      <td>2</td>\n",
       "      <td>3428</td>\n",
       "      <td>Placebo</td>\n",
       "      <td>13727</td>\n",
       "      <td>F</td>\n",
       "      <td>N</td>\n",
       "      <td>Y</td>\n",
       "      <td>Y</td>\n",
       "      <td>Y</td>\n",
       "      <td>3.3</td>\n",
       "      <td>299.0</td>\n",
       "      <td>3.55</td>\n",
       "      <td>131.0</td>\n",
       "      <td>1029.0</td>\n",
       "      <td>119.35</td>\n",
       "      <td>50.0</td>\n",
       "      <td>199.0</td>\n",
       "      <td>11.7</td>\n",
       "      <td>4.0</td>\n",
       "      <td>D</td>\n",
       "    </tr>\n",
       "    <tr>\n",
       "      <th>3</th>\n",
       "      <td>3</td>\n",
       "      <td>2576</td>\n",
       "      <td>Placebo</td>\n",
       "      <td>18460</td>\n",
       "      <td>F</td>\n",
       "      <td>N</td>\n",
       "      <td>N</td>\n",
       "      <td>N</td>\n",
       "      <td>N</td>\n",
       "      <td>0.6</td>\n",
       "      <td>256.0</td>\n",
       "      <td>3.50</td>\n",
       "      <td>58.0</td>\n",
       "      <td>1653.0</td>\n",
       "      <td>71.30</td>\n",
       "      <td>96.0</td>\n",
       "      <td>269.0</td>\n",
       "      <td>10.7</td>\n",
       "      <td>3.0</td>\n",
       "      <td>C</td>\n",
       "    </tr>\n",
       "    <tr>\n",
       "      <th>4</th>\n",
       "      <td>4</td>\n",
       "      <td>788</td>\n",
       "      <td>Placebo</td>\n",
       "      <td>16658</td>\n",
       "      <td>F</td>\n",
       "      <td>N</td>\n",
       "      <td>Y</td>\n",
       "      <td>N</td>\n",
       "      <td>N</td>\n",
       "      <td>1.1</td>\n",
       "      <td>346.0</td>\n",
       "      <td>3.65</td>\n",
       "      <td>63.0</td>\n",
       "      <td>1181.0</td>\n",
       "      <td>125.55</td>\n",
       "      <td>96.0</td>\n",
       "      <td>298.0</td>\n",
       "      <td>10.6</td>\n",
       "      <td>4.0</td>\n",
       "      <td>C</td>\n",
       "    </tr>\n",
       "  </tbody>\n",
       "</table>\n",
       "</div>"
      ],
      "text/plain": [
       "   id  N_Days             Drug    Age Sex Ascites Hepatomegaly Spiders Edema  \\\n",
       "0   0     999  D-penicillamine  21532   M       N            N       N     N   \n",
       "1   1    2574          Placebo  19237   F       N            N       N     N   \n",
       "2   2    3428          Placebo  13727   F       N            Y       Y     Y   \n",
       "3   3    2576          Placebo  18460   F       N            N       N     N   \n",
       "4   4     788          Placebo  16658   F       N            Y       N     N   \n",
       "\n",
       "   Bilirubin  Cholesterol  Albumin  Copper  Alk_Phos    SGOT  Tryglicerides  \\\n",
       "0        2.3        316.0     3.35   172.0    1601.0  179.80           63.0   \n",
       "1        0.9        364.0     3.54    63.0    1440.0  134.85           88.0   \n",
       "2        3.3        299.0     3.55   131.0    1029.0  119.35           50.0   \n",
       "3        0.6        256.0     3.50    58.0    1653.0   71.30           96.0   \n",
       "4        1.1        346.0     3.65    63.0    1181.0  125.55           96.0   \n",
       "\n",
       "   Platelets  Prothrombin  Stage Status  \n",
       "0      394.0          9.7    3.0      D  \n",
       "1      361.0         11.0    3.0      C  \n",
       "2      199.0         11.7    4.0      D  \n",
       "3      269.0         10.7    3.0      C  \n",
       "4      298.0         10.6    4.0      C  "
      ]
     },
     "execution_count": 4,
     "metadata": {},
     "output_type": "execute_result"
    }
   ],
   "source": [
    "df.head()"
   ]
  },
  {
   "cell_type": "code",
   "execution_count": 5,
   "id": "8431ccb5",
   "metadata": {
    "papermill": {
     "duration": 0.048604,
     "end_time": "2023-12-22T10:11:32.864983",
     "exception": false,
     "start_time": "2023-12-22T10:11:32.816379",
     "status": "completed"
    },
    "tags": []
   },
   "outputs": [
    {
     "data": {
      "text/html": [
       "<div>\n",
       "<style scoped>\n",
       "    .dataframe tbody tr th:only-of-type {\n",
       "        vertical-align: middle;\n",
       "    }\n",
       "\n",
       "    .dataframe tbody tr th {\n",
       "        vertical-align: top;\n",
       "    }\n",
       "\n",
       "    .dataframe thead th {\n",
       "        text-align: right;\n",
       "    }\n",
       "</style>\n",
       "<table border=\"1\" class=\"dataframe\">\n",
       "  <thead>\n",
       "    <tr style=\"text-align: right;\">\n",
       "      <th></th>\n",
       "      <th>ID</th>\n",
       "      <th>N_Days</th>\n",
       "      <th>Status</th>\n",
       "      <th>Drug</th>\n",
       "      <th>Age</th>\n",
       "      <th>Sex</th>\n",
       "      <th>Ascites</th>\n",
       "      <th>Hepatomegaly</th>\n",
       "      <th>Spiders</th>\n",
       "      <th>Edema</th>\n",
       "      <th>Bilirubin</th>\n",
       "      <th>Cholesterol</th>\n",
       "      <th>Albumin</th>\n",
       "      <th>Copper</th>\n",
       "      <th>Alk_Phos</th>\n",
       "      <th>SGOT</th>\n",
       "      <th>Tryglicerides</th>\n",
       "      <th>Platelets</th>\n",
       "      <th>Prothrombin</th>\n",
       "      <th>Stage</th>\n",
       "    </tr>\n",
       "  </thead>\n",
       "  <tbody>\n",
       "    <tr>\n",
       "      <th>0</th>\n",
       "      <td>1</td>\n",
       "      <td>400</td>\n",
       "      <td>D</td>\n",
       "      <td>D-penicillamine</td>\n",
       "      <td>21464</td>\n",
       "      <td>F</td>\n",
       "      <td>Y</td>\n",
       "      <td>Y</td>\n",
       "      <td>Y</td>\n",
       "      <td>Y</td>\n",
       "      <td>14.5</td>\n",
       "      <td>261.0</td>\n",
       "      <td>2.60</td>\n",
       "      <td>156.0</td>\n",
       "      <td>1718.0</td>\n",
       "      <td>137.95</td>\n",
       "      <td>172.0</td>\n",
       "      <td>190.0</td>\n",
       "      <td>12.2</td>\n",
       "      <td>4.0</td>\n",
       "    </tr>\n",
       "    <tr>\n",
       "      <th>1</th>\n",
       "      <td>2</td>\n",
       "      <td>4500</td>\n",
       "      <td>C</td>\n",
       "      <td>D-penicillamine</td>\n",
       "      <td>20617</td>\n",
       "      <td>F</td>\n",
       "      <td>N</td>\n",
       "      <td>Y</td>\n",
       "      <td>Y</td>\n",
       "      <td>N</td>\n",
       "      <td>1.1</td>\n",
       "      <td>302.0</td>\n",
       "      <td>4.14</td>\n",
       "      <td>54.0</td>\n",
       "      <td>7394.8</td>\n",
       "      <td>113.52</td>\n",
       "      <td>88.0</td>\n",
       "      <td>221.0</td>\n",
       "      <td>10.6</td>\n",
       "      <td>3.0</td>\n",
       "    </tr>\n",
       "    <tr>\n",
       "      <th>2</th>\n",
       "      <td>3</td>\n",
       "      <td>1012</td>\n",
       "      <td>D</td>\n",
       "      <td>D-penicillamine</td>\n",
       "      <td>25594</td>\n",
       "      <td>M</td>\n",
       "      <td>N</td>\n",
       "      <td>N</td>\n",
       "      <td>N</td>\n",
       "      <td>S</td>\n",
       "      <td>1.4</td>\n",
       "      <td>176.0</td>\n",
       "      <td>3.48</td>\n",
       "      <td>210.0</td>\n",
       "      <td>516.0</td>\n",
       "      <td>96.10</td>\n",
       "      <td>55.0</td>\n",
       "      <td>151.0</td>\n",
       "      <td>12.0</td>\n",
       "      <td>4.0</td>\n",
       "    </tr>\n",
       "    <tr>\n",
       "      <th>3</th>\n",
       "      <td>4</td>\n",
       "      <td>1925</td>\n",
       "      <td>D</td>\n",
       "      <td>D-penicillamine</td>\n",
       "      <td>19994</td>\n",
       "      <td>F</td>\n",
       "      <td>N</td>\n",
       "      <td>Y</td>\n",
       "      <td>Y</td>\n",
       "      <td>S</td>\n",
       "      <td>1.8</td>\n",
       "      <td>244.0</td>\n",
       "      <td>2.54</td>\n",
       "      <td>64.0</td>\n",
       "      <td>6121.8</td>\n",
       "      <td>60.63</td>\n",
       "      <td>92.0</td>\n",
       "      <td>183.0</td>\n",
       "      <td>10.3</td>\n",
       "      <td>4.0</td>\n",
       "    </tr>\n",
       "    <tr>\n",
       "      <th>4</th>\n",
       "      <td>5</td>\n",
       "      <td>1504</td>\n",
       "      <td>CL</td>\n",
       "      <td>Placebo</td>\n",
       "      <td>13918</td>\n",
       "      <td>F</td>\n",
       "      <td>N</td>\n",
       "      <td>Y</td>\n",
       "      <td>Y</td>\n",
       "      <td>N</td>\n",
       "      <td>3.4</td>\n",
       "      <td>279.0</td>\n",
       "      <td>3.53</td>\n",
       "      <td>143.0</td>\n",
       "      <td>671.0</td>\n",
       "      <td>113.15</td>\n",
       "      <td>72.0</td>\n",
       "      <td>136.0</td>\n",
       "      <td>10.9</td>\n",
       "      <td>3.0</td>\n",
       "    </tr>\n",
       "  </tbody>\n",
       "</table>\n",
       "</div>"
      ],
      "text/plain": [
       "   ID  N_Days Status             Drug    Age Sex Ascites Hepatomegaly Spiders  \\\n",
       "0   1     400      D  D-penicillamine  21464   F       Y            Y       Y   \n",
       "1   2    4500      C  D-penicillamine  20617   F       N            Y       Y   \n",
       "2   3    1012      D  D-penicillamine  25594   M       N            N       N   \n",
       "3   4    1925      D  D-penicillamine  19994   F       N            Y       Y   \n",
       "4   5    1504     CL          Placebo  13918   F       N            Y       Y   \n",
       "\n",
       "  Edema  Bilirubin  Cholesterol  Albumin  Copper  Alk_Phos    SGOT  \\\n",
       "0     Y       14.5        261.0     2.60   156.0    1718.0  137.95   \n",
       "1     N        1.1        302.0     4.14    54.0    7394.8  113.52   \n",
       "2     S        1.4        176.0     3.48   210.0     516.0   96.10   \n",
       "3     S        1.8        244.0     2.54    64.0    6121.8   60.63   \n",
       "4     N        3.4        279.0     3.53   143.0     671.0  113.15   \n",
       "\n",
       "   Tryglicerides  Platelets  Prothrombin  Stage  \n",
       "0          172.0      190.0         12.2    4.0  \n",
       "1           88.0      221.0         10.6    3.0  \n",
       "2           55.0      151.0         12.0    4.0  \n",
       "3           92.0      183.0         10.3    4.0  \n",
       "4           72.0      136.0         10.9    3.0  "
      ]
     },
     "execution_count": 5,
     "metadata": {},
     "output_type": "execute_result"
    }
   ],
   "source": [
    "original_data.head()"
   ]
  },
  {
   "cell_type": "code",
   "execution_count": 6,
   "id": "35c5377a",
   "metadata": {
    "papermill": {
     "duration": 0.064323,
     "end_time": "2023-12-22T10:11:32.945895",
     "exception": false,
     "start_time": "2023-12-22T10:11:32.881572",
     "status": "completed"
    },
    "tags": []
   },
   "outputs": [
    {
     "name": "stdout",
     "output_type": "stream",
     "text": [
      "<class 'pandas.core.frame.DataFrame'>\n",
      "RangeIndex: 7905 entries, 0 to 7904\n",
      "Data columns (total 20 columns):\n",
      " #   Column         Non-Null Count  Dtype  \n",
      "---  ------         --------------  -----  \n",
      " 0   id             7905 non-null   int64  \n",
      " 1   N_Days         7905 non-null   int64  \n",
      " 2   Drug           7905 non-null   object \n",
      " 3   Age            7905 non-null   int64  \n",
      " 4   Sex            7905 non-null   object \n",
      " 5   Ascites        7905 non-null   object \n",
      " 6   Hepatomegaly   7905 non-null   object \n",
      " 7   Spiders        7905 non-null   object \n",
      " 8   Edema          7905 non-null   object \n",
      " 9   Bilirubin      7905 non-null   float64\n",
      " 10  Cholesterol    7905 non-null   float64\n",
      " 11  Albumin        7905 non-null   float64\n",
      " 12  Copper         7905 non-null   float64\n",
      " 13  Alk_Phos       7905 non-null   float64\n",
      " 14  SGOT           7905 non-null   float64\n",
      " 15  Tryglicerides  7905 non-null   float64\n",
      " 16  Platelets      7905 non-null   float64\n",
      " 17  Prothrombin    7905 non-null   float64\n",
      " 18  Stage          7905 non-null   float64\n",
      " 19  Status         7905 non-null   object \n",
      "dtypes: float64(10), int64(3), object(7)\n",
      "memory usage: 1.2+ MB\n"
     ]
    }
   ],
   "source": [
    "df.info()"
   ]
  },
  {
   "cell_type": "markdown",
   "id": "6af981ff",
   "metadata": {
    "papermill": {
     "duration": 0.083751,
     "end_time": "2023-12-22T10:11:33.046561",
     "exception": false,
     "start_time": "2023-12-22T10:11:32.962810",
     "status": "completed"
    },
    "tags": []
   },
   "source": [
    "<div class=\"alert alert-block alert-info\" style=\"font-size:17px; background-color: #EEEFFF; font-family:Comic Sans MS; color: #00011A; border: 1px #00011A\">\n",
    "As you can see, our dataset does not contain any null values. However, there are some categorical variables present. We need to perform preprocessing operations on these variables to transform them into suitable inputs for our modeling step."
   ]
  },
  {
   "cell_type": "markdown",
   "id": "b18b56fc",
   "metadata": {
    "papermill": {
     "duration": 0.021489,
     "end_time": "2023-12-22T10:11:33.089742",
     "exception": false,
     "start_time": "2023-12-22T10:11:33.068253",
     "status": "completed"
    },
    "tags": []
   },
   "source": [
    "### Shape"
   ]
  },
  {
   "cell_type": "code",
   "execution_count": 7,
   "id": "06b252b9",
   "metadata": {
    "papermill": {
     "duration": 0.030378,
     "end_time": "2023-12-22T10:11:33.137196",
     "exception": false,
     "start_time": "2023-12-22T10:11:33.106818",
     "status": "completed"
    },
    "tags": []
   },
   "outputs": [
    {
     "name": "stdout",
     "output_type": "stream",
     "text": [
      "shape of the training dataset:\n",
      "There are 7905 rows and 20 columns in the train dataset.\n",
      "shape of the original dataset:\n",
      "There are 418 rows and 20 columns in the original dataset.\n",
      "shape of the test dataset:\n",
      "There are 5271 rows and 19 columns in the test dataset.\n"
     ]
    }
   ],
   "source": [
    "print('shape of the training dataset:')\n",
    "print('There are {} rows and {} columns in the train dataset.'.format(df.shape[0], df.shape[1]))\n",
    "print('shape of the original dataset:')\n",
    "print('There are {} rows and {} columns in the original dataset.'.format(original_data.shape[0], original_data.shape[1]))\n",
    "print('shape of the test dataset:')\n",
    "print('There are {} rows and {} columns in the test dataset.'.format(test.shape[0], test.shape[1]))"
   ]
  },
  {
   "cell_type": "markdown",
   "id": "1eb8d0be",
   "metadata": {
    "papermill": {
     "duration": 0.017485,
     "end_time": "2023-12-22T10:11:33.172165",
     "exception": false,
     "start_time": "2023-12-22T10:11:33.154680",
     "status": "completed"
    },
    "tags": []
   },
   "source": [
    "### Describe the dataset"
   ]
  },
  {
   "cell_type": "code",
   "execution_count": 8,
   "id": "1933c293",
   "metadata": {
    "papermill": {
     "duration": 0.186192,
     "end_time": "2023-12-22T10:11:33.377746",
     "exception": false,
     "start_time": "2023-12-22T10:11:33.191554",
     "status": "completed"
    },
    "tags": []
   },
   "outputs": [
    {
     "data": {
      "text/html": [
       "<style type=\"text/css\">\n",
       "#T_8c2cd_row0_col0, #T_8c2cd_row0_col1, #T_8c2cd_row0_col3, #T_8c2cd_row0_col4, #T_8c2cd_row0_col5, #T_8c2cd_row0_col6, #T_8c2cd_row0_col8, #T_8c2cd_row0_col9, #T_8c2cd_row0_col10, #T_8c2cd_row0_col11, #T_8c2cd_row0_col12, #T_8c2cd_row7_col0, #T_8c2cd_row7_col2, #T_8c2cd_row7_col7 {\n",
       "  background-color: #ffff66;\n",
       "  color: #000000;\n",
       "}\n",
       "#T_8c2cd_row0_col2 {\n",
       "  background-color: #2b9566;\n",
       "  color: #f1f1f1;\n",
       "}\n",
       "#T_8c2cd_row0_col7 {\n",
       "  background-color: #8fc766;\n",
       "  color: #000000;\n",
       "}\n",
       "#T_8c2cd_row1_col0, #T_8c2cd_row5_col0 {\n",
       "  background-color: #7fbf66;\n",
       "  color: #000000;\n",
       "}\n",
       "#T_8c2cd_row1_col1 {\n",
       "  background-color: #40a066;\n",
       "  color: #f1f1f1;\n",
       "}\n",
       "#T_8c2cd_row1_col2 {\n",
       "  background-color: #96cb66;\n",
       "  color: #000000;\n",
       "}\n",
       "#T_8c2cd_row1_col3, #T_8c2cd_row1_col5, #T_8c2cd_row1_col11, #T_8c2cd_row1_col12, #T_8c2cd_row2_col2, #T_8c2cd_row2_col3, #T_8c2cd_row2_col5, #T_8c2cd_row2_col8, #T_8c2cd_row2_col9, #T_8c2cd_row2_col10, #T_8c2cd_row2_col11, #T_8c2cd_row2_col12, #T_8c2cd_row3_col0, #T_8c2cd_row3_col1, #T_8c2cd_row3_col3, #T_8c2cd_row3_col4, #T_8c2cd_row3_col5, #T_8c2cd_row3_col6, #T_8c2cd_row3_col7, #T_8c2cd_row3_col8, #T_8c2cd_row3_col9, #T_8c2cd_row3_col10, #T_8c2cd_row3_col11, #T_8c2cd_row3_col12, #T_8c2cd_row4_col3, #T_8c2cd_row4_col5, #T_8c2cd_row4_col11, #T_8c2cd_row4_col12, #T_8c2cd_row5_col3, #T_8c2cd_row5_col5, #T_8c2cd_row5_col11, #T_8c2cd_row5_col12, #T_8c2cd_row6_col3, #T_8c2cd_row6_col5, #T_8c2cd_row6_col11, #T_8c2cd_row6_col12, #T_8c2cd_row7_col3, #T_8c2cd_row7_col5, #T_8c2cd_row7_col11, #T_8c2cd_row7_col12 {\n",
       "  background-color: #008066;\n",
       "  color: #f1f1f1;\n",
       "}\n",
       "#T_8c2cd_row1_col4 {\n",
       "  background-color: #078366;\n",
       "  color: #f1f1f1;\n",
       "}\n",
       "#T_8c2cd_row1_col6, #T_8c2cd_row1_col8, #T_8c2cd_row1_col9, #T_8c2cd_row2_col4, #T_8c2cd_row2_col6, #T_8c2cd_row5_col8, #T_8c2cd_row5_col9 {\n",
       "  background-color: #028066;\n",
       "  color: #f1f1f1;\n",
       "}\n",
       "#T_8c2cd_row1_col7 {\n",
       "  background-color: #1c8e66;\n",
       "  color: #f1f1f1;\n",
       "}\n",
       "#T_8c2cd_row1_col10, #T_8c2cd_row5_col10 {\n",
       "  background-color: #068266;\n",
       "  color: #f1f1f1;\n",
       "}\n",
       "#T_8c2cd_row2_col0 {\n",
       "  background-color: #49a466;\n",
       "  color: #f1f1f1;\n",
       "}\n",
       "#T_8c2cd_row2_col1 {\n",
       "  background-color: #229066;\n",
       "  color: #f1f1f1;\n",
       "}\n",
       "#T_8c2cd_row2_col7 {\n",
       "  background-color: #1e8e66;\n",
       "  color: #f1f1f1;\n",
       "}\n",
       "#T_8c2cd_row3_col2 {\n",
       "  background-color: #3c9e66;\n",
       "  color: #f1f1f1;\n",
       "}\n",
       "#T_8c2cd_row4_col0 {\n",
       "  background-color: #3f9f66;\n",
       "  color: #f1f1f1;\n",
       "}\n",
       "#T_8c2cd_row4_col1 {\n",
       "  background-color: #269266;\n",
       "  color: #f1f1f1;\n",
       "}\n",
       "#T_8c2cd_row4_col2 {\n",
       "  background-color: #79bc66;\n",
       "  color: #000000;\n",
       "}\n",
       "#T_8c2cd_row4_col4, #T_8c2cd_row4_col10 {\n",
       "  background-color: #048266;\n",
       "  color: #f1f1f1;\n",
       "}\n",
       "#T_8c2cd_row4_col6, #T_8c2cd_row4_col8, #T_8c2cd_row4_col9, #T_8c2cd_row5_col6 {\n",
       "  background-color: #018066;\n",
       "  color: #f1f1f1;\n",
       "}\n",
       "#T_8c2cd_row4_col7 {\n",
       "  background-color: #0a8466;\n",
       "  color: #f1f1f1;\n",
       "}\n",
       "#T_8c2cd_row5_col1 {\n",
       "  background-color: #3a9c66;\n",
       "  color: #f1f1f1;\n",
       "}\n",
       "#T_8c2cd_row5_col2, #T_8c2cd_row7_col1 {\n",
       "  background-color: #9acc66;\n",
       "  color: #000000;\n",
       "}\n",
       "#T_8c2cd_row5_col4 {\n",
       "  background-color: #058266;\n",
       "  color: #f1f1f1;\n",
       "}\n",
       "#T_8c2cd_row5_col7, #T_8c2cd_row7_col10 {\n",
       "  background-color: #108866;\n",
       "  color: #f1f1f1;\n",
       "}\n",
       "#T_8c2cd_row6_col0 {\n",
       "  background-color: #bfdf66;\n",
       "  color: #000000;\n",
       "}\n",
       "#T_8c2cd_row6_col1 {\n",
       "  background-color: #56ab66;\n",
       "  color: #f1f1f1;\n",
       "}\n",
       "#T_8c2cd_row6_col2 {\n",
       "  background-color: #aed666;\n",
       "  color: #000000;\n",
       "}\n",
       "#T_8c2cd_row6_col4, #T_8c2cd_row6_col10 {\n",
       "  background-color: #088466;\n",
       "  color: #f1f1f1;\n",
       "}\n",
       "#T_8c2cd_row6_col6, #T_8c2cd_row6_col8, #T_8c2cd_row6_col9 {\n",
       "  background-color: #038166;\n",
       "  color: #f1f1f1;\n",
       "}\n",
       "#T_8c2cd_row6_col7 {\n",
       "  background-color: #1d8e66;\n",
       "  color: #f1f1f1;\n",
       "}\n",
       "#T_8c2cd_row7_col4 {\n",
       "  background-color: #369a66;\n",
       "  color: #f1f1f1;\n",
       "}\n",
       "#T_8c2cd_row7_col6, #T_8c2cd_row7_col9 {\n",
       "  background-color: #128866;\n",
       "  color: #f1f1f1;\n",
       "}\n",
       "#T_8c2cd_row7_col8 {\n",
       "  background-color: #0e8666;\n",
       "  color: #f1f1f1;\n",
       "}\n",
       "</style>\n",
       "<table id=\"T_8c2cd\">\n",
       "  <thead>\n",
       "    <tr>\n",
       "      <th class=\"blank level0\" >&nbsp;</th>\n",
       "      <th id=\"T_8c2cd_level0_col0\" class=\"col_heading level0 col0\" >id</th>\n",
       "      <th id=\"T_8c2cd_level0_col1\" class=\"col_heading level0 col1\" >N_Days</th>\n",
       "      <th id=\"T_8c2cd_level0_col2\" class=\"col_heading level0 col2\" >Age</th>\n",
       "      <th id=\"T_8c2cd_level0_col3\" class=\"col_heading level0 col3\" >Bilirubin</th>\n",
       "      <th id=\"T_8c2cd_level0_col4\" class=\"col_heading level0 col4\" >Cholesterol</th>\n",
       "      <th id=\"T_8c2cd_level0_col5\" class=\"col_heading level0 col5\" >Albumin</th>\n",
       "      <th id=\"T_8c2cd_level0_col6\" class=\"col_heading level0 col6\" >Copper</th>\n",
       "      <th id=\"T_8c2cd_level0_col7\" class=\"col_heading level0 col7\" >Alk_Phos</th>\n",
       "      <th id=\"T_8c2cd_level0_col8\" class=\"col_heading level0 col8\" >SGOT</th>\n",
       "      <th id=\"T_8c2cd_level0_col9\" class=\"col_heading level0 col9\" >Tryglicerides</th>\n",
       "      <th id=\"T_8c2cd_level0_col10\" class=\"col_heading level0 col10\" >Platelets</th>\n",
       "      <th id=\"T_8c2cd_level0_col11\" class=\"col_heading level0 col11\" >Prothrombin</th>\n",
       "      <th id=\"T_8c2cd_level0_col12\" class=\"col_heading level0 col12\" >Stage</th>\n",
       "    </tr>\n",
       "  </thead>\n",
       "  <tbody>\n",
       "    <tr>\n",
       "      <th id=\"T_8c2cd_level0_row0\" class=\"row_heading level0 row0\" >count</th>\n",
       "      <td id=\"T_8c2cd_row0_col0\" class=\"data row0 col0\" >7905.000000</td>\n",
       "      <td id=\"T_8c2cd_row0_col1\" class=\"data row0 col1\" >7905.000000</td>\n",
       "      <td id=\"T_8c2cd_row0_col2\" class=\"data row0 col2\" >7905.000000</td>\n",
       "      <td id=\"T_8c2cd_row0_col3\" class=\"data row0 col3\" >7905.000000</td>\n",
       "      <td id=\"T_8c2cd_row0_col4\" class=\"data row0 col4\" >7905.000000</td>\n",
       "      <td id=\"T_8c2cd_row0_col5\" class=\"data row0 col5\" >7905.000000</td>\n",
       "      <td id=\"T_8c2cd_row0_col6\" class=\"data row0 col6\" >7905.000000</td>\n",
       "      <td id=\"T_8c2cd_row0_col7\" class=\"data row0 col7\" >7905.000000</td>\n",
       "      <td id=\"T_8c2cd_row0_col8\" class=\"data row0 col8\" >7905.000000</td>\n",
       "      <td id=\"T_8c2cd_row0_col9\" class=\"data row0 col9\" >7905.000000</td>\n",
       "      <td id=\"T_8c2cd_row0_col10\" class=\"data row0 col10\" >7905.000000</td>\n",
       "      <td id=\"T_8c2cd_row0_col11\" class=\"data row0 col11\" >7905.000000</td>\n",
       "      <td id=\"T_8c2cd_row0_col12\" class=\"data row0 col12\" >7905.000000</td>\n",
       "    </tr>\n",
       "    <tr>\n",
       "      <th id=\"T_8c2cd_level0_row1\" class=\"row_heading level0 row1\" >mean</th>\n",
       "      <td id=\"T_8c2cd_row1_col0\" class=\"data row1 col0\" >3952.000000</td>\n",
       "      <td id=\"T_8c2cd_row1_col1\" class=\"data row1 col1\" >2030.173308</td>\n",
       "      <td id=\"T_8c2cd_row1_col2\" class=\"data row1 col2\" >18373.146490</td>\n",
       "      <td id=\"T_8c2cd_row1_col3\" class=\"data row1 col3\" >2.594485</td>\n",
       "      <td id=\"T_8c2cd_row1_col4\" class=\"data row1 col4\" >350.561923</td>\n",
       "      <td id=\"T_8c2cd_row1_col5\" class=\"data row1 col5\" >3.548323</td>\n",
       "      <td id=\"T_8c2cd_row1_col6\" class=\"data row1 col6\" >83.902846</td>\n",
       "      <td id=\"T_8c2cd_row1_col7\" class=\"data row1 col7\" >1816.745250</td>\n",
       "      <td id=\"T_8c2cd_row1_col8\" class=\"data row1 col8\" >114.604602</td>\n",
       "      <td id=\"T_8c2cd_row1_col9\" class=\"data row1 col9\" >115.340164</td>\n",
       "      <td id=\"T_8c2cd_row1_col10\" class=\"data row1 col10\" >265.228969</td>\n",
       "      <td id=\"T_8c2cd_row1_col11\" class=\"data row1 col11\" >10.629462</td>\n",
       "      <td id=\"T_8c2cd_row1_col12\" class=\"data row1 col12\" >3.032511</td>\n",
       "    </tr>\n",
       "    <tr>\n",
       "      <th id=\"T_8c2cd_level0_row2\" class=\"row_heading level0 row2\" >std</th>\n",
       "      <td id=\"T_8c2cd_row2_col0\" class=\"data row2 col0\" >2282.121272</td>\n",
       "      <td id=\"T_8c2cd_row2_col1\" class=\"data row2 col1\" >1094.233744</td>\n",
       "      <td id=\"T_8c2cd_row2_col2\" class=\"data row2 col2\" >3679.958739</td>\n",
       "      <td id=\"T_8c2cd_row2_col3\" class=\"data row2 col3\" >3.812960</td>\n",
       "      <td id=\"T_8c2cd_row2_col4\" class=\"data row2 col4\" >195.379344</td>\n",
       "      <td id=\"T_8c2cd_row2_col5\" class=\"data row2 col5\" >0.346171</td>\n",
       "      <td id=\"T_8c2cd_row2_col6\" class=\"data row2 col6\" >75.899266</td>\n",
       "      <td id=\"T_8c2cd_row2_col7\" class=\"data row2 col7\" >1903.750657</td>\n",
       "      <td id=\"T_8c2cd_row2_col8\" class=\"data row2 col8\" >48.790945</td>\n",
       "      <td id=\"T_8c2cd_row2_col9\" class=\"data row2 col9\" >52.530402</td>\n",
       "      <td id=\"T_8c2cd_row2_col10\" class=\"data row2 col10\" >87.465579</td>\n",
       "      <td id=\"T_8c2cd_row2_col11\" class=\"data row2 col11\" >0.781735</td>\n",
       "      <td id=\"T_8c2cd_row2_col12\" class=\"data row2 col12\" >0.866511</td>\n",
       "    </tr>\n",
       "    <tr>\n",
       "      <th id=\"T_8c2cd_level0_row3\" class=\"row_heading level0 row3\" >min</th>\n",
       "      <td id=\"T_8c2cd_row3_col0\" class=\"data row3 col0\" >0.000000</td>\n",
       "      <td id=\"T_8c2cd_row3_col1\" class=\"data row3 col1\" >41.000000</td>\n",
       "      <td id=\"T_8c2cd_row3_col2\" class=\"data row3 col2\" >9598.000000</td>\n",
       "      <td id=\"T_8c2cd_row3_col3\" class=\"data row3 col3\" >0.300000</td>\n",
       "      <td id=\"T_8c2cd_row3_col4\" class=\"data row3 col4\" >120.000000</td>\n",
       "      <td id=\"T_8c2cd_row3_col5\" class=\"data row3 col5\" >1.960000</td>\n",
       "      <td id=\"T_8c2cd_row3_col6\" class=\"data row3 col6\" >4.000000</td>\n",
       "      <td id=\"T_8c2cd_row3_col7\" class=\"data row3 col7\" >289.000000</td>\n",
       "      <td id=\"T_8c2cd_row3_col8\" class=\"data row3 col8\" >26.350000</td>\n",
       "      <td id=\"T_8c2cd_row3_col9\" class=\"data row3 col9\" >33.000000</td>\n",
       "      <td id=\"T_8c2cd_row3_col10\" class=\"data row3 col10\" >62.000000</td>\n",
       "      <td id=\"T_8c2cd_row3_col11\" class=\"data row3 col11\" >9.000000</td>\n",
       "      <td id=\"T_8c2cd_row3_col12\" class=\"data row3 col12\" >1.000000</td>\n",
       "    </tr>\n",
       "    <tr>\n",
       "      <th id=\"T_8c2cd_level0_row4\" class=\"row_heading level0 row4\" >25%</th>\n",
       "      <td id=\"T_8c2cd_row4_col0\" class=\"data row4 col0\" >1976.000000</td>\n",
       "      <td id=\"T_8c2cd_row4_col1\" class=\"data row4 col1\" >1230.000000</td>\n",
       "      <td id=\"T_8c2cd_row4_col2\" class=\"data row4 col2\" >15574.000000</td>\n",
       "      <td id=\"T_8c2cd_row4_col3\" class=\"data row4 col3\" >0.700000</td>\n",
       "      <td id=\"T_8c2cd_row4_col4\" class=\"data row4 col4\" >248.000000</td>\n",
       "      <td id=\"T_8c2cd_row4_col5\" class=\"data row4 col5\" >3.350000</td>\n",
       "      <td id=\"T_8c2cd_row4_col6\" class=\"data row4 col6\" >39.000000</td>\n",
       "      <td id=\"T_8c2cd_row4_col7\" class=\"data row4 col7\" >834.000000</td>\n",
       "      <td id=\"T_8c2cd_row4_col8\" class=\"data row4 col8\" >75.950000</td>\n",
       "      <td id=\"T_8c2cd_row4_col9\" class=\"data row4 col9\" >84.000000</td>\n",
       "      <td id=\"T_8c2cd_row4_col10\" class=\"data row4 col10\" >211.000000</td>\n",
       "      <td id=\"T_8c2cd_row4_col11\" class=\"data row4 col11\" >10.000000</td>\n",
       "      <td id=\"T_8c2cd_row4_col12\" class=\"data row4 col12\" >2.000000</td>\n",
       "    </tr>\n",
       "    <tr>\n",
       "      <th id=\"T_8c2cd_level0_row5\" class=\"row_heading level0 row5\" >50%</th>\n",
       "      <td id=\"T_8c2cd_row5_col0\" class=\"data row5 col0\" >3952.000000</td>\n",
       "      <td id=\"T_8c2cd_row5_col1\" class=\"data row5 col1\" >1831.000000</td>\n",
       "      <td id=\"T_8c2cd_row5_col2\" class=\"data row5 col2\" >18713.000000</td>\n",
       "      <td id=\"T_8c2cd_row5_col3\" class=\"data row5 col3\" >1.100000</td>\n",
       "      <td id=\"T_8c2cd_row5_col4\" class=\"data row5 col4\" >298.000000</td>\n",
       "      <td id=\"T_8c2cd_row5_col5\" class=\"data row5 col5\" >3.580000</td>\n",
       "      <td id=\"T_8c2cd_row5_col6\" class=\"data row5 col6\" >63.000000</td>\n",
       "      <td id=\"T_8c2cd_row5_col7\" class=\"data row5 col7\" >1181.000000</td>\n",
       "      <td id=\"T_8c2cd_row5_col8\" class=\"data row5 col8\" >108.500000</td>\n",
       "      <td id=\"T_8c2cd_row5_col9\" class=\"data row5 col9\" >104.000000</td>\n",
       "      <td id=\"T_8c2cd_row5_col10\" class=\"data row5 col10\" >265.000000</td>\n",
       "      <td id=\"T_8c2cd_row5_col11\" class=\"data row5 col11\" >10.600000</td>\n",
       "      <td id=\"T_8c2cd_row5_col12\" class=\"data row5 col12\" >3.000000</td>\n",
       "    </tr>\n",
       "    <tr>\n",
       "      <th id=\"T_8c2cd_level0_row6\" class=\"row_heading level0 row6\" >75%</th>\n",
       "      <td id=\"T_8c2cd_row6_col0\" class=\"data row6 col0\" >5928.000000</td>\n",
       "      <td id=\"T_8c2cd_row6_col1\" class=\"data row6 col1\" >2689.000000</td>\n",
       "      <td id=\"T_8c2cd_row6_col2\" class=\"data row6 col2\" >20684.000000</td>\n",
       "      <td id=\"T_8c2cd_row6_col3\" class=\"data row6 col3\" >3.000000</td>\n",
       "      <td id=\"T_8c2cd_row6_col4\" class=\"data row6 col4\" >390.000000</td>\n",
       "      <td id=\"T_8c2cd_row6_col5\" class=\"data row6 col5\" >3.770000</td>\n",
       "      <td id=\"T_8c2cd_row6_col6\" class=\"data row6 col6\" >102.000000</td>\n",
       "      <td id=\"T_8c2cd_row6_col7\" class=\"data row6 col7\" >1857.000000</td>\n",
       "      <td id=\"T_8c2cd_row6_col8\" class=\"data row6 col8\" >137.950000</td>\n",
       "      <td id=\"T_8c2cd_row6_col9\" class=\"data row6 col9\" >139.000000</td>\n",
       "      <td id=\"T_8c2cd_row6_col10\" class=\"data row6 col10\" >316.000000</td>\n",
       "      <td id=\"T_8c2cd_row6_col11\" class=\"data row6 col11\" >11.000000</td>\n",
       "      <td id=\"T_8c2cd_row6_col12\" class=\"data row6 col12\" >4.000000</td>\n",
       "    </tr>\n",
       "    <tr>\n",
       "      <th id=\"T_8c2cd_level0_row7\" class=\"row_heading level0 row7\" >max</th>\n",
       "      <td id=\"T_8c2cd_row7_col0\" class=\"data row7 col0\" >7904.000000</td>\n",
       "      <td id=\"T_8c2cd_row7_col1\" class=\"data row7 col1\" >4795.000000</td>\n",
       "      <td id=\"T_8c2cd_row7_col2\" class=\"data row7 col2\" >28650.000000</td>\n",
       "      <td id=\"T_8c2cd_row7_col3\" class=\"data row7 col3\" >28.000000</td>\n",
       "      <td id=\"T_8c2cd_row7_col4\" class=\"data row7 col4\" >1775.000000</td>\n",
       "      <td id=\"T_8c2cd_row7_col5\" class=\"data row7 col5\" >4.640000</td>\n",
       "      <td id=\"T_8c2cd_row7_col6\" class=\"data row7 col6\" >588.000000</td>\n",
       "      <td id=\"T_8c2cd_row7_col7\" class=\"data row7 col7\" >13862.400000</td>\n",
       "      <td id=\"T_8c2cd_row7_col8\" class=\"data row7 col8\" >457.250000</td>\n",
       "      <td id=\"T_8c2cd_row7_col9\" class=\"data row7 col9\" >598.000000</td>\n",
       "      <td id=\"T_8c2cd_row7_col10\" class=\"data row7 col10\" >563.000000</td>\n",
       "      <td id=\"T_8c2cd_row7_col11\" class=\"data row7 col11\" >18.000000</td>\n",
       "      <td id=\"T_8c2cd_row7_col12\" class=\"data row7 col12\" >4.000000</td>\n",
       "    </tr>\n",
       "  </tbody>\n",
       "</table>\n"
      ],
      "text/plain": [
       "<pandas.io.formats.style.Styler at 0x279d7543ee0>"
      ]
     },
     "execution_count": 8,
     "metadata": {},
     "output_type": "execute_result"
    }
   ],
   "source": [
    "df.describe().style.background_gradient(cmap ='summer')"
   ]
  },
  {
   "cell_type": "markdown",
   "id": "0fa25b8b",
   "metadata": {
    "papermill": {
     "duration": 0.017578,
     "end_time": "2023-12-22T10:11:33.413255",
     "exception": false,
     "start_time": "2023-12-22T10:11:33.395677",
     "status": "completed"
    },
    "tags": []
   },
   "source": [
    "<div class=\"alert alert-block alert-info\" style=\"font-size:17px; background-color: #EEEFFF; font-family:Comic Sans MS; color: #00011A; border: 1px #00011A\">\n",
    "And here is some statistical information about our dataset. I will create clear plots to present the data more effectively."
   ]
  },
  {
   "cell_type": "markdown",
   "id": "6e549b79",
   "metadata": {
    "papermill": {
     "duration": 0.022008,
     "end_time": "2023-12-22T10:11:33.457237",
     "exception": false,
     "start_time": "2023-12-22T10:11:33.435229",
     "status": "completed"
    },
    "tags": []
   },
   "source": [
    "### Columns"
   ]
  },
  {
   "cell_type": "code",
   "execution_count": 9,
   "id": "96a0bc95",
   "metadata": {
    "papermill": {
     "duration": 0.032588,
     "end_time": "2023-12-22T10:11:33.516209",
     "exception": false,
     "start_time": "2023-12-22T10:11:33.483621",
     "status": "completed"
    },
    "tags": []
   },
   "outputs": [
    {
     "data": {
      "text/plain": [
       "Index(['id', 'N_Days', 'Drug', 'Age', 'Sex', 'Ascites', 'Hepatomegaly',\n",
       "       'Spiders', 'Edema', 'Bilirubin', 'Cholesterol', 'Albumin', 'Copper',\n",
       "       'Alk_Phos', 'SGOT', 'Tryglicerides', 'Platelets', 'Prothrombin',\n",
       "       'Stage', 'Status'],\n",
       "      dtype='object')"
      ]
     },
     "execution_count": 9,
     "metadata": {},
     "output_type": "execute_result"
    }
   ],
   "source": [
    "df.columns"
   ]
  },
  {
   "cell_type": "markdown",
   "id": "5c6a4046",
   "metadata": {
    "papermill": {
     "duration": 0.017599,
     "end_time": "2023-12-22T10:11:33.552881",
     "exception": false,
     "start_time": "2023-12-22T10:11:33.535282",
     "status": "completed"
    },
    "tags": []
   },
   "source": [
    "### Drop unnecessary columns"
   ]
  },
  {
   "cell_type": "code",
   "execution_count": 10,
   "id": "d3cc8530",
   "metadata": {
    "papermill": {
     "duration": 0.038285,
     "end_time": "2023-12-22T10:11:33.609191",
     "exception": false,
     "start_time": "2023-12-22T10:11:33.570906",
     "status": "completed"
    },
    "tags": []
   },
   "outputs": [],
   "source": [
    "df.drop('id',axis=1,inplace=True)\n",
    "original_data.drop('ID',axis = 1, inplace = True)\n",
    "original_data = original_data.dropna()\n",
    "test.drop('id',axis = 1,inplace =True)"
   ]
  },
  {
   "cell_type": "markdown",
   "id": "4dd72969",
   "metadata": {
    "papermill": {
     "duration": 0.018056,
     "end_time": "2023-12-22T10:11:33.645869",
     "exception": false,
     "start_time": "2023-12-22T10:11:33.627813",
     "status": "completed"
    },
    "tags": []
   },
   "source": [
    "### Determine the Categorical and Numerical Features"
   ]
  },
  {
   "cell_type": "code",
   "execution_count": 11,
   "id": "b061e562",
   "metadata": {
    "papermill": {
     "duration": 0.032697,
     "end_time": "2023-12-22T10:11:33.697061",
     "exception": false,
     "start_time": "2023-12-22T10:11:33.664364",
     "status": "completed"
    },
    "tags": []
   },
   "outputs": [
    {
     "name": "stdout",
     "output_type": "stream",
     "text": [
      "obj_columns: ['Drug', 'Sex', 'Ascites', 'Hepatomegaly', 'Spiders', 'Edema']\n",
      "num_columns: ['N_Days', 'Age', 'Bilirubin', 'Cholesterol', 'Albumin', 'Copper', 'Alk_Phos', 'SGOT', 'Tryglicerides', 'Platelets', 'Prothrombin', 'Stage']\n"
     ]
    }
   ],
   "source": [
    "target = 'Status'\n",
    "obj_col = [x for x in df.select_dtypes(include=['object']).columns if x!=target]\n",
    "num_col = [x for x in df.select_dtypes(exclude =['object']).columns if x!= target]\n",
    "print(f'obj_columns: {obj_col}')\n",
    "print(f'num_columns: {num_col}')"
   ]
  },
  {
   "cell_type": "markdown",
   "id": "285d917e",
   "metadata": {
    "papermill": {
     "duration": 0.018262,
     "end_time": "2023-12-22T10:11:33.733285",
     "exception": false,
     "start_time": "2023-12-22T10:11:33.715023",
     "status": "completed"
    },
    "tags": []
   },
   "source": [
    "<a id=\"3\"></a>\n",
    "# <b>3 <span style='color:#94D4F6'>|</span> Explanatory Data Analysis (EDA)</b>\n",
    "<div class=\"alert alert-block alert-info\" style=\"font-size:17px; background-color: #EEEFFF; font-family:Comic Sans MS; color: #00011A; border: 1px #00011A\">"
   ]
  },
  {
   "cell_type": "markdown",
   "id": "9d4e4628",
   "metadata": {
    "papermill": {
     "duration": 0.01766,
     "end_time": "2023-12-22T10:11:33.768971",
     "exception": false,
     "start_time": "2023-12-22T10:11:33.751311",
     "status": "completed"
    },
    "tags": []
   },
   "source": [
    "<font size=\"3\">Let's see what's the quality of raw dataset.</font>"
   ]
  },
  {
   "cell_type": "code",
   "execution_count": 12,
   "id": "d77fd56f",
   "metadata": {
    "papermill": {
     "duration": 0.082578,
     "end_time": "2023-12-22T10:11:33.869557",
     "exception": false,
     "start_time": "2023-12-22T10:11:33.786979",
     "status": "completed"
    },
    "tags": []
   },
   "outputs": [
    {
     "data": {
      "text/html": [
       "<style type=\"text/css\">\n",
       "#T_58fec_row0_col1, #T_58fec_row0_col2, #T_58fec_row0_col4, #T_58fec_row1_col1, #T_58fec_row1_col2, #T_58fec_row1_col3, #T_58fec_row1_col4, #T_58fec_row2_col1, #T_58fec_row2_col2, #T_58fec_row2_col4, #T_58fec_row3_col1, #T_58fec_row3_col2, #T_58fec_row3_col3, #T_58fec_row3_col4, #T_58fec_row4_col1, #T_58fec_row4_col2, #T_58fec_row4_col3, #T_58fec_row4_col4, #T_58fec_row5_col1, #T_58fec_row5_col2, #T_58fec_row5_col3, #T_58fec_row5_col4, #T_58fec_row6_col1, #T_58fec_row6_col2, #T_58fec_row6_col3, #T_58fec_row6_col4, #T_58fec_row7_col1, #T_58fec_row7_col2, #T_58fec_row7_col3, #T_58fec_row7_col4, #T_58fec_row8_col1, #T_58fec_row8_col2, #T_58fec_row8_col4, #T_58fec_row9_col1, #T_58fec_row9_col2, #T_58fec_row9_col4, #T_58fec_row10_col1, #T_58fec_row10_col2, #T_58fec_row10_col4, #T_58fec_row11_col1, #T_58fec_row11_col2, #T_58fec_row11_col4, #T_58fec_row12_col1, #T_58fec_row12_col2, #T_58fec_row12_col4, #T_58fec_row13_col1, #T_58fec_row13_col2, #T_58fec_row13_col4, #T_58fec_row14_col1, #T_58fec_row14_col2, #T_58fec_row14_col4, #T_58fec_row15_col1, #T_58fec_row15_col2, #T_58fec_row15_col4, #T_58fec_row16_col1, #T_58fec_row16_col2, #T_58fec_row16_col4, #T_58fec_row17_col1, #T_58fec_row17_col2, #T_58fec_row17_col4, #T_58fec_row18_col1, #T_58fec_row18_col2, #T_58fec_row18_col3, #T_58fec_row18_col4 {\n",
       "  background-color: #f7fbff;\n",
       "  color: #000000;\n",
       "}\n",
       "#T_58fec_row0_col3 {\n",
       "  background-color: #08306b;\n",
       "  color: #f1f1f1;\n",
       "}\n",
       "#T_58fec_row2_col3 {\n",
       "  background-color: #0e58a2;\n",
       "  color: #f1f1f1;\n",
       "}\n",
       "#T_58fec_row8_col3 {\n",
       "  background-color: #c9ddf0;\n",
       "  color: #000000;\n",
       "}\n",
       "#T_58fec_row9_col3 {\n",
       "  background-color: #71b1d7;\n",
       "  color: #f1f1f1;\n",
       "}\n",
       "#T_58fec_row10_col3 {\n",
       "  background-color: #a8cee4;\n",
       "  color: #000000;\n",
       "}\n",
       "#T_58fec_row11_col3 {\n",
       "  background-color: #a0cbe2;\n",
       "  color: #000000;\n",
       "}\n",
       "#T_58fec_row12_col3 {\n",
       "  background-color: #1967ad;\n",
       "  color: #f1f1f1;\n",
       "}\n",
       "#T_58fec_row13_col3 {\n",
       "  background-color: #82bbdb;\n",
       "  color: #000000;\n",
       "}\n",
       "#T_58fec_row14_col3 {\n",
       "  background-color: #add0e6;\n",
       "  color: #000000;\n",
       "}\n",
       "#T_58fec_row15_col3 {\n",
       "  background-color: #6fb0d7;\n",
       "  color: #f1f1f1;\n",
       "}\n",
       "#T_58fec_row16_col3 {\n",
       "  background-color: #e3eef8;\n",
       "  color: #000000;\n",
       "}\n",
       "#T_58fec_row17_col3 {\n",
       "  background-color: #f6faff;\n",
       "  color: #000000;\n",
       "}\n",
       "</style>\n",
       "<table id=\"T_58fec\">\n",
       "  <thead>\n",
       "    <tr>\n",
       "      <th class=\"blank level0\" >&nbsp;</th>\n",
       "      <th id=\"T_58fec_level0_col0\" class=\"col_heading level0 col0\" >dtypes</th>\n",
       "      <th id=\"T_58fec_level0_col1\" class=\"col_heading level0 col1\" >missing#</th>\n",
       "      <th id=\"T_58fec_level0_col2\" class=\"col_heading level0 col2\" >missing%</th>\n",
       "      <th id=\"T_58fec_level0_col3\" class=\"col_heading level0 col3\" >uniques</th>\n",
       "      <th id=\"T_58fec_level0_col4\" class=\"col_heading level0 col4\" >count</th>\n",
       "    </tr>\n",
       "  </thead>\n",
       "  <tbody>\n",
       "    <tr>\n",
       "      <th id=\"T_58fec_level0_row0\" class=\"row_heading level0 row0\" >N_Days</th>\n",
       "      <td id=\"T_58fec_row0_col0\" class=\"data row0 col0\" >int64</td>\n",
       "      <td id=\"T_58fec_row0_col1\" class=\"data row0 col1\" >0</td>\n",
       "      <td id=\"T_58fec_row0_col2\" class=\"data row0 col2\" >0.000000</td>\n",
       "      <td id=\"T_58fec_row0_col3\" class=\"data row0 col3\" >461</td>\n",
       "      <td id=\"T_58fec_row0_col4\" class=\"data row0 col4\" >7905</td>\n",
       "    </tr>\n",
       "    <tr>\n",
       "      <th id=\"T_58fec_level0_row1\" class=\"row_heading level0 row1\" >Drug</th>\n",
       "      <td id=\"T_58fec_row1_col0\" class=\"data row1 col0\" >object</td>\n",
       "      <td id=\"T_58fec_row1_col1\" class=\"data row1 col1\" >0</td>\n",
       "      <td id=\"T_58fec_row1_col2\" class=\"data row1 col2\" >0.000000</td>\n",
       "      <td id=\"T_58fec_row1_col3\" class=\"data row1 col3\" >2</td>\n",
       "      <td id=\"T_58fec_row1_col4\" class=\"data row1 col4\" >7905</td>\n",
       "    </tr>\n",
       "    <tr>\n",
       "      <th id=\"T_58fec_level0_row2\" class=\"row_heading level0 row2\" >Age</th>\n",
       "      <td id=\"T_58fec_row2_col0\" class=\"data row2 col0\" >int64</td>\n",
       "      <td id=\"T_58fec_row2_col1\" class=\"data row2 col1\" >0</td>\n",
       "      <td id=\"T_58fec_row2_col2\" class=\"data row2 col2\" >0.000000</td>\n",
       "      <td id=\"T_58fec_row2_col3\" class=\"data row2 col3\" >391</td>\n",
       "      <td id=\"T_58fec_row2_col4\" class=\"data row2 col4\" >7905</td>\n",
       "    </tr>\n",
       "    <tr>\n",
       "      <th id=\"T_58fec_level0_row3\" class=\"row_heading level0 row3\" >Sex</th>\n",
       "      <td id=\"T_58fec_row3_col0\" class=\"data row3 col0\" >object</td>\n",
       "      <td id=\"T_58fec_row3_col1\" class=\"data row3 col1\" >0</td>\n",
       "      <td id=\"T_58fec_row3_col2\" class=\"data row3 col2\" >0.000000</td>\n",
       "      <td id=\"T_58fec_row3_col3\" class=\"data row3 col3\" >2</td>\n",
       "      <td id=\"T_58fec_row3_col4\" class=\"data row3 col4\" >7905</td>\n",
       "    </tr>\n",
       "    <tr>\n",
       "      <th id=\"T_58fec_level0_row4\" class=\"row_heading level0 row4\" >Ascites</th>\n",
       "      <td id=\"T_58fec_row4_col0\" class=\"data row4 col0\" >object</td>\n",
       "      <td id=\"T_58fec_row4_col1\" class=\"data row4 col1\" >0</td>\n",
       "      <td id=\"T_58fec_row4_col2\" class=\"data row4 col2\" >0.000000</td>\n",
       "      <td id=\"T_58fec_row4_col3\" class=\"data row4 col3\" >2</td>\n",
       "      <td id=\"T_58fec_row4_col4\" class=\"data row4 col4\" >7905</td>\n",
       "    </tr>\n",
       "    <tr>\n",
       "      <th id=\"T_58fec_level0_row5\" class=\"row_heading level0 row5\" >Hepatomegaly</th>\n",
       "      <td id=\"T_58fec_row5_col0\" class=\"data row5 col0\" >object</td>\n",
       "      <td id=\"T_58fec_row5_col1\" class=\"data row5 col1\" >0</td>\n",
       "      <td id=\"T_58fec_row5_col2\" class=\"data row5 col2\" >0.000000</td>\n",
       "      <td id=\"T_58fec_row5_col3\" class=\"data row5 col3\" >2</td>\n",
       "      <td id=\"T_58fec_row5_col4\" class=\"data row5 col4\" >7905</td>\n",
       "    </tr>\n",
       "    <tr>\n",
       "      <th id=\"T_58fec_level0_row6\" class=\"row_heading level0 row6\" >Spiders</th>\n",
       "      <td id=\"T_58fec_row6_col0\" class=\"data row6 col0\" >object</td>\n",
       "      <td id=\"T_58fec_row6_col1\" class=\"data row6 col1\" >0</td>\n",
       "      <td id=\"T_58fec_row6_col2\" class=\"data row6 col2\" >0.000000</td>\n",
       "      <td id=\"T_58fec_row6_col3\" class=\"data row6 col3\" >2</td>\n",
       "      <td id=\"T_58fec_row6_col4\" class=\"data row6 col4\" >7905</td>\n",
       "    </tr>\n",
       "    <tr>\n",
       "      <th id=\"T_58fec_level0_row7\" class=\"row_heading level0 row7\" >Edema</th>\n",
       "      <td id=\"T_58fec_row7_col0\" class=\"data row7 col0\" >object</td>\n",
       "      <td id=\"T_58fec_row7_col1\" class=\"data row7 col1\" >0</td>\n",
       "      <td id=\"T_58fec_row7_col2\" class=\"data row7 col2\" >0.000000</td>\n",
       "      <td id=\"T_58fec_row7_col3\" class=\"data row7 col3\" >3</td>\n",
       "      <td id=\"T_58fec_row7_col4\" class=\"data row7 col4\" >7905</td>\n",
       "    </tr>\n",
       "    <tr>\n",
       "      <th id=\"T_58fec_level0_row8\" class=\"row_heading level0 row8\" >Bilirubin</th>\n",
       "      <td id=\"T_58fec_row8_col0\" class=\"data row8 col0\" >float64</td>\n",
       "      <td id=\"T_58fec_row8_col1\" class=\"data row8 col1\" >0</td>\n",
       "      <td id=\"T_58fec_row8_col2\" class=\"data row8 col2\" >0.000000</td>\n",
       "      <td id=\"T_58fec_row8_col3\" class=\"data row8 col3\" >111</td>\n",
       "      <td id=\"T_58fec_row8_col4\" class=\"data row8 col4\" >7905</td>\n",
       "    </tr>\n",
       "    <tr>\n",
       "      <th id=\"T_58fec_level0_row9\" class=\"row_heading level0 row9\" >Cholesterol</th>\n",
       "      <td id=\"T_58fec_row9_col0\" class=\"data row9 col0\" >float64</td>\n",
       "      <td id=\"T_58fec_row9_col1\" class=\"data row9 col1\" >0</td>\n",
       "      <td id=\"T_58fec_row9_col2\" class=\"data row9 col2\" >0.000000</td>\n",
       "      <td id=\"T_58fec_row9_col3\" class=\"data row9 col3\" >226</td>\n",
       "      <td id=\"T_58fec_row9_col4\" class=\"data row9 col4\" >7905</td>\n",
       "    </tr>\n",
       "    <tr>\n",
       "      <th id=\"T_58fec_level0_row10\" class=\"row_heading level0 row10\" >Albumin</th>\n",
       "      <td id=\"T_58fec_row10_col0\" class=\"data row10 col0\" >float64</td>\n",
       "      <td id=\"T_58fec_row10_col1\" class=\"data row10 col1\" >0</td>\n",
       "      <td id=\"T_58fec_row10_col2\" class=\"data row10 col2\" >0.000000</td>\n",
       "      <td id=\"T_58fec_row10_col3\" class=\"data row10 col3\" >160</td>\n",
       "      <td id=\"T_58fec_row10_col4\" class=\"data row10 col4\" >7905</td>\n",
       "    </tr>\n",
       "    <tr>\n",
       "      <th id=\"T_58fec_level0_row11\" class=\"row_heading level0 row11\" >Copper</th>\n",
       "      <td id=\"T_58fec_row11_col0\" class=\"data row11 col0\" >float64</td>\n",
       "      <td id=\"T_58fec_row11_col1\" class=\"data row11 col1\" >0</td>\n",
       "      <td id=\"T_58fec_row11_col2\" class=\"data row11 col2\" >0.000000</td>\n",
       "      <td id=\"T_58fec_row11_col3\" class=\"data row11 col3\" >171</td>\n",
       "      <td id=\"T_58fec_row11_col4\" class=\"data row11 col4\" >7905</td>\n",
       "    </tr>\n",
       "    <tr>\n",
       "      <th id=\"T_58fec_level0_row12\" class=\"row_heading level0 row12\" >Alk_Phos</th>\n",
       "      <td id=\"T_58fec_row12_col0\" class=\"data row12 col0\" >float64</td>\n",
       "      <td id=\"T_58fec_row12_col1\" class=\"data row12 col1\" >0</td>\n",
       "      <td id=\"T_58fec_row12_col2\" class=\"data row12 col2\" >0.000000</td>\n",
       "      <td id=\"T_58fec_row12_col3\" class=\"data row12 col3\" >364</td>\n",
       "      <td id=\"T_58fec_row12_col4\" class=\"data row12 col4\" >7905</td>\n",
       "    </tr>\n",
       "    <tr>\n",
       "      <th id=\"T_58fec_level0_row13\" class=\"row_heading level0 row13\" >SGOT</th>\n",
       "      <td id=\"T_58fec_row13_col0\" class=\"data row13 col0\" >float64</td>\n",
       "      <td id=\"T_58fec_row13_col1\" class=\"data row13 col1\" >0</td>\n",
       "      <td id=\"T_58fec_row13_col2\" class=\"data row13 col2\" >0.000000</td>\n",
       "      <td id=\"T_58fec_row13_col3\" class=\"data row13 col3\" >206</td>\n",
       "      <td id=\"T_58fec_row13_col4\" class=\"data row13 col4\" >7905</td>\n",
       "    </tr>\n",
       "    <tr>\n",
       "      <th id=\"T_58fec_level0_row14\" class=\"row_heading level0 row14\" >Tryglicerides</th>\n",
       "      <td id=\"T_58fec_row14_col0\" class=\"data row14 col0\" >float64</td>\n",
       "      <td id=\"T_58fec_row14_col1\" class=\"data row14 col1\" >0</td>\n",
       "      <td id=\"T_58fec_row14_col2\" class=\"data row14 col2\" >0.000000</td>\n",
       "      <td id=\"T_58fec_row14_col3\" class=\"data row14 col3\" >154</td>\n",
       "      <td id=\"T_58fec_row14_col4\" class=\"data row14 col4\" >7905</td>\n",
       "    </tr>\n",
       "    <tr>\n",
       "      <th id=\"T_58fec_level0_row15\" class=\"row_heading level0 row15\" >Platelets</th>\n",
       "      <td id=\"T_58fec_row15_col0\" class=\"data row15 col0\" >float64</td>\n",
       "      <td id=\"T_58fec_row15_col1\" class=\"data row15 col1\" >0</td>\n",
       "      <td id=\"T_58fec_row15_col2\" class=\"data row15 col2\" >0.000000</td>\n",
       "      <td id=\"T_58fec_row15_col3\" class=\"data row15 col3\" >227</td>\n",
       "      <td id=\"T_58fec_row15_col4\" class=\"data row15 col4\" >7905</td>\n",
       "    </tr>\n",
       "    <tr>\n",
       "      <th id=\"T_58fec_level0_row16\" class=\"row_heading level0 row16\" >Prothrombin</th>\n",
       "      <td id=\"T_58fec_row16_col0\" class=\"data row16 col0\" >float64</td>\n",
       "      <td id=\"T_58fec_row16_col1\" class=\"data row16 col1\" >0</td>\n",
       "      <td id=\"T_58fec_row16_col2\" class=\"data row16 col2\" >0.000000</td>\n",
       "      <td id=\"T_58fec_row16_col3\" class=\"data row16 col3\" >49</td>\n",
       "      <td id=\"T_58fec_row16_col4\" class=\"data row16 col4\" >7905</td>\n",
       "    </tr>\n",
       "    <tr>\n",
       "      <th id=\"T_58fec_level0_row17\" class=\"row_heading level0 row17\" >Stage</th>\n",
       "      <td id=\"T_58fec_row17_col0\" class=\"data row17 col0\" >float64</td>\n",
       "      <td id=\"T_58fec_row17_col1\" class=\"data row17 col1\" >0</td>\n",
       "      <td id=\"T_58fec_row17_col2\" class=\"data row17 col2\" >0.000000</td>\n",
       "      <td id=\"T_58fec_row17_col3\" class=\"data row17 col3\" >4</td>\n",
       "      <td id=\"T_58fec_row17_col4\" class=\"data row17 col4\" >7905</td>\n",
       "    </tr>\n",
       "    <tr>\n",
       "      <th id=\"T_58fec_level0_row18\" class=\"row_heading level0 row18\" >Status</th>\n",
       "      <td id=\"T_58fec_row18_col0\" class=\"data row18 col0\" >object</td>\n",
       "      <td id=\"T_58fec_row18_col1\" class=\"data row18 col1\" >0</td>\n",
       "      <td id=\"T_58fec_row18_col2\" class=\"data row18 col2\" >0.000000</td>\n",
       "      <td id=\"T_58fec_row18_col3\" class=\"data row18 col3\" >3</td>\n",
       "      <td id=\"T_58fec_row18_col4\" class=\"data row18 col4\" >7905</td>\n",
       "    </tr>\n",
       "  </tbody>\n",
       "</table>\n"
      ],
      "text/plain": [
       "<pandas.io.formats.style.Styler at 0x279d75a3670>"
      ]
     },
     "execution_count": 12,
     "metadata": {},
     "output_type": "execute_result"
    }
   ],
   "source": [
    "def summary(df):\n",
    "    sum = pd.DataFrame(df.dtypes, columns=['dtypes'])\n",
    "    sum['missing#'] = df.isna().sum()\n",
    "    sum['missing%'] = (df.isna().sum())/len(df)\n",
    "    sum['uniques'] = df.nunique().values\n",
    "    sum['count'] = df.count().values\n",
    "    return sum\n",
    "summary(df).style.background_gradient(cmap='Blues')"
   ]
  },
  {
   "cell_type": "code",
   "execution_count": 13,
   "id": "220b1fa9",
   "metadata": {
    "papermill": {
     "duration": 0.069851,
     "end_time": "2023-12-22T10:11:33.957825",
     "exception": false,
     "start_time": "2023-12-22T10:11:33.887974",
     "status": "completed"
    },
    "tags": []
   },
   "outputs": [
    {
     "name": "stdout",
     "output_type": "stream",
     "text": [
      "----------test data ------------\n"
     ]
    },
    {
     "data": {
      "text/html": [
       "<style type=\"text/css\">\n",
       "#T_277ac_row0_col1, #T_277ac_row0_col2, #T_277ac_row0_col4, #T_277ac_row1_col1, #T_277ac_row1_col2, #T_277ac_row1_col3, #T_277ac_row1_col4, #T_277ac_row2_col1, #T_277ac_row2_col2, #T_277ac_row2_col4, #T_277ac_row3_col1, #T_277ac_row3_col2, #T_277ac_row3_col3, #T_277ac_row3_col4, #T_277ac_row4_col1, #T_277ac_row4_col2, #T_277ac_row4_col3, #T_277ac_row4_col4, #T_277ac_row5_col1, #T_277ac_row5_col2, #T_277ac_row5_col3, #T_277ac_row5_col4, #T_277ac_row6_col1, #T_277ac_row6_col2, #T_277ac_row6_col3, #T_277ac_row6_col4, #T_277ac_row7_col1, #T_277ac_row7_col2, #T_277ac_row7_col3, #T_277ac_row7_col4, #T_277ac_row8_col1, #T_277ac_row8_col2, #T_277ac_row8_col4, #T_277ac_row9_col1, #T_277ac_row9_col2, #T_277ac_row9_col4, #T_277ac_row10_col1, #T_277ac_row10_col2, #T_277ac_row10_col4, #T_277ac_row11_col1, #T_277ac_row11_col2, #T_277ac_row11_col4, #T_277ac_row12_col1, #T_277ac_row12_col2, #T_277ac_row12_col4, #T_277ac_row13_col1, #T_277ac_row13_col2, #T_277ac_row13_col4, #T_277ac_row14_col1, #T_277ac_row14_col2, #T_277ac_row14_col4, #T_277ac_row15_col1, #T_277ac_row15_col2, #T_277ac_row15_col4, #T_277ac_row16_col1, #T_277ac_row16_col2, #T_277ac_row16_col4, #T_277ac_row17_col1, #T_277ac_row17_col2, #T_277ac_row17_col4 {\n",
       "  background-color: #f7fbff;\n",
       "  color: #000000;\n",
       "}\n",
       "#T_277ac_row0_col3 {\n",
       "  background-color: #08306b;\n",
       "  color: #f1f1f1;\n",
       "}\n",
       "#T_277ac_row2_col3 {\n",
       "  background-color: #084d96;\n",
       "  color: #f1f1f1;\n",
       "}\n",
       "#T_277ac_row8_col3 {\n",
       "  background-color: #c3daee;\n",
       "  color: #000000;\n",
       "}\n",
       "#T_277ac_row9_col3 {\n",
       "  background-color: #5da5d1;\n",
       "  color: #f1f1f1;\n",
       "}\n",
       "#T_277ac_row10_col3 {\n",
       "  background-color: #9fcae1;\n",
       "  color: #000000;\n",
       "}\n",
       "#T_277ac_row11_col3 {\n",
       "  background-color: #95c5df;\n",
       "  color: #000000;\n",
       "}\n",
       "#T_277ac_row12_col3 {\n",
       "  background-color: #084e98;\n",
       "  color: #f1f1f1;\n",
       "}\n",
       "#T_277ac_row13_col3 {\n",
       "  background-color: #75b4d8;\n",
       "  color: #000000;\n",
       "}\n",
       "#T_277ac_row14_col3 {\n",
       "  background-color: #9dcae1;\n",
       "  color: #000000;\n",
       "}\n",
       "#T_277ac_row15_col3 {\n",
       "  background-color: #5ca4d0;\n",
       "  color: #f1f1f1;\n",
       "}\n",
       "#T_277ac_row16_col3 {\n",
       "  background-color: #e1edf8;\n",
       "  color: #000000;\n",
       "}\n",
       "#T_277ac_row17_col3 {\n",
       "  background-color: #f6faff;\n",
       "  color: #000000;\n",
       "}\n",
       "</style>\n",
       "<table id=\"T_277ac\">\n",
       "  <thead>\n",
       "    <tr>\n",
       "      <th class=\"blank level0\" >&nbsp;</th>\n",
       "      <th id=\"T_277ac_level0_col0\" class=\"col_heading level0 col0\" >dtypes</th>\n",
       "      <th id=\"T_277ac_level0_col1\" class=\"col_heading level0 col1\" >missing#</th>\n",
       "      <th id=\"T_277ac_level0_col2\" class=\"col_heading level0 col2\" >missing%</th>\n",
       "      <th id=\"T_277ac_level0_col3\" class=\"col_heading level0 col3\" >uniques</th>\n",
       "      <th id=\"T_277ac_level0_col4\" class=\"col_heading level0 col4\" >count</th>\n",
       "    </tr>\n",
       "  </thead>\n",
       "  <tbody>\n",
       "    <tr>\n",
       "      <th id=\"T_277ac_level0_row0\" class=\"row_heading level0 row0\" >N_Days</th>\n",
       "      <td id=\"T_277ac_row0_col0\" class=\"data row0 col0\" >int64</td>\n",
       "      <td id=\"T_277ac_row0_col1\" class=\"data row0 col1\" >0</td>\n",
       "      <td id=\"T_277ac_row0_col2\" class=\"data row0 col2\" >0.000000</td>\n",
       "      <td id=\"T_277ac_row0_col3\" class=\"data row0 col3\" >409</td>\n",
       "      <td id=\"T_277ac_row0_col4\" class=\"data row0 col4\" >5271</td>\n",
       "    </tr>\n",
       "    <tr>\n",
       "      <th id=\"T_277ac_level0_row1\" class=\"row_heading level0 row1\" >Drug</th>\n",
       "      <td id=\"T_277ac_row1_col0\" class=\"data row1 col0\" >object</td>\n",
       "      <td id=\"T_277ac_row1_col1\" class=\"data row1 col1\" >0</td>\n",
       "      <td id=\"T_277ac_row1_col2\" class=\"data row1 col2\" >0.000000</td>\n",
       "      <td id=\"T_277ac_row1_col3\" class=\"data row1 col3\" >2</td>\n",
       "      <td id=\"T_277ac_row1_col4\" class=\"data row1 col4\" >5271</td>\n",
       "    </tr>\n",
       "    <tr>\n",
       "      <th id=\"T_277ac_level0_row2\" class=\"row_heading level0 row2\" >Age</th>\n",
       "      <td id=\"T_277ac_row2_col0\" class=\"data row2 col0\" >int64</td>\n",
       "      <td id=\"T_277ac_row2_col1\" class=\"data row2 col1\" >0</td>\n",
       "      <td id=\"T_277ac_row2_col2\" class=\"data row2 col2\" >0.000000</td>\n",
       "      <td id=\"T_277ac_row2_col3\" class=\"data row2 col3\" >363</td>\n",
       "      <td id=\"T_277ac_row2_col4\" class=\"data row2 col4\" >5271</td>\n",
       "    </tr>\n",
       "    <tr>\n",
       "      <th id=\"T_277ac_level0_row3\" class=\"row_heading level0 row3\" >Sex</th>\n",
       "      <td id=\"T_277ac_row3_col0\" class=\"data row3 col0\" >object</td>\n",
       "      <td id=\"T_277ac_row3_col1\" class=\"data row3 col1\" >0</td>\n",
       "      <td id=\"T_277ac_row3_col2\" class=\"data row3 col2\" >0.000000</td>\n",
       "      <td id=\"T_277ac_row3_col3\" class=\"data row3 col3\" >2</td>\n",
       "      <td id=\"T_277ac_row3_col4\" class=\"data row3 col4\" >5271</td>\n",
       "    </tr>\n",
       "    <tr>\n",
       "      <th id=\"T_277ac_level0_row4\" class=\"row_heading level0 row4\" >Ascites</th>\n",
       "      <td id=\"T_277ac_row4_col0\" class=\"data row4 col0\" >object</td>\n",
       "      <td id=\"T_277ac_row4_col1\" class=\"data row4 col1\" >0</td>\n",
       "      <td id=\"T_277ac_row4_col2\" class=\"data row4 col2\" >0.000000</td>\n",
       "      <td id=\"T_277ac_row4_col3\" class=\"data row4 col3\" >2</td>\n",
       "      <td id=\"T_277ac_row4_col4\" class=\"data row4 col4\" >5271</td>\n",
       "    </tr>\n",
       "    <tr>\n",
       "      <th id=\"T_277ac_level0_row5\" class=\"row_heading level0 row5\" >Hepatomegaly</th>\n",
       "      <td id=\"T_277ac_row5_col0\" class=\"data row5 col0\" >object</td>\n",
       "      <td id=\"T_277ac_row5_col1\" class=\"data row5 col1\" >0</td>\n",
       "      <td id=\"T_277ac_row5_col2\" class=\"data row5 col2\" >0.000000</td>\n",
       "      <td id=\"T_277ac_row5_col3\" class=\"data row5 col3\" >2</td>\n",
       "      <td id=\"T_277ac_row5_col4\" class=\"data row5 col4\" >5271</td>\n",
       "    </tr>\n",
       "    <tr>\n",
       "      <th id=\"T_277ac_level0_row6\" class=\"row_heading level0 row6\" >Spiders</th>\n",
       "      <td id=\"T_277ac_row6_col0\" class=\"data row6 col0\" >object</td>\n",
       "      <td id=\"T_277ac_row6_col1\" class=\"data row6 col1\" >0</td>\n",
       "      <td id=\"T_277ac_row6_col2\" class=\"data row6 col2\" >0.000000</td>\n",
       "      <td id=\"T_277ac_row6_col3\" class=\"data row6 col3\" >2</td>\n",
       "      <td id=\"T_277ac_row6_col4\" class=\"data row6 col4\" >5271</td>\n",
       "    </tr>\n",
       "    <tr>\n",
       "      <th id=\"T_277ac_level0_row7\" class=\"row_heading level0 row7\" >Edema</th>\n",
       "      <td id=\"T_277ac_row7_col0\" class=\"data row7 col0\" >object</td>\n",
       "      <td id=\"T_277ac_row7_col1\" class=\"data row7 col1\" >0</td>\n",
       "      <td id=\"T_277ac_row7_col2\" class=\"data row7 col2\" >0.000000</td>\n",
       "      <td id=\"T_277ac_row7_col3\" class=\"data row7 col3\" >3</td>\n",
       "      <td id=\"T_277ac_row7_col4\" class=\"data row7 col4\" >5271</td>\n",
       "    </tr>\n",
       "    <tr>\n",
       "      <th id=\"T_277ac_level0_row8\" class=\"row_heading level0 row8\" >Bilirubin</th>\n",
       "      <td id=\"T_277ac_row8_col0\" class=\"data row8 col0\" >float64</td>\n",
       "      <td id=\"T_277ac_row8_col1\" class=\"data row8 col1\" >0</td>\n",
       "      <td id=\"T_277ac_row8_col2\" class=\"data row8 col2\" >0.000000</td>\n",
       "      <td id=\"T_277ac_row8_col3\" class=\"data row8 col3\" >108</td>\n",
       "      <td id=\"T_277ac_row8_col4\" class=\"data row8 col4\" >5271</td>\n",
       "    </tr>\n",
       "    <tr>\n",
       "      <th id=\"T_277ac_level0_row9\" class=\"row_heading level0 row9\" >Cholesterol</th>\n",
       "      <td id=\"T_277ac_row9_col0\" class=\"data row9 col0\" >float64</td>\n",
       "      <td id=\"T_277ac_row9_col1\" class=\"data row9 col1\" >0</td>\n",
       "      <td id=\"T_277ac_row9_col2\" class=\"data row9 col2\" >0.000000</td>\n",
       "      <td id=\"T_277ac_row9_col3\" class=\"data row9 col3\" >222</td>\n",
       "      <td id=\"T_277ac_row9_col4\" class=\"data row9 col4\" >5271</td>\n",
       "    </tr>\n",
       "    <tr>\n",
       "      <th id=\"T_277ac_level0_row10\" class=\"row_heading level0 row10\" >Albumin</th>\n",
       "      <td id=\"T_277ac_row10_col0\" class=\"data row10 col0\" >float64</td>\n",
       "      <td id=\"T_277ac_row10_col1\" class=\"data row10 col1\" >0</td>\n",
       "      <td id=\"T_277ac_row10_col2\" class=\"data row10 col2\" >0.000000</td>\n",
       "      <td id=\"T_277ac_row10_col3\" class=\"data row10 col3\" >154</td>\n",
       "      <td id=\"T_277ac_row10_col4\" class=\"data row10 col4\" >5271</td>\n",
       "    </tr>\n",
       "    <tr>\n",
       "      <th id=\"T_277ac_level0_row11\" class=\"row_heading level0 row11\" >Copper</th>\n",
       "      <td id=\"T_277ac_row11_col0\" class=\"data row11 col0\" >float64</td>\n",
       "      <td id=\"T_277ac_row11_col1\" class=\"data row11 col1\" >0</td>\n",
       "      <td id=\"T_277ac_row11_col2\" class=\"data row11 col2\" >0.000000</td>\n",
       "      <td id=\"T_277ac_row11_col3\" class=\"data row11 col3\" >164</td>\n",
       "      <td id=\"T_277ac_row11_col4\" class=\"data row11 col4\" >5271</td>\n",
       "    </tr>\n",
       "    <tr>\n",
       "      <th id=\"T_277ac_level0_row12\" class=\"row_heading level0 row12\" >Alk_Phos</th>\n",
       "      <td id=\"T_277ac_row12_col0\" class=\"data row12 col0\" >float64</td>\n",
       "      <td id=\"T_277ac_row12_col1\" class=\"data row12 col1\" >0</td>\n",
       "      <td id=\"T_277ac_row12_col2\" class=\"data row12 col2\" >0.000000</td>\n",
       "      <td id=\"T_277ac_row12_col3\" class=\"data row12 col3\" >362</td>\n",
       "      <td id=\"T_277ac_row12_col4\" class=\"data row12 col4\" >5271</td>\n",
       "    </tr>\n",
       "    <tr>\n",
       "      <th id=\"T_277ac_level0_row13\" class=\"row_heading level0 row13\" >SGOT</th>\n",
       "      <td id=\"T_277ac_row13_col0\" class=\"data row13 col0\" >float64</td>\n",
       "      <td id=\"T_277ac_row13_col1\" class=\"data row13 col1\" >0</td>\n",
       "      <td id=\"T_277ac_row13_col2\" class=\"data row13 col2\" >0.000000</td>\n",
       "      <td id=\"T_277ac_row13_col3\" class=\"data row13 col3\" >195</td>\n",
       "      <td id=\"T_277ac_row13_col4\" class=\"data row13 col4\" >5271</td>\n",
       "    </tr>\n",
       "    <tr>\n",
       "      <th id=\"T_277ac_level0_row14\" class=\"row_heading level0 row14\" >Tryglicerides</th>\n",
       "      <td id=\"T_277ac_row14_col0\" class=\"data row14 col0\" >float64</td>\n",
       "      <td id=\"T_277ac_row14_col1\" class=\"data row14 col1\" >0</td>\n",
       "      <td id=\"T_277ac_row14_col2\" class=\"data row14 col2\" >0.000000</td>\n",
       "      <td id=\"T_277ac_row14_col3\" class=\"data row14 col3\" >155</td>\n",
       "      <td id=\"T_277ac_row14_col4\" class=\"data row14 col4\" >5271</td>\n",
       "    </tr>\n",
       "    <tr>\n",
       "      <th id=\"T_277ac_level0_row15\" class=\"row_heading level0 row15\" >Platelets</th>\n",
       "      <td id=\"T_277ac_row15_col0\" class=\"data row15 col0\" >float64</td>\n",
       "      <td id=\"T_277ac_row15_col1\" class=\"data row15 col1\" >0</td>\n",
       "      <td id=\"T_277ac_row15_col2\" class=\"data row15 col2\" >0.000000</td>\n",
       "      <td id=\"T_277ac_row15_col3\" class=\"data row15 col3\" >223</td>\n",
       "      <td id=\"T_277ac_row15_col4\" class=\"data row15 col4\" >5271</td>\n",
       "    </tr>\n",
       "    <tr>\n",
       "      <th id=\"T_277ac_level0_row16\" class=\"row_heading level0 row16\" >Prothrombin</th>\n",
       "      <td id=\"T_277ac_row16_col0\" class=\"data row16 col0\" >float64</td>\n",
       "      <td id=\"T_277ac_row16_col1\" class=\"data row16 col1\" >0</td>\n",
       "      <td id=\"T_277ac_row16_col2\" class=\"data row16 col2\" >0.000000</td>\n",
       "      <td id=\"T_277ac_row16_col3\" class=\"data row16 col3\" >47</td>\n",
       "      <td id=\"T_277ac_row16_col4\" class=\"data row16 col4\" >5271</td>\n",
       "    </tr>\n",
       "    <tr>\n",
       "      <th id=\"T_277ac_level0_row17\" class=\"row_heading level0 row17\" >Stage</th>\n",
       "      <td id=\"T_277ac_row17_col0\" class=\"data row17 col0\" >float64</td>\n",
       "      <td id=\"T_277ac_row17_col1\" class=\"data row17 col1\" >0</td>\n",
       "      <td id=\"T_277ac_row17_col2\" class=\"data row17 col2\" >0.000000</td>\n",
       "      <td id=\"T_277ac_row17_col3\" class=\"data row17 col3\" >4</td>\n",
       "      <td id=\"T_277ac_row17_col4\" class=\"data row17 col4\" >5271</td>\n",
       "    </tr>\n",
       "  </tbody>\n",
       "</table>\n"
      ],
      "text/plain": [
       "<pandas.io.formats.style.Styler at 0x279d7561d60>"
      ]
     },
     "execution_count": 13,
     "metadata": {},
     "output_type": "execute_result"
    }
   ],
   "source": [
    "print('----------test data ------------')\n",
    "summary(test).style.background_gradient(cmap='Blues')"
   ]
  },
  {
   "cell_type": "markdown",
   "id": "35766bfc",
   "metadata": {
    "papermill": {
     "duration": 0.018708,
     "end_time": "2023-12-22T10:11:33.996033",
     "exception": false,
     "start_time": "2023-12-22T10:11:33.977325",
     "status": "completed"
    },
    "tags": []
   },
   "source": [
    "### Label Distribution"
   ]
  },
  {
   "cell_type": "code",
   "execution_count": 14,
   "id": "2720a4b4",
   "metadata": {
    "papermill": {
     "duration": 0.287768,
     "end_time": "2023-12-22T10:11:34.302953",
     "exception": false,
     "start_time": "2023-12-22T10:11:34.015185",
     "status": "completed"
    },
    "tags": []
   },
   "outputs": [
    {
     "data": {
      "image/png": "[encoded data removed]",
      "text/plain": [
       "<Figure size 600x600 with 1 Axes>"
      ]
     },
     "metadata": {},
     "output_type": "display_data"
    }
   ],
   "source": [
    "counts = df['Status'].value_counts()\n",
    "df_counts = pd.DataFrame({'Class': counts.index, 'Count': counts.values})\n",
    "# Sort the DataFrame by count in descending order\n",
    "df_counts = df_counts.sort_values('Count', ascending=False)\n",
    "sns.set_palette(\"Set2\")\n",
    "plt.figure(figsize=(6, 6))\n",
    "plt.pie(df_counts['Count'], labels=df_counts['Class'], autopct='%1.1f%%',explode=(0.05,0.05,0.05), shadow=True, startangle=90, colors=sns.color_palette())\n",
    "plt.title('Count Distribution of Target Variable')\n",
    "plt.axis('equal')\n",
    "plt.show()"
   ]
  },
  {
   "cell_type": "code",
   "execution_count": 65,
   "id": "409917e7",
   "metadata": {
    "papermill": {
     "duration": 0.030062,
     "end_time": "2023-12-22T10:11:34.360925",
     "exception": false,
     "start_time": "2023-12-22T10:11:34.330863",
     "status": "completed"
    },
    "tags": []
   },
   "outputs": [],
   "source": [
    "feat_distribution = ['N_Days',\n",
    "                     'Age',\n",
    "                     'Bilirubin',\n",
    "                     'Cholesterol',\n",
    "                     'Albumin',\n",
    "                     'Copper',\n",
    "                     'Alk_Phos',\n",
    "                     'SGOT',\n",
    "                     'Tryglicerides',\n",
    "                     'Platelets',\n",
    "                     'Prothrombin',\n",
    "                     'Stage']"
   ]
  },
  {
   "cell_type": "code",
   "execution_count": 66,
   "id": "86b63bb4",
   "metadata": {
    "papermill": {
     "duration": 5.463639,
     "end_time": "2023-12-22T10:11:39.844590",
     "exception": false,
     "start_time": "2023-12-22T10:11:34.380951",
     "status": "completed"
    },
    "tags": []
   },
   "outputs": [
    {
     "data": {
      "image/png": "[encoded data removed]",
      "text/plain": [
       "<Figure size 1200x400 with 2 Axes>"
      ]
     },
     "metadata": {},
     "output_type": "display_data"
    },
    {
     "data": {
      "image/png": "[encoded data removed]",
      "text/plain": [
       "<Figure size 1200x400 with 2 Axes>"
      ]
     },
     "metadata": {},
     "output_type": "display_data"
    },
    {
     "data": {
      "image/png": "[encoded data removed]",
      "text/plain": [
       "<Figure size 1200x400 with 2 Axes>"
      ]
     },
     "metadata": {},
     "output_type": "display_data"
    },
    {
     "data": {
      "image/png": "[encoded data removed]",
      "text/plain": [
       "<Figure size 1200x400 with 2 Axes>"
      ]
     },
     "metadata": {},
     "output_type": "display_data"
    },
    {
     "data": {
      "image/png": "[encoded data removed]",
      "text/plain": [
       "<Figure size 1200x400 with 2 Axes>"
      ]
     },
     "metadata": {},
     "output_type": "display_data"
    },
    {
     "data": {
      "image/png": "[encoded data removed]",
      "text/plain": [
       "<Figure size 1200x400 with 2 Axes>"
      ]
     },
     "metadata": {},
     "output_type": "display_data"
    },
    {
     "data": {
      "image/png": "[encoded data removed]",
      "text/plain": [
       "<Figure size 1200x400 with 2 Axes>"
      ]
     },
     "metadata": {},
     "output_type": "display_data"
    },
    {
     "data": {
      "image/png": "[encoded data removed]",
      "text/plain": [
       "<Figure size 1200x400 with 2 Axes>"
      ]
     },
     "metadata": {},
     "output_type": "display_data"
    },
    {
     "data": {
      "image/png": "[encoded data removed]",
      "text/plain": [
       "<Figure size 1200x400 with 2 Axes>"
      ]
     },
     "metadata": {},
     "output_type": "display_data"
    },
    {
     "data": {
      "image/png": "[encoded data removed]",
      "text/plain": [
       "<Figure size 1200x400 with 2 Axes>"
      ]
     },
     "metadata": {},
     "output_type": "display_data"
    },
    {
     "data": {
      "image/png": "[encoded data removed]",
      "text/plain": [
       "<Figure size 1200x400 with 2 Axes>"
      ]
     },
     "metadata": {},
     "output_type": "display_data"
    },
    {
     "data": {
      "image/png": "[encoded data removed]",
      "text/plain": [
       "<Figure size 1200x400 with 2 Axes>"
      ]
     },
     "metadata": {},
     "output_type": "display_data"
    }
   ],
   "source": [
    "for feat in feat_distribution:\n",
    "    plt.figure(figsize=(12,4))\n",
    "    ax1 = plt.subplot(1,2,1)\n",
    "    sns.boxplot(data=df, x='Status', y=feat)#x='Status', \n",
    "    plt.title(feat + ' / train')\n",
    "    x1 = plt.subplot(1,2,2)\n",
    "    sns.boxplot(data=test, y=feat)\n",
    "    plt.title(feat + ' / test')\n",
    "    plt.show()"
   ]
  },
  {
   "cell_type": "markdown",
   "id": "e8da4727",
   "metadata": {
    "papermill": {
     "duration": 0.027164,
     "end_time": "2023-12-22T10:11:39.899111",
     "exception": false,
     "start_time": "2023-12-22T10:11:39.871947",
     "status": "completed"
    },
    "tags": []
   },
   "source": [
    "<a id=\"4\"></a>\n",
    "# <b>4 <span style='color:#94D4F6'>|</span> Preprocessing</b>"
   ]
  },
  {
   "cell_type": "markdown",
   "id": "d471cbda",
   "metadata": {
    "papermill": {
     "duration": 0.027193,
     "end_time": "2023-12-22T10:11:39.953864",
     "exception": false,
     "start_time": "2023-12-22T10:11:39.926671",
     "status": "completed"
    },
    "tags": []
   },
   "source": [
    "### Encode Categorical Variables to Numerical"
   ]
  },
  {
   "cell_type": "code",
   "execution_count": 67,
   "id": "05ba2fc0",
   "metadata": {
    "papermill": {
     "duration": 0.067808,
     "end_time": "2023-12-22T10:11:40.049321",
     "exception": false,
     "start_time": "2023-12-22T10:11:39.981513",
     "status": "completed"
    },
    "tags": []
   },
   "outputs": [],
   "source": [
    "le = LabelEncoder()\n",
    "for col in obj_col:\n",
    "    df[col] = le.fit_transform(df[col])\n",
    "    test[col] = le.fit_transform(test[col])\n",
    "# Encode Target Variable\n",
    "df[target] = df[target].map({'C':0, 'CL':1, 'D':2})"
   ]
  },
  {
   "cell_type": "code",
   "execution_count": 68,
   "id": "58254f3f",
   "metadata": {
    "papermill": {
     "duration": 0.063283,
     "end_time": "2023-12-22T10:11:40.140741",
     "exception": false,
     "start_time": "2023-12-22T10:11:40.077458",
     "status": "completed"
    },
    "tags": []
   },
   "outputs": [
    {
     "data": {
      "text/html": [
       "<div>\n",
       "<style scoped>\n",
       "    .dataframe tbody tr th:only-of-type {\n",
       "        vertical-align: middle;\n",
       "    }\n",
       "\n",
       "    .dataframe tbody tr th {\n",
       "        vertical-align: top;\n",
       "    }\n",
       "\n",
       "    .dataframe thead th {\n",
       "        text-align: right;\n",
       "    }\n",
       "</style>\n",
       "<table border=\"1\" class=\"dataframe\">\n",
       "  <thead>\n",
       "    <tr style=\"text-align: right;\">\n",
       "      <th></th>\n",
       "      <th>N_Days</th>\n",
       "      <th>Drug</th>\n",
       "      <th>Age</th>\n",
       "      <th>Sex</th>\n",
       "      <th>Ascites</th>\n",
       "      <th>Hepatomegaly</th>\n",
       "      <th>Spiders</th>\n",
       "      <th>Edema</th>\n",
       "      <th>Bilirubin</th>\n",
       "      <th>Cholesterol</th>\n",
       "      <th>Albumin</th>\n",
       "      <th>Copper</th>\n",
       "      <th>Alk_Phos</th>\n",
       "      <th>SGOT</th>\n",
       "      <th>Tryglicerides</th>\n",
       "      <th>Platelets</th>\n",
       "      <th>Prothrombin</th>\n",
       "      <th>Stage</th>\n",
       "      <th>Status</th>\n",
       "    </tr>\n",
       "  </thead>\n",
       "  <tbody>\n",
       "    <tr>\n",
       "      <th>0</th>\n",
       "      <td>999</td>\n",
       "      <td>0</td>\n",
       "      <td>21532</td>\n",
       "      <td>1</td>\n",
       "      <td>0</td>\n",
       "      <td>0</td>\n",
       "      <td>0</td>\n",
       "      <td>0</td>\n",
       "      <td>2.3</td>\n",
       "      <td>316.0</td>\n",
       "      <td>3.35</td>\n",
       "      <td>172.0</td>\n",
       "      <td>1601.0</td>\n",
       "      <td>179.80</td>\n",
       "      <td>63.0</td>\n",
       "      <td>394.0</td>\n",
       "      <td>9.7</td>\n",
       "      <td>3.0</td>\n",
       "      <td>NaN</td>\n",
       "    </tr>\n",
       "    <tr>\n",
       "      <th>1</th>\n",
       "      <td>2574</td>\n",
       "      <td>1</td>\n",
       "      <td>19237</td>\n",
       "      <td>0</td>\n",
       "      <td>0</td>\n",
       "      <td>0</td>\n",
       "      <td>0</td>\n",
       "      <td>0</td>\n",
       "      <td>0.9</td>\n",
       "      <td>364.0</td>\n",
       "      <td>3.54</td>\n",
       "      <td>63.0</td>\n",
       "      <td>1440.0</td>\n",
       "      <td>134.85</td>\n",
       "      <td>88.0</td>\n",
       "      <td>361.0</td>\n",
       "      <td>11.0</td>\n",
       "      <td>3.0</td>\n",
       "      <td>NaN</td>\n",
       "    </tr>\n",
       "    <tr>\n",
       "      <th>2</th>\n",
       "      <td>3428</td>\n",
       "      <td>1</td>\n",
       "      <td>13727</td>\n",
       "      <td>0</td>\n",
       "      <td>0</td>\n",
       "      <td>1</td>\n",
       "      <td>1</td>\n",
       "      <td>2</td>\n",
       "      <td>3.3</td>\n",
       "      <td>299.0</td>\n",
       "      <td>3.55</td>\n",
       "      <td>131.0</td>\n",
       "      <td>1029.0</td>\n",
       "      <td>119.35</td>\n",
       "      <td>50.0</td>\n",
       "      <td>199.0</td>\n",
       "      <td>11.7</td>\n",
       "      <td>4.0</td>\n",
       "      <td>NaN</td>\n",
       "    </tr>\n",
       "    <tr>\n",
       "      <th>3</th>\n",
       "      <td>2576</td>\n",
       "      <td>1</td>\n",
       "      <td>18460</td>\n",
       "      <td>0</td>\n",
       "      <td>0</td>\n",
       "      <td>0</td>\n",
       "      <td>0</td>\n",
       "      <td>0</td>\n",
       "      <td>0.6</td>\n",
       "      <td>256.0</td>\n",
       "      <td>3.50</td>\n",
       "      <td>58.0</td>\n",
       "      <td>1653.0</td>\n",
       "      <td>71.30</td>\n",
       "      <td>96.0</td>\n",
       "      <td>269.0</td>\n",
       "      <td>10.7</td>\n",
       "      <td>3.0</td>\n",
       "      <td>NaN</td>\n",
       "    </tr>\n",
       "    <tr>\n",
       "      <th>4</th>\n",
       "      <td>788</td>\n",
       "      <td>1</td>\n",
       "      <td>16658</td>\n",
       "      <td>0</td>\n",
       "      <td>0</td>\n",
       "      <td>1</td>\n",
       "      <td>0</td>\n",
       "      <td>0</td>\n",
       "      <td>1.1</td>\n",
       "      <td>346.0</td>\n",
       "      <td>3.65</td>\n",
       "      <td>63.0</td>\n",
       "      <td>1181.0</td>\n",
       "      <td>125.55</td>\n",
       "      <td>96.0</td>\n",
       "      <td>298.0</td>\n",
       "      <td>10.6</td>\n",
       "      <td>4.0</td>\n",
       "      <td>NaN</td>\n",
       "    </tr>\n",
       "  </tbody>\n",
       "</table>\n",
       "</div>"
      ],
      "text/plain": [
       "   N_Days  Drug    Age  Sex  Ascites  Hepatomegaly  Spiders  Edema  Bilirubin  \\\n",
       "0     999     0  21532    1        0             0        0      0        2.3   \n",
       "1    2574     1  19237    0        0             0        0      0        0.9   \n",
       "2    3428     1  13727    0        0             1        1      2        3.3   \n",
       "3    2576     1  18460    0        0             0        0      0        0.6   \n",
       "4     788     1  16658    0        0             1        0      0        1.1   \n",
       "\n",
       "   Cholesterol  Albumin  Copper  Alk_Phos    SGOT  Tryglicerides  Platelets  \\\n",
       "0        316.0     3.35   172.0    1601.0  179.80           63.0      394.0   \n",
       "1        364.0     3.54    63.0    1440.0  134.85           88.0      361.0   \n",
       "2        299.0     3.55   131.0    1029.0  119.35           50.0      199.0   \n",
       "3        256.0     3.50    58.0    1653.0   71.30           96.0      269.0   \n",
       "4        346.0     3.65    63.0    1181.0  125.55           96.0      298.0   \n",
       "\n",
       "   Prothrombin  Stage  Status  \n",
       "0          9.7    3.0     NaN  \n",
       "1         11.0    3.0     NaN  \n",
       "2         11.7    4.0     NaN  \n",
       "3         10.7    3.0     NaN  \n",
       "4         10.6    4.0     NaN  "
      ]
     },
     "execution_count": 68,
     "metadata": {},
     "output_type": "execute_result"
    }
   ],
   "source": [
    "df.head()"
   ]
  },
  {
   "cell_type": "code",
   "execution_count": 69,
   "id": "148b8c9c-68d2-49ca-a6d4-4d8c56c6f38e",
   "metadata": {},
   "outputs": [],
   "source": [
    "xgb_params = {'lambda': 1.1369029459700144e-06, 'alpha': 0.012063715109367643, 'max_depth': 6, 'eta': 0.0016842485569386354, 'gamma': 1.8110005586084708e-08, 'colsample_bytree': 0.14198953405080517, 'subsample': 0.7387879239640978, 'min_child_weight': 1, 'n_estimators': 931, 'learning_rate': 0.07244128492444549, 'reg_alpha': 0.7206512712096103, 'reg_lambda': 0.33555254247327354}"
   ]
  },
  {
   "cell_type": "code",
   "execution_count": 78,
   "id": "5b9b1a0f",
   "metadata": {
    "papermill": {
     "duration": 0.040804,
     "end_time": "2023-12-22T10:11:40.209260",
     "exception": false,
     "start_time": "2023-12-22T10:11:40.168456",
     "status": "completed"
    },
    "tags": []
   },
   "outputs": [
    {
     "ename": "IntCastingNaNError",
     "evalue": "Cannot convert non-finite values (NA or inf) to integer",
     "output_type": "error",
     "traceback": [
      "\u001b[1;31m---------------------------------------------------------------------------\u001b[0m",
      "\u001b[1;31mIntCastingNaNError\u001b[0m                        Traceback (most recent call last)",
      "\u001b[1;32m~\\AppData\\Local\\Temp\\ipykernel_11188\\3153228418.py\u001b[0m in \u001b[0;36m<module>\u001b[1;34m\u001b[0m\n\u001b[0;32m      1\u001b[0m \u001b[1;31m# Separate the features from the target variable\u001b[0m\u001b[1;33m\u001b[0m\u001b[1;33m\u001b[0m\u001b[0m\n\u001b[0;32m      2\u001b[0m \u001b[0mX\u001b[0m \u001b[1;33m=\u001b[0m \u001b[0mdf\u001b[0m\u001b[1;33m.\u001b[0m\u001b[0mdrop\u001b[0m\u001b[1;33m(\u001b[0m\u001b[1;34m'Status'\u001b[0m\u001b[1;33m,\u001b[0m \u001b[0maxis\u001b[0m\u001b[1;33m=\u001b[0m\u001b[1;36m1\u001b[0m\u001b[1;33m)\u001b[0m\u001b[1;33m\u001b[0m\u001b[1;33m\u001b[0m\u001b[0m\n\u001b[1;32m----> 3\u001b[1;33m \u001b[0my\u001b[0m \u001b[1;33m=\u001b[0m \u001b[0mdf\u001b[0m\u001b[1;33m[\u001b[0m\u001b[1;34m'Status'\u001b[0m\u001b[1;33m]\u001b[0m\u001b[1;33m.\u001b[0m\u001b[0mastype\u001b[0m\u001b[1;33m(\u001b[0m\u001b[1;34m'int'\u001b[0m\u001b[1;33m)\u001b[0m\u001b[1;33m\u001b[0m\u001b[1;33m\u001b[0m\u001b[0m\n\u001b[0m",
      "\u001b[1;32m~\\anaconda3\\lib\\site-packages\\pandas\\core\\generic.py\u001b[0m in \u001b[0;36mastype\u001b[1;34m(self, dtype, copy, errors)\u001b[0m\n\u001b[0;32m   5910\u001b[0m         \u001b[1;32melse\u001b[0m\u001b[1;33m:\u001b[0m\u001b[1;33m\u001b[0m\u001b[1;33m\u001b[0m\u001b[0m\n\u001b[0;32m   5911\u001b[0m             \u001b[1;31m# else, only a single dtype is given\u001b[0m\u001b[1;33m\u001b[0m\u001b[1;33m\u001b[0m\u001b[0m\n\u001b[1;32m-> 5912\u001b[1;33m             \u001b[0mnew_data\u001b[0m \u001b[1;33m=\u001b[0m \u001b[0mself\u001b[0m\u001b[1;33m.\u001b[0m\u001b[0m_mgr\u001b[0m\u001b[1;33m.\u001b[0m\u001b[0mastype\u001b[0m\u001b[1;33m(\u001b[0m\u001b[0mdtype\u001b[0m\u001b[1;33m=\u001b[0m\u001b[0mdtype\u001b[0m\u001b[1;33m,\u001b[0m \u001b[0mcopy\u001b[0m\u001b[1;33m=\u001b[0m\u001b[0mcopy\u001b[0m\u001b[1;33m,\u001b[0m \u001b[0merrors\u001b[0m\u001b[1;33m=\u001b[0m\u001b[0merrors\u001b[0m\u001b[1;33m)\u001b[0m\u001b[1;33m\u001b[0m\u001b[1;33m\u001b[0m\u001b[0m\n\u001b[0m\u001b[0;32m   5913\u001b[0m             \u001b[1;32mreturn\u001b[0m \u001b[0mself\u001b[0m\u001b[1;33m.\u001b[0m\u001b[0m_constructor\u001b[0m\u001b[1;33m(\u001b[0m\u001b[0mnew_data\u001b[0m\u001b[1;33m)\u001b[0m\u001b[1;33m.\u001b[0m\u001b[0m__finalize__\u001b[0m\u001b[1;33m(\u001b[0m\u001b[0mself\u001b[0m\u001b[1;33m,\u001b[0m \u001b[0mmethod\u001b[0m\u001b[1;33m=\u001b[0m\u001b[1;34m\"astype\"\u001b[0m\u001b[1;33m)\u001b[0m\u001b[1;33m\u001b[0m\u001b[1;33m\u001b[0m\u001b[0m\n\u001b[0;32m   5914\u001b[0m \u001b[1;33m\u001b[0m\u001b[0m\n",
      "\u001b[1;32m~\\anaconda3\\lib\\site-packages\\pandas\\core\\internals\\managers.py\u001b[0m in \u001b[0;36mastype\u001b[1;34m(self, dtype, copy, errors)\u001b[0m\n\u001b[0;32m    417\u001b[0m \u001b[1;33m\u001b[0m\u001b[0m\n\u001b[0;32m    418\u001b[0m     \u001b[1;32mdef\u001b[0m \u001b[0mastype\u001b[0m\u001b[1;33m(\u001b[0m\u001b[0mself\u001b[0m\u001b[1;33m:\u001b[0m \u001b[0mT\u001b[0m\u001b[1;33m,\u001b[0m \u001b[0mdtype\u001b[0m\u001b[1;33m,\u001b[0m \u001b[0mcopy\u001b[0m\u001b[1;33m:\u001b[0m \u001b[0mbool\u001b[0m \u001b[1;33m=\u001b[0m \u001b[1;32mFalse\u001b[0m\u001b[1;33m,\u001b[0m \u001b[0merrors\u001b[0m\u001b[1;33m:\u001b[0m \u001b[0mstr\u001b[0m \u001b[1;33m=\u001b[0m \u001b[1;34m\"raise\"\u001b[0m\u001b[1;33m)\u001b[0m \u001b[1;33m->\u001b[0m \u001b[0mT\u001b[0m\u001b[1;33m:\u001b[0m\u001b[1;33m\u001b[0m\u001b[1;33m\u001b[0m\u001b[0m\n\u001b[1;32m--> 419\u001b[1;33m         \u001b[1;32mreturn\u001b[0m \u001b[0mself\u001b[0m\u001b[1;33m.\u001b[0m\u001b[0mapply\u001b[0m\u001b[1;33m(\u001b[0m\u001b[1;34m\"astype\"\u001b[0m\u001b[1;33m,\u001b[0m \u001b[0mdtype\u001b[0m\u001b[1;33m=\u001b[0m\u001b[0mdtype\u001b[0m\u001b[1;33m,\u001b[0m \u001b[0mcopy\u001b[0m\u001b[1;33m=\u001b[0m\u001b[0mcopy\u001b[0m\u001b[1;33m,\u001b[0m \u001b[0merrors\u001b[0m\u001b[1;33m=\u001b[0m\u001b[0merrors\u001b[0m\u001b[1;33m)\u001b[0m\u001b[1;33m\u001b[0m\u001b[1;33m\u001b[0m\u001b[0m\n\u001b[0m\u001b[0;32m    420\u001b[0m \u001b[1;33m\u001b[0m\u001b[0m\n\u001b[0;32m    421\u001b[0m     def convert(\n",
      "\u001b[1;32m~\\anaconda3\\lib\\site-packages\\pandas\\core\\internals\\managers.py\u001b[0m in \u001b[0;36mapply\u001b[1;34m(self, f, align_keys, ignore_failures, **kwargs)\u001b[0m\n\u001b[0;32m    302\u001b[0m                     \u001b[0mapplied\u001b[0m \u001b[1;33m=\u001b[0m \u001b[0mb\u001b[0m\u001b[1;33m.\u001b[0m\u001b[0mapply\u001b[0m\u001b[1;33m(\u001b[0m\u001b[0mf\u001b[0m\u001b[1;33m,\u001b[0m \u001b[1;33m**\u001b[0m\u001b[0mkwargs\u001b[0m\u001b[1;33m)\u001b[0m\u001b[1;33m\u001b[0m\u001b[1;33m\u001b[0m\u001b[0m\n\u001b[0;32m    303\u001b[0m                 \u001b[1;32melse\u001b[0m\u001b[1;33m:\u001b[0m\u001b[1;33m\u001b[0m\u001b[1;33m\u001b[0m\u001b[0m\n\u001b[1;32m--> 304\u001b[1;33m                     \u001b[0mapplied\u001b[0m \u001b[1;33m=\u001b[0m \u001b[0mgetattr\u001b[0m\u001b[1;33m(\u001b[0m\u001b[0mb\u001b[0m\u001b[1;33m,\u001b[0m \u001b[0mf\u001b[0m\u001b[1;33m)\u001b[0m\u001b[1;33m(\u001b[0m\u001b[1;33m**\u001b[0m\u001b[0mkwargs\u001b[0m\u001b[1;33m)\u001b[0m\u001b[1;33m\u001b[0m\u001b[1;33m\u001b[0m\u001b[0m\n\u001b[0m\u001b[0;32m    305\u001b[0m             \u001b[1;32mexcept\u001b[0m \u001b[1;33m(\u001b[0m\u001b[0mTypeError\u001b[0m\u001b[1;33m,\u001b[0m \u001b[0mNotImplementedError\u001b[0m\u001b[1;33m)\u001b[0m\u001b[1;33m:\u001b[0m\u001b[1;33m\u001b[0m\u001b[1;33m\u001b[0m\u001b[0m\n\u001b[0;32m    306\u001b[0m                 \u001b[1;32mif\u001b[0m \u001b[1;32mnot\u001b[0m \u001b[0mignore_failures\u001b[0m\u001b[1;33m:\u001b[0m\u001b[1;33m\u001b[0m\u001b[1;33m\u001b[0m\u001b[0m\n",
      "\u001b[1;32m~\\anaconda3\\lib\\site-packages\\pandas\\core\\internals\\blocks.py\u001b[0m in \u001b[0;36mastype\u001b[1;34m(self, dtype, copy, errors)\u001b[0m\n\u001b[0;32m    578\u001b[0m         \u001b[0mvalues\u001b[0m \u001b[1;33m=\u001b[0m \u001b[0mself\u001b[0m\u001b[1;33m.\u001b[0m\u001b[0mvalues\u001b[0m\u001b[1;33m\u001b[0m\u001b[1;33m\u001b[0m\u001b[0m\n\u001b[0;32m    579\u001b[0m \u001b[1;33m\u001b[0m\u001b[0m\n\u001b[1;32m--> 580\u001b[1;33m         \u001b[0mnew_values\u001b[0m \u001b[1;33m=\u001b[0m \u001b[0mastype_array_safe\u001b[0m\u001b[1;33m(\u001b[0m\u001b[0mvalues\u001b[0m\u001b[1;33m,\u001b[0m \u001b[0mdtype\u001b[0m\u001b[1;33m,\u001b[0m \u001b[0mcopy\u001b[0m\u001b[1;33m=\u001b[0m\u001b[0mcopy\u001b[0m\u001b[1;33m,\u001b[0m \u001b[0merrors\u001b[0m\u001b[1;33m=\u001b[0m\u001b[0merrors\u001b[0m\u001b[1;33m)\u001b[0m\u001b[1;33m\u001b[0m\u001b[1;33m\u001b[0m\u001b[0m\n\u001b[0m\u001b[0;32m    581\u001b[0m \u001b[1;33m\u001b[0m\u001b[0m\n\u001b[0;32m    582\u001b[0m         \u001b[0mnew_values\u001b[0m \u001b[1;33m=\u001b[0m \u001b[0mmaybe_coerce_values\u001b[0m\u001b[1;33m(\u001b[0m\u001b[0mnew_values\u001b[0m\u001b[1;33m)\u001b[0m\u001b[1;33m\u001b[0m\u001b[1;33m\u001b[0m\u001b[0m\n",
      "\u001b[1;32m~\\anaconda3\\lib\\site-packages\\pandas\\core\\dtypes\\cast.py\u001b[0m in \u001b[0;36mastype_array_safe\u001b[1;34m(values, dtype, copy, errors)\u001b[0m\n\u001b[0;32m   1290\u001b[0m \u001b[1;33m\u001b[0m\u001b[0m\n\u001b[0;32m   1291\u001b[0m     \u001b[1;32mtry\u001b[0m\u001b[1;33m:\u001b[0m\u001b[1;33m\u001b[0m\u001b[1;33m\u001b[0m\u001b[0m\n\u001b[1;32m-> 1292\u001b[1;33m         \u001b[0mnew_values\u001b[0m \u001b[1;33m=\u001b[0m \u001b[0mastype_array\u001b[0m\u001b[1;33m(\u001b[0m\u001b[0mvalues\u001b[0m\u001b[1;33m,\u001b[0m \u001b[0mdtype\u001b[0m\u001b[1;33m,\u001b[0m \u001b[0mcopy\u001b[0m\u001b[1;33m=\u001b[0m\u001b[0mcopy\u001b[0m\u001b[1;33m)\u001b[0m\u001b[1;33m\u001b[0m\u001b[1;33m\u001b[0m\u001b[0m\n\u001b[0m\u001b[0;32m   1293\u001b[0m     \u001b[1;32mexcept\u001b[0m \u001b[1;33m(\u001b[0m\u001b[0mValueError\u001b[0m\u001b[1;33m,\u001b[0m \u001b[0mTypeError\u001b[0m\u001b[1;33m)\u001b[0m\u001b[1;33m:\u001b[0m\u001b[1;33m\u001b[0m\u001b[1;33m\u001b[0m\u001b[0m\n\u001b[0;32m   1294\u001b[0m         \u001b[1;31m# e.g. astype_nansafe can fail on object-dtype of strings\u001b[0m\u001b[1;33m\u001b[0m\u001b[1;33m\u001b[0m\u001b[0m\n",
      "\u001b[1;32m~\\anaconda3\\lib\\site-packages\\pandas\\core\\dtypes\\cast.py\u001b[0m in \u001b[0;36mastype_array\u001b[1;34m(values, dtype, copy)\u001b[0m\n\u001b[0;32m   1235\u001b[0m \u001b[1;33m\u001b[0m\u001b[0m\n\u001b[0;32m   1236\u001b[0m     \u001b[1;32melse\u001b[0m\u001b[1;33m:\u001b[0m\u001b[1;33m\u001b[0m\u001b[1;33m\u001b[0m\u001b[0m\n\u001b[1;32m-> 1237\u001b[1;33m         \u001b[0mvalues\u001b[0m \u001b[1;33m=\u001b[0m \u001b[0mastype_nansafe\u001b[0m\u001b[1;33m(\u001b[0m\u001b[0mvalues\u001b[0m\u001b[1;33m,\u001b[0m \u001b[0mdtype\u001b[0m\u001b[1;33m,\u001b[0m \u001b[0mcopy\u001b[0m\u001b[1;33m=\u001b[0m\u001b[0mcopy\u001b[0m\u001b[1;33m)\u001b[0m\u001b[1;33m\u001b[0m\u001b[1;33m\u001b[0m\u001b[0m\n\u001b[0m\u001b[0;32m   1238\u001b[0m \u001b[1;33m\u001b[0m\u001b[0m\n\u001b[0;32m   1239\u001b[0m     \u001b[1;31m# in pandas we don't store numpy str dtypes, so convert to object\u001b[0m\u001b[1;33m\u001b[0m\u001b[1;33m\u001b[0m\u001b[0m\n",
      "\u001b[1;32m~\\anaconda3\\lib\\site-packages\\pandas\\core\\dtypes\\cast.py\u001b[0m in \u001b[0;36mastype_nansafe\u001b[1;34m(arr, dtype, copy, skipna)\u001b[0m\n\u001b[0;32m   1146\u001b[0m \u001b[1;33m\u001b[0m\u001b[0m\n\u001b[0;32m   1147\u001b[0m     \u001b[1;32melif\u001b[0m \u001b[0mnp\u001b[0m\u001b[1;33m.\u001b[0m\u001b[0missubdtype\u001b[0m\u001b[1;33m(\u001b[0m\u001b[0marr\u001b[0m\u001b[1;33m.\u001b[0m\u001b[0mdtype\u001b[0m\u001b[1;33m,\u001b[0m \u001b[0mnp\u001b[0m\u001b[1;33m.\u001b[0m\u001b[0mfloating\u001b[0m\u001b[1;33m)\u001b[0m \u001b[1;32mand\u001b[0m \u001b[0mnp\u001b[0m\u001b[1;33m.\u001b[0m\u001b[0missubdtype\u001b[0m\u001b[1;33m(\u001b[0m\u001b[0mdtype\u001b[0m\u001b[1;33m,\u001b[0m \u001b[0mnp\u001b[0m\u001b[1;33m.\u001b[0m\u001b[0minteger\u001b[0m\u001b[1;33m)\u001b[0m\u001b[1;33m:\u001b[0m\u001b[1;33m\u001b[0m\u001b[1;33m\u001b[0m\u001b[0m\n\u001b[1;32m-> 1148\u001b[1;33m         \u001b[1;32mreturn\u001b[0m \u001b[0mastype_float_to_int_nansafe\u001b[0m\u001b[1;33m(\u001b[0m\u001b[0marr\u001b[0m\u001b[1;33m,\u001b[0m \u001b[0mdtype\u001b[0m\u001b[1;33m,\u001b[0m \u001b[0mcopy\u001b[0m\u001b[1;33m)\u001b[0m\u001b[1;33m\u001b[0m\u001b[1;33m\u001b[0m\u001b[0m\n\u001b[0m\u001b[0;32m   1149\u001b[0m \u001b[1;33m\u001b[0m\u001b[0m\n\u001b[0;32m   1150\u001b[0m     \u001b[1;32melif\u001b[0m \u001b[0mis_object_dtype\u001b[0m\u001b[1;33m(\u001b[0m\u001b[0marr\u001b[0m\u001b[1;33m.\u001b[0m\u001b[0mdtype\u001b[0m\u001b[1;33m)\u001b[0m\u001b[1;33m:\u001b[0m\u001b[1;33m\u001b[0m\u001b[1;33m\u001b[0m\u001b[0m\n",
      "\u001b[1;32m~\\anaconda3\\lib\\site-packages\\pandas\\core\\dtypes\\cast.py\u001b[0m in \u001b[0;36mastype_float_to_int_nansafe\u001b[1;34m(values, dtype, copy)\u001b[0m\n\u001b[0;32m   1191\u001b[0m     \"\"\"\n\u001b[0;32m   1192\u001b[0m     \u001b[1;32mif\u001b[0m \u001b[1;32mnot\u001b[0m \u001b[0mnp\u001b[0m\u001b[1;33m.\u001b[0m\u001b[0misfinite\u001b[0m\u001b[1;33m(\u001b[0m\u001b[0mvalues\u001b[0m\u001b[1;33m)\u001b[0m\u001b[1;33m.\u001b[0m\u001b[0mall\u001b[0m\u001b[1;33m(\u001b[0m\u001b[1;33m)\u001b[0m\u001b[1;33m:\u001b[0m\u001b[1;33m\u001b[0m\u001b[1;33m\u001b[0m\u001b[0m\n\u001b[1;32m-> 1193\u001b[1;33m         raise IntCastingNaNError(\n\u001b[0m\u001b[0;32m   1194\u001b[0m             \u001b[1;34m\"Cannot convert non-finite values (NA or inf) to integer\"\u001b[0m\u001b[1;33m\u001b[0m\u001b[1;33m\u001b[0m\u001b[0m\n\u001b[0;32m   1195\u001b[0m         )\n",
      "\u001b[1;31mIntCastingNaNError\u001b[0m: Cannot convert non-finite values (NA or inf) to integer"
     ]
    }
   ],
   "source": [
    "# Separate the features from the target variable\n",
    "X = df.drop('Status', axis=1)\n",
    "y = df['Status'].astype('int')"
   ]
  },
  {
   "cell_type": "markdown",
   "id": "904dad4e",
   "metadata": {
    "papermill": {
     "duration": 0.027312,
     "end_time": "2023-12-22T10:11:40.264443",
     "exception": false,
     "start_time": "2023-12-22T10:11:40.237131",
     "status": "completed"
    },
    "tags": []
   },
   "source": [
    "<a id=\"6\"></a>\n",
    "## Spliting The Dataset to Train and Test"
   ]
  },
  {
   "cell_type": "code",
   "execution_count": null,
   "id": "da4196ca",
   "metadata": {
    "papermill": {
     "duration": 0.042021,
     "end_time": "2023-12-22T10:11:40.334412",
     "exception": false,
     "start_time": "2023-12-22T10:11:40.292391",
     "status": "completed"
    },
    "tags": []
   },
   "outputs": [],
   "source": [
    "# Split the data into training and testing sets\n",
    "X_train, X_test, y_train, y_test = train_test_split(X, y, test_size=0.2, random_state=42)"
   ]
  },
  {
   "cell_type": "markdown",
   "id": "eb71e263",
   "metadata": {
    "papermill": {
     "duration": 0.027753,
     "end_time": "2023-12-22T10:11:40.390060",
     "exception": false,
     "start_time": "2023-12-22T10:11:40.362307",
     "status": "completed"
    },
    "tags": []
   },
   "source": [
    "<a id=\"7\"></a>\n",
    "# <b>4 <span style='color:#94D4F6'>|</span> Modeling</b>"
   ]
  },
  {
   "cell_type": "code",
   "execution_count": null,
   "id": "80ba5852",
   "metadata": {
    "papermill": {
     "duration": 0.038573,
     "end_time": "2023-12-22T10:11:40.456898",
     "exception": false,
     "start_time": "2023-12-22T10:11:40.418325",
     "status": "completed"
    },
    "tags": []
   },
   "outputs": [],
   "source": [
    "init_models = {\n",
    "    # 'support vector kernel' : SVR(kernel= 'rbf'),\n",
    "    # 'XGBOOST':XGBRegressor(),\n",
    "    # 'Decision Tree' : DecisionTreeRegressor(),\n",
    "    # 'Random Forest' : RandomForestRegressor(),\n",
    "    # 'LGBM' : LGBMRegressor(),\n",
    "    'lgbmC' : LGBMClassifier(),\n",
    "    'xgb' : XGBClassifier(),\n",
    "}"
   ]
  },
  {
   "cell_type": "code",
   "execution_count": null,
   "id": "1d357499",
   "metadata": {
    "papermill": {
     "duration": 49.701043,
     "end_time": "2023-12-22T10:12:30.186141",
     "exception": false,
     "start_time": "2023-12-22T10:11:40.485098",
     "status": "completed"
    },
    "tags": []
   },
   "outputs": [],
   "source": [
    "R2 = []\n",
    "models_names = []\n",
    "for i,(key,model) in enumerate(init_models.items()):\n",
    "    model.fit(X_train,y_train)\n",
    "    models_names.append(key)\n",
    "    R2.append(np.mean(cross_val_score(model,X_train,y_train,cv=5)))\n",
    "models_scores = pd.DataFrame({'model name':models_names,'R2 score':R2})\n",
    "models_scores.head(6)"
   ]
  },
  {
   "cell_type": "code",
   "execution_count": null,
   "id": "9d48f2aa",
   "metadata": {
    "papermill": {
     "duration": 0.335811,
     "end_time": "2023-12-22T10:12:30.549902",
     "exception": false,
     "start_time": "2023-12-22T10:12:30.214091",
     "status": "completed"
    },
    "tags": []
   },
   "outputs": [],
   "source": [
    "fig, ax = plt.subplots()\n",
    "ax.set_xticklabels(ax.get_xticklabels(), rotation=70)\n",
    "ax.set_title(\"models R2 score\")\n",
    "sns.barplot(data=models_scores, x='model name', y=\"R2 score\")\n",
    "plt.show()"
   ]
  },
  {
   "cell_type": "code",
   "execution_count": null,
   "id": "4a9a7243",
   "metadata": {
    "papermill": {
     "duration": 1.928729,
     "end_time": "2023-12-22T10:12:32.507581",
     "exception": false,
     "start_time": "2023-12-22T10:12:30.578852",
     "status": "completed"
    },
    "tags": []
   },
   "outputs": [],
   "source": [
    "XGBMC = XGBClassifier()\n",
    "XGBMC.fit(X_train, y_train)"
   ]
  },
  {
   "cell_type": "code",
   "execution_count": null,
   "id": "4faa5718",
   "metadata": {
    "papermill": {
     "duration": 0.052943,
     "end_time": "2023-12-22T10:12:32.589538",
     "exception": false,
     "start_time": "2023-12-22T10:12:32.536595",
     "status": "completed"
    },
    "tags": []
   },
   "outputs": [],
   "source": [
    "# Make predictions on the test data\n",
    "y_pred = XGBMC.predict(X_test)"
   ]
  },
  {
   "cell_type": "code",
   "execution_count": null,
   "id": "d96ad9a3",
   "metadata": {
    "papermill": {
     "duration": 0.039099,
     "end_time": "2023-12-22T10:12:32.657394",
     "exception": false,
     "start_time": "2023-12-22T10:12:32.618295",
     "status": "completed"
    },
    "tags": []
   },
   "outputs": [],
   "source": [
    "# Calculate the accuracy of the model\n",
    "accuracy = accuracy_score(y_test, y_pred)\n",
    "print(\"Accuracy:\", accuracy)"
   ]
  },
  {
   "cell_type": "markdown",
   "id": "1dc0d44c",
   "metadata": {
    "papermill": {
     "duration": 0.028748,
     "end_time": "2023-12-22T10:12:32.715089",
     "exception": false,
     "start_time": "2023-12-22T10:12:32.686341",
     "status": "completed"
    },
    "tags": []
   },
   "source": [
    "<a id=\"8\"></a>\n",
    "# <b>5 <span style='color:#94D4F6'>|</span> Evaluation</b>"
   ]
  },
  {
   "cell_type": "code",
   "execution_count": null,
   "id": "3016ff05",
   "metadata": {
    "papermill": {
     "duration": 0.044318,
     "end_time": "2023-12-22T10:12:32.788334",
     "exception": false,
     "start_time": "2023-12-22T10:12:32.744016",
     "status": "completed"
    },
    "tags": []
   },
   "outputs": [],
   "source": [
    "# Calculate confusion matrix\n",
    "cm = confusion_matrix(y_test, y_pred)\n",
    "cm"
   ]
  },
  {
   "cell_type": "code",
   "execution_count": null,
   "id": "2ccf8586",
   "metadata": {
    "papermill": {
     "duration": 0.044693,
     "end_time": "2023-12-22T10:12:32.863892",
     "exception": false,
     "start_time": "2023-12-22T10:12:32.819199",
     "status": "completed"
    },
    "tags": []
   },
   "outputs": [],
   "source": [
    "def plot_confusion_matrix(confusion_matrix, classes):\n",
    "\n",
    "    plt.imshow(confusion_matrix, interpolation='nearest', cmap=plt.cm.Blues)\n",
    "    plt.title('Confusion Matrix')\n",
    "    plt.colorbar()\n",
    "\n",
    "    tick_marks = np.arange(len(classes))\n",
    "    plt.xticks(tick_marks, classes, rotation=45)\n",
    "    plt.yticks(tick_marks, classes)\n",
    "\n",
    "    fmt = 'd'\n",
    "    thresh = confusion_matrix.max() / 2.\n",
    "    for i in range(confusion_matrix.shape[0]):\n",
    "        for j in range(confusion_matrix.shape[1]):\n",
    "            plt.text(j, i, format(confusion_matrix[i, j], fmt),\n",
    "                     ha=\"center\", va=\"center\",\n",
    "                     color=\"white\" if confusion_matrix[i, j] > thresh else \"black\")\n",
    "\n",
    "    plt.ylabel('True label')\n",
    "    plt.xlabel('Predicted label')\n",
    "    plt.tight_layout()\n",
    "\n",
    "    # Show the plot\n",
    "    plt.show()"
   ]
  },
  {
   "cell_type": "code",
   "execution_count": 71,
   "id": "d7389a5e",
   "metadata": {
    "papermill": {
     "duration": 0.477567,
     "end_time": "2023-12-22T10:12:33.370981",
     "exception": false,
     "start_time": "2023-12-22T10:12:32.893414",
     "status": "completed"
    },
    "tags": []
   },
   "outputs": [
    {
     "data": {
      "image/png": "[encoded data removed]",
      "text/plain": [
       "<Figure size 800x600 with 2 Axes>"
      ]
     },
     "metadata": {},
     "output_type": "display_data"
    }
   ],
   "source": [
    "# Plot the confusion matrix\n",
    "plt.figure(figsize=(8, 6))\n",
    "plot_confusion_matrix(cm, classes=['C','CL','D'])\n",
    "plt.show()"
   ]
  },
  {
   "cell_type": "markdown",
   "id": "c9c2afe9",
   "metadata": {
    "papermill": {
     "duration": 0.029734,
     "end_time": "2023-12-22T10:12:33.431020",
     "exception": false,
     "start_time": "2023-12-22T10:12:33.401286",
     "status": "completed"
    },
    "tags": []
   },
   "source": [
    "<a id=\"9\"></a>\n",
    "# <b>6 <span style='color:#94D4F6'>|</span> Prediction</b>"
   ]
  },
  {
   "cell_type": "code",
   "execution_count": 72,
   "id": "3f5d159b",
   "metadata": {
    "papermill": {
     "duration": 1.9467,
     "end_time": "2023-12-22T10:12:35.408089",
     "exception": false,
     "start_time": "2023-12-22T10:12:33.461389",
     "status": "completed"
    },
    "tags": []
   },
   "outputs": [
    {
     "data": {
      "text/html": [
       "<style>#sk-container-id-6 {color: black;}#sk-container-id-6 pre{padding: 0;}#sk-container-id-6 div.sk-toggleable {background-color: white;}#sk-container-id-6 label.sk-toggleable__label {cursor: pointer;display: block;width: 100%;margin-bottom: 0;padding: 0.3em;box-sizing: border-box;text-align: center;}#sk-container-id-6 label.sk-toggleable__label-arrow:before {content: \"▸\";float: left;margin-right: 0.25em;color: #696969;}#sk-container-id-6 label.sk-toggleable__label-arrow:hover:before {color: black;}#sk-container-id-6 div.sk-estimator:hover label.sk-toggleable__label-arrow:before {color: black;}#sk-container-id-6 div.sk-toggleable__content {max-height: 0;max-width: 0;overflow: hidden;text-align: left;background-color: #f0f8ff;}#sk-container-id-6 div.sk-toggleable__content pre {margin: 0.2em;color: black;border-radius: 0.25em;background-color: #f0f8ff;}#sk-container-id-6 input.sk-toggleable__control:checked~div.sk-toggleable__content {max-height: 200px;max-width: 100%;overflow: auto;}#sk-container-id-6 input.sk-toggleable__control:checked~label.sk-toggleable__label-arrow:before {content: \"▾\";}#sk-container-id-6 div.sk-estimator input.sk-toggleable__control:checked~label.sk-toggleable__label {background-color: #d4ebff;}#sk-container-id-6 div.sk-label input.sk-toggleable__control:checked~label.sk-toggleable__label {background-color: #d4ebff;}#sk-container-id-6 input.sk-hidden--visually {border: 0;clip: rect(1px 1px 1px 1px);clip: rect(1px, 1px, 1px, 1px);height: 1px;margin: -1px;overflow: hidden;padding: 0;position: absolute;width: 1px;}#sk-container-id-6 div.sk-estimator {font-family: monospace;background-color: #f0f8ff;border: 1px dotted black;border-radius: 0.25em;box-sizing: border-box;margin-bottom: 0.5em;}#sk-container-id-6 div.sk-estimator:hover {background-color: #d4ebff;}#sk-container-id-6 div.sk-parallel-item::after {content: \"\";width: 100%;border-bottom: 1px solid gray;flex-grow: 1;}#sk-container-id-6 div.sk-label:hover label.sk-toggleable__label {background-color: #d4ebff;}#sk-container-id-6 div.sk-serial::before {content: \"\";position: absolute;border-left: 1px solid gray;box-sizing: border-box;top: 0;bottom: 0;left: 50%;z-index: 0;}#sk-container-id-6 div.sk-serial {display: flex;flex-direction: column;align-items: center;background-color: white;padding-right: 0.2em;padding-left: 0.2em;position: relative;}#sk-container-id-6 div.sk-item {position: relative;z-index: 1;}#sk-container-id-6 div.sk-parallel {display: flex;align-items: stretch;justify-content: center;background-color: white;position: relative;}#sk-container-id-6 div.sk-item::before, #sk-container-id-6 div.sk-parallel-item::before {content: \"\";position: absolute;border-left: 1px solid gray;box-sizing: border-box;top: 0;bottom: 0;left: 50%;z-index: -1;}#sk-container-id-6 div.sk-parallel-item {display: flex;flex-direction: column;z-index: 1;position: relative;background-color: white;}#sk-container-id-6 div.sk-parallel-item:first-child::after {align-self: flex-end;width: 50%;}#sk-container-id-6 div.sk-parallel-item:last-child::after {align-self: flex-start;width: 50%;}#sk-container-id-6 div.sk-parallel-item:only-child::after {width: 0;}#sk-container-id-6 div.sk-dashed-wrapped {border: 1px dashed gray;margin: 0 0.4em 0.5em 0.4em;box-sizing: border-box;padding-bottom: 0.4em;background-color: white;}#sk-container-id-6 div.sk-label label {font-family: monospace;font-weight: bold;display: inline-block;line-height: 1.2em;}#sk-container-id-6 div.sk-label-container {text-align: center;}#sk-container-id-6 div.sk-container {/* jupyter's `normalize.less` sets `[hidden] { display: none; }` but bootstrap.min.css set `[hidden] { display: none !important; }` so we also need the `!important` here to be able to override the default hidden behavior on the sphinx rendered scikit-learn.org. See: https://github.com/scikit-learn/scikit-learn/issues/21755 */display: inline-block !important;position: relative;}#sk-container-id-6 div.sk-text-repr-fallback {display: none;}</style><div id=\"sk-container-id-6\" class=\"sk-top-container\"><div class=\"sk-text-repr-fallback\"><pre>LGBMClassifier()</pre><b>In a Jupyter environment, please rerun this cell to show the HTML representation or trust the notebook. <br />On GitHub, the HTML representation is unable to render, please try loading this page with nbviewer.org.</b></div><div class=\"sk-container\" hidden><div class=\"sk-item\"><div class=\"sk-estimator sk-toggleable\"><input class=\"sk-toggleable__control sk-hidden--visually\" id=\"sk-estimator-id-6\" type=\"checkbox\" checked><label for=\"sk-estimator-id-6\" class=\"sk-toggleable__label sk-toggleable__label-arrow\">LGBMClassifier</label><div class=\"sk-toggleable__content\"><pre>LGBMClassifier()</pre></div></div></div></div></div>"
      ],
      "text/plain": [
       "LGBMClassifier()"
      ]
     },
     "execution_count": 72,
     "metadata": {},
     "output_type": "execute_result"
    }
   ],
   "source": [
    "lgbmC.fit(X,y)"
   ]
  },
  {
   "cell_type": "markdown",
   "id": "c33d3c08",
   "metadata": {
    "papermill": {
     "duration": 0.030322,
     "end_time": "2023-12-22T10:12:35.468711",
     "exception": false,
     "start_time": "2023-12-22T10:12:35.438389",
     "status": "completed"
    },
    "tags": []
   },
   "source": [
    "Here, I utilized the complete dataset to train my final model."
   ]
  },
  {
   "cell_type": "code",
   "execution_count": 73,
   "id": "0bd9ccc4",
   "metadata": {
    "papermill": {
     "duration": 0.085134,
     "end_time": "2023-12-22T10:12:35.584126",
     "exception": false,
     "start_time": "2023-12-22T10:12:35.498992",
     "status": "completed"
    },
    "tags": []
   },
   "outputs": [],
   "source": [
    "id = testCopy['id']\n",
    "predict = lgbmC.predict_proba(test)"
   ]
  },
  {
   "cell_type": "code",
   "execution_count": 74,
   "id": "f21443aa",
   "metadata": {
    "papermill": {
     "duration": 0.042423,
     "end_time": "2023-12-22T10:12:35.656834",
     "exception": false,
     "start_time": "2023-12-22T10:12:35.614411",
     "status": "completed"
    },
    "tags": []
   },
   "outputs": [
    {
     "data": {
      "text/plain": [
       "array([[5.20614403e-01, 3.68268305e-02, 4.42558766e-01],\n",
       "       [7.38447130e-01, 6.86452874e-02, 1.92907583e-01],\n",
       "       [2.12445580e-02, 1.59482110e-03, 9.77160621e-01],\n",
       "       ...,\n",
       "       [8.99730054e-01, 3.19669454e-03, 9.70732513e-02],\n",
       "       [9.92805993e-01, 8.38141907e-04, 6.35586542e-03],\n",
       "       [1.81953994e-01, 4.74052994e-03, 8.13305476e-01]])"
      ]
     },
     "execution_count": 74,
     "metadata": {},
     "output_type": "execute_result"
    }
   ],
   "source": [
    "predict"
   ]
  },
  {
   "cell_type": "code",
   "execution_count": 75,
   "id": "5151c77d",
   "metadata": {
    "papermill": {
     "duration": 0.049019,
     "end_time": "2023-12-22T10:12:35.735836",
     "exception": false,
     "start_time": "2023-12-22T10:12:35.686817",
     "status": "completed"
    },
    "tags": []
   },
   "outputs": [
    {
     "data": {
      "text/html": [
       "<div>\n",
       "<style scoped>\n",
       "    .dataframe tbody tr th:only-of-type {\n",
       "        vertical-align: middle;\n",
       "    }\n",
       "\n",
       "    .dataframe tbody tr th {\n",
       "        vertical-align: top;\n",
       "    }\n",
       "\n",
       "    .dataframe thead th {\n",
       "        text-align: right;\n",
       "    }\n",
       "</style>\n",
       "<table border=\"1\" class=\"dataframe\">\n",
       "  <thead>\n",
       "    <tr style=\"text-align: right;\">\n",
       "      <th></th>\n",
       "      <th>id</th>\n",
       "      <th>Status_C</th>\n",
       "      <th>Status_CL</th>\n",
       "      <th>Status_D</th>\n",
       "    </tr>\n",
       "  </thead>\n",
       "  <tbody>\n",
       "    <tr>\n",
       "      <th>0</th>\n",
       "      <td>7905</td>\n",
       "      <td>0.520614</td>\n",
       "      <td>0.036827</td>\n",
       "      <td>0.442559</td>\n",
       "    </tr>\n",
       "    <tr>\n",
       "      <th>1</th>\n",
       "      <td>7906</td>\n",
       "      <td>0.738447</td>\n",
       "      <td>0.068645</td>\n",
       "      <td>0.192908</td>\n",
       "    </tr>\n",
       "    <tr>\n",
       "      <th>2</th>\n",
       "      <td>7907</td>\n",
       "      <td>0.021245</td>\n",
       "      <td>0.001595</td>\n",
       "      <td>0.977161</td>\n",
       "    </tr>\n",
       "    <tr>\n",
       "      <th>3</th>\n",
       "      <td>7908</td>\n",
       "      <td>0.976221</td>\n",
       "      <td>0.002083</td>\n",
       "      <td>0.021696</td>\n",
       "    </tr>\n",
       "    <tr>\n",
       "      <th>4</th>\n",
       "      <td>7909</td>\n",
       "      <td>0.833789</td>\n",
       "      <td>0.024339</td>\n",
       "      <td>0.141872</td>\n",
       "    </tr>\n",
       "  </tbody>\n",
       "</table>\n",
       "</div>"
      ],
      "text/plain": [
       "     id  Status_C  Status_CL  Status_D\n",
       "0  7905  0.520614   0.036827  0.442559\n",
       "1  7906  0.738447   0.068645  0.192908\n",
       "2  7907  0.021245   0.001595  0.977161\n",
       "3  7908  0.976221   0.002083  0.021696\n",
       "4  7909  0.833789   0.024339  0.141872"
      ]
     },
     "execution_count": 75,
     "metadata": {},
     "output_type": "execute_result"
    }
   ],
   "source": [
    "sample_submission.head()"
   ]
  },
  {
   "cell_type": "code",
   "execution_count": 76,
   "id": "893a703c",
   "metadata": {
    "papermill": {
     "duration": 0.049519,
     "end_time": "2023-12-22T10:12:35.816087",
     "exception": false,
     "start_time": "2023-12-22T10:12:35.766568",
     "status": "completed"
    },
    "tags": []
   },
   "outputs": [
    {
     "data": {
      "text/html": [
       "<div>\n",
       "<style scoped>\n",
       "    .dataframe tbody tr th:only-of-type {\n",
       "        vertical-align: middle;\n",
       "    }\n",
       "\n",
       "    .dataframe tbody tr th {\n",
       "        vertical-align: top;\n",
       "    }\n",
       "\n",
       "    .dataframe thead th {\n",
       "        text-align: right;\n",
       "    }\n",
       "</style>\n",
       "<table border=\"1\" class=\"dataframe\">\n",
       "  <thead>\n",
       "    <tr style=\"text-align: right;\">\n",
       "      <th></th>\n",
       "      <th>id</th>\n",
       "      <th>Status_C</th>\n",
       "      <th>Status_CL</th>\n",
       "      <th>Status_D</th>\n",
       "    </tr>\n",
       "  </thead>\n",
       "  <tbody>\n",
       "    <tr>\n",
       "      <th>0</th>\n",
       "      <td>7905</td>\n",
       "      <td>0.520614</td>\n",
       "      <td>0.036827</td>\n",
       "      <td>0.442559</td>\n",
       "    </tr>\n",
       "    <tr>\n",
       "      <th>1</th>\n",
       "      <td>7906</td>\n",
       "      <td>0.738447</td>\n",
       "      <td>0.068645</td>\n",
       "      <td>0.192908</td>\n",
       "    </tr>\n",
       "    <tr>\n",
       "      <th>2</th>\n",
       "      <td>7907</td>\n",
       "      <td>0.021245</td>\n",
       "      <td>0.001595</td>\n",
       "      <td>0.977161</td>\n",
       "    </tr>\n",
       "    <tr>\n",
       "      <th>3</th>\n",
       "      <td>7908</td>\n",
       "      <td>0.976221</td>\n",
       "      <td>0.002083</td>\n",
       "      <td>0.021696</td>\n",
       "    </tr>\n",
       "    <tr>\n",
       "      <th>4</th>\n",
       "      <td>7909</td>\n",
       "      <td>0.833789</td>\n",
       "      <td>0.024339</td>\n",
       "      <td>0.141872</td>\n",
       "    </tr>\n",
       "  </tbody>\n",
       "</table>\n",
       "</div>"
      ],
      "text/plain": [
       "     id  Status_C  Status_CL  Status_D\n",
       "0  7905  0.520614   0.036827  0.442559\n",
       "1  7906  0.738447   0.068645  0.192908\n",
       "2  7907  0.021245   0.001595  0.977161\n",
       "3  7908  0.976221   0.002083  0.021696\n",
       "4  7909  0.833789   0.024339  0.141872"
      ]
     },
     "execution_count": 76,
     "metadata": {},
     "output_type": "execute_result"
    }
   ],
   "source": [
    "sample_submission.Status_C = predict[:, 0]\n",
    "sample_submission.Status_CL = predict[:, 1]\n",
    "sample_submission.Status_D = predict[:, 2]\n",
    "sample_submission.head()"
   ]
  },
  {
   "cell_type": "code",
   "execution_count": 77,
   "id": "d7d8eefe",
   "metadata": {
    "papermill": {
     "duration": 0.091323,
     "end_time": "2023-12-22T10:12:35.938191",
     "exception": false,
     "start_time": "2023-12-22T10:12:35.846868",
     "status": "completed"
    },
    "tags": []
   },
   "outputs": [],
   "source": [
    "# write to a file\n",
    "sample_submission.to_csv('./submission.csv', index=False)"
   ]
  },
  {
   "cell_type": "markdown",
   "id": "aeb3449b",
   "metadata": {
    "papermill": {
     "duration": 0.030631,
     "end_time": "2023-12-22T10:12:35.999835",
     "exception": false,
     "start_time": "2023-12-22T10:12:35.969204",
     "status": "completed"
    },
    "tags": []
   },
   "source": [
    "<center>\n",
    "<span style=\"font-family:Comic Sans MS; color:red\"><h2>Thank You😊</h2></span>\n",
    "</center>"
   ]
  }
 ],
 "metadata": {
  "kaggle": {
   "accelerator": "none",
   "dataSources": [
    {
     "databundleVersionId": 7000181,
     "sourceId": 60893,
     "sourceType": "competition"
    },
    {
     "datasetId": 1508604,
     "sourceId": 2492225,
     "sourceType": "datasetVersion"
    }
   ],
   "dockerImageVersionId": 30626,
   "isGpuEnabled": false,
   "isInternetEnabled": true,
   "language": "python",
   "sourceType": "notebook"
  },
  "kernelspec": {
   "display_name": "Python 3 (ipykernel)",
   "language": "python",
   "name": "python3"
  },
  "language_info": {
   "codemirror_mode": {
    "name": "ipython",
    "version": 3
   },
   "file_extension": ".py",
   "mimetype": "text/x-python",
   "name": "python",
   "nbconvert_exporter": "python",
   "pygments_lexer": "ipython3",
   "version": "3.9.13"
  },
  "papermill": {
   "default_parameters": {},
   "duration": 72.401505,
   "end_time": "2023-12-22T10:12:36.954554",
   "environment_variables": {},
   "exception": null,
   "input_path": "__notebook__.ipynb",
   "output_path": "__notebook__.ipynb",
   "parameters": {},
   "start_time": "2023-12-22T10:11:24.553049",
   "version": "2.4.0"
  }
 },
 "nbformat": 4,
 "nbformat_minor": 5
}
