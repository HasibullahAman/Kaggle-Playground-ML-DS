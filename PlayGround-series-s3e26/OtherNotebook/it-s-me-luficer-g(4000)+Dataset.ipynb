{
 "cells": [
  {
   "cell_type": "markdown",
   "id": "3c35b3fa",
   "metadata": {
    "papermill": {
     "duration": 0.006754,
     "end_time": "2023-12-26T06:36:11.036202",
     "exception": false,
     "start_time": "2023-12-26T06:36:11.029448",
     "status": "completed"
    },
    "tags": []
   },
   "source": [
    "# 📋Table of Contents\n",
    "* INtroduction\n",
    "* 📚 Import Libraries\n",
    "* 📖 Read Dataset\n",
    "* 😅😅Missing Values\n",
    "* 🖇🖇📭Data Pipeline\n",
    "* ⚙️Finding and Training Models With Best Hyperparameters\n",
    "* 👀👁FInal MOdel WIth VOting\n",
    "* 📊Generate Predictions and Create Submission File"
   ]
  },
  {
   "cell_type": "markdown",
   "id": "2073f35f",
   "metadata": {
    "papermill": {
     "duration": 0.00601,
     "end_time": "2023-12-26T06:36:11.048540",
     "exception": false,
     "start_time": "2023-12-26T06:36:11.042530",
     "status": "completed"
    },
    "tags": []
   },
   "source": [
    "# INtroduction"
   ]
  },
  {
   "cell_type": "markdown",
   "id": "cef2e3a3",
   "metadata": {
    "papermill": {
     "duration": 0.005891,
     "end_time": "2023-12-26T06:36:11.060661",
     "exception": false,
     "start_time": "2023-12-26T06:36:11.054770",
     "status": "completed"
    },
    "tags": []
   },
   "source": [
    "**Hi , you clicked this notebook, so without any wasting time, let's get started, but some context, this is multiclass prediction model, which has predict the probabilities of the classes of the columns, and submit them into csv file. Hope you will play with it , plz don't forget mention this notebook , if you 're building the model on the top of this notebook**"
   ]
  },
  {
   "cell_type": "markdown",
   "id": "651dc7e3",
   "metadata": {
    "papermill": {
     "duration": 0.00588,
     "end_time": "2023-12-26T06:36:11.072794",
     "exception": false,
     "start_time": "2023-12-26T06:36:11.066914",
     "status": "completed"
    },
    "tags": []
   },
   "source": [
    "# 📚Import Libraries "
   ]
  },
  {
   "cell_type": "code",
   "execution_count": 1,
   "id": "6249a69e",
   "metadata": {
    "_cell_guid": "b1076dfc-b9ad-4769-8c92-a6c4dae69d19",
    "_uuid": "8f2839f25d086af736a60e9eeb907d3b93b6e0e5",
    "execution": {
     "iopub.execute_input": "2023-12-26T06:36:11.087755Z",
     "iopub.status.busy": "2023-12-26T06:36:11.087000Z",
     "iopub.status.idle": "2023-12-26T06:36:16.729649Z",
     "shell.execute_reply": "2023-12-26T06:36:16.728485Z"
    },
    "papermill": {
     "duration": 5.65368,
     "end_time": "2023-12-26T06:36:16.732654",
     "exception": false,
     "start_time": "2023-12-26T06:36:11.078974",
     "status": "completed"
    },
    "tags": []
   },
   "outputs": [],
   "source": [
    "import numpy as np # linear algebra\n",
    "import pandas as pd # data processing, CSV file I/O (e.g. pd.read_csv)\n",
    "import warnings\n",
    "import optuna\n",
    "import seaborn as sns\n",
    "import matplotlib.pyplot as plt\n",
    "from sklearn.pipeline import Pipeline\n",
    "from sklearn.impute import SimpleImputer\n",
    "from sklearn.preprocessing import StandardScaler, OneHotEncoder\n",
    "from sklearn.compose import ColumnTransformer\n",
    "from sklearn.ensemble import RandomForestClassifier\n",
    "from sklearn.model_selection import train_test_split\n",
    "from sklearn.ensemble import GradientBoostingClassifier\n",
    "from lightgbm import LGBMClassifier\n",
    "from catboost import CatBoostClassifier\n",
    "from xgboost import XGBClassifier\n",
    "from sklearn.model_selection import train_test_split\n",
    "from sklearn.metrics import confusion_matrix\n",
    "from sklearn.preprocessing import LabelEncoder\n",
    "from sklearn.metrics import log_loss, make_scorer\n",
    "from sklearn.ensemble import VotingClassifier\n",
    "\n",
    "\n",
    "warnings.filterwarnings(\"ignore\")\n"
   ]
  },
  {
   "cell_type": "markdown",
   "id": "5402e8a5",
   "metadata": {
    "papermill": {
     "duration": 0.007594,
     "end_time": "2023-12-26T06:36:16.747770",
     "exception": false,
     "start_time": "2023-12-26T06:36:16.740176",
     "status": "completed"
    },
    "tags": []
   },
   "source": [
    "# 📖Read Dataset"
   ]
  },
  {
   "cell_type": "code",
   "execution_count": 2,
   "id": "ab7dce18",
   "metadata": {
    "execution": {
     "iopub.execute_input": "2023-12-26T06:36:16.762856Z",
     "iopub.status.busy": "2023-12-26T06:36:16.762102Z",
     "iopub.status.idle": "2023-12-26T06:36:16.844755Z",
     "shell.execute_reply": "2023-12-26T06:36:16.843405Z"
    },
    "papermill": {
     "duration": 0.093371,
     "end_time": "2023-12-26T06:36:16.847537",
     "exception": false,
     "start_time": "2023-12-26T06:36:16.754166",
     "status": "completed"
    },
    "tags": []
   },
   "outputs": [],
   "source": [
    "train = pd.read_csv('/kaggle/input/playground-series-s3e26/train.csv')\n",
    "main = pd.read_csv('/kaggle/input/cirrhosis-patient-survival-prediction/cirrhosis.csv')\n",
    "test = pd.read_csv('/kaggle/input/playground-series-s3e26/test.csv')"
   ]
  },
  {
   "cell_type": "code",
   "execution_count": 3,
   "id": "6b005cb8",
   "metadata": {
    "execution": {
     "iopub.execute_input": "2023-12-26T06:36:16.862327Z",
     "iopub.status.busy": "2023-12-26T06:36:16.861618Z",
     "iopub.status.idle": "2023-12-26T06:36:16.886238Z",
     "shell.execute_reply": "2023-12-26T06:36:16.885068Z"
    },
    "papermill": {
     "duration": 0.035489,
     "end_time": "2023-12-26T06:36:16.889530",
     "exception": false,
     "start_time": "2023-12-26T06:36:16.854041",
     "status": "completed"
    },
    "tags": []
   },
   "outputs": [
    {
     "name": "stdout",
     "output_type": "stream",
     "text": [
      "(418, 20) (7905, 20)\n"
     ]
    }
   ],
   "source": [
    "main.rename(columns ={'ID':'id'}, inplace = True)\n",
    "print(main.shape, train.shape)\n",
    "train = pd.concat([train, main], axis = 0)"
   ]
  },
  {
   "cell_type": "code",
   "execution_count": 4,
   "id": "84247a03",
   "metadata": {
    "execution": {
     "iopub.execute_input": "2023-12-26T06:36:16.904681Z",
     "iopub.status.busy": "2023-12-26T06:36:16.904079Z",
     "iopub.status.idle": "2023-12-26T06:36:16.961505Z",
     "shell.execute_reply": "2023-12-26T06:36:16.960494Z"
    },
    "papermill": {
     "duration": 0.067616,
     "end_time": "2023-12-26T06:36:16.963790",
     "exception": false,
     "start_time": "2023-12-26T06:36:16.896174",
     "status": "completed"
    },
    "tags": []
   },
   "outputs": [
    {
     "data": {
      "text/html": [
       "<div>\n",
       "<style scoped>\n",
       "    .dataframe tbody tr th:only-of-type {\n",
       "        vertical-align: middle;\n",
       "    }\n",
       "\n",
       "    .dataframe tbody tr th {\n",
       "        vertical-align: top;\n",
       "    }\n",
       "\n",
       "    .dataframe thead th {\n",
       "        text-align: right;\n",
       "    }\n",
       "</style>\n",
       "<table border=\"1\" class=\"dataframe\">\n",
       "  <thead>\n",
       "    <tr style=\"text-align: right;\">\n",
       "      <th></th>\n",
       "      <th>count</th>\n",
       "      <th>mean</th>\n",
       "      <th>std</th>\n",
       "      <th>min</th>\n",
       "      <th>25%</th>\n",
       "      <th>50%</th>\n",
       "      <th>75%</th>\n",
       "      <th>max</th>\n",
       "    </tr>\n",
       "  </thead>\n",
       "  <tbody>\n",
       "    <tr>\n",
       "      <th>id</th>\n",
       "      <td>8323.0</td>\n",
       "      <td>3764.043133</td>\n",
       "      <td>2369.682885</td>\n",
       "      <td>0.00</td>\n",
       "      <td>1662.50</td>\n",
       "      <td>3743.00</td>\n",
       "      <td>5823.50</td>\n",
       "      <td>7904.00</td>\n",
       "    </tr>\n",
       "    <tr>\n",
       "      <th>N_Days</th>\n",
       "      <td>8323.0</td>\n",
       "      <td>2024.528776</td>\n",
       "      <td>1094.968696</td>\n",
       "      <td>41.00</td>\n",
       "      <td>1220.00</td>\n",
       "      <td>1831.00</td>\n",
       "      <td>2689.00</td>\n",
       "      <td>4795.00</td>\n",
       "    </tr>\n",
       "    <tr>\n",
       "      <th>Age</th>\n",
       "      <td>8323.0</td>\n",
       "      <td>18381.192359</td>\n",
       "      <td>3686.832308</td>\n",
       "      <td>9598.00</td>\n",
       "      <td>15574.00</td>\n",
       "      <td>18713.00</td>\n",
       "      <td>20684.00</td>\n",
       "      <td>28650.00</td>\n",
       "    </tr>\n",
       "    <tr>\n",
       "      <th>Bilirubin</th>\n",
       "      <td>8323.0</td>\n",
       "      <td>2.625940</td>\n",
       "      <td>3.847146</td>\n",
       "      <td>0.30</td>\n",
       "      <td>0.70</td>\n",
       "      <td>1.10</td>\n",
       "      <td>3.00</td>\n",
       "      <td>28.00</td>\n",
       "    </tr>\n",
       "    <tr>\n",
       "      <th>Cholesterol</th>\n",
       "      <td>8189.0</td>\n",
       "      <td>351.219074</td>\n",
       "      <td>196.775246</td>\n",
       "      <td>120.00</td>\n",
       "      <td>248.00</td>\n",
       "      <td>299.00</td>\n",
       "      <td>392.00</td>\n",
       "      <td>1775.00</td>\n",
       "    </tr>\n",
       "    <tr>\n",
       "      <th>Albumin</th>\n",
       "      <td>8323.0</td>\n",
       "      <td>3.545767</td>\n",
       "      <td>0.350697</td>\n",
       "      <td>1.96</td>\n",
       "      <td>3.35</td>\n",
       "      <td>3.58</td>\n",
       "      <td>3.77</td>\n",
       "      <td>4.64</td>\n",
       "    </tr>\n",
       "    <tr>\n",
       "      <th>Copper</th>\n",
       "      <td>8215.0</td>\n",
       "      <td>84.421546</td>\n",
       "      <td>76.327480</td>\n",
       "      <td>4.00</td>\n",
       "      <td>39.00</td>\n",
       "      <td>63.00</td>\n",
       "      <td>102.00</td>\n",
       "      <td>588.00</td>\n",
       "    </tr>\n",
       "    <tr>\n",
       "      <th>Alk_Phos</th>\n",
       "      <td>8217.0</td>\n",
       "      <td>1823.044883</td>\n",
       "      <td>1913.388685</td>\n",
       "      <td>289.00</td>\n",
       "      <td>834.00</td>\n",
       "      <td>1181.00</td>\n",
       "      <td>1857.00</td>\n",
       "      <td>13862.40</td>\n",
       "    </tr>\n",
       "    <tr>\n",
       "      <th>SGOT</th>\n",
       "      <td>8217.0</td>\n",
       "      <td>114.906530</td>\n",
       "      <td>49.134067</td>\n",
       "      <td>26.35</td>\n",
       "      <td>75.95</td>\n",
       "      <td>108.50</td>\n",
       "      <td>137.95</td>\n",
       "      <td>457.25</td>\n",
       "    </tr>\n",
       "    <tr>\n",
       "      <th>Tryglicerides</th>\n",
       "      <td>8187.0</td>\n",
       "      <td>115.662636</td>\n",
       "      <td>53.037660</td>\n",
       "      <td>33.00</td>\n",
       "      <td>84.00</td>\n",
       "      <td>104.00</td>\n",
       "      <td>139.00</td>\n",
       "      <td>598.00</td>\n",
       "    </tr>\n",
       "    <tr>\n",
       "      <th>Platelets</th>\n",
       "      <td>8312.0</td>\n",
       "      <td>264.827238</td>\n",
       "      <td>88.039809</td>\n",
       "      <td>62.00</td>\n",
       "      <td>210.00</td>\n",
       "      <td>264.00</td>\n",
       "      <td>316.00</td>\n",
       "      <td>721.00</td>\n",
       "    </tr>\n",
       "    <tr>\n",
       "      <th>Prothrombin</th>\n",
       "      <td>8321.0</td>\n",
       "      <td>10.634575</td>\n",
       "      <td>0.795707</td>\n",
       "      <td>9.00</td>\n",
       "      <td>10.00</td>\n",
       "      <td>10.60</td>\n",
       "      <td>11.00</td>\n",
       "      <td>18.00</td>\n",
       "    </tr>\n",
       "    <tr>\n",
       "      <th>Stage</th>\n",
       "      <td>8317.0</td>\n",
       "      <td>3.032103</td>\n",
       "      <td>0.867235</td>\n",
       "      <td>1.00</td>\n",
       "      <td>2.00</td>\n",
       "      <td>3.00</td>\n",
       "      <td>4.00</td>\n",
       "      <td>4.00</td>\n",
       "    </tr>\n",
       "  </tbody>\n",
       "</table>\n",
       "</div>"
      ],
      "text/plain": [
       "                count          mean          std      min       25%       50%  \\\n",
       "id             8323.0   3764.043133  2369.682885     0.00   1662.50   3743.00   \n",
       "N_Days         8323.0   2024.528776  1094.968696    41.00   1220.00   1831.00   \n",
       "Age            8323.0  18381.192359  3686.832308  9598.00  15574.00  18713.00   \n",
       "Bilirubin      8323.0      2.625940     3.847146     0.30      0.70      1.10   \n",
       "Cholesterol    8189.0    351.219074   196.775246   120.00    248.00    299.00   \n",
       "Albumin        8323.0      3.545767     0.350697     1.96      3.35      3.58   \n",
       "Copper         8215.0     84.421546    76.327480     4.00     39.00     63.00   \n",
       "Alk_Phos       8217.0   1823.044883  1913.388685   289.00    834.00   1181.00   \n",
       "SGOT           8217.0    114.906530    49.134067    26.35     75.95    108.50   \n",
       "Tryglicerides  8187.0    115.662636    53.037660    33.00     84.00    104.00   \n",
       "Platelets      8312.0    264.827238    88.039809    62.00    210.00    264.00   \n",
       "Prothrombin    8321.0     10.634575     0.795707     9.00     10.00     10.60   \n",
       "Stage          8317.0      3.032103     0.867235     1.00      2.00      3.00   \n",
       "\n",
       "                    75%       max  \n",
       "id              5823.50   7904.00  \n",
       "N_Days          2689.00   4795.00  \n",
       "Age            20684.00  28650.00  \n",
       "Bilirubin          3.00     28.00  \n",
       "Cholesterol      392.00   1775.00  \n",
       "Albumin            3.77      4.64  \n",
       "Copper           102.00    588.00  \n",
       "Alk_Phos        1857.00  13862.40  \n",
       "SGOT             137.95    457.25  \n",
       "Tryglicerides    139.00    598.00  \n",
       "Platelets        316.00    721.00  \n",
       "Prothrombin       11.00     18.00  \n",
       "Stage              4.00      4.00  "
      ]
     },
     "execution_count": 4,
     "metadata": {},
     "output_type": "execute_result"
    }
   ],
   "source": [
    "train.describe().T"
   ]
  },
  {
   "cell_type": "markdown",
   "id": "db55ce4d",
   "metadata": {
    "papermill": {
     "duration": 0.006882,
     "end_time": "2023-12-26T06:36:16.977440",
     "exception": false,
     "start_time": "2023-12-26T06:36:16.970558",
     "status": "completed"
    },
    "tags": []
   },
   "source": [
    "# 😅😅Missing Values"
   ]
  },
  {
   "cell_type": "code",
   "execution_count": 5,
   "id": "9a7fbf66",
   "metadata": {
    "execution": {
     "iopub.execute_input": "2023-12-26T06:36:16.993004Z",
     "iopub.status.busy": "2023-12-26T06:36:16.992538Z",
     "iopub.status.idle": "2023-12-26T06:36:17.009994Z",
     "shell.execute_reply": "2023-12-26T06:36:17.009193Z"
    },
    "papermill": {
     "duration": 0.02768,
     "end_time": "2023-12-26T06:36:17.012070",
     "exception": false,
     "start_time": "2023-12-26T06:36:16.984390",
     "status": "completed"
    },
    "tags": []
   },
   "outputs": [
    {
     "name": "stdout",
     "output_type": "stream",
     "text": [
      "id                 0\n",
      "N_Days             0\n",
      "Drug             106\n",
      "Age                0\n",
      "Sex                0\n",
      "Ascites          106\n",
      "Hepatomegaly     106\n",
      "Spiders          106\n",
      "Edema              0\n",
      "Bilirubin          0\n",
      "Cholesterol      134\n",
      "Albumin            0\n",
      "Copper           108\n",
      "Alk_Phos         106\n",
      "SGOT             106\n",
      "Tryglicerides    136\n",
      "Platelets         11\n",
      "Prothrombin        2\n",
      "Stage              6\n",
      "Status             0\n",
      "dtype: int64\n"
     ]
    },
    {
     "data": {
      "text/plain": [
       "id               0\n",
       "N_Days           0\n",
       "Drug             0\n",
       "Age              0\n",
       "Sex              0\n",
       "Ascites          0\n",
       "Hepatomegaly     0\n",
       "Spiders          0\n",
       "Edema            0\n",
       "Bilirubin        0\n",
       "Cholesterol      0\n",
       "Albumin          0\n",
       "Copper           0\n",
       "Alk_Phos         0\n",
       "SGOT             0\n",
       "Tryglicerides    0\n",
       "Platelets        0\n",
       "Prothrombin      0\n",
       "Stage            0\n",
       "dtype: int64"
      ]
     },
     "execution_count": 5,
     "metadata": {},
     "output_type": "execute_result"
    }
   ],
   "source": [
    "print(train.isnull().sum())\n",
    "test.isnull().sum()"
   ]
  },
  {
   "cell_type": "markdown",
   "id": "c650ae58",
   "metadata": {
    "papermill": {
     "duration": 0.006945,
     "end_time": "2023-12-26T06:36:17.026387",
     "exception": false,
     "start_time": "2023-12-26T06:36:17.019442",
     "status": "completed"
    },
    "tags": []
   },
   "source": [
    "**Wow that's miracle there's no missing values yipee!!**"
   ]
  },
  {
   "cell_type": "code",
   "execution_count": 6,
   "id": "17c7fd44",
   "metadata": {
    "execution": {
     "iopub.execute_input": "2023-12-26T06:36:17.043300Z",
     "iopub.status.busy": "2023-12-26T06:36:17.042068Z",
     "iopub.status.idle": "2023-12-26T06:36:17.055136Z",
     "shell.execute_reply": "2023-12-26T06:36:17.053834Z"
    },
    "papermill": {
     "duration": 0.023888,
     "end_time": "2023-12-26T06:36:17.057640",
     "exception": false,
     "start_time": "2023-12-26T06:36:17.033752",
     "status": "completed"
    },
    "tags": []
   },
   "outputs": [],
   "source": [
    "# One-hot encode the target variable\n",
    "\n",
    "y = train['Status']\n",
    "label_encoder = LabelEncoder()\n",
    "y = label_encoder.fit_transform(y)\n",
    "\n",
    "X = train.drop(['id', 'Status'], axis=1)\n",
    "test = test.drop(['id'], axis=1)"
   ]
  },
  {
   "cell_type": "code",
   "execution_count": 7,
   "id": "2dac2891",
   "metadata": {
    "execution": {
     "iopub.execute_input": "2023-12-26T06:36:17.076264Z",
     "iopub.status.busy": "2023-12-26T06:36:17.075572Z",
     "iopub.status.idle": "2023-12-26T06:36:17.082814Z",
     "shell.execute_reply": "2023-12-26T06:36:17.081795Z"
    },
    "papermill": {
     "duration": 0.018961,
     "end_time": "2023-12-26T06:36:17.085265",
     "exception": false,
     "start_time": "2023-12-26T06:36:17.066304",
     "status": "completed"
    },
    "tags": []
   },
   "outputs": [],
   "source": [
    "num = X.select_dtypes(include=['int64', 'float64']).columns\n",
    "col = X.select_dtypes(include=['object']).columns"
   ]
  },
  {
   "cell_type": "markdown",
   "id": "e8068e53",
   "metadata": {
    "papermill": {
     "duration": 0.006706,
     "end_time": "2023-12-26T06:36:17.099152",
     "exception": false,
     "start_time": "2023-12-26T06:36:17.092446",
     "status": "completed"
    },
    "tags": []
   },
   "source": [
    "# 🖇🖇📭Data Pipeline"
   ]
  },
  {
   "cell_type": "code",
   "execution_count": 8,
   "id": "4820ee90",
   "metadata": {
    "execution": {
     "iopub.execute_input": "2023-12-26T06:36:17.116069Z",
     "iopub.status.busy": "2023-12-26T06:36:17.115636Z",
     "iopub.status.idle": "2023-12-26T06:36:17.121976Z",
     "shell.execute_reply": "2023-12-26T06:36:17.120804Z"
    },
    "papermill": {
     "duration": 0.01736,
     "end_time": "2023-12-26T06:36:17.124207",
     "exception": false,
     "start_time": "2023-12-26T06:36:17.106847",
     "status": "completed"
    },
    "tags": []
   },
   "outputs": [],
   "source": [
    "# Preprocessing for numerical data: imputation and scaling\n",
    "numerical_transformer = Pipeline(steps=[\n",
    "    ('imputer', SimpleImputer(strategy='median')),\n",
    "    ('scaler', StandardScaler())])\n",
    "\n",
    "# Preprocessing for categorical data: imputation and one-hot encoding\n",
    "categorical_transformer = Pipeline(steps=[\n",
    "    ('imputer', SimpleImputer(strategy='most_frequent')),\n",
    "    ('onehot', OneHotEncoder(handle_unknown='ignore'))])\n",
    "\n",
    "preprocessor = ColumnTransformer(\n",
    "    transformers=[\n",
    "        ('num', numerical_transformer, num),\n",
    "        ('cat', categorical_transformer, col)])"
   ]
  },
  {
   "cell_type": "code",
   "execution_count": 9,
   "id": "1b1cc133",
   "metadata": {
    "execution": {
     "iopub.execute_input": "2023-12-26T06:36:17.140981Z",
     "iopub.status.busy": "2023-12-26T06:36:17.139581Z",
     "iopub.status.idle": "2023-12-26T06:36:17.148854Z",
     "shell.execute_reply": "2023-12-26T06:36:17.148030Z"
    },
    "papermill": {
     "duration": 0.020055,
     "end_time": "2023-12-26T06:36:17.151319",
     "exception": false,
     "start_time": "2023-12-26T06:36:17.131264",
     "status": "completed"
    },
    "tags": []
   },
   "outputs": [],
   "source": [
    "# Split data into training and test sets\n",
    "X_train, X_test, y_train, y_test = train_test_split(X, y, test_size=0.2, random_state=42)"
   ]
  },
  {
   "cell_type": "markdown",
   "id": "295e90e6",
   "metadata": {
    "papermill": {
     "duration": 0.006915,
     "end_time": "2023-12-26T06:36:17.165507",
     "exception": false,
     "start_time": "2023-12-26T06:36:17.158592",
     "status": "completed"
    },
    "tags": []
   },
   "source": [
    "# ⚙️Finding  and Training  Models With Best Hyperparameters"
   ]
  },
  {
   "cell_type": "code",
   "execution_count": 10,
   "id": "0f107fc3",
   "metadata": {
    "execution": {
     "iopub.execute_input": "2023-12-26T06:36:17.181775Z",
     "iopub.status.busy": "2023-12-26T06:36:17.180760Z",
     "iopub.status.idle": "2023-12-26T06:36:19.632266Z",
     "shell.execute_reply": "2023-12-26T06:36:19.630799Z"
    },
    "papermill": {
     "duration": 2.462352,
     "end_time": "2023-12-26T06:36:19.634842",
     "exception": false,
     "start_time": "2023-12-26T06:36:17.172490",
     "status": "completed"
    },
    "tags": []
   },
   "outputs": [
    {
     "name": "stdout",
     "output_type": "stream",
     "text": [
      "0.3118125939165731\n"
     ]
    }
   ],
   "source": [
    "#Best for XBG\n",
    "\n",
    "# # Define the objective function for Optuna\n",
    "# def objective(trial):\n",
    "\n",
    "#     params = {\n",
    "#         'objective': 'multi:softprob',\n",
    "#         'booster': 'gbtree',\n",
    "#         'max_depth': trial.suggest_int('max_depth', 3, 10),\n",
    "#         'learning_rate': trial.suggest_float('learning_rate', 0.01, 0.3),\n",
    "#         'n_estimators': trial.suggest_int('n_estimators', 100, 1000, step=100),\n",
    "#         'subsample': trial.suggest_float('subsample', 0.5, 1.0),\n",
    "#         'colsample_bytree': trial.suggest_float('colsample_bytree', 0.5, 1.0),\n",
    "#         'gamma': trial.suggest_float('gamma', 0, 1),\n",
    "#     }\n",
    "#     model = XGBClassifier(**params)\n",
    "    \n",
    "#     # Create the full pipeline with the preprocessor\n",
    "#     pipeline = Pipeline(steps=[('preprocessor', preprocessor), ('model', model)])\n",
    "\n",
    "#     # Train the model\n",
    "#     pipeline.fit(X_train, y_train)\n",
    "\n",
    "#     # Make predictions\n",
    "#     y_pred_proba = pipeline.predict_proba(X_test)\n",
    "\n",
    "#     # Calculate log loss\n",
    "#     loss = log_loss(y_test, y_pred_proba)\n",
    "#     return loss\n",
    "\n",
    "# # Perform hyperparameter optimization\n",
    "# study = optuna.create_study(direction='minimize')\n",
    "# study.optimize(objective, n_trials=150)\n",
    "\n",
    "# # Print the best hyperparameters and corresponding accuracy\n",
    "# best_trial = study.best_trial\n",
    "# print(f\"Best Trial - Hyperparameters: {best_trial.params}\")\n",
    "# print(f\"Best Trial - Accuracy: {best_trial.value}\")\n",
    "\n",
    "# Best Trial - Hyperparameters: {'max_depth': 3, 'learning_rate': 0.06554750793955862, 'n_estimators': 700, 'subsample': 0.879561982113763, 'colsample_bytree': 0.6804124845660782, 'gamma': 0.8869652359644636}\n",
    "# Best Trial - Accuracy: 0.42398305168359196\n",
    "\n",
    "model = XGBClassifier( max_depth= 3, \n",
    "                       learning_rate= 0.06554750793955862, \n",
    "                       n_estimators= 700, \n",
    "                       subsample= 0.879561982113763, \n",
    "                       colsample_bytree= 0.6804124845660782, \n",
    "                       gamma= 0.8869652359644636\n",
    "                       )\n",
    "\n",
    "XBG_pipeline = Pipeline(steps=[('preprocessor', preprocessor), ('model', model)])\n",
    "\n",
    "# Train the model\n",
    "XBG_pipeline.fit(X, y)\n",
    "\n",
    "# Make predictions\n",
    "y_pred_proba = XBG_pipeline.predict_proba(X_test)\n",
    "\n",
    "# Calculate log loss\n",
    "loss = log_loss(y_test, y_pred_proba)\n",
    "print(loss)"
   ]
  },
  {
   "cell_type": "code",
   "execution_count": 11,
   "id": "abd8f746",
   "metadata": {
    "execution": {
     "iopub.execute_input": "2023-12-26T06:36:19.651021Z",
     "iopub.status.busy": "2023-12-26T06:36:19.650610Z",
     "iopub.status.idle": "2023-12-26T06:36:20.648054Z",
     "shell.execute_reply": "2023-12-26T06:36:20.646817Z"
    },
    "papermill": {
     "duration": 1.008528,
     "end_time": "2023-12-26T06:36:20.650519",
     "exception": false,
     "start_time": "2023-12-26T06:36:19.641991",
     "status": "completed"
    },
    "tags": []
   },
   "outputs": [
    {
     "name": "stdout",
     "output_type": "stream",
     "text": [
      "0.3460685385130759\n"
     ]
    }
   ],
   "source": [
    "# Best for LGBM\n",
    "# # Define the objective function for Optuna\n",
    "# def objective(trial):\n",
    "\n",
    "#     params = {\n",
    "#             'objective': 'multiclass',\n",
    "#             'metric': 'softmax',\n",
    "#             'boosting_type': 'gbdt',\n",
    "#             'num_leaves': trial.suggest_int('num_leaves', 2, 256),\n",
    "#             'learning_rate': trial.suggest_float('learning_rate', 0.01, 0.3),\n",
    "#             'n_estimators': trial.suggest_int('n_estimators', 100, 1000, step=100),\n",
    "#             'subsample': trial.suggest_float('subsample', 0.5, 1.0),\n",
    "#             'colsample_bytree': trial.suggest_float('colsample_bytree', 0.5, 1.0),\n",
    "#             'reg_alpha': trial.suggest_float('reg_alpha', 0, 1),\n",
    "#             'reg_lambda': trial.suggest_float('reg_lambda', 0, 1),\n",
    "#         }\n",
    "#     model = LGBMClassifier(**params)\n",
    "    \n",
    "#     # Create the full pipeline with the preprocessor\n",
    "#     pipeline = Pipeline(steps=[('preprocessor', preprocessor), ('model', model)])\n",
    "\n",
    "#     # Train the model\n",
    "#     pipeline.fit(X_train, y_train)\n",
    "\n",
    "#     # Make predictions\n",
    "#     y_pred_proba = pipeline.predict_proba(X_test)\n",
    "\n",
    "#     # Calculate log loss\n",
    "#     loss = log_loss(y_test, y_pred_proba)\n",
    "#     return loss\n",
    "\n",
    "# # Perform hyperparameter optimization\n",
    "# study = optuna.create_study(direction='minimize')\n",
    "# study.optimize(objective, n_trials=150)\n",
    "\n",
    "# # Print the best hyperparameters and corresponding accuracy\n",
    "# best_trial = study.best_trial\n",
    "# print(f\"Best Trial - Hyperparameters: {best_trial.params}\")\n",
    "# print(f\"Best Trial - Accuracy: {best_trial.value}\")\n",
    "\n",
    "# Best Trial - Hyperparameters: {'num_leaves': 10, 'learning_rate': 0.09945716175211072, 'n_estimators': 100, 'subsample': 0.638372746835219, 'colsample_bytree': 0.7901846422576978, 'reg_alpha': 0.9399890733575376, 'reg_lambda': 0.39927135467931296}\n",
    "# Best Trial - Accuracy: 0.4320768674184984\n",
    "\n",
    "model = LGBMClassifier( num_leaves= 10, \n",
    "                        learning_rate= 0.09945716175211072, \n",
    "                        n_estimators= 100, \n",
    "                        subsample= 0.638372746835219, \n",
    "                        colsample_bytree= 0.7901846422576978, \n",
    "                        reg_alpha= 0.9399890733575376, \n",
    "                        reg_lambda= 0.39927135467931296)\n",
    "\n",
    "\n",
    "LGBM_pipeline = Pipeline(steps=[('preprocessor', preprocessor), ('model', model)])\n",
    "\n",
    "# Train the model\n",
    "LGBM_pipeline.fit(X, y)\n",
    "\n",
    "# Make predictions\n",
    "y_pred_proba = LGBM_pipeline.predict_proba(X_test)\n",
    "\n",
    "# Calculate log loss\n",
    "loss = log_loss(y_test, y_pred_proba)\n",
    "print(loss)"
   ]
  },
  {
   "cell_type": "code",
   "execution_count": 12,
   "id": "574a6a85",
   "metadata": {
    "execution": {
     "iopub.execute_input": "2023-12-26T06:36:20.667354Z",
     "iopub.status.busy": "2023-12-26T06:36:20.666838Z",
     "iopub.status.idle": "2023-12-26T06:36:22.611556Z",
     "shell.execute_reply": "2023-12-26T06:36:22.610440Z"
    },
    "papermill": {
     "duration": 1.956593,
     "end_time": "2023-12-26T06:36:22.614693",
     "exception": false,
     "start_time": "2023-12-26T06:36:20.658100",
     "status": "completed"
    },
    "tags": []
   },
   "outputs": [
    {
     "name": "stdout",
     "output_type": "stream",
     "text": [
      "0.3492739794460349\n"
     ]
    }
   ],
   "source": [
    "# Best for CatboostClassifier\n",
    "# # Define the objective function for Optuna\n",
    "# def objective(trial):\n",
    "#     model_params = {\n",
    "#         'iterations': trial.suggest_int('iterations', 100, 1000, step=100),\n",
    "#         'learning_rate': trial.suggest_float('learning_rate', 0.01, 0.3),\n",
    "#         'depth': trial.suggest_int('depth', 3, 10),\n",
    "#         'subsample': trial.suggest_float('subsample', 0.5, 1.0),\n",
    "#         'colsample_bylevel': trial.suggest_float('colsample_bylevel', 0.5, 1.0),\n",
    "#         'bootstrap_type': 'Bayesian',\n",
    "#         'verbose': False\n",
    "#     }\n",
    "#     # Exclude 'subsample' when using 'bayesian' bootstrap type\n",
    "#     if model_params['bootstrap_type'] == 'Bayesian':\n",
    "#         del model_params['subsample']\n",
    "    \n",
    "#     model = CatBoostClassifier(**model_params)\n",
    "    \n",
    "#     # Create the full pipeline with the preprocessor\n",
    "#     pipeline = Pipeline(steps=[('preprocessor', preprocessor), ('model', model)])\n",
    "\n",
    "#     # Train the model\n",
    "#     pipeline.fit(X_train, y_train)\n",
    "\n",
    "#     # Make predictions\n",
    "#     y_pred_proba = pipeline.predict_proba(X_test)\n",
    "\n",
    "#     # Calculate log loss\n",
    "#     loss = log_loss(y_test, y_pred_proba)\n",
    "#     return loss\n",
    "\n",
    "# # Perform hyperparameter optimization\n",
    "# study = optuna.create_study(direction='minimize')\n",
    "# study.optimize(objective, n_trials=150)\n",
    "\n",
    "# # Print the best hyperparameters and corresponding accuracy\n",
    "# best_trial = study.best_trial\n",
    "# print(f\"Best Trial - Hyperparameters: {best_trial.params}\")\n",
    "# print(f\"Best Trial - Loss: {best_trial.value}\")\n",
    "\n",
    "# Best Trial - Hyperparameters: {'iterations': 500, 'learning_rate': 0.1872180770901252, 'depth': 3, 'subsample': 0.9148112150472516, 'colsample_bylevel': 0.5012028440449813}\n",
    "# Best Trial - Loss: 0.4332958910610937\n",
    "\n",
    "model = CatBoostClassifier(iterations= 500, \n",
    "                           learning_rate= 0.1872180770901252, \n",
    "                           depth= 3,\n",
    "                           colsample_bylevel= 0.5012028440449813,\n",
    "                           bootstrap_type = 'Bayesian',\n",
    "                            verbose = False)\n",
    "\n",
    "Cat_pipeline = Pipeline(steps=[('preprocessor', preprocessor), ('model', model)])\n",
    "\n",
    "# Train the model\n",
    "Cat_pipeline.fit(X, y)\n",
    "\n",
    "# Make predictions\n",
    "y_pred_proba = Cat_pipeline.predict_proba(X_test)\n",
    "\n",
    "# Calculate log loss\n",
    "loss = log_loss(y_test, y_pred_proba)\n",
    "print(loss)"
   ]
  },
  {
   "cell_type": "code",
   "execution_count": 13,
   "id": "ca09517d",
   "metadata": {
    "execution": {
     "iopub.execute_input": "2023-12-26T06:36:22.632610Z",
     "iopub.status.busy": "2023-12-26T06:36:22.632220Z",
     "iopub.status.idle": "2023-12-26T06:36:35.668856Z",
     "shell.execute_reply": "2023-12-26T06:36:35.667354Z"
    },
    "papermill": {
     "duration": 13.049817,
     "end_time": "2023-12-26T06:36:35.672080",
     "exception": false,
     "start_time": "2023-12-26T06:36:22.622263",
     "status": "completed"
    },
    "tags": []
   },
   "outputs": [
    {
     "name": "stdout",
     "output_type": "stream",
     "text": [
      "0.3273342846021688\n"
     ]
    }
   ],
   "source": [
    "# Best for GradientBoosting\n",
    "    \n",
    "#     # Define the objective function for Optuna\n",
    "# def objective(trial):\n",
    "\n",
    "#     params = {\n",
    "#             'loss': 'deviance',\n",
    "#             'learning_rate': trial.suggest_float('learning_rate', 0.01, 0.3),\n",
    "#             'n_estimators': trial.suggest_int('n_estimators', 100, 1000, step=100),\n",
    "#             'subsample': trial.suggest_float('subsample', 0.5, 1.0),\n",
    "#             'max_depth': trial.suggest_int('max_depth', 3, 10),\n",
    "#         }\n",
    "    \n",
    "#     model = GradientBoostingClassifier(**params)\n",
    "    \n",
    "#     # Create the full pipeline with the preprocessor\n",
    "#     pipeline = Pipeline(steps=[('preprocessor', preprocessor), ('model', model)])\n",
    "\n",
    "#     # Train the model\n",
    "#     pipeline.fit(X_train, y_train)\n",
    "\n",
    "#     # Make predictions\n",
    "#     y_pred_proba = pipeline.predict_proba(X_test)\n",
    "\n",
    "#     # Calculate log loss\n",
    "#     loss = log_loss(y_test, y_pred_proba)\n",
    "#     return loss\n",
    "\n",
    "# # Perform hyperparameter optimization\n",
    "# study = optuna.create_study(direction='minimize')\n",
    "# study.optimize(objective, n_trials=150)\n",
    "\n",
    "# # Print the best hyperparameters and corresponding accuracy\n",
    "# best_trial = study.best_trial\n",
    "\n",
    "# print(f\"Best Trial - Hyperparameters: {best_trial.params}\")\n",
    "# print(f\"Best Trial - Accuracy: {best_trial.value}\")\n",
    "# Best Trial - Hyperparameters: {'learning_rate': 0.05885877940951943, 'n_estimators': 300, 'subsample': 0.5470272507158589, 'max_depth': 3}\n",
    "# Best Trial - Accuracy: 0.42324580434605336\n",
    "\n",
    "model = GradientBoostingClassifier(learning_rate= 0.05885877940951943, \n",
    "                                  n_estimators= 300, \n",
    "                                  subsample= 0.5470272507158589, \n",
    "                                  max_depth= 3)\n",
    "\n",
    "Gradient_pipeline = Pipeline(steps=[('preprocessor', preprocessor), ('model', model)])\n",
    "\n",
    "# Train the model\n",
    "Gradient_pipeline.fit(X, y)\n",
    "\n",
    "# Make predictions\n",
    "y_pred_proba = Gradient_pipeline.predict_proba(X_test)\n",
    "\n",
    "# Calculate log loss\n",
    "loss = log_loss(y_test, y_pred_proba)\n",
    "print(loss)"
   ]
  },
  {
   "cell_type": "markdown",
   "id": "f08b99a1",
   "metadata": {
    "papermill": {
     "duration": 0.007624,
     "end_time": "2023-12-26T06:36:35.689673",
     "exception": false,
     "start_time": "2023-12-26T06:36:35.682049",
     "status": "completed"
    },
    "tags": []
   },
   "source": [
    "# 👀👁FInal MOdel WIth VOting"
   ]
  },
  {
   "cell_type": "code",
   "execution_count": 14,
   "id": "2caf0412",
   "metadata": {
    "execution": {
     "iopub.execute_input": "2023-12-26T06:36:35.707166Z",
     "iopub.status.busy": "2023-12-26T06:36:35.706738Z",
     "iopub.status.idle": "2023-12-26T06:36:56.529316Z",
     "shell.execute_reply": "2023-12-26T06:36:56.526437Z"
    },
    "papermill": {
     "duration": 20.834378,
     "end_time": "2023-12-26T06:36:56.531822",
     "exception": false,
     "start_time": "2023-12-26T06:36:35.697444",
     "status": "completed"
    },
    "tags": []
   },
   "outputs": [
    {
     "data": {
      "text/html": [
       "<style>#sk-container-id-1 {color: black;background-color: white;}#sk-container-id-1 pre{padding: 0;}#sk-container-id-1 div.sk-toggleable {background-color: white;}#sk-container-id-1 label.sk-toggleable__label {cursor: pointer;display: block;width: 100%;margin-bottom: 0;padding: 0.3em;box-sizing: border-box;text-align: center;}#sk-container-id-1 label.sk-toggleable__label-arrow:before {content: \"▸\";float: left;margin-right: 0.25em;color: #696969;}#sk-container-id-1 label.sk-toggleable__label-arrow:hover:before {color: black;}#sk-container-id-1 div.sk-estimator:hover label.sk-toggleable__label-arrow:before {color: black;}#sk-container-id-1 div.sk-toggleable__content {max-height: 0;max-width: 0;overflow: hidden;text-align: left;background-color: #f0f8ff;}#sk-container-id-1 div.sk-toggleable__content pre {margin: 0.2em;color: black;border-radius: 0.25em;background-color: #f0f8ff;}#sk-container-id-1 input.sk-toggleable__control:checked~div.sk-toggleable__content {max-height: 200px;max-width: 100%;overflow: auto;}#sk-container-id-1 input.sk-toggleable__control:checked~label.sk-toggleable__label-arrow:before {content: \"▾\";}#sk-container-id-1 div.sk-estimator input.sk-toggleable__control:checked~label.sk-toggleable__label {background-color: #d4ebff;}#sk-container-id-1 div.sk-label input.sk-toggleable__control:checked~label.sk-toggleable__label {background-color: #d4ebff;}#sk-container-id-1 input.sk-hidden--visually {border: 0;clip: rect(1px 1px 1px 1px);clip: rect(1px, 1px, 1px, 1px);height: 1px;margin: -1px;overflow: hidden;padding: 0;position: absolute;width: 1px;}#sk-container-id-1 div.sk-estimator {font-family: monospace;background-color: #f0f8ff;border: 1px dotted black;border-radius: 0.25em;box-sizing: border-box;margin-bottom: 0.5em;}#sk-container-id-1 div.sk-estimator:hover {background-color: #d4ebff;}#sk-container-id-1 div.sk-parallel-item::after {content: \"\";width: 100%;border-bottom: 1px solid gray;flex-grow: 1;}#sk-container-id-1 div.sk-label:hover label.sk-toggleable__label {background-color: #d4ebff;}#sk-container-id-1 div.sk-serial::before {content: \"\";position: absolute;border-left: 1px solid gray;box-sizing: border-box;top: 0;bottom: 0;left: 50%;z-index: 0;}#sk-container-id-1 div.sk-serial {display: flex;flex-direction: column;align-items: center;background-color: white;padding-right: 0.2em;padding-left: 0.2em;position: relative;}#sk-container-id-1 div.sk-item {position: relative;z-index: 1;}#sk-container-id-1 div.sk-parallel {display: flex;align-items: stretch;justify-content: center;background-color: white;position: relative;}#sk-container-id-1 div.sk-item::before, #sk-container-id-1 div.sk-parallel-item::before {content: \"\";position: absolute;border-left: 1px solid gray;box-sizing: border-box;top: 0;bottom: 0;left: 50%;z-index: -1;}#sk-container-id-1 div.sk-parallel-item {display: flex;flex-direction: column;z-index: 1;position: relative;background-color: white;}#sk-container-id-1 div.sk-parallel-item:first-child::after {align-self: flex-end;width: 50%;}#sk-container-id-1 div.sk-parallel-item:last-child::after {align-self: flex-start;width: 50%;}#sk-container-id-1 div.sk-parallel-item:only-child::after {width: 0;}#sk-container-id-1 div.sk-dashed-wrapped {border: 1px dashed gray;margin: 0 0.4em 0.5em 0.4em;box-sizing: border-box;padding-bottom: 0.4em;background-color: white;}#sk-container-id-1 div.sk-label label {font-family: monospace;font-weight: bold;display: inline-block;line-height: 1.2em;}#sk-container-id-1 div.sk-label-container {text-align: center;}#sk-container-id-1 div.sk-container {/* jupyter's `normalize.less` sets `[hidden] { display: none; }` but bootstrap.min.css set `[hidden] { display: none !important; }` so we also need the `!important` here to be able to override the default hidden behavior on the sphinx rendered scikit-learn.org. See: https://github.com/scikit-learn/scikit-learn/issues/21755 */display: inline-block !important;position: relative;}#sk-container-id-1 div.sk-text-repr-fallback {display: none;}</style><div id=\"sk-container-id-1\" class=\"sk-top-container\"><div class=\"sk-text-repr-fallback\"><pre>VotingClassifier(estimators=[(&#x27;Model1&#x27;,\n",
       "                              Pipeline(steps=[(&#x27;preprocessor&#x27;,\n",
       "                                               ColumnTransformer(transformers=[(&#x27;num&#x27;,\n",
       "                                                                                Pipeline(steps=[(&#x27;imputer&#x27;,\n",
       "                                                                                                 SimpleImputer(strategy=&#x27;median&#x27;)),\n",
       "                                                                                                (&#x27;scaler&#x27;,\n",
       "                                                                                                 StandardScaler())]),\n",
       "                                                                                Index([&#x27;N_Days&#x27;, &#x27;Age&#x27;, &#x27;Bilirubin&#x27;, &#x27;Cholesterol&#x27;, &#x27;Albumin&#x27;, &#x27;Copper&#x27;,\n",
       "       &#x27;Alk_Phos&#x27;, &#x27;SGOT&#x27;, &#x27;Tryglicerides&#x27;, &#x27;Platelets&#x27;, &#x27;Prothrombin&#x27;,\n",
       "       &#x27;Stage&#x27;],\n",
       "      dtype=&#x27;object...\n",
       "       &#x27;Alk_Phos&#x27;, &#x27;SGOT&#x27;, &#x27;Tryglicerides&#x27;, &#x27;Platelets&#x27;, &#x27;Prothrombin&#x27;,\n",
       "       &#x27;Stage&#x27;],\n",
       "      dtype=&#x27;object&#x27;)),\n",
       "                                                                               (&#x27;cat&#x27;,\n",
       "                                                                                Pipeline(steps=[(&#x27;imputer&#x27;,\n",
       "                                                                                                 SimpleImputer(strategy=&#x27;most_frequent&#x27;)),\n",
       "                                                                                                (&#x27;onehot&#x27;,\n",
       "                                                                                                 OneHotEncoder(handle_unknown=&#x27;ignore&#x27;))]),\n",
       "                                                                                Index([&#x27;Drug&#x27;, &#x27;Sex&#x27;, &#x27;Ascites&#x27;, &#x27;Hepatomegaly&#x27;, &#x27;Spiders&#x27;, &#x27;Edema&#x27;], dtype=&#x27;object&#x27;))])),\n",
       "                                              (&#x27;model&#x27;,\n",
       "                                               &lt;catboost.core.CatBoostClassifier object at 0x7b7fe539bc40&gt;)]))],\n",
       "                 voting=&#x27;soft&#x27;)</pre><b>In a Jupyter environment, please rerun this cell to show the HTML representation or trust the notebook. <br />On GitHub, the HTML representation is unable to render, please try loading this page with nbviewer.org.</b></div><div class=\"sk-container\" hidden><div class=\"sk-item sk-dashed-wrapped\"><div class=\"sk-label-container\"><div class=\"sk-label sk-toggleable\"><input class=\"sk-toggleable__control sk-hidden--visually\" id=\"sk-estimator-id-1\" type=\"checkbox\" ><label for=\"sk-estimator-id-1\" class=\"sk-toggleable__label sk-toggleable__label-arrow\">VotingClassifier</label><div class=\"sk-toggleable__content\"><pre>VotingClassifier(estimators=[(&#x27;Model1&#x27;,\n",
       "                              Pipeline(steps=[(&#x27;preprocessor&#x27;,\n",
       "                                               ColumnTransformer(transformers=[(&#x27;num&#x27;,\n",
       "                                                                                Pipeline(steps=[(&#x27;imputer&#x27;,\n",
       "                                                                                                 SimpleImputer(strategy=&#x27;median&#x27;)),\n",
       "                                                                                                (&#x27;scaler&#x27;,\n",
       "                                                                                                 StandardScaler())]),\n",
       "                                                                                Index([&#x27;N_Days&#x27;, &#x27;Age&#x27;, &#x27;Bilirubin&#x27;, &#x27;Cholesterol&#x27;, &#x27;Albumin&#x27;, &#x27;Copper&#x27;,\n",
       "       &#x27;Alk_Phos&#x27;, &#x27;SGOT&#x27;, &#x27;Tryglicerides&#x27;, &#x27;Platelets&#x27;, &#x27;Prothrombin&#x27;,\n",
       "       &#x27;Stage&#x27;],\n",
       "      dtype=&#x27;object...\n",
       "       &#x27;Alk_Phos&#x27;, &#x27;SGOT&#x27;, &#x27;Tryglicerides&#x27;, &#x27;Platelets&#x27;, &#x27;Prothrombin&#x27;,\n",
       "       &#x27;Stage&#x27;],\n",
       "      dtype=&#x27;object&#x27;)),\n",
       "                                                                               (&#x27;cat&#x27;,\n",
       "                                                                                Pipeline(steps=[(&#x27;imputer&#x27;,\n",
       "                                                                                                 SimpleImputer(strategy=&#x27;most_frequent&#x27;)),\n",
       "                                                                                                (&#x27;onehot&#x27;,\n",
       "                                                                                                 OneHotEncoder(handle_unknown=&#x27;ignore&#x27;))]),\n",
       "                                                                                Index([&#x27;Drug&#x27;, &#x27;Sex&#x27;, &#x27;Ascites&#x27;, &#x27;Hepatomegaly&#x27;, &#x27;Spiders&#x27;, &#x27;Edema&#x27;], dtype=&#x27;object&#x27;))])),\n",
       "                                              (&#x27;model&#x27;,\n",
       "                                               &lt;catboost.core.CatBoostClassifier object at 0x7b7fe539bc40&gt;)]))],\n",
       "                 voting=&#x27;soft&#x27;)</pre></div></div></div><div class=\"sk-parallel\"><div class=\"sk-parallel-item\"><div class=\"sk-item\"><div class=\"sk-label-container\"><div class=\"sk-label sk-toggleable\"><label>Model1</label></div></div><div class=\"sk-serial\"><div class=\"sk-item\"><div class=\"sk-serial\"><div class=\"sk-item sk-dashed-wrapped\"><div class=\"sk-label-container\"><div class=\"sk-label sk-toggleable\"><input class=\"sk-toggleable__control sk-hidden--visually\" id=\"sk-estimator-id-2\" type=\"checkbox\" ><label for=\"sk-estimator-id-2\" class=\"sk-toggleable__label sk-toggleable__label-arrow\">preprocessor: ColumnTransformer</label><div class=\"sk-toggleable__content\"><pre>ColumnTransformer(transformers=[(&#x27;num&#x27;,\n",
       "                                 Pipeline(steps=[(&#x27;imputer&#x27;,\n",
       "                                                  SimpleImputer(strategy=&#x27;median&#x27;)),\n",
       "                                                 (&#x27;scaler&#x27;, StandardScaler())]),\n",
       "                                 Index([&#x27;N_Days&#x27;, &#x27;Age&#x27;, &#x27;Bilirubin&#x27;, &#x27;Cholesterol&#x27;, &#x27;Albumin&#x27;, &#x27;Copper&#x27;,\n",
       "       &#x27;Alk_Phos&#x27;, &#x27;SGOT&#x27;, &#x27;Tryglicerides&#x27;, &#x27;Platelets&#x27;, &#x27;Prothrombin&#x27;,\n",
       "       &#x27;Stage&#x27;],\n",
       "      dtype=&#x27;object&#x27;)),\n",
       "                                (&#x27;cat&#x27;,\n",
       "                                 Pipeline(steps=[(&#x27;imputer&#x27;,\n",
       "                                                  SimpleImputer(strategy=&#x27;most_frequent&#x27;)),\n",
       "                                                 (&#x27;onehot&#x27;,\n",
       "                                                  OneHotEncoder(handle_unknown=&#x27;ignore&#x27;))]),\n",
       "                                 Index([&#x27;Drug&#x27;, &#x27;Sex&#x27;, &#x27;Ascites&#x27;, &#x27;Hepatomegaly&#x27;, &#x27;Spiders&#x27;, &#x27;Edema&#x27;], dtype=&#x27;object&#x27;))])</pre></div></div></div><div class=\"sk-parallel\"><div class=\"sk-parallel-item\"><div class=\"sk-item\"><div class=\"sk-label-container\"><div class=\"sk-label sk-toggleable\"><input class=\"sk-toggleable__control sk-hidden--visually\" id=\"sk-estimator-id-3\" type=\"checkbox\" ><label for=\"sk-estimator-id-3\" class=\"sk-toggleable__label sk-toggleable__label-arrow\">num</label><div class=\"sk-toggleable__content\"><pre>Index([&#x27;N_Days&#x27;, &#x27;Age&#x27;, &#x27;Bilirubin&#x27;, &#x27;Cholesterol&#x27;, &#x27;Albumin&#x27;, &#x27;Copper&#x27;,\n",
       "       &#x27;Alk_Phos&#x27;, &#x27;SGOT&#x27;, &#x27;Tryglicerides&#x27;, &#x27;Platelets&#x27;, &#x27;Prothrombin&#x27;,\n",
       "       &#x27;Stage&#x27;],\n",
       "      dtype=&#x27;object&#x27;)</pre></div></div></div><div class=\"sk-serial\"><div class=\"sk-item\"><div class=\"sk-serial\"><div class=\"sk-item\"><div class=\"sk-estimator sk-toggleable\"><input class=\"sk-toggleable__control sk-hidden--visually\" id=\"sk-estimator-id-4\" type=\"checkbox\" ><label for=\"sk-estimator-id-4\" class=\"sk-toggleable__label sk-toggleable__label-arrow\">SimpleImputer</label><div class=\"sk-toggleable__content\"><pre>SimpleImputer(strategy=&#x27;median&#x27;)</pre></div></div></div><div class=\"sk-item\"><div class=\"sk-estimator sk-toggleable\"><input class=\"sk-toggleable__control sk-hidden--visually\" id=\"sk-estimator-id-5\" type=\"checkbox\" ><label for=\"sk-estimator-id-5\" class=\"sk-toggleable__label sk-toggleable__label-arrow\">StandardScaler</label><div class=\"sk-toggleable__content\"><pre>StandardScaler()</pre></div></div></div></div></div></div></div></div><div class=\"sk-parallel-item\"><div class=\"sk-item\"><div class=\"sk-label-container\"><div class=\"sk-label sk-toggleable\"><input class=\"sk-toggleable__control sk-hidden--visually\" id=\"sk-estimator-id-6\" type=\"checkbox\" ><label for=\"sk-estimator-id-6\" class=\"sk-toggleable__label sk-toggleable__label-arrow\">cat</label><div class=\"sk-toggleable__content\"><pre>Index([&#x27;Drug&#x27;, &#x27;Sex&#x27;, &#x27;Ascites&#x27;, &#x27;Hepatomegaly&#x27;, &#x27;Spiders&#x27;, &#x27;Edema&#x27;], dtype=&#x27;object&#x27;)</pre></div></div></div><div class=\"sk-serial\"><div class=\"sk-item\"><div class=\"sk-serial\"><div class=\"sk-item\"><div class=\"sk-estimator sk-toggleable\"><input class=\"sk-toggleable__control sk-hidden--visually\" id=\"sk-estimator-id-7\" type=\"checkbox\" ><label for=\"sk-estimator-id-7\" class=\"sk-toggleable__label sk-toggleable__label-arrow\">SimpleImputer</label><div class=\"sk-toggleable__content\"><pre>SimpleImputer(strategy=&#x27;most_frequent&#x27;)</pre></div></div></div><div class=\"sk-item\"><div class=\"sk-estimator sk-toggleable\"><input class=\"sk-toggleable__control sk-hidden--visually\" id=\"sk-estimator-id-8\" type=\"checkbox\" ><label for=\"sk-estimator-id-8\" class=\"sk-toggleable__label sk-toggleable__label-arrow\">OneHotEncoder</label><div class=\"sk-toggleable__content\"><pre>OneHotEncoder(handle_unknown=&#x27;ignore&#x27;)</pre></div></div></div></div></div></div></div></div></div></div><div class=\"sk-item\"><div class=\"sk-estimator sk-toggleable\"><input class=\"sk-toggleable__control sk-hidden--visually\" id=\"sk-estimator-id-9\" type=\"checkbox\" ><label for=\"sk-estimator-id-9\" class=\"sk-toggleable__label sk-toggleable__label-arrow\">XGBClassifier</label><div class=\"sk-toggleable__content\"><pre>XGBClassifier(base_score=None, booster=None, callbacks=None,\n",
       "              colsample_bylevel=None, colsample_bynode=None,\n",
       "              colsample_bytree=0.6804124845660782, device=None,\n",
       "              early_stopping_rounds=None, enable_categorical=False,\n",
       "              eval_metric=None, feature_types=None, gamma=0.8869652359644636,\n",
       "              grow_policy=None, importance_type=None,\n",
       "              interaction_constraints=None, learning_rate=0.06554750793955862,\n",
       "              max_bin=None, max_cat_threshold=None, max_cat_to_onehot=None,\n",
       "              max_delta_step=None, max_depth=3, max_leaves=None,\n",
       "              min_child_weight=None, missing=nan, monotone_constraints=None,\n",
       "              multi_strategy=None, n_estimators=700, n_jobs=None,\n",
       "              num_parallel_tree=None, objective=&#x27;multi:softprob&#x27;, ...)</pre></div></div></div></div></div></div></div></div><div class=\"sk-parallel-item\"><div class=\"sk-item\"><div class=\"sk-label-container\"><div class=\"sk-label sk-toggleable\"><label>Model2</label></div></div><div class=\"sk-serial\"><div class=\"sk-item\"><div class=\"sk-serial\"><div class=\"sk-item sk-dashed-wrapped\"><div class=\"sk-label-container\"><div class=\"sk-label sk-toggleable\"><input class=\"sk-toggleable__control sk-hidden--visually\" id=\"sk-estimator-id-10\" type=\"checkbox\" ><label for=\"sk-estimator-id-10\" class=\"sk-toggleable__label sk-toggleable__label-arrow\">preprocessor: ColumnTransformer</label><div class=\"sk-toggleable__content\"><pre>ColumnTransformer(transformers=[(&#x27;num&#x27;,\n",
       "                                 Pipeline(steps=[(&#x27;imputer&#x27;,\n",
       "                                                  SimpleImputer(strategy=&#x27;median&#x27;)),\n",
       "                                                 (&#x27;scaler&#x27;, StandardScaler())]),\n",
       "                                 Index([&#x27;N_Days&#x27;, &#x27;Age&#x27;, &#x27;Bilirubin&#x27;, &#x27;Cholesterol&#x27;, &#x27;Albumin&#x27;, &#x27;Copper&#x27;,\n",
       "       &#x27;Alk_Phos&#x27;, &#x27;SGOT&#x27;, &#x27;Tryglicerides&#x27;, &#x27;Platelets&#x27;, &#x27;Prothrombin&#x27;,\n",
       "       &#x27;Stage&#x27;],\n",
       "      dtype=&#x27;object&#x27;)),\n",
       "                                (&#x27;cat&#x27;,\n",
       "                                 Pipeline(steps=[(&#x27;imputer&#x27;,\n",
       "                                                  SimpleImputer(strategy=&#x27;most_frequent&#x27;)),\n",
       "                                                 (&#x27;onehot&#x27;,\n",
       "                                                  OneHotEncoder(handle_unknown=&#x27;ignore&#x27;))]),\n",
       "                                 Index([&#x27;Drug&#x27;, &#x27;Sex&#x27;, &#x27;Ascites&#x27;, &#x27;Hepatomegaly&#x27;, &#x27;Spiders&#x27;, &#x27;Edema&#x27;], dtype=&#x27;object&#x27;))])</pre></div></div></div><div class=\"sk-parallel\"><div class=\"sk-parallel-item\"><div class=\"sk-item\"><div class=\"sk-label-container\"><div class=\"sk-label sk-toggleable\"><input class=\"sk-toggleable__control sk-hidden--visually\" id=\"sk-estimator-id-11\" type=\"checkbox\" ><label for=\"sk-estimator-id-11\" class=\"sk-toggleable__label sk-toggleable__label-arrow\">num</label><div class=\"sk-toggleable__content\"><pre>Index([&#x27;N_Days&#x27;, &#x27;Age&#x27;, &#x27;Bilirubin&#x27;, &#x27;Cholesterol&#x27;, &#x27;Albumin&#x27;, &#x27;Copper&#x27;,\n",
       "       &#x27;Alk_Phos&#x27;, &#x27;SGOT&#x27;, &#x27;Tryglicerides&#x27;, &#x27;Platelets&#x27;, &#x27;Prothrombin&#x27;,\n",
       "       &#x27;Stage&#x27;],\n",
       "      dtype=&#x27;object&#x27;)</pre></div></div></div><div class=\"sk-serial\"><div class=\"sk-item\"><div class=\"sk-serial\"><div class=\"sk-item\"><div class=\"sk-estimator sk-toggleable\"><input class=\"sk-toggleable__control sk-hidden--visually\" id=\"sk-estimator-id-12\" type=\"checkbox\" ><label for=\"sk-estimator-id-12\" class=\"sk-toggleable__label sk-toggleable__label-arrow\">SimpleImputer</label><div class=\"sk-toggleable__content\"><pre>SimpleImputer(strategy=&#x27;median&#x27;)</pre></div></div></div><div class=\"sk-item\"><div class=\"sk-estimator sk-toggleable\"><input class=\"sk-toggleable__control sk-hidden--visually\" id=\"sk-estimator-id-13\" type=\"checkbox\" ><label for=\"sk-estimator-id-13\" class=\"sk-toggleable__label sk-toggleable__label-arrow\">StandardScaler</label><div class=\"sk-toggleable__content\"><pre>StandardScaler()</pre></div></div></div></div></div></div></div></div><div class=\"sk-parallel-item\"><div class=\"sk-item\"><div class=\"sk-label-container\"><div class=\"sk-label sk-toggleable\"><input class=\"sk-toggleable__control sk-hidden--visually\" id=\"sk-estimator-id-14\" type=\"checkbox\" ><label for=\"sk-estimator-id-14\" class=\"sk-toggleable__label sk-toggleable__label-arrow\">cat</label><div class=\"sk-toggleable__content\"><pre>Index([&#x27;Drug&#x27;, &#x27;Sex&#x27;, &#x27;Ascites&#x27;, &#x27;Hepatomegaly&#x27;, &#x27;Spiders&#x27;, &#x27;Edema&#x27;], dtype=&#x27;object&#x27;)</pre></div></div></div><div class=\"sk-serial\"><div class=\"sk-item\"><div class=\"sk-serial\"><div class=\"sk-item\"><div class=\"sk-estimator sk-toggleable\"><input class=\"sk-toggleable__control sk-hidden--visually\" id=\"sk-estimator-id-15\" type=\"checkbox\" ><label for=\"sk-estimator-id-15\" class=\"sk-toggleable__label sk-toggleable__label-arrow\">SimpleImputer</label><div class=\"sk-toggleable__content\"><pre>SimpleImputer(strategy=&#x27;most_frequent&#x27;)</pre></div></div></div><div class=\"sk-item\"><div class=\"sk-estimator sk-toggleable\"><input class=\"sk-toggleable__control sk-hidden--visually\" id=\"sk-estimator-id-16\" type=\"checkbox\" ><label for=\"sk-estimator-id-16\" class=\"sk-toggleable__label sk-toggleable__label-arrow\">OneHotEncoder</label><div class=\"sk-toggleable__content\"><pre>OneHotEncoder(handle_unknown=&#x27;ignore&#x27;)</pre></div></div></div></div></div></div></div></div></div></div><div class=\"sk-item\"><div class=\"sk-estimator sk-toggleable\"><input class=\"sk-toggleable__control sk-hidden--visually\" id=\"sk-estimator-id-17\" type=\"checkbox\" ><label for=\"sk-estimator-id-17\" class=\"sk-toggleable__label sk-toggleable__label-arrow\">GradientBoostingClassifier</label><div class=\"sk-toggleable__content\"><pre>GradientBoostingClassifier(learning_rate=0.05885877940951943, n_estimators=300,\n",
       "                           subsample=0.5470272507158589)</pre></div></div></div></div></div></div></div></div><div class=\"sk-parallel-item\"><div class=\"sk-item\"><div class=\"sk-label-container\"><div class=\"sk-label sk-toggleable\"><label>Model3</label></div></div><div class=\"sk-serial\"><div class=\"sk-item\"><div class=\"sk-serial\"><div class=\"sk-item sk-dashed-wrapped\"><div class=\"sk-label-container\"><div class=\"sk-label sk-toggleable\"><input class=\"sk-toggleable__control sk-hidden--visually\" id=\"sk-estimator-id-18\" type=\"checkbox\" ><label for=\"sk-estimator-id-18\" class=\"sk-toggleable__label sk-toggleable__label-arrow\">preprocessor: ColumnTransformer</label><div class=\"sk-toggleable__content\"><pre>ColumnTransformer(transformers=[(&#x27;num&#x27;,\n",
       "                                 Pipeline(steps=[(&#x27;imputer&#x27;,\n",
       "                                                  SimpleImputer(strategy=&#x27;median&#x27;)),\n",
       "                                                 (&#x27;scaler&#x27;, StandardScaler())]),\n",
       "                                 Index([&#x27;N_Days&#x27;, &#x27;Age&#x27;, &#x27;Bilirubin&#x27;, &#x27;Cholesterol&#x27;, &#x27;Albumin&#x27;, &#x27;Copper&#x27;,\n",
       "       &#x27;Alk_Phos&#x27;, &#x27;SGOT&#x27;, &#x27;Tryglicerides&#x27;, &#x27;Platelets&#x27;, &#x27;Prothrombin&#x27;,\n",
       "       &#x27;Stage&#x27;],\n",
       "      dtype=&#x27;object&#x27;)),\n",
       "                                (&#x27;cat&#x27;,\n",
       "                                 Pipeline(steps=[(&#x27;imputer&#x27;,\n",
       "                                                  SimpleImputer(strategy=&#x27;most_frequent&#x27;)),\n",
       "                                                 (&#x27;onehot&#x27;,\n",
       "                                                  OneHotEncoder(handle_unknown=&#x27;ignore&#x27;))]),\n",
       "                                 Index([&#x27;Drug&#x27;, &#x27;Sex&#x27;, &#x27;Ascites&#x27;, &#x27;Hepatomegaly&#x27;, &#x27;Spiders&#x27;, &#x27;Edema&#x27;], dtype=&#x27;object&#x27;))])</pre></div></div></div><div class=\"sk-parallel\"><div class=\"sk-parallel-item\"><div class=\"sk-item\"><div class=\"sk-label-container\"><div class=\"sk-label sk-toggleable\"><input class=\"sk-toggleable__control sk-hidden--visually\" id=\"sk-estimator-id-19\" type=\"checkbox\" ><label for=\"sk-estimator-id-19\" class=\"sk-toggleable__label sk-toggleable__label-arrow\">num</label><div class=\"sk-toggleable__content\"><pre>Index([&#x27;N_Days&#x27;, &#x27;Age&#x27;, &#x27;Bilirubin&#x27;, &#x27;Cholesterol&#x27;, &#x27;Albumin&#x27;, &#x27;Copper&#x27;,\n",
       "       &#x27;Alk_Phos&#x27;, &#x27;SGOT&#x27;, &#x27;Tryglicerides&#x27;, &#x27;Platelets&#x27;, &#x27;Prothrombin&#x27;,\n",
       "       &#x27;Stage&#x27;],\n",
       "      dtype=&#x27;object&#x27;)</pre></div></div></div><div class=\"sk-serial\"><div class=\"sk-item\"><div class=\"sk-serial\"><div class=\"sk-item\"><div class=\"sk-estimator sk-toggleable\"><input class=\"sk-toggleable__control sk-hidden--visually\" id=\"sk-estimator-id-20\" type=\"checkbox\" ><label for=\"sk-estimator-id-20\" class=\"sk-toggleable__label sk-toggleable__label-arrow\">SimpleImputer</label><div class=\"sk-toggleable__content\"><pre>SimpleImputer(strategy=&#x27;median&#x27;)</pre></div></div></div><div class=\"sk-item\"><div class=\"sk-estimator sk-toggleable\"><input class=\"sk-toggleable__control sk-hidden--visually\" id=\"sk-estimator-id-21\" type=\"checkbox\" ><label for=\"sk-estimator-id-21\" class=\"sk-toggleable__label sk-toggleable__label-arrow\">StandardScaler</label><div class=\"sk-toggleable__content\"><pre>StandardScaler()</pre></div></div></div></div></div></div></div></div><div class=\"sk-parallel-item\"><div class=\"sk-item\"><div class=\"sk-label-container\"><div class=\"sk-label sk-toggleable\"><input class=\"sk-toggleable__control sk-hidden--visually\" id=\"sk-estimator-id-22\" type=\"checkbox\" ><label for=\"sk-estimator-id-22\" class=\"sk-toggleable__label sk-toggleable__label-arrow\">cat</label><div class=\"sk-toggleable__content\"><pre>Index([&#x27;Drug&#x27;, &#x27;Sex&#x27;, &#x27;Ascites&#x27;, &#x27;Hepatomegaly&#x27;, &#x27;Spiders&#x27;, &#x27;Edema&#x27;], dtype=&#x27;object&#x27;)</pre></div></div></div><div class=\"sk-serial\"><div class=\"sk-item\"><div class=\"sk-serial\"><div class=\"sk-item\"><div class=\"sk-estimator sk-toggleable\"><input class=\"sk-toggleable__control sk-hidden--visually\" id=\"sk-estimator-id-23\" type=\"checkbox\" ><label for=\"sk-estimator-id-23\" class=\"sk-toggleable__label sk-toggleable__label-arrow\">SimpleImputer</label><div class=\"sk-toggleable__content\"><pre>SimpleImputer(strategy=&#x27;most_frequent&#x27;)</pre></div></div></div><div class=\"sk-item\"><div class=\"sk-estimator sk-toggleable\"><input class=\"sk-toggleable__control sk-hidden--visually\" id=\"sk-estimator-id-24\" type=\"checkbox\" ><label for=\"sk-estimator-id-24\" class=\"sk-toggleable__label sk-toggleable__label-arrow\">OneHotEncoder</label><div class=\"sk-toggleable__content\"><pre>OneHotEncoder(handle_unknown=&#x27;ignore&#x27;)</pre></div></div></div></div></div></div></div></div></div></div><div class=\"sk-item\"><div class=\"sk-estimator sk-toggleable\"><input class=\"sk-toggleable__control sk-hidden--visually\" id=\"sk-estimator-id-25\" type=\"checkbox\" ><label for=\"sk-estimator-id-25\" class=\"sk-toggleable__label sk-toggleable__label-arrow\">LGBMClassifier</label><div class=\"sk-toggleable__content\"><pre>LGBMClassifier(colsample_bytree=0.7901846422576978,\n",
       "               learning_rate=0.09945716175211072, num_leaves=10,\n",
       "               reg_alpha=0.9399890733575376, reg_lambda=0.39927135467931296,\n",
       "               subsample=0.638372746835219)</pre></div></div></div></div></div></div></div></div><div class=\"sk-parallel-item\"><div class=\"sk-item\"><div class=\"sk-label-container\"><div class=\"sk-label sk-toggleable\"><label>Model4</label></div></div><div class=\"sk-serial\"><div class=\"sk-item\"><div class=\"sk-serial\"><div class=\"sk-item sk-dashed-wrapped\"><div class=\"sk-label-container\"><div class=\"sk-label sk-toggleable\"><input class=\"sk-toggleable__control sk-hidden--visually\" id=\"sk-estimator-id-26\" type=\"checkbox\" ><label for=\"sk-estimator-id-26\" class=\"sk-toggleable__label sk-toggleable__label-arrow\">preprocessor: ColumnTransformer</label><div class=\"sk-toggleable__content\"><pre>ColumnTransformer(transformers=[(&#x27;num&#x27;,\n",
       "                                 Pipeline(steps=[(&#x27;imputer&#x27;,\n",
       "                                                  SimpleImputer(strategy=&#x27;median&#x27;)),\n",
       "                                                 (&#x27;scaler&#x27;, StandardScaler())]),\n",
       "                                 Index([&#x27;N_Days&#x27;, &#x27;Age&#x27;, &#x27;Bilirubin&#x27;, &#x27;Cholesterol&#x27;, &#x27;Albumin&#x27;, &#x27;Copper&#x27;,\n",
       "       &#x27;Alk_Phos&#x27;, &#x27;SGOT&#x27;, &#x27;Tryglicerides&#x27;, &#x27;Platelets&#x27;, &#x27;Prothrombin&#x27;,\n",
       "       &#x27;Stage&#x27;],\n",
       "      dtype=&#x27;object&#x27;)),\n",
       "                                (&#x27;cat&#x27;,\n",
       "                                 Pipeline(steps=[(&#x27;imputer&#x27;,\n",
       "                                                  SimpleImputer(strategy=&#x27;most_frequent&#x27;)),\n",
       "                                                 (&#x27;onehot&#x27;,\n",
       "                                                  OneHotEncoder(handle_unknown=&#x27;ignore&#x27;))]),\n",
       "                                 Index([&#x27;Drug&#x27;, &#x27;Sex&#x27;, &#x27;Ascites&#x27;, &#x27;Hepatomegaly&#x27;, &#x27;Spiders&#x27;, &#x27;Edema&#x27;], dtype=&#x27;object&#x27;))])</pre></div></div></div><div class=\"sk-parallel\"><div class=\"sk-parallel-item\"><div class=\"sk-item\"><div class=\"sk-label-container\"><div class=\"sk-label sk-toggleable\"><input class=\"sk-toggleable__control sk-hidden--visually\" id=\"sk-estimator-id-27\" type=\"checkbox\" ><label for=\"sk-estimator-id-27\" class=\"sk-toggleable__label sk-toggleable__label-arrow\">num</label><div class=\"sk-toggleable__content\"><pre>Index([&#x27;N_Days&#x27;, &#x27;Age&#x27;, &#x27;Bilirubin&#x27;, &#x27;Cholesterol&#x27;, &#x27;Albumin&#x27;, &#x27;Copper&#x27;,\n",
       "       &#x27;Alk_Phos&#x27;, &#x27;SGOT&#x27;, &#x27;Tryglicerides&#x27;, &#x27;Platelets&#x27;, &#x27;Prothrombin&#x27;,\n",
       "       &#x27;Stage&#x27;],\n",
       "      dtype=&#x27;object&#x27;)</pre></div></div></div><div class=\"sk-serial\"><div class=\"sk-item\"><div class=\"sk-serial\"><div class=\"sk-item\"><div class=\"sk-estimator sk-toggleable\"><input class=\"sk-toggleable__control sk-hidden--visually\" id=\"sk-estimator-id-28\" type=\"checkbox\" ><label for=\"sk-estimator-id-28\" class=\"sk-toggleable__label sk-toggleable__label-arrow\">SimpleImputer</label><div class=\"sk-toggleable__content\"><pre>SimpleImputer(strategy=&#x27;median&#x27;)</pre></div></div></div><div class=\"sk-item\"><div class=\"sk-estimator sk-toggleable\"><input class=\"sk-toggleable__control sk-hidden--visually\" id=\"sk-estimator-id-29\" type=\"checkbox\" ><label for=\"sk-estimator-id-29\" class=\"sk-toggleable__label sk-toggleable__label-arrow\">StandardScaler</label><div class=\"sk-toggleable__content\"><pre>StandardScaler()</pre></div></div></div></div></div></div></div></div><div class=\"sk-parallel-item\"><div class=\"sk-item\"><div class=\"sk-label-container\"><div class=\"sk-label sk-toggleable\"><input class=\"sk-toggleable__control sk-hidden--visually\" id=\"sk-estimator-id-30\" type=\"checkbox\" ><label for=\"sk-estimator-id-30\" class=\"sk-toggleable__label sk-toggleable__label-arrow\">cat</label><div class=\"sk-toggleable__content\"><pre>Index([&#x27;Drug&#x27;, &#x27;Sex&#x27;, &#x27;Ascites&#x27;, &#x27;Hepatomegaly&#x27;, &#x27;Spiders&#x27;, &#x27;Edema&#x27;], dtype=&#x27;object&#x27;)</pre></div></div></div><div class=\"sk-serial\"><div class=\"sk-item\"><div class=\"sk-serial\"><div class=\"sk-item\"><div class=\"sk-estimator sk-toggleable\"><input class=\"sk-toggleable__control sk-hidden--visually\" id=\"sk-estimator-id-31\" type=\"checkbox\" ><label for=\"sk-estimator-id-31\" class=\"sk-toggleable__label sk-toggleable__label-arrow\">SimpleImputer</label><div class=\"sk-toggleable__content\"><pre>SimpleImputer(strategy=&#x27;most_frequent&#x27;)</pre></div></div></div><div class=\"sk-item\"><div class=\"sk-estimator sk-toggleable\"><input class=\"sk-toggleable__control sk-hidden--visually\" id=\"sk-estimator-id-32\" type=\"checkbox\" ><label for=\"sk-estimator-id-32\" class=\"sk-toggleable__label sk-toggleable__label-arrow\">OneHotEncoder</label><div class=\"sk-toggleable__content\"><pre>OneHotEncoder(handle_unknown=&#x27;ignore&#x27;)</pre></div></div></div></div></div></div></div></div></div></div><div class=\"sk-item\"><div class=\"sk-estimator sk-toggleable\"><input class=\"sk-toggleable__control sk-hidden--visually\" id=\"sk-estimator-id-33\" type=\"checkbox\" ><label for=\"sk-estimator-id-33\" class=\"sk-toggleable__label sk-toggleable__label-arrow\">CatBoostClassifier</label><div class=\"sk-toggleable__content\"><pre>&lt;catboost.core.CatBoostClassifier object at 0x7b7fe539bc40&gt;</pre></div></div></div></div></div></div></div></div></div></div></div></div>"
      ],
      "text/plain": [
       "VotingClassifier(estimators=[('Model1',\n",
       "                              Pipeline(steps=[('preprocessor',\n",
       "                                               ColumnTransformer(transformers=[('num',\n",
       "                                                                                Pipeline(steps=[('imputer',\n",
       "                                                                                                 SimpleImputer(strategy='median')),\n",
       "                                                                                                ('scaler',\n",
       "                                                                                                 StandardScaler())]),\n",
       "                                                                                Index(['N_Days', 'Age', 'Bilirubin', 'Cholesterol', 'Albumin', 'Copper',\n",
       "       'Alk_Phos', 'SGOT', 'Tryglicerides', 'Platelets', 'Prothrombin',\n",
       "       'Stage'],\n",
       "      dtype='object...\n",
       "       'Alk_Phos', 'SGOT', 'Tryglicerides', 'Platelets', 'Prothrombin',\n",
       "       'Stage'],\n",
       "      dtype='object')),\n",
       "                                                                               ('cat',\n",
       "                                                                                Pipeline(steps=[('imputer',\n",
       "                                                                                                 SimpleImputer(strategy='most_frequent')),\n",
       "                                                                                                ('onehot',\n",
       "                                                                                                 OneHotEncoder(handle_unknown='ignore'))]),\n",
       "                                                                                Index(['Drug', 'Sex', 'Ascites', 'Hepatomegaly', 'Spiders', 'Edema'], dtype='object'))])),\n",
       "                                              ('model',\n",
       "                                               <catboost.core.CatBoostClassifier object at 0x7b7fe539bc40>)]))],\n",
       "                 voting='soft')"
      ]
     },
     "execution_count": 14,
     "metadata": {},
     "output_type": "execute_result"
    }
   ],
   "source": [
    "# Create a VotingClassifier with the three XGBoost models\n",
    "voting = VotingClassifier(estimators=[\n",
    "    ('Model1', XBG_pipeline),\n",
    "    ('Model2', Gradient_pipeline),\n",
    "    ('Model3', LGBM_pipeline),\n",
    "    ('Model4', Cat_pipeline)\n",
    "], voting='soft')\n",
    "\n",
    "\n",
    "\n",
    "voting.fit(X, y)"
   ]
  },
  {
   "cell_type": "markdown",
   "id": "76df407d",
   "metadata": {
    "papermill": {
     "duration": 0.008028,
     "end_time": "2023-12-26T06:36:56.547978",
     "exception": false,
     "start_time": "2023-12-26T06:36:56.539950",
     "status": "completed"
    },
    "tags": []
   },
   "source": [
    "# 📊Generate Predictions and Create Submission File"
   ]
  },
  {
   "cell_type": "code",
   "execution_count": 15,
   "id": "448acdd5",
   "metadata": {
    "execution": {
     "iopub.execute_input": "2023-12-26T06:36:56.565546Z",
     "iopub.status.busy": "2023-12-26T06:36:56.565162Z",
     "iopub.status.idle": "2023-12-26T06:36:56.952422Z",
     "shell.execute_reply": "2023-12-26T06:36:56.951222Z"
    },
    "papermill": {
     "duration": 0.399357,
     "end_time": "2023-12-26T06:36:56.955172",
     "exception": false,
     "start_time": "2023-12-26T06:36:56.555815",
     "status": "completed"
    },
    "tags": []
   },
   "outputs": [],
   "source": [
    "predict = voting.predict_proba(test)\n",
    "\n",
    "sub = pd.read_csv('/kaggle/input/playground-series-s3e26/sample_submission.csv')\n",
    "\n",
    "sub[['Status_C', 'Status_CL', 'Status_D']] = predict\n",
    "\n",
    "sub.to_csv('sample_submission.csv', index = False)"
   ]
  },
  {
   "cell_type": "code",
   "execution_count": 16,
   "id": "3f6cdcba",
   "metadata": {
    "execution": {
     "iopub.execute_input": "2023-12-26T06:36:56.974443Z",
     "iopub.status.busy": "2023-12-26T06:36:56.973486Z",
     "iopub.status.idle": "2023-12-26T06:36:56.989552Z",
     "shell.execute_reply": "2023-12-26T06:36:56.988322Z"
    },
    "papermill": {
     "duration": 0.028575,
     "end_time": "2023-12-26T06:36:56.992053",
     "exception": false,
     "start_time": "2023-12-26T06:36:56.963478",
     "status": "completed"
    },
    "tags": []
   },
   "outputs": [
    {
     "data": {
      "text/html": [
       "<div>\n",
       "<style scoped>\n",
       "    .dataframe tbody tr th:only-of-type {\n",
       "        vertical-align: middle;\n",
       "    }\n",
       "\n",
       "    .dataframe tbody tr th {\n",
       "        vertical-align: top;\n",
       "    }\n",
       "\n",
       "    .dataframe thead th {\n",
       "        text-align: right;\n",
       "    }\n",
       "</style>\n",
       "<table border=\"1\" class=\"dataframe\">\n",
       "  <thead>\n",
       "    <tr style=\"text-align: right;\">\n",
       "      <th></th>\n",
       "      <th>id</th>\n",
       "      <th>Status_C</th>\n",
       "      <th>Status_CL</th>\n",
       "      <th>Status_D</th>\n",
       "    </tr>\n",
       "  </thead>\n",
       "  <tbody>\n",
       "    <tr>\n",
       "      <th>0</th>\n",
       "      <td>7905</td>\n",
       "      <td>0.519229</td>\n",
       "      <td>0.031170</td>\n",
       "      <td>0.449601</td>\n",
       "    </tr>\n",
       "    <tr>\n",
       "      <th>1</th>\n",
       "      <td>7906</td>\n",
       "      <td>0.469913</td>\n",
       "      <td>0.250726</td>\n",
       "      <td>0.279361</td>\n",
       "    </tr>\n",
       "    <tr>\n",
       "      <th>2</th>\n",
       "      <td>7907</td>\n",
       "      <td>0.029649</td>\n",
       "      <td>0.014825</td>\n",
       "      <td>0.955526</td>\n",
       "    </tr>\n",
       "    <tr>\n",
       "      <th>3</th>\n",
       "      <td>7908</td>\n",
       "      <td>0.952499</td>\n",
       "      <td>0.003781</td>\n",
       "      <td>0.043720</td>\n",
       "    </tr>\n",
       "    <tr>\n",
       "      <th>4</th>\n",
       "      <td>7909</td>\n",
       "      <td>0.854073</td>\n",
       "      <td>0.038712</td>\n",
       "      <td>0.107216</td>\n",
       "    </tr>\n",
       "  </tbody>\n",
       "</table>\n",
       "</div>"
      ],
      "text/plain": [
       "     id  Status_C  Status_CL  Status_D\n",
       "0  7905  0.519229   0.031170  0.449601\n",
       "1  7906  0.469913   0.250726  0.279361\n",
       "2  7907  0.029649   0.014825  0.955526\n",
       "3  7908  0.952499   0.003781  0.043720\n",
       "4  7909  0.854073   0.038712  0.107216"
      ]
     },
     "execution_count": 16,
     "metadata": {},
     "output_type": "execute_result"
    }
   ],
   "source": [
    "sub.head()"
   ]
  }
 ],
 "metadata": {
  "kaggle": {
   "accelerator": "none",
   "dataSources": [
    {
     "databundleVersionId": 7000181,
     "sourceId": 60893,
     "sourceType": "competition"
    },
    {
     "datasetId": 3873965,
     "sourceId": 6724823,
     "sourceType": "datasetVersion"
    }
   ],
   "dockerImageVersionId": 30626,
   "isGpuEnabled": false,
   "isInternetEnabled": true,
   "language": "python",
   "sourceType": "notebook"
  },
  "kernelspec": {
   "display_name": "Python 3",
   "language": "python",
   "name": "python3"
  },
  "language_info": {
   "codemirror_mode": {
    "name": "ipython",
    "version": 3
   },
   "file_extension": ".py",
   "mimetype": "text/x-python",
   "name": "python",
   "nbconvert_exporter": "python",
   "pygments_lexer": "ipython3",
   "version": "3.10.12"
  },
  "papermill": {
   "default_parameters": {},
   "duration": 49.996083,
   "end_time": "2023-12-26T06:36:57.924757",
   "environment_variables": {},
   "exception": null,
   "input_path": "__notebook__.ipynb",
   "output_path": "__notebook__.ipynb",
   "parameters": {},
   "start_time": "2023-12-26T06:36:07.928674",
   "version": "2.4.0"
  }
 },
 "nbformat": 4,
 "nbformat_minor": 5
}
