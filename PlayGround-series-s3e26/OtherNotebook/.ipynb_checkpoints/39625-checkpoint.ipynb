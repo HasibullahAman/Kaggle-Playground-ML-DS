{
 "cells": [
  {
   "cell_type": "markdown",
   "id": "3fa11785",
   "metadata": {
    "papermill": {
     "duration": 0.015742,
     "end_time": "2023-12-26T14:20:42.457753",
     "exception": false,
     "start_time": "2023-12-26T14:20:42.442011",
     "status": "completed"
    },
    "tags": []
   },
   "source": [
    "# Intro"
   ]
  },
  {
   "cell_type": "markdown",
   "id": "c8acf5ea",
   "metadata": {
    "papermill": {
     "duration": 0.013924,
     "end_time": "2023-12-26T14:20:42.486965",
     "exception": false,
     "start_time": "2023-12-26T14:20:42.473041",
     "status": "completed"
    },
    "tags": []
   },
   "source": [
    "**The main goal** For this notebook is to use a multi-class approach to predict the the outcomes of patients with cirrhosis."
   ]
  },
  {
   "cell_type": "markdown",
   "id": "2bd87439",
   "metadata": {
    "papermill": {
     "duration": 0.015021,
     "end_time": "2023-12-26T14:20:42.516410",
     "exception": false,
     "start_time": "2023-12-26T14:20:42.501389",
     "status": "completed"
    },
    "tags": []
   },
   "source": [
    "### About Dataset\n",
    "\n",
    "Utilize 17 clinical features for predicting survival state of patients with liver cirrhosis. The survival states include `0 = D (death)`, `1 = C (censored)`, `2 = CL (censored due to liver transplantation)`.\n",
    "\n",
    "\n",
    "**For what purpose was the dataset created?**\n",
    "\n",
    "Cirrhosis results from prolonged liver damage, leading to extensive scarring, often due to conditions like hepatitis or chronic alcohol consumption. The data provided is sourced from a Mayo Clinic study on primary biliary cirrhosis (PBC) of the liver carried out from 1974 to 1984.\n",
    "\n",
    "**Who funded the creation of the dataset?**\n",
    "\n",
    "Mayo Clinic\n",
    "\n",
    "**What do the instances in this dataset represent?**\n",
    "\n",
    "People\n",
    "\n",
    "**Does the dataset contain data that might be considered sensitive in any way?**\n",
    "\n",
    "Gender, Age\n",
    "\n",
    "**Was there any data preprocessing performed?**\n",
    "\n",
    "1. Drop all the rows where miss value (NA) were present in the Drug column\n",
    "2. Impute missing values with mean results\n",
    "3. One-hot encoding for all category attributes\n",
    "\n",
    "**Additional Information**\n",
    "\n",
    "During 1974 to 1984, 424 PBC patients referred to the Mayo Clinic qualified for the randomized placebo-controlled trial testing the drug D-penicillamine. Of these, the initial 312 patients took part in the trial and have mostly comprehensive data. The remaining 112 patients didn't join the clinical trial but agreed to record basic metrics and undergo survival tracking. Six of these patients were soon untraceable after their diagnosis, leaving data for 106 of these individuals in addition to the 312 who were part of the randomized trial.\n",
    "\n"
   ]
  },
  {
   "cell_type": "code",
   "execution_count": 52,
   "id": "03814caa",
   "metadata": {
    "_cell_guid": "b1076dfc-b9ad-4769-8c92-a6c4dae69d19",
    "_uuid": "8f2839f25d086af736a60e9eeb907d3b93b6e0e5",
    "papermill": {
     "duration": 0.339347,
     "end_time": "2023-12-26T14:20:42.870375",
     "exception": false,
     "start_time": "2023-12-26T14:20:42.531028",
     "status": "completed"
    },
    "tags": []
   },
   "outputs": [],
   "source": [
    "# This Python 3 environment comes with many helpful analytics libraries installed\n",
    "# It is defined by the kaggle/python Docker image: https://github.com/kaggle/docker-python\n",
    "# For example, here's several helpful packages to load\n",
    "\n",
    "import numpy as np # linear algebra\n",
    "import pandas as pd # data processing, CSV file I/O (e.g. pd.read_csv)\n",
    "\n",
    "# Input data files are available in the read-only \"../input/\" directory\n",
    "# For example, running this (by clicking run or pressing Shift+Enter) will list all files under the input directory\n",
    "\n",
    "import os\n",
    "for dirname, _, filenames in os.walk('/kaggle/input'):\n",
    "    for filename in filenames:\n",
    "        print(os.path.join(dirname, filename))\n",
    "\n",
    "# You can write up to 20GB to the current directory (/kaggle/working/) that gets preserved as output when you create a version using \"Save & Run All\" \n",
    "# You can also write temporary files to /kaggle/temp/, but they won't be saved outside of the current session"
   ]
  },
  {
   "cell_type": "markdown",
   "id": "0f8a2606",
   "metadata": {
    "papermill": {
     "duration": 0.013953,
     "end_time": "2023-12-26T14:20:42.898513",
     "exception": false,
     "start_time": "2023-12-26T14:20:42.884560",
     "status": "completed"
    },
    "tags": []
   },
   "source": [
    "# Load Packages"
   ]
  },
  {
   "cell_type": "code",
   "execution_count": 53,
   "id": "2bd0d9f6",
   "metadata": {
    "papermill": {
     "duration": 3.604696,
     "end_time": "2023-12-26T14:20:46.517384",
     "exception": false,
     "start_time": "2023-12-26T14:20:42.912688",
     "status": "completed"
    },
    "tags": []
   },
   "outputs": [],
   "source": [
    "import optuna\n",
    "import warnings \n",
    "import numpy as np\n",
    "import pandas as pd \n",
    "import seaborn as sns\n",
    "import matplotlib.pyplot as plt\n",
    "\n",
    "from sklearn.preprocessing import LabelEncoder\n",
    "from sklearn.model_selection import train_test_split, cross_val_score, GridSearchCV\n",
    "from sklearn.impute import SimpleImputer\n",
    "\n",
    "import xgboost as xgb\n",
    "from xgboost import XGBClassifier\n",
    "from catboost import CatBoostClassifier\n",
    "from sklearn.ensemble import RandomForestClassifier\n",
    "\n",
    "from sklearn.metrics import precision_score, recall_score, f1_score, accuracy_score, log_loss\n",
    "\n",
    "sns.set_style('darkgrid')\n",
    "%matplotlib inline"
   ]
  },
  {
   "cell_type": "markdown",
   "id": "f2b5842f",
   "metadata": {
    "papermill": {
     "duration": 0.014663,
     "end_time": "2023-12-26T14:20:46.548120",
     "exception": false,
     "start_time": "2023-12-26T14:20:46.533457",
     "status": "completed"
    },
    "tags": []
   },
   "source": [
    "# Load Data"
   ]
  },
  {
   "cell_type": "code",
   "execution_count": 54,
   "id": "c3968ee4",
   "metadata": {
    "papermill": {
     "duration": 0.079171,
     "end_time": "2023-12-26T14:20:46.642025",
     "exception": false,
     "start_time": "2023-12-26T14:20:46.562854",
     "status": "completed"
    },
    "tags": []
   },
   "outputs": [
    {
     "data": {
      "text/plain": [
       "((7905, 20), (5271, 19))"
      ]
     },
     "execution_count": 54,
     "metadata": {},
     "output_type": "execute_result"
    }
   ],
   "source": [
    "# Load the competition's data\n",
    "train = pd.read_csv('../Data/train.csv')\n",
    "test = pd.read_csv('../Data/test.csv')\n",
    "\n",
    "train.shape, test.shape"
   ]
  },
  {
   "cell_type": "code",
   "execution_count": 55,
   "id": "314a24c2",
   "metadata": {
    "papermill": {
     "duration": 0.032755,
     "end_time": "2023-12-26T14:20:46.744688",
     "exception": false,
     "start_time": "2023-12-26T14:20:46.711933",
     "status": "completed"
    },
    "tags": []
   },
   "outputs": [
    {
     "data": {
      "text/plain": [
       "(418, 20)"
      ]
     },
     "execution_count": 55,
     "metadata": {},
     "output_type": "execute_result"
    }
   ],
   "source": [
    "# Load the original dataset\n",
    "org_data = pd.read_csv('../Data/cirrhosis.csv')\n",
    "org_data.shape"
   ]
  },
  {
   "cell_type": "code",
   "execution_count": 56,
   "id": "515f8286",
   "metadata": {
    "papermill": {
     "duration": 0.046571,
     "end_time": "2023-12-26T14:20:46.805756",
     "exception": false,
     "start_time": "2023-12-26T14:20:46.759185",
     "status": "completed"
    },
    "tags": []
   },
   "outputs": [
    {
     "data": {
      "text/html": [
       "<div>\n",
       "<style scoped>\n",
       "    .dataframe tbody tr th:only-of-type {\n",
       "        vertical-align: middle;\n",
       "    }\n",
       "\n",
       "    .dataframe tbody tr th {\n",
       "        vertical-align: top;\n",
       "    }\n",
       "\n",
       "    .dataframe thead th {\n",
       "        text-align: right;\n",
       "    }\n",
       "</style>\n",
       "<table border=\"1\" class=\"dataframe\">\n",
       "  <thead>\n",
       "    <tr style=\"text-align: right;\">\n",
       "      <th></th>\n",
       "      <th>id</th>\n",
       "      <th>N_Days</th>\n",
       "      <th>Drug</th>\n",
       "      <th>Age</th>\n",
       "      <th>Sex</th>\n",
       "      <th>Ascites</th>\n",
       "      <th>Hepatomegaly</th>\n",
       "      <th>Spiders</th>\n",
       "      <th>Edema</th>\n",
       "      <th>Bilirubin</th>\n",
       "      <th>Cholesterol</th>\n",
       "      <th>Albumin</th>\n",
       "      <th>Copper</th>\n",
       "      <th>Alk_Phos</th>\n",
       "      <th>SGOT</th>\n",
       "      <th>Tryglicerides</th>\n",
       "      <th>Platelets</th>\n",
       "      <th>Prothrombin</th>\n",
       "      <th>Stage</th>\n",
       "      <th>Status</th>\n",
       "    </tr>\n",
       "  </thead>\n",
       "  <tbody>\n",
       "    <tr>\n",
       "      <th>0</th>\n",
       "      <td>0</td>\n",
       "      <td>999</td>\n",
       "      <td>D-penicillamine</td>\n",
       "      <td>21532</td>\n",
       "      <td>M</td>\n",
       "      <td>N</td>\n",
       "      <td>N</td>\n",
       "      <td>N</td>\n",
       "      <td>N</td>\n",
       "      <td>2.3</td>\n",
       "      <td>316.0</td>\n",
       "      <td>3.35</td>\n",
       "      <td>172.0</td>\n",
       "      <td>1601.0</td>\n",
       "      <td>179.80</td>\n",
       "      <td>63.0</td>\n",
       "      <td>394.0</td>\n",
       "      <td>9.7</td>\n",
       "      <td>3.0</td>\n",
       "      <td>D</td>\n",
       "    </tr>\n",
       "    <tr>\n",
       "      <th>1</th>\n",
       "      <td>1</td>\n",
       "      <td>2574</td>\n",
       "      <td>Placebo</td>\n",
       "      <td>19237</td>\n",
       "      <td>F</td>\n",
       "      <td>N</td>\n",
       "      <td>N</td>\n",
       "      <td>N</td>\n",
       "      <td>N</td>\n",
       "      <td>0.9</td>\n",
       "      <td>364.0</td>\n",
       "      <td>3.54</td>\n",
       "      <td>63.0</td>\n",
       "      <td>1440.0</td>\n",
       "      <td>134.85</td>\n",
       "      <td>88.0</td>\n",
       "      <td>361.0</td>\n",
       "      <td>11.0</td>\n",
       "      <td>3.0</td>\n",
       "      <td>C</td>\n",
       "    </tr>\n",
       "    <tr>\n",
       "      <th>2</th>\n",
       "      <td>2</td>\n",
       "      <td>3428</td>\n",
       "      <td>Placebo</td>\n",
       "      <td>13727</td>\n",
       "      <td>F</td>\n",
       "      <td>N</td>\n",
       "      <td>Y</td>\n",
       "      <td>Y</td>\n",
       "      <td>Y</td>\n",
       "      <td>3.3</td>\n",
       "      <td>299.0</td>\n",
       "      <td>3.55</td>\n",
       "      <td>131.0</td>\n",
       "      <td>1029.0</td>\n",
       "      <td>119.35</td>\n",
       "      <td>50.0</td>\n",
       "      <td>199.0</td>\n",
       "      <td>11.7</td>\n",
       "      <td>4.0</td>\n",
       "      <td>D</td>\n",
       "    </tr>\n",
       "    <tr>\n",
       "      <th>3</th>\n",
       "      <td>3</td>\n",
       "      <td>2576</td>\n",
       "      <td>Placebo</td>\n",
       "      <td>18460</td>\n",
       "      <td>F</td>\n",
       "      <td>N</td>\n",
       "      <td>N</td>\n",
       "      <td>N</td>\n",
       "      <td>N</td>\n",
       "      <td>0.6</td>\n",
       "      <td>256.0</td>\n",
       "      <td>3.50</td>\n",
       "      <td>58.0</td>\n",
       "      <td>1653.0</td>\n",
       "      <td>71.30</td>\n",
       "      <td>96.0</td>\n",
       "      <td>269.0</td>\n",
       "      <td>10.7</td>\n",
       "      <td>3.0</td>\n",
       "      <td>C</td>\n",
       "    </tr>\n",
       "    <tr>\n",
       "      <th>4</th>\n",
       "      <td>4</td>\n",
       "      <td>788</td>\n",
       "      <td>Placebo</td>\n",
       "      <td>16658</td>\n",
       "      <td>F</td>\n",
       "      <td>N</td>\n",
       "      <td>Y</td>\n",
       "      <td>N</td>\n",
       "      <td>N</td>\n",
       "      <td>1.1</td>\n",
       "      <td>346.0</td>\n",
       "      <td>3.65</td>\n",
       "      <td>63.0</td>\n",
       "      <td>1181.0</td>\n",
       "      <td>125.55</td>\n",
       "      <td>96.0</td>\n",
       "      <td>298.0</td>\n",
       "      <td>10.6</td>\n",
       "      <td>4.0</td>\n",
       "      <td>C</td>\n",
       "    </tr>\n",
       "  </tbody>\n",
       "</table>\n",
       "</div>"
      ],
      "text/plain": [
       "   id  N_Days             Drug    Age Sex Ascites Hepatomegaly Spiders Edema  \\\n",
       "0   0     999  D-penicillamine  21532   M       N            N       N     N   \n",
       "1   1    2574          Placebo  19237   F       N            N       N     N   \n",
       "2   2    3428          Placebo  13727   F       N            Y       Y     Y   \n",
       "3   3    2576          Placebo  18460   F       N            N       N     N   \n",
       "4   4     788          Placebo  16658   F       N            Y       N     N   \n",
       "\n",
       "   Bilirubin  Cholesterol  Albumin  Copper  Alk_Phos    SGOT  Tryglicerides  \\\n",
       "0        2.3        316.0     3.35   172.0    1601.0  179.80           63.0   \n",
       "1        0.9        364.0     3.54    63.0    1440.0  134.85           88.0   \n",
       "2        3.3        299.0     3.55   131.0    1029.0  119.35           50.0   \n",
       "3        0.6        256.0     3.50    58.0    1653.0   71.30           96.0   \n",
       "4        1.1        346.0     3.65    63.0    1181.0  125.55           96.0   \n",
       "\n",
       "   Platelets  Prothrombin  Stage Status  \n",
       "0      394.0          9.7    3.0      D  \n",
       "1      361.0         11.0    3.0      C  \n",
       "2      199.0         11.7    4.0      D  \n",
       "3      269.0         10.7    3.0      C  \n",
       "4      298.0         10.6    4.0      C  "
      ]
     },
     "execution_count": 56,
     "metadata": {},
     "output_type": "execute_result"
    }
   ],
   "source": [
    "train.head()"
   ]
  },
  {
   "cell_type": "code",
   "execution_count": 57,
   "id": "a13f9113",
   "metadata": {
    "papermill": {
     "duration": 0.036691,
     "end_time": "2023-12-26T14:20:46.856883",
     "exception": false,
     "start_time": "2023-12-26T14:20:46.820192",
     "status": "completed"
    },
    "tags": []
   },
   "outputs": [
    {
     "data": {
      "text/html": [
       "<div>\n",
       "<style scoped>\n",
       "    .dataframe tbody tr th:only-of-type {\n",
       "        vertical-align: middle;\n",
       "    }\n",
       "\n",
       "    .dataframe tbody tr th {\n",
       "        vertical-align: top;\n",
       "    }\n",
       "\n",
       "    .dataframe thead th {\n",
       "        text-align: right;\n",
       "    }\n",
       "</style>\n",
       "<table border=\"1\" class=\"dataframe\">\n",
       "  <thead>\n",
       "    <tr style=\"text-align: right;\">\n",
       "      <th></th>\n",
       "      <th>ID</th>\n",
       "      <th>N_Days</th>\n",
       "      <th>Status</th>\n",
       "      <th>Drug</th>\n",
       "      <th>Age</th>\n",
       "      <th>Sex</th>\n",
       "      <th>Ascites</th>\n",
       "      <th>Hepatomegaly</th>\n",
       "      <th>Spiders</th>\n",
       "      <th>Edema</th>\n",
       "      <th>Bilirubin</th>\n",
       "      <th>Cholesterol</th>\n",
       "      <th>Albumin</th>\n",
       "      <th>Copper</th>\n",
       "      <th>Alk_Phos</th>\n",
       "      <th>SGOT</th>\n",
       "      <th>Tryglicerides</th>\n",
       "      <th>Platelets</th>\n",
       "      <th>Prothrombin</th>\n",
       "      <th>Stage</th>\n",
       "    </tr>\n",
       "  </thead>\n",
       "  <tbody>\n",
       "    <tr>\n",
       "      <th>0</th>\n",
       "      <td>1</td>\n",
       "      <td>400</td>\n",
       "      <td>D</td>\n",
       "      <td>D-penicillamine</td>\n",
       "      <td>21464</td>\n",
       "      <td>F</td>\n",
       "      <td>Y</td>\n",
       "      <td>Y</td>\n",
       "      <td>Y</td>\n",
       "      <td>Y</td>\n",
       "      <td>14.5</td>\n",
       "      <td>261.0</td>\n",
       "      <td>2.60</td>\n",
       "      <td>156.0</td>\n",
       "      <td>1718.0</td>\n",
       "      <td>137.95</td>\n",
       "      <td>172.0</td>\n",
       "      <td>190.0</td>\n",
       "      <td>12.2</td>\n",
       "      <td>4.0</td>\n",
       "    </tr>\n",
       "    <tr>\n",
       "      <th>1</th>\n",
       "      <td>2</td>\n",
       "      <td>4500</td>\n",
       "      <td>C</td>\n",
       "      <td>D-penicillamine</td>\n",
       "      <td>20617</td>\n",
       "      <td>F</td>\n",
       "      <td>N</td>\n",
       "      <td>Y</td>\n",
       "      <td>Y</td>\n",
       "      <td>N</td>\n",
       "      <td>1.1</td>\n",
       "      <td>302.0</td>\n",
       "      <td>4.14</td>\n",
       "      <td>54.0</td>\n",
       "      <td>7394.8</td>\n",
       "      <td>113.52</td>\n",
       "      <td>88.0</td>\n",
       "      <td>221.0</td>\n",
       "      <td>10.6</td>\n",
       "      <td>3.0</td>\n",
       "    </tr>\n",
       "    <tr>\n",
       "      <th>2</th>\n",
       "      <td>3</td>\n",
       "      <td>1012</td>\n",
       "      <td>D</td>\n",
       "      <td>D-penicillamine</td>\n",
       "      <td>25594</td>\n",
       "      <td>M</td>\n",
       "      <td>N</td>\n",
       "      <td>N</td>\n",
       "      <td>N</td>\n",
       "      <td>S</td>\n",
       "      <td>1.4</td>\n",
       "      <td>176.0</td>\n",
       "      <td>3.48</td>\n",
       "      <td>210.0</td>\n",
       "      <td>516.0</td>\n",
       "      <td>96.10</td>\n",
       "      <td>55.0</td>\n",
       "      <td>151.0</td>\n",
       "      <td>12.0</td>\n",
       "      <td>4.0</td>\n",
       "    </tr>\n",
       "    <tr>\n",
       "      <th>3</th>\n",
       "      <td>4</td>\n",
       "      <td>1925</td>\n",
       "      <td>D</td>\n",
       "      <td>D-penicillamine</td>\n",
       "      <td>19994</td>\n",
       "      <td>F</td>\n",
       "      <td>N</td>\n",
       "      <td>Y</td>\n",
       "      <td>Y</td>\n",
       "      <td>S</td>\n",
       "      <td>1.8</td>\n",
       "      <td>244.0</td>\n",
       "      <td>2.54</td>\n",
       "      <td>64.0</td>\n",
       "      <td>6121.8</td>\n",
       "      <td>60.63</td>\n",
       "      <td>92.0</td>\n",
       "      <td>183.0</td>\n",
       "      <td>10.3</td>\n",
       "      <td>4.0</td>\n",
       "    </tr>\n",
       "    <tr>\n",
       "      <th>4</th>\n",
       "      <td>5</td>\n",
       "      <td>1504</td>\n",
       "      <td>CL</td>\n",
       "      <td>Placebo</td>\n",
       "      <td>13918</td>\n",
       "      <td>F</td>\n",
       "      <td>N</td>\n",
       "      <td>Y</td>\n",
       "      <td>Y</td>\n",
       "      <td>N</td>\n",
       "      <td>3.4</td>\n",
       "      <td>279.0</td>\n",
       "      <td>3.53</td>\n",
       "      <td>143.0</td>\n",
       "      <td>671.0</td>\n",
       "      <td>113.15</td>\n",
       "      <td>72.0</td>\n",
       "      <td>136.0</td>\n",
       "      <td>10.9</td>\n",
       "      <td>3.0</td>\n",
       "    </tr>\n",
       "  </tbody>\n",
       "</table>\n",
       "</div>"
      ],
      "text/plain": [
       "   ID  N_Days Status             Drug    Age Sex Ascites Hepatomegaly Spiders  \\\n",
       "0   1     400      D  D-penicillamine  21464   F       Y            Y       Y   \n",
       "1   2    4500      C  D-penicillamine  20617   F       N            Y       Y   \n",
       "2   3    1012      D  D-penicillamine  25594   M       N            N       N   \n",
       "3   4    1925      D  D-penicillamine  19994   F       N            Y       Y   \n",
       "4   5    1504     CL          Placebo  13918   F       N            Y       Y   \n",
       "\n",
       "  Edema  Bilirubin  Cholesterol  Albumin  Copper  Alk_Phos    SGOT  \\\n",
       "0     Y       14.5        261.0     2.60   156.0    1718.0  137.95   \n",
       "1     N        1.1        302.0     4.14    54.0    7394.8  113.52   \n",
       "2     S        1.4        176.0     3.48   210.0     516.0   96.10   \n",
       "3     S        1.8        244.0     2.54    64.0    6121.8   60.63   \n",
       "4     N        3.4        279.0     3.53   143.0     671.0  113.15   \n",
       "\n",
       "   Tryglicerides  Platelets  Prothrombin  Stage  \n",
       "0          172.0      190.0         12.2    4.0  \n",
       "1           88.0      221.0         10.6    3.0  \n",
       "2           55.0      151.0         12.0    4.0  \n",
       "3           92.0      183.0         10.3    4.0  \n",
       "4           72.0      136.0         10.9    3.0  "
      ]
     },
     "execution_count": 57,
     "metadata": {},
     "output_type": "execute_result"
    }
   ],
   "source": [
    "org_data.head()"
   ]
  },
  {
   "cell_type": "code",
   "execution_count": 58,
   "id": "0e57279f",
   "metadata": {
    "papermill": {
     "duration": 0.035068,
     "end_time": "2023-12-26T14:20:46.907283",
     "exception": false,
     "start_time": "2023-12-26T14:20:46.872215",
     "status": "completed"
    },
    "tags": []
   },
   "outputs": [],
   "source": [
    "# Drop the 'id' column \n",
    "train = train.drop(['id'], axis=1)\n",
    "org_data = org_data.drop(['ID'], axis=1)\n",
    "\n",
    "# Combine the competition train data and original data\n",
    "train_data = pd.concat([train, org_data])"
   ]
  },
  {
   "cell_type": "markdown",
   "id": "ec5fd53f",
   "metadata": {
    "papermill": {
     "duration": 0.014757,
     "end_time": "2023-12-26T14:20:46.937071",
     "exception": false,
     "start_time": "2023-12-26T14:20:46.922314",
     "status": "completed"
    },
    "tags": []
   },
   "source": [
    "# Exploratory Data Analysis (EDA)"
   ]
  },
  {
   "cell_type": "code",
   "execution_count": 59,
   "id": "78caec16",
   "metadata": {
    "papermill": {
     "duration": 0.041718,
     "end_time": "2023-12-26T14:20:46.993725",
     "exception": false,
     "start_time": "2023-12-26T14:20:46.952007",
     "status": "completed"
    },
    "tags": []
   },
   "outputs": [
    {
     "data": {
      "text/html": [
       "<div>\n",
       "<style scoped>\n",
       "    .dataframe tbody tr th:only-of-type {\n",
       "        vertical-align: middle;\n",
       "    }\n",
       "\n",
       "    .dataframe tbody tr th {\n",
       "        vertical-align: top;\n",
       "    }\n",
       "\n",
       "    .dataframe thead th {\n",
       "        text-align: right;\n",
       "    }\n",
       "</style>\n",
       "<table border=\"1\" class=\"dataframe\">\n",
       "  <thead>\n",
       "    <tr style=\"text-align: right;\">\n",
       "      <th></th>\n",
       "      <th>N_Days</th>\n",
       "      <th>Drug</th>\n",
       "      <th>Age</th>\n",
       "      <th>Sex</th>\n",
       "      <th>Ascites</th>\n",
       "      <th>Hepatomegaly</th>\n",
       "      <th>Spiders</th>\n",
       "      <th>Edema</th>\n",
       "      <th>Bilirubin</th>\n",
       "      <th>Cholesterol</th>\n",
       "      <th>Albumin</th>\n",
       "      <th>Copper</th>\n",
       "      <th>Alk_Phos</th>\n",
       "      <th>SGOT</th>\n",
       "      <th>Tryglicerides</th>\n",
       "      <th>Platelets</th>\n",
       "      <th>Prothrombin</th>\n",
       "      <th>Stage</th>\n",
       "      <th>Status</th>\n",
       "    </tr>\n",
       "  </thead>\n",
       "  <tbody>\n",
       "    <tr>\n",
       "      <th>0</th>\n",
       "      <td>999</td>\n",
       "      <td>D-penicillamine</td>\n",
       "      <td>21532</td>\n",
       "      <td>M</td>\n",
       "      <td>N</td>\n",
       "      <td>N</td>\n",
       "      <td>N</td>\n",
       "      <td>N</td>\n",
       "      <td>2.3</td>\n",
       "      <td>316.0</td>\n",
       "      <td>3.35</td>\n",
       "      <td>172.0</td>\n",
       "      <td>1601.0</td>\n",
       "      <td>179.80</td>\n",
       "      <td>63.0</td>\n",
       "      <td>394.0</td>\n",
       "      <td>9.7</td>\n",
       "      <td>3.0</td>\n",
       "      <td>D</td>\n",
       "    </tr>\n",
       "    <tr>\n",
       "      <th>1</th>\n",
       "      <td>2574</td>\n",
       "      <td>Placebo</td>\n",
       "      <td>19237</td>\n",
       "      <td>F</td>\n",
       "      <td>N</td>\n",
       "      <td>N</td>\n",
       "      <td>N</td>\n",
       "      <td>N</td>\n",
       "      <td>0.9</td>\n",
       "      <td>364.0</td>\n",
       "      <td>3.54</td>\n",
       "      <td>63.0</td>\n",
       "      <td>1440.0</td>\n",
       "      <td>134.85</td>\n",
       "      <td>88.0</td>\n",
       "      <td>361.0</td>\n",
       "      <td>11.0</td>\n",
       "      <td>3.0</td>\n",
       "      <td>C</td>\n",
       "    </tr>\n",
       "    <tr>\n",
       "      <th>2</th>\n",
       "      <td>3428</td>\n",
       "      <td>Placebo</td>\n",
       "      <td>13727</td>\n",
       "      <td>F</td>\n",
       "      <td>N</td>\n",
       "      <td>Y</td>\n",
       "      <td>Y</td>\n",
       "      <td>Y</td>\n",
       "      <td>3.3</td>\n",
       "      <td>299.0</td>\n",
       "      <td>3.55</td>\n",
       "      <td>131.0</td>\n",
       "      <td>1029.0</td>\n",
       "      <td>119.35</td>\n",
       "      <td>50.0</td>\n",
       "      <td>199.0</td>\n",
       "      <td>11.7</td>\n",
       "      <td>4.0</td>\n",
       "      <td>D</td>\n",
       "    </tr>\n",
       "    <tr>\n",
       "      <th>3</th>\n",
       "      <td>2576</td>\n",
       "      <td>Placebo</td>\n",
       "      <td>18460</td>\n",
       "      <td>F</td>\n",
       "      <td>N</td>\n",
       "      <td>N</td>\n",
       "      <td>N</td>\n",
       "      <td>N</td>\n",
       "      <td>0.6</td>\n",
       "      <td>256.0</td>\n",
       "      <td>3.50</td>\n",
       "      <td>58.0</td>\n",
       "      <td>1653.0</td>\n",
       "      <td>71.30</td>\n",
       "      <td>96.0</td>\n",
       "      <td>269.0</td>\n",
       "      <td>10.7</td>\n",
       "      <td>3.0</td>\n",
       "      <td>C</td>\n",
       "    </tr>\n",
       "    <tr>\n",
       "      <th>4</th>\n",
       "      <td>788</td>\n",
       "      <td>Placebo</td>\n",
       "      <td>16658</td>\n",
       "      <td>F</td>\n",
       "      <td>N</td>\n",
       "      <td>Y</td>\n",
       "      <td>N</td>\n",
       "      <td>N</td>\n",
       "      <td>1.1</td>\n",
       "      <td>346.0</td>\n",
       "      <td>3.65</td>\n",
       "      <td>63.0</td>\n",
       "      <td>1181.0</td>\n",
       "      <td>125.55</td>\n",
       "      <td>96.0</td>\n",
       "      <td>298.0</td>\n",
       "      <td>10.6</td>\n",
       "      <td>4.0</td>\n",
       "      <td>C</td>\n",
       "    </tr>\n",
       "  </tbody>\n",
       "</table>\n",
       "</div>"
      ],
      "text/plain": [
       "   N_Days             Drug    Age Sex Ascites Hepatomegaly Spiders Edema  \\\n",
       "0     999  D-penicillamine  21532   M       N            N       N     N   \n",
       "1    2574          Placebo  19237   F       N            N       N     N   \n",
       "2    3428          Placebo  13727   F       N            Y       Y     Y   \n",
       "3    2576          Placebo  18460   F       N            N       N     N   \n",
       "4     788          Placebo  16658   F       N            Y       N     N   \n",
       "\n",
       "   Bilirubin  Cholesterol  Albumin  Copper  Alk_Phos    SGOT  Tryglicerides  \\\n",
       "0        2.3        316.0     3.35   172.0    1601.0  179.80           63.0   \n",
       "1        0.9        364.0     3.54    63.0    1440.0  134.85           88.0   \n",
       "2        3.3        299.0     3.55   131.0    1029.0  119.35           50.0   \n",
       "3        0.6        256.0     3.50    58.0    1653.0   71.30           96.0   \n",
       "4        1.1        346.0     3.65    63.0    1181.0  125.55           96.0   \n",
       "\n",
       "   Platelets  Prothrombin  Stage Status  \n",
       "0      394.0          9.7    3.0      D  \n",
       "1      361.0         11.0    3.0      C  \n",
       "2      199.0         11.7    4.0      D  \n",
       "3      269.0         10.7    3.0      C  \n",
       "4      298.0         10.6    4.0      C  "
      ]
     },
     "execution_count": 59,
     "metadata": {},
     "output_type": "execute_result"
    }
   ],
   "source": [
    "train_data.head()"
   ]
  },
  {
   "cell_type": "code",
   "execution_count": 60,
   "id": "8be01000",
   "metadata": {
    "papermill": {
     "duration": 0.023174,
     "end_time": "2023-12-26T14:20:47.032335",
     "exception": false,
     "start_time": "2023-12-26T14:20:47.009161",
     "status": "completed"
    },
    "tags": []
   },
   "outputs": [
    {
     "name": "stdout",
     "output_type": "stream",
     "text": [
      "Number of rows in dataset :  8323\n",
      "Number of columns in dataset :  19\n"
     ]
    }
   ],
   "source": [
    "# The shape of dataset\n",
    "\n",
    "m, n = train_data.shape\n",
    "print('Number of rows in dataset : ', m)\n",
    "print('Number of columns in dataset : ', n)"
   ]
  },
  {
   "cell_type": "code",
   "execution_count": 61,
   "id": "61149456",
   "metadata": {
    "papermill": {
     "duration": 0.02576,
     "end_time": "2023-12-26T14:20:47.073344",
     "exception": false,
     "start_time": "2023-12-26T14:20:47.047584",
     "status": "completed"
    },
    "tags": []
   },
   "outputs": [
    {
     "data": {
      "text/plain": [
       "Index(['N_Days', 'Drug', 'Age', 'Sex', 'Ascites', 'Hepatomegaly', 'Spiders',\n",
       "       'Edema', 'Bilirubin', 'Cholesterol', 'Albumin', 'Copper', 'Alk_Phos',\n",
       "       'SGOT', 'Tryglicerides', 'Platelets', 'Prothrombin', 'Stage'],\n",
       "      dtype='object')"
      ]
     },
     "execution_count": 61,
     "metadata": {},
     "output_type": "execute_result"
    }
   ],
   "source": [
    "FEATURES = train_data.drop(['Status'], axis=1).columns\n",
    "FEATURES"
   ]
  },
  {
   "cell_type": "code",
   "execution_count": 62,
   "id": "6e7bd99d",
   "metadata": {
    "papermill": {
     "duration": 0.081373,
     "end_time": "2023-12-26T14:20:47.170059",
     "exception": false,
     "start_time": "2023-12-26T14:20:47.088686",
     "status": "completed"
    },
    "tags": []
   },
   "outputs": [
    {
     "data": {
      "text/html": [
       "<div>\n",
       "<style scoped>\n",
       "    .dataframe tbody tr th:only-of-type {\n",
       "        vertical-align: middle;\n",
       "    }\n",
       "\n",
       "    .dataframe tbody tr th {\n",
       "        vertical-align: top;\n",
       "    }\n",
       "\n",
       "    .dataframe thead th {\n",
       "        text-align: right;\n",
       "    }\n",
       "</style>\n",
       "<table border=\"1\" class=\"dataframe\">\n",
       "  <thead>\n",
       "    <tr style=\"text-align: right;\">\n",
       "      <th></th>\n",
       "      <th>N_Days</th>\n",
       "      <th>Drug</th>\n",
       "      <th>Age</th>\n",
       "      <th>Sex</th>\n",
       "      <th>Ascites</th>\n",
       "      <th>Hepatomegaly</th>\n",
       "      <th>Spiders</th>\n",
       "      <th>Edema</th>\n",
       "      <th>Bilirubin</th>\n",
       "      <th>Cholesterol</th>\n",
       "      <th>Albumin</th>\n",
       "      <th>Copper</th>\n",
       "      <th>Alk_Phos</th>\n",
       "      <th>SGOT</th>\n",
       "      <th>Tryglicerides</th>\n",
       "      <th>Platelets</th>\n",
       "      <th>Prothrombin</th>\n",
       "      <th>Stage</th>\n",
       "      <th>Status</th>\n",
       "    </tr>\n",
       "  </thead>\n",
       "  <tbody>\n",
       "    <tr>\n",
       "      <th>count</th>\n",
       "      <td>8323.000000</td>\n",
       "      <td>8217</td>\n",
       "      <td>8323.000000</td>\n",
       "      <td>8323</td>\n",
       "      <td>8217</td>\n",
       "      <td>8217</td>\n",
       "      <td>8217</td>\n",
       "      <td>8323</td>\n",
       "      <td>8323.000000</td>\n",
       "      <td>8189.000000</td>\n",
       "      <td>8323.000000</td>\n",
       "      <td>8215.000000</td>\n",
       "      <td>8217.000000</td>\n",
       "      <td>8217.000000</td>\n",
       "      <td>8187.000000</td>\n",
       "      <td>8312.000000</td>\n",
       "      <td>8321.000000</td>\n",
       "      <td>8317.000000</td>\n",
       "      <td>8323</td>\n",
       "    </tr>\n",
       "    <tr>\n",
       "      <th>unique</th>\n",
       "      <td>NaN</td>\n",
       "      <td>2</td>\n",
       "      <td>NaN</td>\n",
       "      <td>2</td>\n",
       "      <td>2</td>\n",
       "      <td>2</td>\n",
       "      <td>2</td>\n",
       "      <td>3</td>\n",
       "      <td>NaN</td>\n",
       "      <td>NaN</td>\n",
       "      <td>NaN</td>\n",
       "      <td>NaN</td>\n",
       "      <td>NaN</td>\n",
       "      <td>NaN</td>\n",
       "      <td>NaN</td>\n",
       "      <td>NaN</td>\n",
       "      <td>NaN</td>\n",
       "      <td>NaN</td>\n",
       "      <td>3</td>\n",
       "    </tr>\n",
       "    <tr>\n",
       "      <th>top</th>\n",
       "      <td>NaN</td>\n",
       "      <td>Placebo</td>\n",
       "      <td>NaN</td>\n",
       "      <td>F</td>\n",
       "      <td>N</td>\n",
       "      <td>Y</td>\n",
       "      <td>N</td>\n",
       "      <td>N</td>\n",
       "      <td>NaN</td>\n",
       "      <td>NaN</td>\n",
       "      <td>NaN</td>\n",
       "      <td>NaN</td>\n",
       "      <td>NaN</td>\n",
       "      <td>NaN</td>\n",
       "      <td>NaN</td>\n",
       "      <td>NaN</td>\n",
       "      <td>NaN</td>\n",
       "      <td>NaN</td>\n",
       "      <td>C</td>\n",
       "    </tr>\n",
       "    <tr>\n",
       "      <th>freq</th>\n",
       "      <td>NaN</td>\n",
       "      <td>4164</td>\n",
       "      <td>NaN</td>\n",
       "      <td>7710</td>\n",
       "      <td>7813</td>\n",
       "      <td>4202</td>\n",
       "      <td>6188</td>\n",
       "      <td>7515</td>\n",
       "      <td>NaN</td>\n",
       "      <td>NaN</td>\n",
       "      <td>NaN</td>\n",
       "      <td>NaN</td>\n",
       "      <td>NaN</td>\n",
       "      <td>NaN</td>\n",
       "      <td>NaN</td>\n",
       "      <td>NaN</td>\n",
       "      <td>NaN</td>\n",
       "      <td>NaN</td>\n",
       "      <td>5197</td>\n",
       "    </tr>\n",
       "    <tr>\n",
       "      <th>mean</th>\n",
       "      <td>2024.528776</td>\n",
       "      <td>NaN</td>\n",
       "      <td>18381.192359</td>\n",
       "      <td>NaN</td>\n",
       "      <td>NaN</td>\n",
       "      <td>NaN</td>\n",
       "      <td>NaN</td>\n",
       "      <td>NaN</td>\n",
       "      <td>2.625940</td>\n",
       "      <td>351.219074</td>\n",
       "      <td>3.545767</td>\n",
       "      <td>84.421546</td>\n",
       "      <td>1823.044883</td>\n",
       "      <td>114.906530</td>\n",
       "      <td>115.662636</td>\n",
       "      <td>264.827238</td>\n",
       "      <td>10.634575</td>\n",
       "      <td>3.032103</td>\n",
       "      <td>NaN</td>\n",
       "    </tr>\n",
       "    <tr>\n",
       "      <th>std</th>\n",
       "      <td>1094.968696</td>\n",
       "      <td>NaN</td>\n",
       "      <td>3686.832308</td>\n",
       "      <td>NaN</td>\n",
       "      <td>NaN</td>\n",
       "      <td>NaN</td>\n",
       "      <td>NaN</td>\n",
       "      <td>NaN</td>\n",
       "      <td>3.847146</td>\n",
       "      <td>196.775246</td>\n",
       "      <td>0.350697</td>\n",
       "      <td>76.327480</td>\n",
       "      <td>1913.388685</td>\n",
       "      <td>49.134067</td>\n",
       "      <td>53.037660</td>\n",
       "      <td>88.039809</td>\n",
       "      <td>0.795707</td>\n",
       "      <td>0.867235</td>\n",
       "      <td>NaN</td>\n",
       "    </tr>\n",
       "    <tr>\n",
       "      <th>min</th>\n",
       "      <td>41.000000</td>\n",
       "      <td>NaN</td>\n",
       "      <td>9598.000000</td>\n",
       "      <td>NaN</td>\n",
       "      <td>NaN</td>\n",
       "      <td>NaN</td>\n",
       "      <td>NaN</td>\n",
       "      <td>NaN</td>\n",
       "      <td>0.300000</td>\n",
       "      <td>120.000000</td>\n",
       "      <td>1.960000</td>\n",
       "      <td>4.000000</td>\n",
       "      <td>289.000000</td>\n",
       "      <td>26.350000</td>\n",
       "      <td>33.000000</td>\n",
       "      <td>62.000000</td>\n",
       "      <td>9.000000</td>\n",
       "      <td>1.000000</td>\n",
       "      <td>NaN</td>\n",
       "    </tr>\n",
       "    <tr>\n",
       "      <th>25%</th>\n",
       "      <td>1220.000000</td>\n",
       "      <td>NaN</td>\n",
       "      <td>15574.000000</td>\n",
       "      <td>NaN</td>\n",
       "      <td>NaN</td>\n",
       "      <td>NaN</td>\n",
       "      <td>NaN</td>\n",
       "      <td>NaN</td>\n",
       "      <td>0.700000</td>\n",
       "      <td>248.000000</td>\n",
       "      <td>3.350000</td>\n",
       "      <td>39.000000</td>\n",
       "      <td>834.000000</td>\n",
       "      <td>75.950000</td>\n",
       "      <td>84.000000</td>\n",
       "      <td>210.000000</td>\n",
       "      <td>10.000000</td>\n",
       "      <td>2.000000</td>\n",
       "      <td>NaN</td>\n",
       "    </tr>\n",
       "    <tr>\n",
       "      <th>50%</th>\n",
       "      <td>1831.000000</td>\n",
       "      <td>NaN</td>\n",
       "      <td>18713.000000</td>\n",
       "      <td>NaN</td>\n",
       "      <td>NaN</td>\n",
       "      <td>NaN</td>\n",
       "      <td>NaN</td>\n",
       "      <td>NaN</td>\n",
       "      <td>1.100000</td>\n",
       "      <td>299.000000</td>\n",
       "      <td>3.580000</td>\n",
       "      <td>63.000000</td>\n",
       "      <td>1181.000000</td>\n",
       "      <td>108.500000</td>\n",
       "      <td>104.000000</td>\n",
       "      <td>264.000000</td>\n",
       "      <td>10.600000</td>\n",
       "      <td>3.000000</td>\n",
       "      <td>NaN</td>\n",
       "    </tr>\n",
       "    <tr>\n",
       "      <th>75%</th>\n",
       "      <td>2689.000000</td>\n",
       "      <td>NaN</td>\n",
       "      <td>20684.000000</td>\n",
       "      <td>NaN</td>\n",
       "      <td>NaN</td>\n",
       "      <td>NaN</td>\n",
       "      <td>NaN</td>\n",
       "      <td>NaN</td>\n",
       "      <td>3.000000</td>\n",
       "      <td>392.000000</td>\n",
       "      <td>3.770000</td>\n",
       "      <td>102.000000</td>\n",
       "      <td>1857.000000</td>\n",
       "      <td>137.950000</td>\n",
       "      <td>139.000000</td>\n",
       "      <td>316.000000</td>\n",
       "      <td>11.000000</td>\n",
       "      <td>4.000000</td>\n",
       "      <td>NaN</td>\n",
       "    </tr>\n",
       "    <tr>\n",
       "      <th>max</th>\n",
       "      <td>4795.000000</td>\n",
       "      <td>NaN</td>\n",
       "      <td>28650.000000</td>\n",
       "      <td>NaN</td>\n",
       "      <td>NaN</td>\n",
       "      <td>NaN</td>\n",
       "      <td>NaN</td>\n",
       "      <td>NaN</td>\n",
       "      <td>28.000000</td>\n",
       "      <td>1775.000000</td>\n",
       "      <td>4.640000</td>\n",
       "      <td>588.000000</td>\n",
       "      <td>13862.400000</td>\n",
       "      <td>457.250000</td>\n",
       "      <td>598.000000</td>\n",
       "      <td>721.000000</td>\n",
       "      <td>18.000000</td>\n",
       "      <td>4.000000</td>\n",
       "      <td>NaN</td>\n",
       "    </tr>\n",
       "  </tbody>\n",
       "</table>\n",
       "</div>"
      ],
      "text/plain": [
       "             N_Days     Drug           Age   Sex Ascites Hepatomegaly Spiders  \\\n",
       "count   8323.000000     8217   8323.000000  8323    8217         8217    8217   \n",
       "unique          NaN        2           NaN     2       2            2       2   \n",
       "top             NaN  Placebo           NaN     F       N            Y       N   \n",
       "freq            NaN     4164           NaN  7710    7813         4202    6188   \n",
       "mean    2024.528776      NaN  18381.192359   NaN     NaN          NaN     NaN   \n",
       "std     1094.968696      NaN   3686.832308   NaN     NaN          NaN     NaN   \n",
       "min       41.000000      NaN   9598.000000   NaN     NaN          NaN     NaN   \n",
       "25%     1220.000000      NaN  15574.000000   NaN     NaN          NaN     NaN   \n",
       "50%     1831.000000      NaN  18713.000000   NaN     NaN          NaN     NaN   \n",
       "75%     2689.000000      NaN  20684.000000   NaN     NaN          NaN     NaN   \n",
       "max     4795.000000      NaN  28650.000000   NaN     NaN          NaN     NaN   \n",
       "\n",
       "       Edema    Bilirubin  Cholesterol      Albumin       Copper  \\\n",
       "count   8323  8323.000000  8189.000000  8323.000000  8215.000000   \n",
       "unique     3          NaN          NaN          NaN          NaN   \n",
       "top        N          NaN          NaN          NaN          NaN   \n",
       "freq    7515          NaN          NaN          NaN          NaN   \n",
       "mean     NaN     2.625940   351.219074     3.545767    84.421546   \n",
       "std      NaN     3.847146   196.775246     0.350697    76.327480   \n",
       "min      NaN     0.300000   120.000000     1.960000     4.000000   \n",
       "25%      NaN     0.700000   248.000000     3.350000    39.000000   \n",
       "50%      NaN     1.100000   299.000000     3.580000    63.000000   \n",
       "75%      NaN     3.000000   392.000000     3.770000   102.000000   \n",
       "max      NaN    28.000000  1775.000000     4.640000   588.000000   \n",
       "\n",
       "            Alk_Phos         SGOT  Tryglicerides    Platelets  Prothrombin  \\\n",
       "count    8217.000000  8217.000000    8187.000000  8312.000000  8321.000000   \n",
       "unique           NaN          NaN            NaN          NaN          NaN   \n",
       "top              NaN          NaN            NaN          NaN          NaN   \n",
       "freq             NaN          NaN            NaN          NaN          NaN   \n",
       "mean     1823.044883   114.906530     115.662636   264.827238    10.634575   \n",
       "std      1913.388685    49.134067      53.037660    88.039809     0.795707   \n",
       "min       289.000000    26.350000      33.000000    62.000000     9.000000   \n",
       "25%       834.000000    75.950000      84.000000   210.000000    10.000000   \n",
       "50%      1181.000000   108.500000     104.000000   264.000000    10.600000   \n",
       "75%      1857.000000   137.950000     139.000000   316.000000    11.000000   \n",
       "max     13862.400000   457.250000     598.000000   721.000000    18.000000   \n",
       "\n",
       "              Stage Status  \n",
       "count   8317.000000   8323  \n",
       "unique          NaN      3  \n",
       "top             NaN      C  \n",
       "freq            NaN   5197  \n",
       "mean       3.032103    NaN  \n",
       "std        0.867235    NaN  \n",
       "min        1.000000    NaN  \n",
       "25%        2.000000    NaN  \n",
       "50%        3.000000    NaN  \n",
       "75%        4.000000    NaN  \n",
       "max        4.000000    NaN  "
      ]
     },
     "execution_count": 62,
     "metadata": {},
     "output_type": "execute_result"
    }
   ],
   "source": [
    "# Let’s get a quick summary of the dataset \n",
    "train_data.describe(include='all')"
   ]
  },
  {
   "cell_type": "code",
   "execution_count": 63,
   "id": "dd74685a",
   "metadata": {
    "papermill": {
     "duration": 0.042348,
     "end_time": "2023-12-26T14:20:47.228573",
     "exception": false,
     "start_time": "2023-12-26T14:20:47.186225",
     "status": "completed"
    },
    "tags": []
   },
   "outputs": [
    {
     "name": "stdout",
     "output_type": "stream",
     "text": [
      "<class 'pandas.core.frame.DataFrame'>\n",
      "Int64Index: 8323 entries, 0 to 417\n",
      "Data columns (total 19 columns):\n",
      " #   Column         Non-Null Count  Dtype  \n",
      "---  ------         --------------  -----  \n",
      " 0   N_Days         8323 non-null   int64  \n",
      " 1   Drug           8217 non-null   object \n",
      " 2   Age            8323 non-null   int64  \n",
      " 3   Sex            8323 non-null   object \n",
      " 4   Ascites        8217 non-null   object \n",
      " 5   Hepatomegaly   8217 non-null   object \n",
      " 6   Spiders        8217 non-null   object \n",
      " 7   Edema          8323 non-null   object \n",
      " 8   Bilirubin      8323 non-null   float64\n",
      " 9   Cholesterol    8189 non-null   float64\n",
      " 10  Albumin        8323 non-null   float64\n",
      " 11  Copper         8215 non-null   float64\n",
      " 12  Alk_Phos       8217 non-null   float64\n",
      " 13  SGOT           8217 non-null   float64\n",
      " 14  Tryglicerides  8187 non-null   float64\n",
      " 15  Platelets      8312 non-null   float64\n",
      " 16  Prothrombin    8321 non-null   float64\n",
      " 17  Stage          8317 non-null   float64\n",
      " 18  Status         8323 non-null   object \n",
      "dtypes: float64(10), int64(2), object(7)\n",
      "memory usage: 1.3+ MB\n"
     ]
    }
   ],
   "source": [
    "# Let’s also see the columns and their data types\n",
    "train_data.info()"
   ]
  },
  {
   "cell_type": "code",
   "execution_count": 64,
   "id": "63ecb698",
   "metadata": {
    "papermill": {
     "duration": 0.035854,
     "end_time": "2023-12-26T14:20:47.281086",
     "exception": false,
     "start_time": "2023-12-26T14:20:47.245232",
     "status": "completed"
    },
    "tags": []
   },
   "outputs": [
    {
     "data": {
      "text/plain": [
       "0"
      ]
     },
     "execution_count": 64,
     "metadata": {},
     "output_type": "execute_result"
    }
   ],
   "source": [
    "# Number of Duplicated Rows \n",
    "train_data.duplicated().sum()"
   ]
  },
  {
   "cell_type": "markdown",
   "id": "ef72523b",
   "metadata": {
    "papermill": {
     "duration": 0.01588,
     "end_time": "2023-12-26T14:20:47.314152",
     "exception": false,
     "start_time": "2023-12-26T14:20:47.298272",
     "status": "completed"
    },
    "tags": []
   },
   "source": [
    "#### Let's show the counts of observations in each categorical bin using bars."
   ]
  },
  {
   "cell_type": "code",
   "execution_count": 65,
   "id": "ab8b4f1c",
   "metadata": {
    "papermill": {
     "duration": 0.250599,
     "end_time": "2023-12-26T14:20:47.581112",
     "exception": false,
     "start_time": "2023-12-26T14:20:47.330513",
     "status": "completed"
    },
    "tags": []
   },
   "outputs": [
    {
     "data": {
      "image/png": "[encoded data removed]",
      "text/plain": [
       "<Figure size 700x400 with 1 Axes>"
      ]
     },
     "metadata": {},
     "output_type": "display_data"
    }
   ],
   "source": [
    "plt.figure(figsize=(7, 4))\n",
    "sns.countplot(x ='Drug', data = train_data, palette = 'flare')\n",
    "plt.title('Countplot of Drug')\n",
    "plt.show()"
   ]
  },
  {
   "cell_type": "code",
   "execution_count": 66,
   "id": "17b9bc1c",
   "metadata": {
    "papermill": {
     "duration": 0.209461,
     "end_time": "2023-12-26T14:20:47.808625",
     "exception": false,
     "start_time": "2023-12-26T14:20:47.599164",
     "status": "completed"
    },
    "tags": []
   },
   "outputs": [
    {
     "data": {
      "image/png": "[encoded data removed]",
      "text/plain": [
       "<Figure size 700x400 with 1 Axes>"
      ]
     },
     "metadata": {},
     "output_type": "display_data"
    }
   ],
   "source": [
    "plt.figure(figsize=(7, 4))\n",
    "sns.countplot(x ='Sex', data = train_data, palette = 'flare')\n",
    "plt.title('Countplot of Sex')\n",
    "plt.show()"
   ]
  },
  {
   "cell_type": "code",
   "execution_count": 67,
   "id": "f6cafef9",
   "metadata": {
    "papermill": {
     "duration": 0.212403,
     "end_time": "2023-12-26T14:20:48.037511",
     "exception": false,
     "start_time": "2023-12-26T14:20:47.825108",
     "status": "completed"
    },
    "tags": []
   },
   "outputs": [
    {
     "data": {
      "image/png": "[encoded data removed]",
      "text/plain": [
       "<Figure size 700x400 with 1 Axes>"
      ]
     },
     "metadata": {},
     "output_type": "display_data"
    }
   ],
   "source": [
    "plt.figure(figsize=(7, 4))\n",
    "sns.countplot(x ='Ascites', data = train_data, palette = 'flare')\n",
    "plt.title('Countplot of Ascites')\n",
    "plt.show()"
   ]
  },
  {
   "cell_type": "code",
   "execution_count": 68,
   "id": "0b726c63",
   "metadata": {
    "papermill": {
     "duration": 0.21772,
     "end_time": "2023-12-26T14:20:48.272755",
     "exception": false,
     "start_time": "2023-12-26T14:20:48.055035",
     "status": "completed"
    },
    "tags": []
   },
   "outputs": [
    {
     "data": {
      "image/png": "[encoded data removed]",
      "text/plain": [
       "<Figure size 700x400 with 1 Axes>"
      ]
     },
     "metadata": {},
     "output_type": "display_data"
    }
   ],
   "source": [
    "plt.figure(figsize=(7, 4))\n",
    "sns.countplot(x ='Hepatomegaly', data = train_data, palette = 'flare')\n",
    "plt.title('Countplot of Hepatomegaly')\n",
    "plt.show()"
   ]
  },
  {
   "cell_type": "code",
   "execution_count": 69,
   "id": "cdebfc13",
   "metadata": {
    "papermill": {
     "duration": 0.201059,
     "end_time": "2023-12-26T14:20:48.491739",
     "exception": false,
     "start_time": "2023-12-26T14:20:48.290680",
     "status": "completed"
    },
    "tags": []
   },
   "outputs": [
    {
     "data": {
      "image/png": "[encoded data removed]",
      "text/plain": [
       "<Figure size 700x400 with 1 Axes>"
      ]
     },
     "metadata": {},
     "output_type": "display_data"
    }
   ],
   "source": [
    "plt.figure(figsize=(7, 4))\n",
    "sns.countplot(x ='Spiders', data = train_data, palette = 'flare')\n",
    "plt.title('Countplot of Spiders')\n",
    "plt.show()"
   ]
  },
  {
   "cell_type": "code",
   "execution_count": 70,
   "id": "02e553dc",
   "metadata": {
    "papermill": {
     "duration": 0.219085,
     "end_time": "2023-12-26T14:20:48.729120",
     "exception": false,
     "start_time": "2023-12-26T14:20:48.510035",
     "status": "completed"
    },
    "tags": []
   },
   "outputs": [
    {
     "data": {
      "image/png": "[encoded data removed]",
      "text/plain": [
       "<Figure size 700x400 with 1 Axes>"
      ]
     },
     "metadata": {},
     "output_type": "display_data"
    }
   ],
   "source": [
    "plt.figure(figsize=(7, 4))\n",
    "sns.countplot(x ='Edema', data = train_data, palette = 'flare')\n",
    "plt.title('Countplot of Edema')\n",
    "plt.show()"
   ]
  },
  {
   "cell_type": "code",
   "execution_count": 71,
   "id": "982acdc1",
   "metadata": {
    "papermill": {
     "duration": 0.350096,
     "end_time": "2023-12-26T14:20:49.096867",
     "exception": false,
     "start_time": "2023-12-26T14:20:48.746771",
     "status": "completed"
    },
    "tags": []
   },
   "outputs": [
    {
     "name": "stderr",
     "output_type": "stream",
     "text": [
      "C:\\Users\\Hasibullah Aman\\anaconda3\\lib\\site-packages\\seaborn\\_core.py:1057: FutureWarning: reindexing with a non-unique Index is deprecated and will raise in a future version.\n",
      "  comp_col.loc[orig.index] = pd.to_numeric(axis.convert_units(orig))\n"
     ]
    },
    {
     "ename": "ValueError",
     "evalue": "cannot reindex on an axis with duplicate labels",
     "output_type": "error",
     "traceback": [
      "\u001b[1;31m---------------------------------------------------------------------------\u001b[0m",
      "\u001b[1;31mValueError\u001b[0m                                Traceback (most recent call last)",
      "\u001b[1;32m~\\AppData\\Local\\Temp\\ipykernel_2244\\2490551458.py\u001b[0m in \u001b[0;36m<module>\u001b[1;34m\u001b[0m\n\u001b[0;32m      1\u001b[0m \u001b[0mplt\u001b[0m\u001b[1;33m.\u001b[0m\u001b[0mfigure\u001b[0m\u001b[1;33m(\u001b[0m\u001b[0mfigsize\u001b[0m\u001b[1;33m=\u001b[0m\u001b[1;33m(\u001b[0m\u001b[1;36m7\u001b[0m\u001b[1;33m,\u001b[0m \u001b[1;36m4\u001b[0m\u001b[1;33m)\u001b[0m\u001b[1;33m)\u001b[0m\u001b[1;33m\u001b[0m\u001b[1;33m\u001b[0m\u001b[0m\n\u001b[1;32m----> 2\u001b[1;33m \u001b[0msns\u001b[0m\u001b[1;33m.\u001b[0m\u001b[0mhistplot\u001b[0m\u001b[1;33m(\u001b[0m\u001b[0mx\u001b[0m \u001b[1;33m=\u001b[0m\u001b[1;34m'Age'\u001b[0m\u001b[1;33m,\u001b[0m \u001b[0mdata\u001b[0m \u001b[1;33m=\u001b[0m \u001b[0mtrain_data\u001b[0m\u001b[1;33m)\u001b[0m\u001b[1;33m\u001b[0m\u001b[1;33m\u001b[0m\u001b[0m\n\u001b[0m\u001b[0;32m      3\u001b[0m \u001b[0mplt\u001b[0m\u001b[1;33m.\u001b[0m\u001b[0mtitle\u001b[0m\u001b[1;33m(\u001b[0m\u001b[1;34m'Dstribution of Age'\u001b[0m\u001b[1;33m)\u001b[0m\u001b[1;33m\u001b[0m\u001b[1;33m\u001b[0m\u001b[0m\n\u001b[0;32m      4\u001b[0m \u001b[0mplt\u001b[0m\u001b[1;33m.\u001b[0m\u001b[0mshow\u001b[0m\u001b[1;33m(\u001b[0m\u001b[1;33m)\u001b[0m\u001b[1;33m\u001b[0m\u001b[1;33m\u001b[0m\u001b[0m\n",
      "\u001b[1;32m~\\anaconda3\\lib\\site-packages\\seaborn\\distributions.py\u001b[0m in \u001b[0;36mhistplot\u001b[1;34m(data, x, y, hue, weights, stat, bins, binwidth, binrange, discrete, cumulative, common_bins, common_norm, multiple, element, fill, shrink, kde, kde_kws, line_kws, thresh, pthresh, pmax, cbar, cbar_ax, cbar_kws, palette, hue_order, hue_norm, color, log_scale, legend, ax, **kwargs)\u001b[0m\n\u001b[0;32m   1460\u001b[0m     \u001b[1;32mif\u001b[0m \u001b[0mp\u001b[0m\u001b[1;33m.\u001b[0m\u001b[0munivariate\u001b[0m\u001b[1;33m:\u001b[0m\u001b[1;33m\u001b[0m\u001b[1;33m\u001b[0m\u001b[0m\n\u001b[0;32m   1461\u001b[0m \u001b[1;33m\u001b[0m\u001b[0m\n\u001b[1;32m-> 1462\u001b[1;33m         p.plot_univariate_histogram(\n\u001b[0m\u001b[0;32m   1463\u001b[0m             \u001b[0mmultiple\u001b[0m\u001b[1;33m=\u001b[0m\u001b[0mmultiple\u001b[0m\u001b[1;33m,\u001b[0m\u001b[1;33m\u001b[0m\u001b[1;33m\u001b[0m\u001b[0m\n\u001b[0;32m   1464\u001b[0m             \u001b[0melement\u001b[0m\u001b[1;33m=\u001b[0m\u001b[0melement\u001b[0m\u001b[1;33m,\u001b[0m\u001b[1;33m\u001b[0m\u001b[1;33m\u001b[0m\u001b[0m\n",
      "\u001b[1;32m~\\anaconda3\\lib\\site-packages\\seaborn\\distributions.py\u001b[0m in \u001b[0;36mplot_univariate_histogram\u001b[1;34m(self, multiple, element, fill, common_norm, common_bins, shrink, kde, kde_kws, color, legend, line_kws, estimate_kws, **plot_kws)\u001b[0m\n\u001b[0;32m    426\u001b[0m \u001b[1;33m\u001b[0m\u001b[0m\n\u001b[0;32m    427\u001b[0m         \u001b[1;31m# First pass through the data to compute the histograms\u001b[0m\u001b[1;33m\u001b[0m\u001b[1;33m\u001b[0m\u001b[0m\n\u001b[1;32m--> 428\u001b[1;33m         \u001b[1;32mfor\u001b[0m \u001b[0msub_vars\u001b[0m\u001b[1;33m,\u001b[0m \u001b[0msub_data\u001b[0m \u001b[1;32min\u001b[0m \u001b[0mself\u001b[0m\u001b[1;33m.\u001b[0m\u001b[0miter_data\u001b[0m\u001b[1;33m(\u001b[0m\u001b[1;34m\"hue\"\u001b[0m\u001b[1;33m,\u001b[0m \u001b[0mfrom_comp_data\u001b[0m\u001b[1;33m=\u001b[0m\u001b[1;32mTrue\u001b[0m\u001b[1;33m)\u001b[0m\u001b[1;33m:\u001b[0m\u001b[1;33m\u001b[0m\u001b[1;33m\u001b[0m\u001b[0m\n\u001b[0m\u001b[0;32m    429\u001b[0m \u001b[1;33m\u001b[0m\u001b[0m\n\u001b[0;32m    430\u001b[0m             \u001b[1;31m# Prepare the relevant data\u001b[0m\u001b[1;33m\u001b[0m\u001b[1;33m\u001b[0m\u001b[0m\n",
      "\u001b[1;32m~\\anaconda3\\lib\\site-packages\\seaborn\\_core.py\u001b[0m in \u001b[0;36miter_data\u001b[1;34m(self, grouping_vars, reverse, from_comp_data)\u001b[0m\n\u001b[0;32m    981\u001b[0m \u001b[1;33m\u001b[0m\u001b[0m\n\u001b[0;32m    982\u001b[0m         \u001b[1;32mif\u001b[0m \u001b[0mfrom_comp_data\u001b[0m\u001b[1;33m:\u001b[0m\u001b[1;33m\u001b[0m\u001b[1;33m\u001b[0m\u001b[0m\n\u001b[1;32m--> 983\u001b[1;33m             \u001b[0mdata\u001b[0m \u001b[1;33m=\u001b[0m \u001b[0mself\u001b[0m\u001b[1;33m.\u001b[0m\u001b[0mcomp_data\u001b[0m\u001b[1;33m\u001b[0m\u001b[1;33m\u001b[0m\u001b[0m\n\u001b[0m\u001b[0;32m    984\u001b[0m         \u001b[1;32melse\u001b[0m\u001b[1;33m:\u001b[0m\u001b[1;33m\u001b[0m\u001b[1;33m\u001b[0m\u001b[0m\n\u001b[0;32m    985\u001b[0m             \u001b[0mdata\u001b[0m \u001b[1;33m=\u001b[0m \u001b[0mself\u001b[0m\u001b[1;33m.\u001b[0m\u001b[0mplot_data\u001b[0m\u001b[1;33m\u001b[0m\u001b[1;33m\u001b[0m\u001b[0m\n",
      "\u001b[1;32m~\\anaconda3\\lib\\site-packages\\seaborn\\_core.py\u001b[0m in \u001b[0;36mcomp_data\u001b[1;34m(self)\u001b[0m\n\u001b[0;32m   1055\u001b[0m                     \u001b[0morig\u001b[0m \u001b[1;33m=\u001b[0m \u001b[0mself\u001b[0m\u001b[1;33m.\u001b[0m\u001b[0mplot_data\u001b[0m\u001b[1;33m[\u001b[0m\u001b[0mvar\u001b[0m\u001b[1;33m]\u001b[0m\u001b[1;33m.\u001b[0m\u001b[0mdropna\u001b[0m\u001b[1;33m(\u001b[0m\u001b[1;33m)\u001b[0m\u001b[1;33m\u001b[0m\u001b[1;33m\u001b[0m\u001b[0m\n\u001b[0;32m   1056\u001b[0m                 \u001b[0mcomp_col\u001b[0m \u001b[1;33m=\u001b[0m \u001b[0mpd\u001b[0m\u001b[1;33m.\u001b[0m\u001b[0mSeries\u001b[0m\u001b[1;33m(\u001b[0m\u001b[0mindex\u001b[0m\u001b[1;33m=\u001b[0m\u001b[0morig\u001b[0m\u001b[1;33m.\u001b[0m\u001b[0mindex\u001b[0m\u001b[1;33m,\u001b[0m \u001b[0mdtype\u001b[0m\u001b[1;33m=\u001b[0m\u001b[0mfloat\u001b[0m\u001b[1;33m,\u001b[0m \u001b[0mname\u001b[0m\u001b[1;33m=\u001b[0m\u001b[0mvar\u001b[0m\u001b[1;33m)\u001b[0m\u001b[1;33m\u001b[0m\u001b[1;33m\u001b[0m\u001b[0m\n\u001b[1;32m-> 1057\u001b[1;33m                 \u001b[0mcomp_col\u001b[0m\u001b[1;33m.\u001b[0m\u001b[0mloc\u001b[0m\u001b[1;33m[\u001b[0m\u001b[0morig\u001b[0m\u001b[1;33m.\u001b[0m\u001b[0mindex\u001b[0m\u001b[1;33m]\u001b[0m \u001b[1;33m=\u001b[0m \u001b[0mpd\u001b[0m\u001b[1;33m.\u001b[0m\u001b[0mto_numeric\u001b[0m\u001b[1;33m(\u001b[0m\u001b[0maxis\u001b[0m\u001b[1;33m.\u001b[0m\u001b[0mconvert_units\u001b[0m\u001b[1;33m(\u001b[0m\u001b[0morig\u001b[0m\u001b[1;33m)\u001b[0m\u001b[1;33m)\u001b[0m\u001b[1;33m\u001b[0m\u001b[1;33m\u001b[0m\u001b[0m\n\u001b[0m\u001b[0;32m   1058\u001b[0m \u001b[1;33m\u001b[0m\u001b[0m\n\u001b[0;32m   1059\u001b[0m                 \u001b[1;32mif\u001b[0m \u001b[0maxis\u001b[0m\u001b[1;33m.\u001b[0m\u001b[0mget_scale\u001b[0m\u001b[1;33m(\u001b[0m\u001b[1;33m)\u001b[0m \u001b[1;33m==\u001b[0m \u001b[1;34m\"log\"\u001b[0m\u001b[1;33m:\u001b[0m\u001b[1;33m\u001b[0m\u001b[1;33m\u001b[0m\u001b[0m\n",
      "\u001b[1;32m~\\anaconda3\\lib\\site-packages\\pandas\\core\\indexing.py\u001b[0m in \u001b[0;36m__setitem__\u001b[1;34m(self, key, value)\u001b[0m\n\u001b[0;32m    714\u001b[0m \u001b[1;33m\u001b[0m\u001b[0m\n\u001b[0;32m    715\u001b[0m         \u001b[0miloc\u001b[0m \u001b[1;33m=\u001b[0m \u001b[0mself\u001b[0m \u001b[1;32mif\u001b[0m \u001b[0mself\u001b[0m\u001b[1;33m.\u001b[0m\u001b[0mname\u001b[0m \u001b[1;33m==\u001b[0m \u001b[1;34m\"iloc\"\u001b[0m \u001b[1;32melse\u001b[0m \u001b[0mself\u001b[0m\u001b[1;33m.\u001b[0m\u001b[0mobj\u001b[0m\u001b[1;33m.\u001b[0m\u001b[0miloc\u001b[0m\u001b[1;33m\u001b[0m\u001b[1;33m\u001b[0m\u001b[0m\n\u001b[1;32m--> 716\u001b[1;33m         \u001b[0miloc\u001b[0m\u001b[1;33m.\u001b[0m\u001b[0m_setitem_with_indexer\u001b[0m\u001b[1;33m(\u001b[0m\u001b[0mindexer\u001b[0m\u001b[1;33m,\u001b[0m \u001b[0mvalue\u001b[0m\u001b[1;33m,\u001b[0m \u001b[0mself\u001b[0m\u001b[1;33m.\u001b[0m\u001b[0mname\u001b[0m\u001b[1;33m)\u001b[0m\u001b[1;33m\u001b[0m\u001b[1;33m\u001b[0m\u001b[0m\n\u001b[0m\u001b[0;32m    717\u001b[0m \u001b[1;33m\u001b[0m\u001b[0m\n\u001b[0;32m    718\u001b[0m     \u001b[1;32mdef\u001b[0m \u001b[0m_validate_key\u001b[0m\u001b[1;33m(\u001b[0m\u001b[0mself\u001b[0m\u001b[1;33m,\u001b[0m \u001b[0mkey\u001b[0m\u001b[1;33m,\u001b[0m \u001b[0maxis\u001b[0m\u001b[1;33m:\u001b[0m \u001b[0mint\u001b[0m\u001b[1;33m)\u001b[0m\u001b[1;33m:\u001b[0m\u001b[1;33m\u001b[0m\u001b[1;33m\u001b[0m\u001b[0m\n",
      "\u001b[1;32m~\\anaconda3\\lib\\site-packages\\pandas\\core\\indexing.py\u001b[0m in \u001b[0;36m_setitem_with_indexer\u001b[1;34m(self, indexer, value, name)\u001b[0m\n\u001b[0;32m   1691\u001b[0m             \u001b[0mself\u001b[0m\u001b[1;33m.\u001b[0m\u001b[0m_setitem_with_indexer_split_path\u001b[0m\u001b[1;33m(\u001b[0m\u001b[0mindexer\u001b[0m\u001b[1;33m,\u001b[0m \u001b[0mvalue\u001b[0m\u001b[1;33m,\u001b[0m \u001b[0mname\u001b[0m\u001b[1;33m)\u001b[0m\u001b[1;33m\u001b[0m\u001b[1;33m\u001b[0m\u001b[0m\n\u001b[0;32m   1692\u001b[0m         \u001b[1;32melse\u001b[0m\u001b[1;33m:\u001b[0m\u001b[1;33m\u001b[0m\u001b[1;33m\u001b[0m\u001b[0m\n\u001b[1;32m-> 1693\u001b[1;33m             \u001b[0mself\u001b[0m\u001b[1;33m.\u001b[0m\u001b[0m_setitem_single_block\u001b[0m\u001b[1;33m(\u001b[0m\u001b[0mindexer\u001b[0m\u001b[1;33m,\u001b[0m \u001b[0mvalue\u001b[0m\u001b[1;33m,\u001b[0m \u001b[0mname\u001b[0m\u001b[1;33m)\u001b[0m\u001b[1;33m\u001b[0m\u001b[1;33m\u001b[0m\u001b[0m\n\u001b[0m\u001b[0;32m   1694\u001b[0m \u001b[1;33m\u001b[0m\u001b[0m\n\u001b[0;32m   1695\u001b[0m     \u001b[1;32mdef\u001b[0m \u001b[0m_setitem_with_indexer_split_path\u001b[0m\u001b[1;33m(\u001b[0m\u001b[0mself\u001b[0m\u001b[1;33m,\u001b[0m \u001b[0mindexer\u001b[0m\u001b[1;33m,\u001b[0m \u001b[0mvalue\u001b[0m\u001b[1;33m,\u001b[0m \u001b[0mname\u001b[0m\u001b[1;33m:\u001b[0m \u001b[0mstr\u001b[0m\u001b[1;33m)\u001b[0m\u001b[1;33m:\u001b[0m\u001b[1;33m\u001b[0m\u001b[1;33m\u001b[0m\u001b[0m\n",
      "\u001b[1;32m~\\anaconda3\\lib\\site-packages\\pandas\\core\\indexing.py\u001b[0m in \u001b[0;36m_setitem_single_block\u001b[1;34m(self, indexer, value, name)\u001b[0m\n\u001b[0;32m   1932\u001b[0m             \u001b[1;31m# setting for extensionarrays that store dicts. Need to decide\u001b[0m\u001b[1;33m\u001b[0m\u001b[1;33m\u001b[0m\u001b[0m\n\u001b[0;32m   1933\u001b[0m             \u001b[1;31m# if it's worth supporting that.\u001b[0m\u001b[1;33m\u001b[0m\u001b[1;33m\u001b[0m\u001b[0m\n\u001b[1;32m-> 1934\u001b[1;33m             \u001b[0mvalue\u001b[0m \u001b[1;33m=\u001b[0m \u001b[0mself\u001b[0m\u001b[1;33m.\u001b[0m\u001b[0m_align_series\u001b[0m\u001b[1;33m(\u001b[0m\u001b[0mindexer\u001b[0m\u001b[1;33m,\u001b[0m \u001b[0mSeries\u001b[0m\u001b[1;33m(\u001b[0m\u001b[0mvalue\u001b[0m\u001b[1;33m)\u001b[0m\u001b[1;33m)\u001b[0m\u001b[1;33m\u001b[0m\u001b[1;33m\u001b[0m\u001b[0m\n\u001b[0m\u001b[0;32m   1935\u001b[0m \u001b[1;33m\u001b[0m\u001b[0m\n\u001b[0;32m   1936\u001b[0m         \u001b[1;32melif\u001b[0m \u001b[0misinstance\u001b[0m\u001b[1;33m(\u001b[0m\u001b[0mvalue\u001b[0m\u001b[1;33m,\u001b[0m \u001b[0mABCDataFrame\u001b[0m\u001b[1;33m)\u001b[0m \u001b[1;32mand\u001b[0m \u001b[0mname\u001b[0m \u001b[1;33m!=\u001b[0m \u001b[1;34m\"iloc\"\u001b[0m\u001b[1;33m:\u001b[0m\u001b[1;33m\u001b[0m\u001b[1;33m\u001b[0m\u001b[0m\n",
      "\u001b[1;32m~\\anaconda3\\lib\\site-packages\\pandas\\core\\indexing.py\u001b[0m in \u001b[0;36m_align_series\u001b[1;34m(self, indexer, ser, multiindex_indexer)\u001b[0m\n\u001b[0;32m   2094\u001b[0m                 \u001b[1;32mif\u001b[0m \u001b[0mobj\u001b[0m\u001b[1;33m.\u001b[0m\u001b[0mndim\u001b[0m \u001b[1;33m==\u001b[0m \u001b[1;36m2\u001b[0m \u001b[1;32mand\u001b[0m \u001b[0mis_empty_indexer\u001b[0m\u001b[1;33m(\u001b[0m\u001b[0mindexer\u001b[0m\u001b[1;33m[\u001b[0m\u001b[1;36m0\u001b[0m\u001b[1;33m]\u001b[0m\u001b[1;33m,\u001b[0m \u001b[0mser\u001b[0m\u001b[1;33m.\u001b[0m\u001b[0m_values\u001b[0m\u001b[1;33m)\u001b[0m\u001b[1;33m:\u001b[0m\u001b[1;33m\u001b[0m\u001b[1;33m\u001b[0m\u001b[0m\n\u001b[0;32m   2095\u001b[0m                     \u001b[1;32mreturn\u001b[0m \u001b[0mser\u001b[0m\u001b[1;33m.\u001b[0m\u001b[0m_values\u001b[0m\u001b[1;33m.\u001b[0m\u001b[0mcopy\u001b[0m\u001b[1;33m(\u001b[0m\u001b[1;33m)\u001b[0m\u001b[1;33m\u001b[0m\u001b[1;33m\u001b[0m\u001b[0m\n\u001b[1;32m-> 2096\u001b[1;33m                 \u001b[0mser\u001b[0m \u001b[1;33m=\u001b[0m \u001b[0mser\u001b[0m\u001b[1;33m.\u001b[0m\u001b[0mreindex\u001b[0m\u001b[1;33m(\u001b[0m\u001b[0mobj\u001b[0m\u001b[1;33m.\u001b[0m\u001b[0maxes\u001b[0m\u001b[1;33m[\u001b[0m\u001b[1;36m0\u001b[0m\u001b[1;33m]\u001b[0m\u001b[1;33m[\u001b[0m\u001b[0mindexer\u001b[0m\u001b[1;33m[\u001b[0m\u001b[1;36m0\u001b[0m\u001b[1;33m]\u001b[0m\u001b[1;33m]\u001b[0m\u001b[1;33m,\u001b[0m \u001b[0mcopy\u001b[0m\u001b[1;33m=\u001b[0m\u001b[1;32mTrue\u001b[0m\u001b[1;33m)\u001b[0m\u001b[1;33m.\u001b[0m\u001b[0m_values\u001b[0m\u001b[1;33m\u001b[0m\u001b[1;33m\u001b[0m\u001b[0m\n\u001b[0m\u001b[0;32m   2097\u001b[0m \u001b[1;33m\u001b[0m\u001b[0m\n\u001b[0;32m   2098\u001b[0m                 \u001b[1;31m# single indexer\u001b[0m\u001b[1;33m\u001b[0m\u001b[1;33m\u001b[0m\u001b[0m\n",
      "\u001b[1;32m~\\anaconda3\\lib\\site-packages\\pandas\\core\\series.py\u001b[0m in \u001b[0;36mreindex\u001b[1;34m(self, *args, **kwargs)\u001b[0m\n\u001b[0;32m   4670\u001b[0m                 )\n\u001b[0;32m   4671\u001b[0m             \u001b[0mkwargs\u001b[0m\u001b[1;33m.\u001b[0m\u001b[0mupdate\u001b[0m\u001b[1;33m(\u001b[0m\u001b[1;33m{\u001b[0m\u001b[1;34m\"index\"\u001b[0m\u001b[1;33m:\u001b[0m \u001b[0mindex\u001b[0m\u001b[1;33m}\u001b[0m\u001b[1;33m)\u001b[0m\u001b[1;33m\u001b[0m\u001b[1;33m\u001b[0m\u001b[0m\n\u001b[1;32m-> 4672\u001b[1;33m         \u001b[1;32mreturn\u001b[0m \u001b[0msuper\u001b[0m\u001b[1;33m(\u001b[0m\u001b[1;33m)\u001b[0m\u001b[1;33m.\u001b[0m\u001b[0mreindex\u001b[0m\u001b[1;33m(\u001b[0m\u001b[1;33m**\u001b[0m\u001b[0mkwargs\u001b[0m\u001b[1;33m)\u001b[0m\u001b[1;33m\u001b[0m\u001b[1;33m\u001b[0m\u001b[0m\n\u001b[0m\u001b[0;32m   4673\u001b[0m \u001b[1;33m\u001b[0m\u001b[0m\n\u001b[0;32m   4674\u001b[0m     \u001b[1;33m@\u001b[0m\u001b[0mdeprecate_nonkeyword_arguments\u001b[0m\u001b[1;33m(\u001b[0m\u001b[0mversion\u001b[0m\u001b[1;33m=\u001b[0m\u001b[1;32mNone\u001b[0m\u001b[1;33m,\u001b[0m \u001b[0mallowed_args\u001b[0m\u001b[1;33m=\u001b[0m\u001b[1;33m[\u001b[0m\u001b[1;34m\"self\"\u001b[0m\u001b[1;33m,\u001b[0m \u001b[1;34m\"labels\"\u001b[0m\u001b[1;33m]\u001b[0m\u001b[1;33m)\u001b[0m\u001b[1;33m\u001b[0m\u001b[1;33m\u001b[0m\u001b[0m\n",
      "\u001b[1;32m~\\anaconda3\\lib\\site-packages\\pandas\\core\\generic.py\u001b[0m in \u001b[0;36mreindex\u001b[1;34m(self, *args, **kwargs)\u001b[0m\n\u001b[0;32m   4964\u001b[0m \u001b[1;33m\u001b[0m\u001b[0m\n\u001b[0;32m   4965\u001b[0m         \u001b[1;31m# perform the reindex on the axes\u001b[0m\u001b[1;33m\u001b[0m\u001b[1;33m\u001b[0m\u001b[0m\n\u001b[1;32m-> 4966\u001b[1;33m         return self._reindex_axes(\n\u001b[0m\u001b[0;32m   4967\u001b[0m             \u001b[0maxes\u001b[0m\u001b[1;33m,\u001b[0m \u001b[0mlevel\u001b[0m\u001b[1;33m,\u001b[0m \u001b[0mlimit\u001b[0m\u001b[1;33m,\u001b[0m \u001b[0mtolerance\u001b[0m\u001b[1;33m,\u001b[0m \u001b[0mmethod\u001b[0m\u001b[1;33m,\u001b[0m \u001b[0mfill_value\u001b[0m\u001b[1;33m,\u001b[0m \u001b[0mcopy\u001b[0m\u001b[1;33m\u001b[0m\u001b[1;33m\u001b[0m\u001b[0m\n\u001b[0;32m   4968\u001b[0m         ).__finalize__(self, method=\"reindex\")\n",
      "\u001b[1;32m~\\anaconda3\\lib\\site-packages\\pandas\\core\\generic.py\u001b[0m in \u001b[0;36m_reindex_axes\u001b[1;34m(self, axes, level, limit, tolerance, method, fill_value, copy)\u001b[0m\n\u001b[0;32m   4984\u001b[0m \u001b[1;33m\u001b[0m\u001b[0m\n\u001b[0;32m   4985\u001b[0m             \u001b[0maxis\u001b[0m \u001b[1;33m=\u001b[0m \u001b[0mself\u001b[0m\u001b[1;33m.\u001b[0m\u001b[0m_get_axis_number\u001b[0m\u001b[1;33m(\u001b[0m\u001b[0ma\u001b[0m\u001b[1;33m)\u001b[0m\u001b[1;33m\u001b[0m\u001b[1;33m\u001b[0m\u001b[0m\n\u001b[1;32m-> 4986\u001b[1;33m             obj = obj._reindex_with_indexers(\n\u001b[0m\u001b[0;32m   4987\u001b[0m                 \u001b[1;33m{\u001b[0m\u001b[0maxis\u001b[0m\u001b[1;33m:\u001b[0m \u001b[1;33m[\u001b[0m\u001b[0mnew_index\u001b[0m\u001b[1;33m,\u001b[0m \u001b[0mindexer\u001b[0m\u001b[1;33m]\u001b[0m\u001b[1;33m}\u001b[0m\u001b[1;33m,\u001b[0m\u001b[1;33m\u001b[0m\u001b[1;33m\u001b[0m\u001b[0m\n\u001b[0;32m   4988\u001b[0m                 \u001b[0mfill_value\u001b[0m\u001b[1;33m=\u001b[0m\u001b[0mfill_value\u001b[0m\u001b[1;33m,\u001b[0m\u001b[1;33m\u001b[0m\u001b[1;33m\u001b[0m\u001b[0m\n",
      "\u001b[1;32m~\\anaconda3\\lib\\site-packages\\pandas\\core\\generic.py\u001b[0m in \u001b[0;36m_reindex_with_indexers\u001b[1;34m(self, reindexers, fill_value, copy, allow_dups)\u001b[0m\n\u001b[0;32m   5030\u001b[0m \u001b[1;33m\u001b[0m\u001b[0m\n\u001b[0;32m   5031\u001b[0m             \u001b[1;31m# TODO: speed up on homogeneous DataFrame objects (see _reindex_multi)\u001b[0m\u001b[1;33m\u001b[0m\u001b[1;33m\u001b[0m\u001b[0m\n\u001b[1;32m-> 5032\u001b[1;33m             new_data = new_data.reindex_indexer(\n\u001b[0m\u001b[0;32m   5033\u001b[0m                 \u001b[0mindex\u001b[0m\u001b[1;33m,\u001b[0m\u001b[1;33m\u001b[0m\u001b[1;33m\u001b[0m\u001b[0m\n\u001b[0;32m   5034\u001b[0m                 \u001b[0mindexer\u001b[0m\u001b[1;33m,\u001b[0m\u001b[1;33m\u001b[0m\u001b[1;33m\u001b[0m\u001b[0m\n",
      "\u001b[1;32m~\\anaconda3\\lib\\site-packages\\pandas\\core\\internals\\managers.py\u001b[0m in \u001b[0;36mreindex_indexer\u001b[1;34m(self, new_axis, indexer, axis, fill_value, allow_dups, copy, consolidate, only_slice, use_na_proxy)\u001b[0m\n\u001b[0;32m    674\u001b[0m         \u001b[1;31m# some axes don't allow reindexing with dups\u001b[0m\u001b[1;33m\u001b[0m\u001b[1;33m\u001b[0m\u001b[0m\n\u001b[0;32m    675\u001b[0m         \u001b[1;32mif\u001b[0m \u001b[1;32mnot\u001b[0m \u001b[0mallow_dups\u001b[0m\u001b[1;33m:\u001b[0m\u001b[1;33m\u001b[0m\u001b[1;33m\u001b[0m\u001b[0m\n\u001b[1;32m--> 676\u001b[1;33m             \u001b[0mself\u001b[0m\u001b[1;33m.\u001b[0m\u001b[0maxes\u001b[0m\u001b[1;33m[\u001b[0m\u001b[0maxis\u001b[0m\u001b[1;33m]\u001b[0m\u001b[1;33m.\u001b[0m\u001b[0m_validate_can_reindex\u001b[0m\u001b[1;33m(\u001b[0m\u001b[0mindexer\u001b[0m\u001b[1;33m)\u001b[0m\u001b[1;33m\u001b[0m\u001b[1;33m\u001b[0m\u001b[0m\n\u001b[0m\u001b[0;32m    677\u001b[0m \u001b[1;33m\u001b[0m\u001b[0m\n\u001b[0;32m    678\u001b[0m         \u001b[1;32mif\u001b[0m \u001b[0maxis\u001b[0m \u001b[1;33m>=\u001b[0m \u001b[0mself\u001b[0m\u001b[1;33m.\u001b[0m\u001b[0mndim\u001b[0m\u001b[1;33m:\u001b[0m\u001b[1;33m\u001b[0m\u001b[1;33m\u001b[0m\u001b[0m\n",
      "\u001b[1;32m~\\anaconda3\\lib\\site-packages\\pandas\\core\\indexes\\base.py\u001b[0m in \u001b[0;36m_validate_can_reindex\u001b[1;34m(self, indexer)\u001b[0m\n\u001b[0;32m   4119\u001b[0m         \u001b[1;31m# trying to reindex on an axis with duplicates\u001b[0m\u001b[1;33m\u001b[0m\u001b[1;33m\u001b[0m\u001b[0m\n\u001b[0;32m   4120\u001b[0m         \u001b[1;32mif\u001b[0m \u001b[1;32mnot\u001b[0m \u001b[0mself\u001b[0m\u001b[1;33m.\u001b[0m\u001b[0m_index_as_unique\u001b[0m \u001b[1;32mand\u001b[0m \u001b[0mlen\u001b[0m\u001b[1;33m(\u001b[0m\u001b[0mindexer\u001b[0m\u001b[1;33m)\u001b[0m\u001b[1;33m:\u001b[0m\u001b[1;33m\u001b[0m\u001b[1;33m\u001b[0m\u001b[0m\n\u001b[1;32m-> 4121\u001b[1;33m             \u001b[1;32mraise\u001b[0m \u001b[0mValueError\u001b[0m\u001b[1;33m(\u001b[0m\u001b[1;34m\"cannot reindex on an axis with duplicate labels\"\u001b[0m\u001b[1;33m)\u001b[0m\u001b[1;33m\u001b[0m\u001b[1;33m\u001b[0m\u001b[0m\n\u001b[0m\u001b[0;32m   4122\u001b[0m \u001b[1;33m\u001b[0m\u001b[0m\n\u001b[0;32m   4123\u001b[0m     def reindex(\n",
      "\u001b[1;31mValueError\u001b[0m: cannot reindex on an axis with duplicate labels"
     ]
    },
    {
     "data": {
      "image/png": "[encoded data removed]",
      "text/plain": [
       "<Figure size 700x400 with 1 Axes>"
      ]
     },
     "metadata": {},
     "output_type": "display_data"
    }
   ],
   "source": [
    "plt.figure(figsize=(7, 4))\n",
    "sns.histplot(x ='Age', data = train_data)\n",
    "plt.title('Dstribution of Age')\n",
    "plt.show()"
   ]
  },
  {
   "cell_type": "markdown",
   "id": "70930161",
   "metadata": {
    "papermill": {
     "duration": 0.017064,
     "end_time": "2023-12-26T14:20:49.131416",
     "exception": false,
     "start_time": "2023-12-26T14:20:49.114352",
     "status": "completed"
    },
    "tags": []
   },
   "source": [
    "### Target column"
   ]
  },
  {
   "cell_type": "code",
   "execution_count": null,
   "id": "428c3531",
   "metadata": {
    "papermill": {
     "duration": 0.237995,
     "end_time": "2023-12-26T14:20:49.386800",
     "exception": false,
     "start_time": "2023-12-26T14:20:49.148805",
     "status": "completed"
    },
    "tags": []
   },
   "outputs": [],
   "source": [
    "plt.figure(figsize=(7, 4))\n",
    "sns.countplot(x ='Sex', data = train_data, hue='Status', palette = 'Set2')\n",
    "plt.title('Distribution of Status with Sex')\n",
    "plt.show()"
   ]
  },
  {
   "cell_type": "code",
   "execution_count": null,
   "id": "99e166d2",
   "metadata": {
    "papermill": {
     "duration": 0.033035,
     "end_time": "2023-12-26T14:20:49.441581",
     "exception": false,
     "start_time": "2023-12-26T14:20:49.408546",
     "status": "completed"
    },
    "tags": []
   },
   "outputs": [],
   "source": [
    "# Show the count of unique values in the 'Status' column\n",
    "\n",
    "Uniq_vals = train_data['Status'].value_counts()\n",
    "Uniq_vals"
   ]
  },
  {
   "cell_type": "code",
   "execution_count": null,
   "id": "aec14cbb",
   "metadata": {
    "papermill": {
     "duration": 0.212416,
     "end_time": "2023-12-26T14:20:49.677606",
     "exception": false,
     "start_time": "2023-12-26T14:20:49.465190",
     "status": "completed"
    },
    "tags": []
   },
   "outputs": [],
   "source": [
    "plt.figure(figsize=(7, 4))\n",
    "sns.countplot(x ='Status', data = train_data, palette = 'Set2')\n",
    "plt.title('Countplot of Status')\n",
    "plt.show()"
   ]
  },
  {
   "cell_type": "code",
   "execution_count": null,
   "id": "79cb6bd8",
   "metadata": {
    "papermill": {
     "duration": 0.192843,
     "end_time": "2023-12-26T14:20:49.889016",
     "exception": false,
     "start_time": "2023-12-26T14:20:49.696173",
     "status": "completed"
    },
    "tags": []
   },
   "outputs": [],
   "source": [
    "# Plotting the distribution of the target variable 'Status'\n",
    "\n",
    "LABELS = Uniq_vals.index\n",
    "y = Uniq_vals.values\n",
    "\n",
    "# Creating autocpt arguments for pie chart\n",
    "def func(pct, allvalues):\n",
    "    absolute = int(pct / 100. * np.sum(allvalues))\n",
    "    return \"{:.1f}%\".format(pct)\n",
    "\n",
    "# Creating the pie chart\n",
    "plt.figure(figsize=(10, 6))\n",
    "plt.pie(y, \n",
    "        labels = LABELS, \n",
    "        autopct = lambda pct: func(pct, Uniq_vals),\n",
    "        startangle = 140)\n",
    "\n",
    "plt.legend(loc ='upper right', \n",
    "           bbox_to_anchor=(1.2, 1), \n",
    "           title='Status')\n",
    "\n",
    "plt.title('Distribution of Status')\n",
    "plt.show()"
   ]
  },
  {
   "cell_type": "code",
   "execution_count": null,
   "id": "24b9f0ca",
   "metadata": {
    "papermill": {
     "duration": 1.866081,
     "end_time": "2023-12-26T14:20:51.779623",
     "exception": false,
     "start_time": "2023-12-26T14:20:49.913542",
     "status": "completed"
    },
    "tags": []
   },
   "outputs": [],
   "source": [
    "# Plot distribution of target column with categorical features\n",
    "target = 'Status'\n",
    "CAT_FEATS = ['Drug', 'Sex', 'Ascites', 'Hepatomegaly', 'Spiders', 'Edema']\n",
    "\n",
    "plt.figure(figsize=(14, len(CAT_FEATS) * 2))\n",
    "for i, col in enumerate(CAT_FEATS):\n",
    "    plt.subplot(len(CAT_FEATS) // 2 + 1, 3, i + 1)\n",
    "    sns.countplot(data=train_data, x=col, hue=target, palette = 'Set2')\n",
    "    plt.title(f\"{col} vs {target}\")\n",
    "    plt.tight_layout()"
   ]
  },
  {
   "cell_type": "code",
   "execution_count": null,
   "id": "a399a4cf",
   "metadata": {
    "papermill": {
     "duration": 1.39091,
     "end_time": "2023-12-26T14:20:53.190550",
     "exception": false,
     "start_time": "2023-12-26T14:20:51.799640",
     "status": "completed"
    },
    "tags": []
   },
   "outputs": [],
   "source": [
    "# Plot distribution of target column with numerical features\n",
    "NUM_FEATS = [x for x in train_data.columns if x not in CAT_FEATS and x != target]\n",
    "\n",
    "fig, axes = plt.subplots(2, 3, figsize=(16, 10))\n",
    "for i, ax in enumerate(axes.flatten()):\n",
    "    sns.boxplot(x=target, y=NUM_FEATS[i], data=train_data, ax=ax, palette = 'Set2')\n",
    "    ax.set_title(f\"{NUM_FEATS[i]} vs {target}\")\n",
    "plt.tight_layout()\n",
    "plt.show()"
   ]
  },
  {
   "cell_type": "markdown",
   "id": "9416896e",
   "metadata": {
    "papermill": {
     "duration": 0.021816,
     "end_time": "2023-12-26T14:20:53.234643",
     "exception": false,
     "start_time": "2023-12-26T14:20:53.212827",
     "status": "completed"
    },
    "tags": []
   },
   "source": [
    "## Test Data"
   ]
  },
  {
   "cell_type": "code",
   "execution_count": 72,
   "id": "71186ee6",
   "metadata": {
    "papermill": {
     "duration": 0.045394,
     "end_time": "2023-12-26T14:20:53.302182",
     "exception": false,
     "start_time": "2023-12-26T14:20:53.256788",
     "status": "completed"
    },
    "tags": []
   },
   "outputs": [
    {
     "data": {
      "text/html": [
       "<div>\n",
       "<style scoped>\n",
       "    .dataframe tbody tr th:only-of-type {\n",
       "        vertical-align: middle;\n",
       "    }\n",
       "\n",
       "    .dataframe tbody tr th {\n",
       "        vertical-align: top;\n",
       "    }\n",
       "\n",
       "    .dataframe thead th {\n",
       "        text-align: right;\n",
       "    }\n",
       "</style>\n",
       "<table border=\"1\" class=\"dataframe\">\n",
       "  <thead>\n",
       "    <tr style=\"text-align: right;\">\n",
       "      <th></th>\n",
       "      <th>id</th>\n",
       "      <th>N_Days</th>\n",
       "      <th>Drug</th>\n",
       "      <th>Age</th>\n",
       "      <th>Sex</th>\n",
       "      <th>Ascites</th>\n",
       "      <th>Hepatomegaly</th>\n",
       "      <th>Spiders</th>\n",
       "      <th>Edema</th>\n",
       "      <th>Bilirubin</th>\n",
       "      <th>Cholesterol</th>\n",
       "      <th>Albumin</th>\n",
       "      <th>Copper</th>\n",
       "      <th>Alk_Phos</th>\n",
       "      <th>SGOT</th>\n",
       "      <th>Tryglicerides</th>\n",
       "      <th>Platelets</th>\n",
       "      <th>Prothrombin</th>\n",
       "      <th>Stage</th>\n",
       "    </tr>\n",
       "  </thead>\n",
       "  <tbody>\n",
       "    <tr>\n",
       "      <th>0</th>\n",
       "      <td>7905</td>\n",
       "      <td>3839</td>\n",
       "      <td>D-penicillamine</td>\n",
       "      <td>19724</td>\n",
       "      <td>F</td>\n",
       "      <td>N</td>\n",
       "      <td>Y</td>\n",
       "      <td>N</td>\n",
       "      <td>N</td>\n",
       "      <td>1.2</td>\n",
       "      <td>546.0</td>\n",
       "      <td>3.37</td>\n",
       "      <td>65.0</td>\n",
       "      <td>1636.0</td>\n",
       "      <td>151.90</td>\n",
       "      <td>90.0</td>\n",
       "      <td>430.0</td>\n",
       "      <td>10.6</td>\n",
       "      <td>2.0</td>\n",
       "    </tr>\n",
       "    <tr>\n",
       "      <th>1</th>\n",
       "      <td>7906</td>\n",
       "      <td>2468</td>\n",
       "      <td>D-penicillamine</td>\n",
       "      <td>14975</td>\n",
       "      <td>F</td>\n",
       "      <td>N</td>\n",
       "      <td>N</td>\n",
       "      <td>N</td>\n",
       "      <td>N</td>\n",
       "      <td>1.1</td>\n",
       "      <td>660.0</td>\n",
       "      <td>4.22</td>\n",
       "      <td>94.0</td>\n",
       "      <td>1257.0</td>\n",
       "      <td>151.90</td>\n",
       "      <td>155.0</td>\n",
       "      <td>227.0</td>\n",
       "      <td>10.0</td>\n",
       "      <td>2.0</td>\n",
       "    </tr>\n",
       "    <tr>\n",
       "      <th>2</th>\n",
       "      <td>7907</td>\n",
       "      <td>51</td>\n",
       "      <td>Placebo</td>\n",
       "      <td>13149</td>\n",
       "      <td>F</td>\n",
       "      <td>N</td>\n",
       "      <td>Y</td>\n",
       "      <td>N</td>\n",
       "      <td>Y</td>\n",
       "      <td>2.0</td>\n",
       "      <td>151.0</td>\n",
       "      <td>2.96</td>\n",
       "      <td>46.0</td>\n",
       "      <td>961.0</td>\n",
       "      <td>69.75</td>\n",
       "      <td>101.0</td>\n",
       "      <td>213.0</td>\n",
       "      <td>13.0</td>\n",
       "      <td>4.0</td>\n",
       "    </tr>\n",
       "    <tr>\n",
       "      <th>3</th>\n",
       "      <td>7908</td>\n",
       "      <td>2330</td>\n",
       "      <td>D-penicillamine</td>\n",
       "      <td>20510</td>\n",
       "      <td>F</td>\n",
       "      <td>N</td>\n",
       "      <td>N</td>\n",
       "      <td>N</td>\n",
       "      <td>N</td>\n",
       "      <td>0.6</td>\n",
       "      <td>293.0</td>\n",
       "      <td>3.85</td>\n",
       "      <td>40.0</td>\n",
       "      <td>554.0</td>\n",
       "      <td>125.55</td>\n",
       "      <td>56.0</td>\n",
       "      <td>270.0</td>\n",
       "      <td>10.6</td>\n",
       "      <td>2.0</td>\n",
       "    </tr>\n",
       "    <tr>\n",
       "      <th>4</th>\n",
       "      <td>7909</td>\n",
       "      <td>1615</td>\n",
       "      <td>D-penicillamine</td>\n",
       "      <td>21904</td>\n",
       "      <td>F</td>\n",
       "      <td>N</td>\n",
       "      <td>Y</td>\n",
       "      <td>N</td>\n",
       "      <td>N</td>\n",
       "      <td>1.4</td>\n",
       "      <td>277.0</td>\n",
       "      <td>2.97</td>\n",
       "      <td>121.0</td>\n",
       "      <td>1110.0</td>\n",
       "      <td>125.00</td>\n",
       "      <td>126.0</td>\n",
       "      <td>221.0</td>\n",
       "      <td>9.8</td>\n",
       "      <td>1.0</td>\n",
       "    </tr>\n",
       "  </tbody>\n",
       "</table>\n",
       "</div>"
      ],
      "text/plain": [
       "     id  N_Days             Drug    Age Sex Ascites Hepatomegaly Spiders  \\\n",
       "0  7905    3839  D-penicillamine  19724   F       N            Y       N   \n",
       "1  7906    2468  D-penicillamine  14975   F       N            N       N   \n",
       "2  7907      51          Placebo  13149   F       N            Y       N   \n",
       "3  7908    2330  D-penicillamine  20510   F       N            N       N   \n",
       "4  7909    1615  D-penicillamine  21904   F       N            Y       N   \n",
       "\n",
       "  Edema  Bilirubin  Cholesterol  Albumin  Copper  Alk_Phos    SGOT  \\\n",
       "0     N        1.2        546.0     3.37    65.0    1636.0  151.90   \n",
       "1     N        1.1        660.0     4.22    94.0    1257.0  151.90   \n",
       "2     Y        2.0        151.0     2.96    46.0     961.0   69.75   \n",
       "3     N        0.6        293.0     3.85    40.0     554.0  125.55   \n",
       "4     N        1.4        277.0     2.97   121.0    1110.0  125.00   \n",
       "\n",
       "   Tryglicerides  Platelets  Prothrombin  Stage  \n",
       "0           90.0      430.0         10.6    2.0  \n",
       "1          155.0      227.0         10.0    2.0  \n",
       "2          101.0      213.0         13.0    4.0  \n",
       "3           56.0      270.0         10.6    2.0  \n",
       "4          126.0      221.0          9.8    1.0  "
      ]
     },
     "execution_count": 72,
     "metadata": {},
     "output_type": "execute_result"
    }
   ],
   "source": [
    "test.head()"
   ]
  },
  {
   "cell_type": "code",
   "execution_count": 73,
   "id": "884cbe1c",
   "metadata": {
    "papermill": {
     "duration": 0.03322,
     "end_time": "2023-12-26T14:20:53.357606",
     "exception": false,
     "start_time": "2023-12-26T14:20:53.324386",
     "status": "completed"
    },
    "tags": []
   },
   "outputs": [
    {
     "data": {
      "text/plain": [
       "id               0\n",
       "N_Days           0\n",
       "Drug             0\n",
       "Age              0\n",
       "Sex              0\n",
       "Ascites          0\n",
       "Hepatomegaly     0\n",
       "Spiders          0\n",
       "Edema            0\n",
       "Bilirubin        0\n",
       "Cholesterol      0\n",
       "Albumin          0\n",
       "Copper           0\n",
       "Alk_Phos         0\n",
       "SGOT             0\n",
       "Tryglicerides    0\n",
       "Platelets        0\n",
       "Prothrombin      0\n",
       "Stage            0\n",
       "dtype: int64"
      ]
     },
     "execution_count": 73,
     "metadata": {},
     "output_type": "execute_result"
    }
   ],
   "source": [
    "# Check for null values\n",
    "test.isnull().sum()"
   ]
  },
  {
   "cell_type": "markdown",
   "id": "ed0328b1",
   "metadata": {
    "papermill": {
     "duration": 0.020639,
     "end_time": "2023-12-26T14:20:53.399614",
     "exception": false,
     "start_time": "2023-12-26T14:20:53.378975",
     "status": "completed"
    },
    "tags": []
   },
   "source": [
    "# Data Preprocessing"
   ]
  },
  {
   "cell_type": "markdown",
   "id": "e311dfa6",
   "metadata": {
    "papermill": {
     "duration": 0.02104,
     "end_time": "2023-12-26T14:20:53.442654",
     "exception": false,
     "start_time": "2023-12-26T14:20:53.421614",
     "status": "completed"
    },
    "tags": []
   },
   "source": [
    "## Data Cleaning "
   ]
  },
  {
   "cell_type": "code",
   "execution_count": 74,
   "id": "1b1a2204",
   "metadata": {
    "papermill": {
     "duration": 0.03548,
     "end_time": "2023-12-26T14:20:53.499873",
     "exception": false,
     "start_time": "2023-12-26T14:20:53.464393",
     "status": "completed"
    },
    "tags": []
   },
   "outputs": [
    {
     "data": {
      "text/plain": [
       "N_Days             0\n",
       "Drug             106\n",
       "Age                0\n",
       "Sex                0\n",
       "Ascites          106\n",
       "Hepatomegaly     106\n",
       "Spiders          106\n",
       "Edema              0\n",
       "Bilirubin          0\n",
       "Cholesterol      134\n",
       "Albumin            0\n",
       "Copper           108\n",
       "Alk_Phos         106\n",
       "SGOT             106\n",
       "Tryglicerides    136\n",
       "Platelets         11\n",
       "Prothrombin        2\n",
       "Stage              6\n",
       "Status             0\n",
       "dtype: int64"
      ]
     },
     "execution_count": 74,
     "metadata": {},
     "output_type": "execute_result"
    }
   ],
   "source": [
    "# Check for null values\n",
    "train_data.isnull().sum()"
   ]
  },
  {
   "cell_type": "code",
   "execution_count": 75,
   "id": "1c839519",
   "metadata": {
    "papermill": {
     "duration": 0.030751,
     "end_time": "2023-12-26T14:20:53.552085",
     "exception": false,
     "start_time": "2023-12-26T14:20:53.521334",
     "status": "completed"
    },
    "tags": []
   },
   "outputs": [
    {
     "data": {
      "text/plain": [
       "12"
      ]
     },
     "execution_count": 75,
     "metadata": {},
     "output_type": "execute_result"
    }
   ],
   "source": [
    "# Features with missing values\n",
    "\n",
    "miss_feat=['Drug',            # object\n",
    "           'Ascites',         # object\n",
    "           'Hepatomegaly',    # object\n",
    "           'Spiders',         # object\n",
    "           'Cholesterol',     # float64\n",
    "           'Copper',          # float64\n",
    "           'Alk_Phos',        # float64\n",
    "           'SGOT',            # float64\n",
    "           'Tryglicerides',   # float64\n",
    "           'Platelets',       # float64\n",
    "           'Prothrombin',     # float64\n",
    "           'Stage']           # float64\n",
    "\n",
    "len(miss_feat)"
   ]
  },
  {
   "cell_type": "code",
   "execution_count": 76,
   "id": "1635f0a6",
   "metadata": {
    "papermill": {
     "duration": 0.039147,
     "end_time": "2023-12-26T14:20:53.613766",
     "exception": false,
     "start_time": "2023-12-26T14:20:53.574619",
     "status": "completed"
    },
    "tags": []
   },
   "outputs": [],
   "source": [
    "for feat in miss_feat:\n",
    "    train_data[feat].fillna(train_data[feat].mode()[0], inplace = True)"
   ]
  },
  {
   "cell_type": "code",
   "execution_count": 77,
   "id": "a9715308",
   "metadata": {
    "papermill": {
     "duration": 0.035977,
     "end_time": "2023-12-26T14:20:53.671141",
     "exception": false,
     "start_time": "2023-12-26T14:20:53.635164",
     "status": "completed"
    },
    "tags": []
   },
   "outputs": [
    {
     "data": {
      "text/plain": [
       "N_Days           0\n",
       "Drug             0\n",
       "Age              0\n",
       "Sex              0\n",
       "Ascites          0\n",
       "Hepatomegaly     0\n",
       "Spiders          0\n",
       "Edema            0\n",
       "Bilirubin        0\n",
       "Cholesterol      0\n",
       "Albumin          0\n",
       "Copper           0\n",
       "Alk_Phos         0\n",
       "SGOT             0\n",
       "Tryglicerides    0\n",
       "Platelets        0\n",
       "Prothrombin      0\n",
       "Stage            0\n",
       "Status           0\n",
       "dtype: int64"
      ]
     },
     "execution_count": 77,
     "metadata": {},
     "output_type": "execute_result"
    }
   ],
   "source": [
    "train_data.isnull().sum()"
   ]
  },
  {
   "cell_type": "markdown",
   "id": "f0a7b39e",
   "metadata": {
    "papermill": {
     "duration": 0.021667,
     "end_time": "2023-12-26T14:20:53.718007",
     "exception": false,
     "start_time": "2023-12-26T14:20:53.696340",
     "status": "completed"
    },
    "tags": []
   },
   "source": [
    "## Encoding"
   ]
  },
  {
   "cell_type": "markdown",
   "id": "d1237b29",
   "metadata": {
    "papermill": {
     "duration": 0.022227,
     "end_time": "2023-12-26T14:20:53.763058",
     "exception": false,
     "start_time": "2023-12-26T14:20:53.740831",
     "status": "completed"
    },
    "tags": []
   },
   "source": [
    "### Training Data"
   ]
  },
  {
   "cell_type": "code",
   "execution_count": 78,
   "id": "e4f1b5a0",
   "metadata": {
    "papermill": {
     "duration": 0.045348,
     "end_time": "2023-12-26T14:20:53.830101",
     "exception": false,
     "start_time": "2023-12-26T14:20:53.784753",
     "status": "completed"
    },
    "tags": []
   },
   "outputs": [],
   "source": [
    "encoder = LabelEncoder()\n",
    "\n",
    "train_data['Drug'] = encoder.fit_transform(train_data['Drug'])\n",
    "train_data['Sex'] = encoder.fit_transform(train_data['Sex'])\n",
    "train_data['Ascites'] = encoder.fit_transform(train_data['Ascites'])\n",
    "train_data['Hepatomegaly'] = encoder.fit_transform(train_data['Hepatomegaly'])\n",
    "train_data['Spiders'] = encoder.fit_transform(train_data['Spiders'])\n",
    "train_data['Edema'] = encoder.fit_transform(train_data['Edema'])\n",
    "train_data['Status'] = encoder.fit_transform(train_data['Status'])"
   ]
  },
  {
   "cell_type": "code",
   "execution_count": 79,
   "id": "98297498",
   "metadata": {
    "papermill": {
     "duration": 0.039318,
     "end_time": "2023-12-26T14:20:53.891835",
     "exception": false,
     "start_time": "2023-12-26T14:20:53.852517",
     "status": "completed"
    },
    "tags": []
   },
   "outputs": [
    {
     "name": "stdout",
     "output_type": "stream",
     "text": [
      "<class 'pandas.core.frame.DataFrame'>\n",
      "Int64Index: 8323 entries, 0 to 417\n",
      "Data columns (total 19 columns):\n",
      " #   Column         Non-Null Count  Dtype  \n",
      "---  ------         --------------  -----  \n",
      " 0   N_Days         8323 non-null   int64  \n",
      " 1   Drug           8323 non-null   int32  \n",
      " 2   Age            8323 non-null   int64  \n",
      " 3   Sex            8323 non-null   int32  \n",
      " 4   Ascites        8323 non-null   int32  \n",
      " 5   Hepatomegaly   8323 non-null   int32  \n",
      " 6   Spiders        8323 non-null   int32  \n",
      " 7   Edema          8323 non-null   int32  \n",
      " 8   Bilirubin      8323 non-null   float64\n",
      " 9   Cholesterol    8323 non-null   float64\n",
      " 10  Albumin        8323 non-null   float64\n",
      " 11  Copper         8323 non-null   float64\n",
      " 12  Alk_Phos       8323 non-null   float64\n",
      " 13  SGOT           8323 non-null   float64\n",
      " 14  Tryglicerides  8323 non-null   float64\n",
      " 15  Platelets      8323 non-null   float64\n",
      " 16  Prothrombin    8323 non-null   float64\n",
      " 17  Stage          8323 non-null   float64\n",
      " 18  Status         8323 non-null   int32  \n",
      "dtypes: float64(10), int32(7), int64(2)\n",
      "memory usage: 1.3 MB\n"
     ]
    }
   ],
   "source": [
    "train_data.info()"
   ]
  },
  {
   "cell_type": "markdown",
   "id": "1f09c817",
   "metadata": {
    "papermill": {
     "duration": 0.022483,
     "end_time": "2023-12-26T14:20:53.936664",
     "exception": false,
     "start_time": "2023-12-26T14:20:53.914181",
     "status": "completed"
    },
    "tags": []
   },
   "source": [
    "### test data"
   ]
  },
  {
   "cell_type": "code",
   "execution_count": 80,
   "id": "6390f384",
   "metadata": {
    "papermill": {
     "duration": 0.038922,
     "end_time": "2023-12-26T14:20:53.997409",
     "exception": false,
     "start_time": "2023-12-26T14:20:53.958487",
     "status": "completed"
    },
    "tags": []
   },
   "outputs": [
    {
     "name": "stdout",
     "output_type": "stream",
     "text": [
      "<class 'pandas.core.frame.DataFrame'>\n",
      "RangeIndex: 5271 entries, 0 to 5270\n",
      "Data columns (total 19 columns):\n",
      " #   Column         Non-Null Count  Dtype  \n",
      "---  ------         --------------  -----  \n",
      " 0   id             5271 non-null   int64  \n",
      " 1   N_Days         5271 non-null   int64  \n",
      " 2   Drug           5271 non-null   object \n",
      " 3   Age            5271 non-null   int64  \n",
      " 4   Sex            5271 non-null   object \n",
      " 5   Ascites        5271 non-null   object \n",
      " 6   Hepatomegaly   5271 non-null   object \n",
      " 7   Spiders        5271 non-null   object \n",
      " 8   Edema          5271 non-null   object \n",
      " 9   Bilirubin      5271 non-null   float64\n",
      " 10  Cholesterol    5271 non-null   float64\n",
      " 11  Albumin        5271 non-null   float64\n",
      " 12  Copper         5271 non-null   float64\n",
      " 13  Alk_Phos       5271 non-null   float64\n",
      " 14  SGOT           5271 non-null   float64\n",
      " 15  Tryglicerides  5271 non-null   float64\n",
      " 16  Platelets      5271 non-null   float64\n",
      " 17  Prothrombin    5271 non-null   float64\n",
      " 18  Stage          5271 non-null   float64\n",
      "dtypes: float64(10), int64(3), object(6)\n",
      "memory usage: 782.5+ KB\n"
     ]
    }
   ],
   "source": [
    "test.info()"
   ]
  },
  {
   "cell_type": "code",
   "execution_count": 81,
   "id": "41ee4cdc",
   "metadata": {
    "papermill": {
     "duration": 0.037958,
     "end_time": "2023-12-26T14:20:54.056833",
     "exception": false,
     "start_time": "2023-12-26T14:20:54.018875",
     "status": "completed"
    },
    "tags": []
   },
   "outputs": [],
   "source": [
    "test['Drug'] = encoder.fit_transform(test['Drug'])\n",
    "test['Sex'] = encoder.fit_transform(test['Sex'])\n",
    "test['Ascites'] = encoder.fit_transform(test['Ascites'])\n",
    "test['Hepatomegaly'] = encoder.fit_transform(test['Hepatomegaly'])\n",
    "test['Spiders'] = encoder.fit_transform(test['Spiders'])\n",
    "test['Edema'] = encoder.fit_transform(test['Edema'])"
   ]
  },
  {
   "cell_type": "markdown",
   "id": "9a7a7a9d",
   "metadata": {
    "papermill": {
     "duration": 0.02152,
     "end_time": "2023-12-26T14:20:54.101598",
     "exception": false,
     "start_time": "2023-12-26T14:20:54.080078",
     "status": "completed"
    },
    "tags": []
   },
   "source": [
    "## Data Splitting "
   ]
  },
  {
   "cell_type": "code",
   "execution_count": 82,
   "id": "0caa8d19",
   "metadata": {
    "papermill": {
     "duration": 0.032546,
     "end_time": "2023-12-26T14:20:54.156847",
     "exception": false,
     "start_time": "2023-12-26T14:20:54.124301",
     "status": "completed"
    },
    "tags": []
   },
   "outputs": [],
   "source": [
    "X = train_data.drop(['Status'], axis=1)\n",
    "y = train_data['Status']"
   ]
  },
  {
   "cell_type": "code",
   "execution_count": 83,
   "id": "5a426793",
   "metadata": {
    "papermill": {
     "duration": 0.034983,
     "end_time": "2023-12-26T14:20:54.214647",
     "exception": false,
     "start_time": "2023-12-26T14:20:54.179664",
     "status": "completed"
    },
    "tags": []
   },
   "outputs": [
    {
     "name": "stdout",
     "output_type": "stream",
     "text": [
      "X_train shape is  (6658, 18)\n",
      "X_test shape is  (1665, 18)\n",
      "y_train shape is  (6658,)\n",
      "y_test shape is  (1665,)\n"
     ]
    }
   ],
   "source": [
    "RANDOM_SEED = np.random.seed(42)\n",
    "\n",
    "X_train, X_test, y_train, y_test = train_test_split(X, y, \n",
    "                                                    test_size=0.2, \n",
    "                                                    random_state=RANDOM_SEED\n",
    "                                                    )\n",
    "\n",
    "print('X_train shape is ' , X_train.shape)\n",
    "print('X_test shape is ' , X_test.shape)\n",
    "print('y_train shape is ' , y_train.shape)\n",
    "print('y_test shape is ' , y_test.shape)"
   ]
  },
  {
   "cell_type": "markdown",
   "id": "f359fe3c",
   "metadata": {
    "papermill": {
     "duration": 0.020637,
     "end_time": "2023-12-26T14:20:54.256700",
     "exception": false,
     "start_time": "2023-12-26T14:20:54.236063",
     "status": "completed"
    },
    "tags": []
   },
   "source": [
    "# Modeling"
   ]
  },
  {
   "cell_type": "markdown",
   "id": "579c10b8",
   "metadata": {
    "papermill": {
     "duration": 0.021562,
     "end_time": "2023-12-26T14:20:54.300559",
     "exception": false,
     "start_time": "2023-12-26T14:20:54.278997",
     "status": "completed"
    },
    "tags": []
   },
   "source": [
    "## Building a baseline model (XGBoost)"
   ]
  },
  {
   "cell_type": "code",
   "execution_count": 84,
   "id": "5b86dd78",
   "metadata": {
    "papermill": {
     "duration": 0.599778,
     "end_time": "2023-12-26T14:20:54.922070",
     "exception": false,
     "start_time": "2023-12-26T14:20:54.322292",
     "status": "completed"
    },
    "tags": []
   },
   "outputs": [],
   "source": [
    "# Create the model\n",
    "XGBModel = XGBClassifier()\n",
    "\n",
    "# Fit the model\n",
    "XGBModel.fit(X_train, y_train)\n",
    "\n",
    "# Make predictions\n",
    "preds = XGBModel.predict(X_test)"
   ]
  },
  {
   "cell_type": "code",
   "execution_count": 85,
   "id": "8605419c",
   "metadata": {
    "papermill": {
     "duration": 0.033605,
     "end_time": "2023-12-26T14:20:54.978498",
     "exception": false,
     "start_time": "2023-12-26T14:20:54.944893",
     "status": "completed"
    },
    "tags": []
   },
   "outputs": [
    {
     "name": "stdout",
     "output_type": "stream",
     "text": [
      "Predicted values: \n",
      "[2 2 0 0 0 0 2 0 2 0]\n",
      "True values: \n",
      "7000    0\n",
      "1346    2\n",
      "3071    0\n",
      "5204    0\n",
      "4952    0\n",
      "291     0\n",
      "1728    2\n",
      "4287    0\n",
      "7423    0\n",
      "4482    0\n",
      "Name: Status, dtype: int32\n"
     ]
    }
   ],
   "source": [
    "print(f'Predicted values: \\n{preds[:10]}')\n",
    "print(f'True values: \\n{y_test[:10]}')"
   ]
  },
  {
   "cell_type": "code",
   "execution_count": 86,
   "id": "fe3228a4",
   "metadata": {
    "papermill": {
     "duration": 0.046427,
     "end_time": "2023-12-26T14:20:55.047126",
     "exception": false,
     "start_time": "2023-12-26T14:20:55.000699",
     "status": "completed"
    },
    "tags": []
   },
   "outputs": [
    {
     "name": "stdout",
     "output_type": "stream",
     "text": [
      "Log loss for xgb:  0.497892291290096\n"
     ]
    }
   ],
   "source": [
    "y_pred_probs = XGBModel.predict_proba(X_test)\n",
    "print('Log loss for xgb: ', log_loss(y_test, y_pred_probs))"
   ]
  },
  {
   "cell_type": "code",
   "execution_count": 87,
   "id": "b529a50e",
   "metadata": {
    "papermill": {
     "duration": 0.038062,
     "end_time": "2023-12-26T14:20:55.107492",
     "exception": false,
     "start_time": "2023-12-26T14:20:55.069430",
     "status": "completed"
    },
    "tags": []
   },
   "outputs": [
    {
     "name": "stdout",
     "output_type": "stream",
     "text": [
      "Accuracy: 0.8306306306306306\n",
      "Precision: 0.8258659304309399\n",
      "Recall: 0.8306306306306306\n"
     ]
    }
   ],
   "source": [
    "print(\"Accuracy:\", accuracy_score(y_test, preds)) \n",
    "print(\"Precision:\", precision_score(y_test, preds, average=\"weighted\")) \n",
    "print('Recall:', recall_score(y_test, preds, average=\"weighted\")) "
   ]
  },
  {
   "cell_type": "markdown",
   "id": "c7bc7019",
   "metadata": {
    "papermill": {
     "duration": 0.022651,
     "end_time": "2023-12-26T14:20:55.153473",
     "exception": false,
     "start_time": "2023-12-26T14:20:55.130822",
     "status": "completed"
    },
    "tags": []
   },
   "source": [
    "## Building a baseline model (RandomForestClassifier)"
   ]
  },
  {
   "cell_type": "code",
   "execution_count": 88,
   "id": "67ec47d1",
   "metadata": {
    "papermill": {
     "duration": 1.443861,
     "end_time": "2023-12-26T14:20:56.620582",
     "exception": false,
     "start_time": "2023-12-26T14:20:55.176721",
     "status": "completed"
    },
    "tags": []
   },
   "outputs": [],
   "source": [
    "# Create the model\n",
    "RFModel = RandomForestClassifier()\n",
    "\n",
    "# Fit the model\n",
    "RFModel.fit(X_train, y_train)\n",
    "\n",
    "# Make predictions\n",
    "preds = RFModel.predict(X_test)"
   ]
  },
  {
   "cell_type": "code",
   "execution_count": 89,
   "id": "dd35c6cb",
   "metadata": {
    "papermill": {
     "duration": 0.030829,
     "end_time": "2023-12-26T14:20:56.673335",
     "exception": false,
     "start_time": "2023-12-26T14:20:56.642506",
     "status": "completed"
    },
    "tags": []
   },
   "outputs": [
    {
     "name": "stdout",
     "output_type": "stream",
     "text": [
      "Predicted values: \n",
      "[0 2 0 0 0 0 2 0 0 0]\n",
      "True values: \n",
      "7000    0\n",
      "1346    2\n",
      "3071    0\n",
      "5204    0\n",
      "4952    0\n",
      "291     0\n",
      "1728    2\n",
      "4287    0\n",
      "7423    0\n",
      "4482    0\n",
      "Name: Status, dtype: int32\n"
     ]
    }
   ],
   "source": [
    "print(f'Predicted values: \\n{preds[:10]}')\n",
    "print(f'True values: \\n{y_test[:10]}')"
   ]
  },
  {
   "cell_type": "code",
   "execution_count": 90,
   "id": "00048e85",
   "metadata": {
    "papermill": {
     "duration": 0.065091,
     "end_time": "2023-12-26T14:20:56.760128",
     "exception": false,
     "start_time": "2023-12-26T14:20:56.695037",
     "status": "completed"
    },
    "tags": []
   },
   "outputs": [
    {
     "name": "stdout",
     "output_type": "stream",
     "text": [
      "Log loss for Random Forest:  0.512294031279772\n"
     ]
    }
   ],
   "source": [
    "y_pred_probs = RFModel.predict_proba(X_test)\n",
    "print('Log loss for Random Forest: ', log_loss(y_test, y_pred_probs))"
   ]
  },
  {
   "cell_type": "code",
   "execution_count": 91,
   "id": "a07d301e",
   "metadata": {
    "papermill": {
     "duration": 0.036674,
     "end_time": "2023-12-26T14:20:56.819146",
     "exception": false,
     "start_time": "2023-12-26T14:20:56.782472",
     "status": "completed"
    },
    "tags": []
   },
   "outputs": [
    {
     "name": "stdout",
     "output_type": "stream",
     "text": [
      "Accuracy: 0.8312312312312312\n",
      "Precision: 0.8268810268142591\n",
      "Recall: 0.8312312312312312\n"
     ]
    }
   ],
   "source": [
    "print(\"Accuracy:\", accuracy_score(y_test, preds)) \n",
    "print(\"Precision:\", precision_score(y_test, preds, average=\"weighted\")) \n",
    "print('Recall:', recall_score(y_test, preds, average=\"weighted\")) "
   ]
  },
  {
   "cell_type": "markdown",
   "id": "8896b132",
   "metadata": {
    "papermill": {
     "duration": 0.021997,
     "end_time": "2023-12-26T14:20:56.863020",
     "exception": false,
     "start_time": "2023-12-26T14:20:56.841023",
     "status": "completed"
    },
    "tags": []
   },
   "source": [
    "## Building a baseline model (CatBoostClassifier)"
   ]
  },
  {
   "cell_type": "code",
   "execution_count": 92,
   "id": "839bd3b2",
   "metadata": {
    "papermill": {
     "duration": 5.19562,
     "end_time": "2023-12-26T14:21:02.080774",
     "exception": false,
     "start_time": "2023-12-26T14:20:56.885154",
     "status": "completed"
    },
    "tags": []
   },
   "outputs": [
    {
     "name": "stdout",
     "output_type": "stream",
     "text": [
      "Learning rate set to 0.087159\n",
      "0:\tlearn: 1.0146382\ttotal: 25.8ms\tremaining: 25.8s\n",
      "256:\tlearn: 0.3325276\ttotal: 3.08s\tremaining: 8.89s\n",
      "512:\tlearn: 0.2544772\ttotal: 6s\tremaining: 5.7s\n",
      "768:\tlearn: 0.2018410\ttotal: 9.53s\tremaining: 2.86s\n",
      "999:\tlearn: 0.1680932\ttotal: 12.2s\tremaining: 0us\n"
     ]
    }
   ],
   "source": [
    "# Create the model\n",
    "CatModel = CatBoostClassifier()\n",
    "\n",
    "# Fit the model\n",
    "CatModel.fit(X_train, y_train, verbose=256)\n",
    "\n",
    "# Make predictions\n",
    "preds = CatModel.predict(X_test)"
   ]
  },
  {
   "cell_type": "code",
   "execution_count": 93,
   "id": "7fbf2e01",
   "metadata": {
    "papermill": {
     "duration": 0.040766,
     "end_time": "2023-12-26T14:21:02.145067",
     "exception": false,
     "start_time": "2023-12-26T14:21:02.104301",
     "status": "completed"
    },
    "tags": []
   },
   "outputs": [
    {
     "name": "stdout",
     "output_type": "stream",
     "text": [
      "Log loss for Cat Boost:  0.45794759655503536\n"
     ]
    }
   ],
   "source": [
    "y_pred_probs = CatModel.predict_proba(X_test)\n",
    "print('Log loss for Cat Boost: ', log_loss(y_test, y_pred_probs))"
   ]
  },
  {
   "cell_type": "code",
   "execution_count": 94,
   "id": "c676fcc1",
   "metadata": {
    "papermill": {
     "duration": 0.040649,
     "end_time": "2023-12-26T14:21:02.208648",
     "exception": false,
     "start_time": "2023-12-26T14:21:02.167999",
     "status": "completed"
    },
    "tags": []
   },
   "outputs": [
    {
     "name": "stdout",
     "output_type": "stream",
     "text": [
      "Accuracy: 0.8378378378378378\n",
      "Precision: 0.8300316975027572\n",
      "Recall: 0.8378378378378378\n"
     ]
    }
   ],
   "source": [
    "print(\"Accuracy:\", accuracy_score(y_test, preds)) \n",
    "print(\"Precision:\", precision_score(y_test, preds, average=\"weighted\")) \n",
    "print('Recall:', recall_score(y_test, preds, average=\"weighted\")) "
   ]
  },
  {
   "cell_type": "markdown",
   "id": "b16526b4",
   "metadata": {
    "papermill": {
     "duration": 0.022497,
     "end_time": "2023-12-26T14:21:02.254815",
     "exception": false,
     "start_time": "2023-12-26T14:21:02.232318",
     "status": "completed"
    },
    "tags": []
   },
   "source": [
    "## Hyperparameter tuning for XGBoost"
   ]
  },
  {
   "cell_type": "code",
   "execution_count": 95,
   "id": "a1f13c9c",
   "metadata": {
    "papermill": {
     "duration": 80.277397,
     "end_time": "2023-12-26T14:22:22.555924",
     "exception": false,
     "start_time": "2023-12-26T14:21:02.278527",
     "status": "completed"
    },
    "tags": []
   },
   "outputs": [
    {
     "name": "stderr",
     "output_type": "stream",
     "text": [
      "[I 2023-12-31 04:25:05,810] A new study created in memory with name: no-name-5a47d043-5863-4498-9cc0-dc7037502006\n",
      "[I 2023-12-31 04:25:10,154] Trial 0 finished with value: 0.4403673255673364 and parameters: {'n_estimators': 511, 'learning_rate': 0.027910286179797638, 'max_depth': 3, 'subsample': 0.5638685988358622, 'colsample_bytree': 0.8278584267498724, 'min_child_weight': 16}. Best is trial 0 with value: 0.4403673255673364.\n",
      "[I 2023-12-31 04:25:18,095] Trial 1 finished with value: 0.4493960513588028 and parameters: {'n_estimators': 511, 'learning_rate': 0.06717684391163704, 'max_depth': 7, 'subsample': 0.7601621952321164, 'colsample_bytree': 0.6225613544100057, 'min_child_weight': 15}. Best is trial 0 with value: 0.4403673255673364.\n",
      "[I 2023-12-31 04:25:21,688] Trial 2 finished with value: 0.47889750597931974 and parameters: {'n_estimators': 553, 'learning_rate': 0.011336772992300969, 'max_depth': 2, 'subsample': 0.459530243603717, 'colsample_bytree': 0.7771066986698864, 'min_child_weight': 7}. Best is trial 0 with value: 0.4403673255673364.\n",
      "[I 2023-12-31 04:25:27,342] Trial 3 finished with value: 0.4272380135405897 and parameters: {'n_estimators': 663, 'learning_rate': 0.022957540198365135, 'max_depth': 10, 'subsample': 0.6764089774206813, 'colsample_bytree': 0.07692539108540682, 'min_child_weight': 3}. Best is trial 3 with value: 0.4272380135405897.\n",
      "[I 2023-12-31 04:25:29,196] Trial 4 finished with value: 0.5703450615383232 and parameters: {'n_estimators': 501, 'learning_rate': 0.005491129143754477, 'max_depth': 1, 'subsample': 0.2650955436471026, 'colsample_bytree': 0.3443512871801444, 'min_child_weight': 14}. Best is trial 3 with value: 0.4272380135405897.\n",
      "[I 2023-12-31 04:25:36,282] Trial 5 finished with value: 0.45036588685868095 and parameters: {'n_estimators': 548, 'learning_rate': 0.06661563395537984, 'max_depth': 8, 'subsample': 0.19984889837429082, 'colsample_bytree': 0.7980365914913847, 'min_child_weight': 10}. Best is trial 3 with value: 0.4272380135405897.\n",
      "[I 2023-12-31 04:25:43,823] Trial 6 finished with value: 0.4360294436478789 and parameters: {'n_estimators': 690, 'learning_rate': 0.04424037020078976, 'max_depth': 6, 'subsample': 0.6001983410919545, 'colsample_bytree': 0.3066421008080129, 'min_child_weight': 4}. Best is trial 3 with value: 0.4272380135405897.\n",
      "[I 2023-12-31 04:25:52,323] Trial 7 finished with value: 0.5414539989606603 and parameters: {'n_estimators': 550, 'learning_rate': 0.0036584572249435065, 'max_depth': 7, 'subsample': 0.6571725389201657, 'colsample_bytree': 0.31460071116184707, 'min_child_weight': 10}. Best is trial 3 with value: 0.4272380135405897.\n",
      "[I 2023-12-31 04:26:00,308] Trial 8 finished with value: 0.4672764971476364 and parameters: {'n_estimators': 664, 'learning_rate': 0.006173004972165161, 'max_depth': 5, 'subsample': 0.12896445011468122, 'colsample_bytree': 0.9896372474569084, 'min_child_weight': 6}. Best is trial 3 with value: 0.4272380135405897.\n",
      "[I 2023-12-31 04:26:13,553] Trial 9 finished with value: 0.6423818140298361 and parameters: {'n_estimators': 729, 'learning_rate': 0.0015547125697370583, 'max_depth': 9, 'subsample': 0.970133258700176, 'colsample_bytree': 0.43044074693262646, 'min_child_weight': 20}. Best is trial 3 with value: 0.4272380135405897.\n",
      "[I 2023-12-31 04:26:19,403] Trial 10 finished with value: 0.4395824771331851 and parameters: {'n_estimators': 619, 'learning_rate': 0.016267340999496626, 'max_depth': 10, 'subsample': 0.8884782706829598, 'colsample_bytree': 0.05306930833903539, 'min_child_weight': 1}. Best is trial 3 with value: 0.4272380135405897.\n",
      "[I 2023-12-31 04:26:24,940] Trial 11 finished with value: 0.43015895660088027 and parameters: {'n_estimators': 688, 'learning_rate': 0.02845045364303233, 'max_depth': 5, 'subsample': 0.45466366670779745, 'colsample_bytree': 0.07418398458949754, 'min_child_weight': 1}. Best is trial 3 with value: 0.4272380135405897.\n",
      "[I 2023-12-31 04:26:28,675] Trial 12 finished with value: 0.45027929803253847 and parameters: {'n_estimators': 636, 'learning_rate': 0.022313813585441444, 'max_depth': 4, 'subsample': 0.40134121823305713, 'colsample_bytree': 0.08834126396122671, 'min_child_weight': 1}. Best is trial 3 with value: 0.4272380135405897.\n",
      "[I 2023-12-31 04:26:35,547] Trial 13 finished with value: 0.4192532274008454 and parameters: {'n_estimators': 734, 'learning_rate': 0.03331607803539404, 'max_depth': 5, 'subsample': 0.3612745857522172, 'colsample_bytree': 0.1847757891381026, 'min_child_weight': 4}. Best is trial 13 with value: 0.4192532274008454.\n",
      "[I 2023-12-31 04:26:44,772] Trial 14 finished with value: 0.42862744146062665 and parameters: {'n_estimators': 745, 'learning_rate': 0.04050918084848804, 'max_depth': 10, 'subsample': 0.3226001816496277, 'colsample_bytree': 0.199463608765987, 'min_child_weight': 5}. Best is trial 13 with value: 0.4192532274008454.\n",
      "[I 2023-12-31 04:26:49,611] Trial 15 finished with value: 0.44282337474921774 and parameters: {'n_estimators': 709, 'learning_rate': 0.012302801540708935, 'max_depth': 4, 'subsample': 0.7603818807625349, 'colsample_bytree': 0.20584080196834176, 'min_child_weight': 8}. Best is trial 13 with value: 0.4192532274008454.\n",
      "[I 2023-12-31 04:27:00,148] Trial 16 finished with value: 0.5215703485041313 and parameters: {'n_estimators': 615, 'learning_rate': 0.09160850563957078, 'max_depth': 8, 'subsample': 0.7409111389410544, 'colsample_bytree': 0.5285096083805559, 'min_child_weight': 4}. Best is trial 13 with value: 0.4192532274008454.\n",
      "[I 2023-12-31 04:27:06,079] Trial 17 finished with value: 0.48264465885773755 and parameters: {'n_estimators': 644, 'learning_rate': 0.007061796159580741, 'max_depth': 6, 'subsample': 0.35781019863635105, 'colsample_bytree': 0.15858968910688154, 'min_child_weight': 3}. Best is trial 13 with value: 0.4192532274008454.\n",
      "[I 2023-12-31 04:27:10,827] Trial 18 finished with value: 0.7983555930106938 and parameters: {'n_estimators': 594, 'learning_rate': 0.001056633442836758, 'max_depth': 3, 'subsample': 0.0632350672410904, 'colsample_bytree': 0.43287458425969494, 'min_child_weight': 12}. Best is trial 13 with value: 0.4192532274008454.\n",
      "[I 2023-12-31 04:27:20,206] Trial 19 finished with value: 0.42077808640765946 and parameters: {'n_estimators': 676, 'learning_rate': 0.01946333945356832, 'max_depth': 8, 'subsample': 0.5186115488629184, 'colsample_bytree': 0.23704369780017798, 'min_child_weight': 8}. Best is trial 13 with value: 0.4192532274008454.\n",
      "[I 2023-12-31 04:27:30,323] Trial 20 finished with value: 0.5316651220423293 and parameters: {'n_estimators': 750, 'learning_rate': 0.0030290581882762117, 'max_depth': 7, 'subsample': 0.5063293503415245, 'colsample_bytree': 0.2451990998473585, 'min_child_weight': 8}. Best is trial 13 with value: 0.4192532274008454.\n",
      "[I 2023-12-31 04:27:38,987] Trial 21 finished with value: 0.41677919116011963 and parameters: {'n_estimators': 676, 'learning_rate': 0.019195765442148172, 'max_depth': 9, 'subsample': 0.6700667705100629, 'colsample_bytree': 0.13880104158521184, 'min_child_weight': 3}. Best is trial 21 with value: 0.41677919116011963.\n",
      "[I 2023-12-31 04:27:52,820] Trial 22 finished with value: 0.425784041407651 and parameters: {'n_estimators': 709, 'learning_rate': 0.016249531903036168, 'max_depth': 9, 'subsample': 0.5467214230421795, 'colsample_bytree': 0.3923212112347585, 'min_child_weight': 6}. Best is trial 21 with value: 0.41677919116011963.\n",
      "[I 2023-12-31 04:28:00,215] Trial 23 finished with value: 0.4227499114992186 and parameters: {'n_estimators': 673, 'learning_rate': 0.04037517757533541, 'max_depth': 8, 'subsample': 0.8525096357605457, 'colsample_bytree': 0.15960217987303443, 'min_child_weight': 8}. Best is trial 21 with value: 0.41677919116011963.\n",
      "[I 2023-12-31 04:28:10,490] Trial 24 finished with value: 0.4181322840964568 and parameters: {'n_estimators': 714, 'learning_rate': 0.01744777272819447, 'max_depth': 9, 'subsample': 0.2761778305363302, 'colsample_bytree': 0.2673429055416546, 'min_child_weight': 3}. Best is trial 21 with value: 0.41677919116011963.\n",
      "[I 2023-12-31 04:28:23,700] Trial 25 finished with value: 0.4288934642685114 and parameters: {'n_estimators': 716, 'learning_rate': 0.009501477959993062, 'max_depth': 9, 'subsample': 0.2541799032380618, 'colsample_bytree': 0.5291068026201524, 'min_child_weight': 3}. Best is trial 21 with value: 0.41677919116011963.\n",
      "[I 2023-12-31 04:28:29,923] Trial 26 finished with value: 0.4222346959959241 and parameters: {'n_estimators': 731, 'learning_rate': 0.03291254536594657, 'max_depth': 6, 'subsample': 0.18803851180197043, 'colsample_bytree': 0.14694567833816136, 'min_child_weight': 2}. Best is trial 21 with value: 0.41677919116011963.\n",
      "[I 2023-12-31 04:28:35,862] Trial 27 finished with value: 0.4317087451079727 and parameters: {'n_estimators': 694, 'learning_rate': 0.05774868167366136, 'max_depth': 4, 'subsample': 0.333132174882109, 'colsample_bytree': 0.28288958618704607, 'min_child_weight': 5}. Best is trial 21 with value: 0.41677919116011963.\n",
      "[I 2023-12-31 04:28:49,598] Trial 28 finished with value: 0.42252040774968735 and parameters: {'n_estimators': 729, 'learning_rate': 0.014135209079986163, 'max_depth': 9, 'subsample': 0.40500976602265903, 'colsample_bytree': 0.34993761968493636, 'min_child_weight': 5}. Best is trial 21 with value: 0.41677919116011963.\n",
      "[I 2023-12-31 04:28:54,811] Trial 29 finished with value: 0.4755568884231412 and parameters: {'n_estimators': 645, 'learning_rate': 0.007867484510266204, 'max_depth': 3, 'subsample': 0.2727837076104221, 'colsample_bytree': 0.6300070841649132, 'min_child_weight': 18}. Best is trial 21 with value: 0.41677919116011963.\n"
     ]
    }
   ],
   "source": [
    "# Create an Optuna objective function\n",
    "def objective(trial):\n",
    "    params = {\n",
    "        \"objective\": \"multi_logloss\",\n",
    "        \"n_estimators\": trial.suggest_int('n_estimators', 500, 750),\n",
    "        \"learning_rate\": trial.suggest_float(\"learning_rate\", 1e-3, 0.1, log=True),\n",
    "        \"max_depth\": trial.suggest_int(\"max_depth\", 1, 10),\n",
    "        \"subsample\": trial.suggest_float(\"subsample\", 0.05, 1.0), \n",
    "        \"colsample_bytree\": trial.suggest_float(\"colsample_bytree\", 0.05, 1.0), \n",
    "        \"min_child_weight\": trial.suggest_int(\"min_child_weight\", 1, 20),\n",
    "    }\n",
    "\n",
    "    # Build the xgboost model\n",
    "    optuna_xgbmodel = XGBClassifier(**params,\n",
    "                                    random_state=RANDOM_SEED)\n",
    "    \n",
    "    optuna_xgbmodel.fit(X_train, y_train)\n",
    "    y_pred_probs = optuna_xgbmodel.predict_proba(X_test)\n",
    "    logloss = log_loss(y_test, y_pred_probs)\n",
    "    return logloss\n",
    "\n",
    "# Create the Optuna study\n",
    "study = optuna.create_study(direction='minimize')\n",
    "study.optimize(objective, n_trials=30)"
   ]
  },
  {
   "cell_type": "code",
   "execution_count": 98,
   "id": "5894dba9",
   "metadata": {
    "papermill": {
     "duration": 0.034537,
     "end_time": "2023-12-26T14:22:22.615264",
     "exception": false,
     "start_time": "2023-12-26T14:22:22.580727",
     "status": "completed"
    },
    "tags": []
   },
   "outputs": [
    {
     "name": "stdout",
     "output_type": "stream",
     "text": [
      "Best hyperparameters: {'n_estimators': 676, 'learning_rate': 0.019195765442148172, 'max_depth': 9, 'subsample': 0.6700667705100629, 'colsample_bytree': 0.13880104158521184, 'min_child_weight': 3}\n",
      "Best Log Loss: 0.41677919116011963\n"
     ]
    }
   ],
   "source": [
    "print('Best hyperparameters:', study.best_params)\n",
    "print('Best Log Loss:', study.best_value)"
   ]
  },
  {
   "cell_type": "code",
   "execution_count": 99,
   "id": "5ae55c8a",
   "metadata": {
    "papermill": {
     "duration": 0.034879,
     "end_time": "2023-12-26T14:22:22.675357",
     "exception": false,
     "start_time": "2023-12-26T14:22:22.640478",
     "status": "completed"
    },
    "tags": []
   },
   "outputs": [],
   "source": [
    "# Best hyperparameters from optuna\n",
    "params = {'n_estimators': 607, \n",
    "          'learning_rate': 0.04191844445257235, \n",
    "          'max_depth': 6, \n",
    "          'subsample': 0.7079706225468251, \n",
    "          'colsample_bytree': 0.16799013289247494, \n",
    "          'min_child_weight': 17}\n",
    "\n",
    "# Create the model\n",
    "XGBModel_2 = XGBClassifier(**params, random_state=RANDOM_SEED)"
   ]
  },
  {
   "cell_type": "code",
   "execution_count": 100,
   "id": "9377f856",
   "metadata": {
    "papermill": {
     "duration": 2.162343,
     "end_time": "2023-12-26T14:22:24.862559",
     "exception": false,
     "start_time": "2023-12-26T14:22:22.700216",
     "status": "completed"
    },
    "tags": []
   },
   "outputs": [
    {
     "data": {
      "text/html": [
       "<style>#sk-container-id-1 {color: black;}#sk-container-id-1 pre{padding: 0;}#sk-container-id-1 div.sk-toggleable {background-color: white;}#sk-container-id-1 label.sk-toggleable__label {cursor: pointer;display: block;width: 100%;margin-bottom: 0;padding: 0.3em;box-sizing: border-box;text-align: center;}#sk-container-id-1 label.sk-toggleable__label-arrow:before {content: \"▸\";float: left;margin-right: 0.25em;color: #696969;}#sk-container-id-1 label.sk-toggleable__label-arrow:hover:before {color: black;}#sk-container-id-1 div.sk-estimator:hover label.sk-toggleable__label-arrow:before {color: black;}#sk-container-id-1 div.sk-toggleable__content {max-height: 0;max-width: 0;overflow: hidden;text-align: left;background-color: #f0f8ff;}#sk-container-id-1 div.sk-toggleable__content pre {margin: 0.2em;color: black;border-radius: 0.25em;background-color: #f0f8ff;}#sk-container-id-1 input.sk-toggleable__control:checked~div.sk-toggleable__content {max-height: 200px;max-width: 100%;overflow: auto;}#sk-container-id-1 input.sk-toggleable__control:checked~label.sk-toggleable__label-arrow:before {content: \"▾\";}#sk-container-id-1 div.sk-estimator input.sk-toggleable__control:checked~label.sk-toggleable__label {background-color: #d4ebff;}#sk-container-id-1 div.sk-label input.sk-toggleable__control:checked~label.sk-toggleable__label {background-color: #d4ebff;}#sk-container-id-1 input.sk-hidden--visually {border: 0;clip: rect(1px 1px 1px 1px);clip: rect(1px, 1px, 1px, 1px);height: 1px;margin: -1px;overflow: hidden;padding: 0;position: absolute;width: 1px;}#sk-container-id-1 div.sk-estimator {font-family: monospace;background-color: #f0f8ff;border: 1px dotted black;border-radius: 0.25em;box-sizing: border-box;margin-bottom: 0.5em;}#sk-container-id-1 div.sk-estimator:hover {background-color: #d4ebff;}#sk-container-id-1 div.sk-parallel-item::after {content: \"\";width: 100%;border-bottom: 1px solid gray;flex-grow: 1;}#sk-container-id-1 div.sk-label:hover label.sk-toggleable__label {background-color: #d4ebff;}#sk-container-id-1 div.sk-serial::before {content: \"\";position: absolute;border-left: 1px solid gray;box-sizing: border-box;top: 0;bottom: 0;left: 50%;z-index: 0;}#sk-container-id-1 div.sk-serial {display: flex;flex-direction: column;align-items: center;background-color: white;padding-right: 0.2em;padding-left: 0.2em;position: relative;}#sk-container-id-1 div.sk-item {position: relative;z-index: 1;}#sk-container-id-1 div.sk-parallel {display: flex;align-items: stretch;justify-content: center;background-color: white;position: relative;}#sk-container-id-1 div.sk-item::before, #sk-container-id-1 div.sk-parallel-item::before {content: \"\";position: absolute;border-left: 1px solid gray;box-sizing: border-box;top: 0;bottom: 0;left: 50%;z-index: -1;}#sk-container-id-1 div.sk-parallel-item {display: flex;flex-direction: column;z-index: 1;position: relative;background-color: white;}#sk-container-id-1 div.sk-parallel-item:first-child::after {align-self: flex-end;width: 50%;}#sk-container-id-1 div.sk-parallel-item:last-child::after {align-self: flex-start;width: 50%;}#sk-container-id-1 div.sk-parallel-item:only-child::after {width: 0;}#sk-container-id-1 div.sk-dashed-wrapped {border: 1px dashed gray;margin: 0 0.4em 0.5em 0.4em;box-sizing: border-box;padding-bottom: 0.4em;background-color: white;}#sk-container-id-1 div.sk-label label {font-family: monospace;font-weight: bold;display: inline-block;line-height: 1.2em;}#sk-container-id-1 div.sk-label-container {text-align: center;}#sk-container-id-1 div.sk-container {/* jupyter's `normalize.less` sets `[hidden] { display: none; }` but bootstrap.min.css set `[hidden] { display: none !important; }` so we also need the `!important` here to be able to override the default hidden behavior on the sphinx rendered scikit-learn.org. See: https://github.com/scikit-learn/scikit-learn/issues/21755 */display: inline-block !important;position: relative;}#sk-container-id-1 div.sk-text-repr-fallback {display: none;}</style><div id=\"sk-container-id-1\" class=\"sk-top-container\"><div class=\"sk-text-repr-fallback\"><pre>XGBClassifier(base_score=None, booster=None, callbacks=None,\n",
       "              colsample_bylevel=None, colsample_bynode=None,\n",
       "              colsample_bytree=0.16799013289247494, early_stopping_rounds=None,\n",
       "              enable_categorical=False, eval_metric=None, feature_types=None,\n",
       "              gamma=None, gpu_id=None, grow_policy=None, importance_type=None,\n",
       "              interaction_constraints=None, learning_rate=0.04191844445257235,\n",
       "              max_bin=None, max_cat_threshold=None, max_cat_to_onehot=None,\n",
       "              max_delta_step=None, max_depth=6, max_leaves=None,\n",
       "              min_child_weight=17, missing=nan, monotone_constraints=None,\n",
       "              n_estimators=607, n_jobs=None, num_parallel_tree=None,\n",
       "              objective=&#x27;multi:softprob&#x27;, predictor=None, ...)</pre><b>In a Jupyter environment, please rerun this cell to show the HTML representation or trust the notebook. <br />On GitHub, the HTML representation is unable to render, please try loading this page with nbviewer.org.</b></div><div class=\"sk-container\" hidden><div class=\"sk-item\"><div class=\"sk-estimator sk-toggleable\"><input class=\"sk-toggleable__control sk-hidden--visually\" id=\"sk-estimator-id-1\" type=\"checkbox\" checked><label for=\"sk-estimator-id-1\" class=\"sk-toggleable__label sk-toggleable__label-arrow\">XGBClassifier</label><div class=\"sk-toggleable__content\"><pre>XGBClassifier(base_score=None, booster=None, callbacks=None,\n",
       "              colsample_bylevel=None, colsample_bynode=None,\n",
       "              colsample_bytree=0.16799013289247494, early_stopping_rounds=None,\n",
       "              enable_categorical=False, eval_metric=None, feature_types=None,\n",
       "              gamma=None, gpu_id=None, grow_policy=None, importance_type=None,\n",
       "              interaction_constraints=None, learning_rate=0.04191844445257235,\n",
       "              max_bin=None, max_cat_threshold=None, max_cat_to_onehot=None,\n",
       "              max_delta_step=None, max_depth=6, max_leaves=None,\n",
       "              min_child_weight=17, missing=nan, monotone_constraints=None,\n",
       "              n_estimators=607, n_jobs=None, num_parallel_tree=None,\n",
       "              objective=&#x27;multi:softprob&#x27;, predictor=None, ...)</pre></div></div></div></div></div>"
      ],
      "text/plain": [
       "XGBClassifier(base_score=None, booster=None, callbacks=None,\n",
       "              colsample_bylevel=None, colsample_bynode=None,\n",
       "              colsample_bytree=0.16799013289247494, early_stopping_rounds=None,\n",
       "              enable_categorical=False, eval_metric=None, feature_types=None,\n",
       "              gamma=None, gpu_id=None, grow_policy=None, importance_type=None,\n",
       "              interaction_constraints=None, learning_rate=0.04191844445257235,\n",
       "              max_bin=None, max_cat_threshold=None, max_cat_to_onehot=None,\n",
       "              max_delta_step=None, max_depth=6, max_leaves=None,\n",
       "              min_child_weight=17, missing=nan, monotone_constraints=None,\n",
       "              n_estimators=607, n_jobs=None, num_parallel_tree=None,\n",
       "              objective='multi:softprob', predictor=None, ...)"
      ]
     },
     "execution_count": 100,
     "metadata": {},
     "output_type": "execute_result"
    }
   ],
   "source": [
    "# Fit the model\n",
    "XGBModel_2.fit(X_train, y_train)"
   ]
  },
  {
   "cell_type": "code",
   "execution_count": 101,
   "id": "992c92d0",
   "metadata": {
    "papermill": {
     "duration": 0.070365,
     "end_time": "2023-12-26T14:22:24.959319",
     "exception": false,
     "start_time": "2023-12-26T14:22:24.888954",
     "status": "completed"
    },
    "tags": []
   },
   "outputs": [],
   "source": [
    "# Make predictions on test set\n",
    "preds = XGBModel_2.predict(X_test)"
   ]
  },
  {
   "cell_type": "code",
   "execution_count": 102,
   "id": "11963991",
   "metadata": {
    "papermill": {
     "duration": 0.036868,
     "end_time": "2023-12-26T14:22:25.022597",
     "exception": false,
     "start_time": "2023-12-26T14:22:24.985729",
     "status": "completed"
    },
    "tags": []
   },
   "outputs": [
    {
     "name": "stdout",
     "output_type": "stream",
     "text": [
      "Predicted values: \n",
      "[2 2 0 0 0 0 2 0 0 0]\n",
      "True values: \n",
      "7000    0\n",
      "1346    2\n",
      "3071    0\n",
      "5204    0\n",
      "4952    0\n",
      "291     0\n",
      "1728    2\n",
      "4287    0\n",
      "7423    0\n",
      "4482    0\n",
      "Name: Status, dtype: int32\n"
     ]
    }
   ],
   "source": [
    "print(f'Predicted values: \\n{preds[:10]}')\n",
    "print(f'True values: \\n{y_test[:10]}')"
   ]
  },
  {
   "cell_type": "code",
   "execution_count": 103,
   "id": "7e38b9e0",
   "metadata": {
    "papermill": {
     "duration": 0.068862,
     "end_time": "2023-12-26T14:22:25.117093",
     "exception": false,
     "start_time": "2023-12-26T14:22:25.048231",
     "status": "completed"
    },
    "tags": []
   },
   "outputs": [
    {
     "name": "stdout",
     "output_type": "stream",
     "text": [
      "Log loss for tuned xgb:  0.42317680110912875\n"
     ]
    }
   ],
   "source": [
    "y_pred_probs = XGBModel_2.predict_proba(X_test)\n",
    "print('Log loss for tuned xgb: ', log_loss(y_test, y_pred_probs))"
   ]
  },
  {
   "cell_type": "code",
   "execution_count": 105,
   "id": "3f3cd22d",
   "metadata": {
    "papermill": {
     "duration": 0.044519,
     "end_time": "2023-12-26T14:22:25.186215",
     "exception": false,
     "start_time": "2023-12-26T14:22:25.141696",
     "status": "completed"
    },
    "tags": []
   },
   "outputs": [
    {
     "name": "stdout",
     "output_type": "stream",
     "text": [
      "Accuracy: 0.8378378378378378\n",
      "Precision: 0.8310585799498432\n",
      "Recall: 0.8378378378378378\n"
     ]
    }
   ],
   "source": [
    "print(\"Accuracy:\", accuracy_score(y_test, preds)) \n",
    "print(\"Precision:\", precision_score(y_test, preds, average=\"weighted\")) \n",
    "print('Recall:', recall_score(y_test, preds, average=\"weighted\")) "
   ]
  },
  {
   "cell_type": "markdown",
   "id": "cdb428f9",
   "metadata": {
    "papermill": {
     "duration": 0.025033,
     "end_time": "2023-12-26T14:22:25.237151",
     "exception": false,
     "start_time": "2023-12-26T14:22:25.212118",
     "status": "completed"
    },
    "tags": []
   },
   "source": [
    "# Submission"
   ]
  },
  {
   "cell_type": "code",
   "execution_count": 106,
   "id": "6978ae1a",
   "metadata": {
    "papermill": {
     "duration": 2.362851,
     "end_time": "2023-12-26T14:22:27.625360",
     "exception": false,
     "start_time": "2023-12-26T14:22:25.262509",
     "status": "completed"
    },
    "tags": []
   },
   "outputs": [
    {
     "data": {
      "text/html": [
       "<style>#sk-container-id-2 {color: black;}#sk-container-id-2 pre{padding: 0;}#sk-container-id-2 div.sk-toggleable {background-color: white;}#sk-container-id-2 label.sk-toggleable__label {cursor: pointer;display: block;width: 100%;margin-bottom: 0;padding: 0.3em;box-sizing: border-box;text-align: center;}#sk-container-id-2 label.sk-toggleable__label-arrow:before {content: \"▸\";float: left;margin-right: 0.25em;color: #696969;}#sk-container-id-2 label.sk-toggleable__label-arrow:hover:before {color: black;}#sk-container-id-2 div.sk-estimator:hover label.sk-toggleable__label-arrow:before {color: black;}#sk-container-id-2 div.sk-toggleable__content {max-height: 0;max-width: 0;overflow: hidden;text-align: left;background-color: #f0f8ff;}#sk-container-id-2 div.sk-toggleable__content pre {margin: 0.2em;color: black;border-radius: 0.25em;background-color: #f0f8ff;}#sk-container-id-2 input.sk-toggleable__control:checked~div.sk-toggleable__content {max-height: 200px;max-width: 100%;overflow: auto;}#sk-container-id-2 input.sk-toggleable__control:checked~label.sk-toggleable__label-arrow:before {content: \"▾\";}#sk-container-id-2 div.sk-estimator input.sk-toggleable__control:checked~label.sk-toggleable__label {background-color: #d4ebff;}#sk-container-id-2 div.sk-label input.sk-toggleable__control:checked~label.sk-toggleable__label {background-color: #d4ebff;}#sk-container-id-2 input.sk-hidden--visually {border: 0;clip: rect(1px 1px 1px 1px);clip: rect(1px, 1px, 1px, 1px);height: 1px;margin: -1px;overflow: hidden;padding: 0;position: absolute;width: 1px;}#sk-container-id-2 div.sk-estimator {font-family: monospace;background-color: #f0f8ff;border: 1px dotted black;border-radius: 0.25em;box-sizing: border-box;margin-bottom: 0.5em;}#sk-container-id-2 div.sk-estimator:hover {background-color: #d4ebff;}#sk-container-id-2 div.sk-parallel-item::after {content: \"\";width: 100%;border-bottom: 1px solid gray;flex-grow: 1;}#sk-container-id-2 div.sk-label:hover label.sk-toggleable__label {background-color: #d4ebff;}#sk-container-id-2 div.sk-serial::before {content: \"\";position: absolute;border-left: 1px solid gray;box-sizing: border-box;top: 0;bottom: 0;left: 50%;z-index: 0;}#sk-container-id-2 div.sk-serial {display: flex;flex-direction: column;align-items: center;background-color: white;padding-right: 0.2em;padding-left: 0.2em;position: relative;}#sk-container-id-2 div.sk-item {position: relative;z-index: 1;}#sk-container-id-2 div.sk-parallel {display: flex;align-items: stretch;justify-content: center;background-color: white;position: relative;}#sk-container-id-2 div.sk-item::before, #sk-container-id-2 div.sk-parallel-item::before {content: \"\";position: absolute;border-left: 1px solid gray;box-sizing: border-box;top: 0;bottom: 0;left: 50%;z-index: -1;}#sk-container-id-2 div.sk-parallel-item {display: flex;flex-direction: column;z-index: 1;position: relative;background-color: white;}#sk-container-id-2 div.sk-parallel-item:first-child::after {align-self: flex-end;width: 50%;}#sk-container-id-2 div.sk-parallel-item:last-child::after {align-self: flex-start;width: 50%;}#sk-container-id-2 div.sk-parallel-item:only-child::after {width: 0;}#sk-container-id-2 div.sk-dashed-wrapped {border: 1px dashed gray;margin: 0 0.4em 0.5em 0.4em;box-sizing: border-box;padding-bottom: 0.4em;background-color: white;}#sk-container-id-2 div.sk-label label {font-family: monospace;font-weight: bold;display: inline-block;line-height: 1.2em;}#sk-container-id-2 div.sk-label-container {text-align: center;}#sk-container-id-2 div.sk-container {/* jupyter's `normalize.less` sets `[hidden] { display: none; }` but bootstrap.min.css set `[hidden] { display: none !important; }` so we also need the `!important` here to be able to override the default hidden behavior on the sphinx rendered scikit-learn.org. See: https://github.com/scikit-learn/scikit-learn/issues/21755 */display: inline-block !important;position: relative;}#sk-container-id-2 div.sk-text-repr-fallback {display: none;}</style><div id=\"sk-container-id-2\" class=\"sk-top-container\"><div class=\"sk-text-repr-fallback\"><pre>XGBClassifier(base_score=None, booster=None, callbacks=None,\n",
       "              colsample_bylevel=None, colsample_bynode=None,\n",
       "              colsample_bytree=0.16799013289247494, early_stopping_rounds=None,\n",
       "              enable_categorical=False, eval_metric=None, feature_types=None,\n",
       "              gamma=None, gpu_id=None, grow_policy=None, importance_type=None,\n",
       "              interaction_constraints=None, learning_rate=0.04191844445257235,\n",
       "              max_bin=None, max_cat_threshold=None, max_cat_to_onehot=None,\n",
       "              max_delta_step=None, max_depth=6, max_leaves=None,\n",
       "              min_child_weight=17, missing=nan, monotone_constraints=None,\n",
       "              n_estimators=607, n_jobs=None, num_parallel_tree=None,\n",
       "              objective=&#x27;multi:softprob&#x27;, predictor=None, ...)</pre><b>In a Jupyter environment, please rerun this cell to show the HTML representation or trust the notebook. <br />On GitHub, the HTML representation is unable to render, please try loading this page with nbviewer.org.</b></div><div class=\"sk-container\" hidden><div class=\"sk-item\"><div class=\"sk-estimator sk-toggleable\"><input class=\"sk-toggleable__control sk-hidden--visually\" id=\"sk-estimator-id-2\" type=\"checkbox\" checked><label for=\"sk-estimator-id-2\" class=\"sk-toggleable__label sk-toggleable__label-arrow\">XGBClassifier</label><div class=\"sk-toggleable__content\"><pre>XGBClassifier(base_score=None, booster=None, callbacks=None,\n",
       "              colsample_bylevel=None, colsample_bynode=None,\n",
       "              colsample_bytree=0.16799013289247494, early_stopping_rounds=None,\n",
       "              enable_categorical=False, eval_metric=None, feature_types=None,\n",
       "              gamma=None, gpu_id=None, grow_policy=None, importance_type=None,\n",
       "              interaction_constraints=None, learning_rate=0.04191844445257235,\n",
       "              max_bin=None, max_cat_threshold=None, max_cat_to_onehot=None,\n",
       "              max_delta_step=None, max_depth=6, max_leaves=None,\n",
       "              min_child_weight=17, missing=nan, monotone_constraints=None,\n",
       "              n_estimators=607, n_jobs=None, num_parallel_tree=None,\n",
       "              objective=&#x27;multi:softprob&#x27;, predictor=None, ...)</pre></div></div></div></div></div>"
      ],
      "text/plain": [
       "XGBClassifier(base_score=None, booster=None, callbacks=None,\n",
       "              colsample_bylevel=None, colsample_bynode=None,\n",
       "              colsample_bytree=0.16799013289247494, early_stopping_rounds=None,\n",
       "              enable_categorical=False, eval_metric=None, feature_types=None,\n",
       "              gamma=None, gpu_id=None, grow_policy=None, importance_type=None,\n",
       "              interaction_constraints=None, learning_rate=0.04191844445257235,\n",
       "              max_bin=None, max_cat_threshold=None, max_cat_to_onehot=None,\n",
       "              max_delta_step=None, max_depth=6, max_leaves=None,\n",
       "              min_child_weight=17, missing=nan, monotone_constraints=None,\n",
       "              n_estimators=607, n_jobs=None, num_parallel_tree=None,\n",
       "              objective='multi:softprob', predictor=None, ...)"
      ]
     },
     "execution_count": 106,
     "metadata": {},
     "output_type": "execute_result"
    }
   ],
   "source": [
    "# Fit the model on entire data\n",
    "XGBModel_2.fit(X, y)"
   ]
  },
  {
   "cell_type": "code",
   "execution_count": 107,
   "id": "49f294ac",
   "metadata": {
    "papermill": {
     "duration": 0.035586,
     "end_time": "2023-12-26T14:22:27.687938",
     "exception": false,
     "start_time": "2023-12-26T14:22:27.652352",
     "status": "completed"
    },
    "tags": []
   },
   "outputs": [],
   "source": [
    "test_IDs = test['id']\n",
    "test = test.drop(['id'], axis=1)"
   ]
  },
  {
   "cell_type": "code",
   "execution_count": 108,
   "id": "b6a87d65",
   "metadata": {
    "papermill": {
     "duration": 0.129657,
     "end_time": "2023-12-26T14:22:27.844673",
     "exception": false,
     "start_time": "2023-12-26T14:22:27.715016",
     "status": "completed"
    },
    "tags": []
   },
   "outputs": [
    {
     "data": {
      "text/html": [
       "<div>\n",
       "<style scoped>\n",
       "    .dataframe tbody tr th:only-of-type {\n",
       "        vertical-align: middle;\n",
       "    }\n",
       "\n",
       "    .dataframe tbody tr th {\n",
       "        vertical-align: top;\n",
       "    }\n",
       "\n",
       "    .dataframe thead th {\n",
       "        text-align: right;\n",
       "    }\n",
       "</style>\n",
       "<table border=\"1\" class=\"dataframe\">\n",
       "  <thead>\n",
       "    <tr style=\"text-align: right;\">\n",
       "      <th></th>\n",
       "      <th>id</th>\n",
       "      <th>Status_C</th>\n",
       "      <th>Status_CL</th>\n",
       "      <th>Status_D</th>\n",
       "    </tr>\n",
       "  </thead>\n",
       "  <tbody>\n",
       "    <tr>\n",
       "      <th>0</th>\n",
       "      <td>7905</td>\n",
       "      <td>0.366984</td>\n",
       "      <td>0.040375</td>\n",
       "      <td>0.592641</td>\n",
       "    </tr>\n",
       "    <tr>\n",
       "      <th>1</th>\n",
       "      <td>7906</td>\n",
       "      <td>0.455381</td>\n",
       "      <td>0.253141</td>\n",
       "      <td>0.291478</td>\n",
       "    </tr>\n",
       "    <tr>\n",
       "      <th>2</th>\n",
       "      <td>7907</td>\n",
       "      <td>0.014966</td>\n",
       "      <td>0.007246</td>\n",
       "      <td>0.977788</td>\n",
       "    </tr>\n",
       "    <tr>\n",
       "      <th>3</th>\n",
       "      <td>7908</td>\n",
       "      <td>0.985033</td>\n",
       "      <td>0.002985</td>\n",
       "      <td>0.011982</td>\n",
       "    </tr>\n",
       "    <tr>\n",
       "      <th>4</th>\n",
       "      <td>7909</td>\n",
       "      <td>0.835453</td>\n",
       "      <td>0.075252</td>\n",
       "      <td>0.089295</td>\n",
       "    </tr>\n",
       "  </tbody>\n",
       "</table>\n",
       "</div>"
      ],
      "text/plain": [
       "     id  Status_C  Status_CL  Status_D\n",
       "0  7905  0.366984   0.040375  0.592641\n",
       "1  7906  0.455381   0.253141  0.291478\n",
       "2  7907  0.014966   0.007246  0.977788\n",
       "3  7908  0.985033   0.002985  0.011982\n",
       "4  7909  0.835453   0.075252  0.089295"
      ]
     },
     "execution_count": 108,
     "metadata": {},
     "output_type": "execute_result"
    }
   ],
   "source": [
    "# Make predictions on test data \n",
    "y_pred_probs = XGBModel_2.predict_proba(test)\n",
    "assert y_pred_probs.shape == (test.shape[0], 3)\n",
    "\n",
    "submission_labels = [\"Status_C\", \"Status_CL\", \"Status_D\"]\n",
    "\n",
    "submission = pd.DataFrame(\n",
    "                {\"id\": test_IDs, **dict(zip(submission_labels, y_pred_probs.T))}\n",
    ")\n",
    "\n",
    "submission.head()"
   ]
  },
  {
   "cell_type": "code",
   "execution_count": 109,
   "id": "38254141",
   "metadata": {
    "papermill": {
     "duration": 0.053519,
     "end_time": "2023-12-26T14:22:27.925013",
     "exception": false,
     "start_time": "2023-12-26T14:22:27.871494",
     "status": "completed"
    },
    "tags": []
   },
   "outputs": [],
   "source": [
    "# Save a submission to csv file\n",
    "submission.to_csv('submission.csv', index=False)"
   ]
  },
  {
   "cell_type": "code",
   "execution_count": null,
   "id": "f5a6d395-00c9-44c3-ad68-eb4d62694231",
   "metadata": {},
   "outputs": [],
   "source": []
  }
 ],
 "metadata": {
  "kaggle": {
   "accelerator": "none",
   "dataSources": [
    {
     "databundleVersionId": 7000181,
     "sourceId": 60893,
     "sourceType": "competition"
    },
    {
     "datasetId": 3873965,
     "sourceId": 6724823,
     "sourceType": "datasetVersion"
    }
   ],
   "dockerImageVersionId": 30626,
   "isGpuEnabled": false,
   "isInternetEnabled": true,
   "language": "python",
   "sourceType": "notebook"
  },
  "kernelspec": {
   "display_name": "Python 3 (ipykernel)",
   "language": "python",
   "name": "python3"
  },
  "language_info": {
   "codemirror_mode": {
    "name": "ipython",
    "version": 3
   },
   "file_extension": ".py",
   "mimetype": "text/x-python",
   "name": "python",
   "nbconvert_exporter": "python",
   "pygments_lexer": "ipython3",
   "version": "3.9.13"
  },
  "papermill": {
   "default_parameters": {},
   "duration": 109.026072,
   "end_time": "2023-12-26T14:22:28.771529",
   "environment_variables": {},
   "exception": null,
   "input_path": "__notebook__.ipynb",
   "output_path": "__notebook__.ipynb",
   "parameters": {},
   "start_time": "2023-12-26T14:20:39.745457",
   "version": "2.4.0"
  }
 },
 "nbformat": 4,
 "nbformat_minor": 5
}
