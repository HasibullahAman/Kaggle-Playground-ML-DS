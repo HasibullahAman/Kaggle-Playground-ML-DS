{
 "cells": [
  {
   "cell_type": "markdown",
   "metadata": {
    "execution": {
     "iopub.execute_input": "2023-03-03T23:54:29.360637Z",
     "iopub.status.busy": "2023-03-03T23:54:29.360210Z",
     "iopub.status.idle": "2023-03-03T23:54:29.400217Z",
     "shell.execute_reply": "2023-03-03T23:54:29.398684Z",
     "shell.execute_reply.started": "2023-03-03T23:54:29.360597Z"
    }
   },
   "source": [
    "<center><span style=\"font-family:Comic Sans MS; color:navy \"><h1>House Pricee Prediction(Feature Engineering,LGBMRegressor)</h1></span></center>"
   ]
  },
  {
   "cell_type": "markdown",
   "metadata": {},
   "source": [
    "# <b>1 <span style='color:#94D4F6'>|</span> About DataSet</b>"
   ]
  },
  {
   "cell_type": "markdown",
   "metadata": {},
   "source": []
  },
  {
   "cell_type": "markdown",
   "metadata": {},
   "source": [
    "<span style='font-family:comic Sans MS; color:navy'> Ask a home buyer to describe their dream house, and they probably won't begin with the height of the basement ceiling or the proximity to an east-west railroad. But this playground competition's dataset proves that much more influences price negotiations than the number of bedrooms or a white-picket fence.</span>\n",
    "<center> \n",
    "<img src=\"https://storage.googleapis.com/kaggle-competitions/kaggle/5407/media/housesbanner.png\", width=\"1000\",  height=\"600\"/>\n",
    "</center> "
   ]
  },
  {
   "cell_type": "markdown",
   "metadata": {},
   "source": [
    "# <b>2 <span style='color:#94D4F6'>|</span> Define the Problem</b>\n",
    "<span style='font-family:comic Sans MS; color:navy'>With 79 explanatory variables describing (almost) every aspect of residential homes in Ames, Iowa, this competition challenges you to predict the final price of each home.</span>"
   ]
  },
  {
   "cell_type": "markdown",
   "metadata": {},
   "source": [
    "# <b>3 <span style='color:#94D4F6'>|</span> Import Libraries</b>"
   ]
  },
  {
   "cell_type": "code",
   "execution_count": 2,
   "metadata": {
    "execution": {
     "iopub.execute_input": "2023-04-05T07:40:25.702801Z",
     "iopub.status.busy": "2023-04-05T07:40:25.702321Z",
     "iopub.status.idle": "2023-04-05T07:40:32.154535Z",
     "shell.execute_reply": "2023-04-05T07:40:32.152851Z",
     "shell.execute_reply.started": "2023-04-05T07:40:25.702764Z"
    }
   },
   "outputs": [
    {
     "name": "stderr",
     "output_type": "stream",
     "text": [
      "/opt/conda/lib/python3.7/site-packages/geopandas/_compat.py:115: UserWarning:\n",
      "\n",
      "The Shapely GEOS version (3.9.1-CAPI-1.14.2) is incompatible with the GEOS version PyGEOS was compiled with (3.10.4-CAPI-1.16.2). Conversions between both will be slow.\n",
      "\n"
     ]
    },
    {
     "data": {
      "text/html": [
       "        <script type=\"text/javascript\">\n",
       "        window.PlotlyConfig = {MathJaxConfig: 'local'};\n",
       "        if (window.MathJax && window.MathJax.Hub && window.MathJax.Hub.Config) {window.MathJax.Hub.Config({SVG: {font: \"STIX-Web\"}});}\n",
       "        if (typeof require !== 'undefined') {\n",
       "        require.undef(\"plotly\");\n",
       "        requirejs.config({\n",
       "            paths: {\n",
       "                'plotly': ['https://cdn.plot.ly/plotly-2.18.0.min']\n",
       "            }\n",
       "        });\n",
       "        require(['plotly'], function(Plotly) {\n",
       "            window._Plotly = Plotly;\n",
       "        });\n",
       "        }\n",
       "        </script>\n",
       "        "
      ]
     },
     "metadata": {},
     "output_type": "display_data"
    },
    {
     "name": "stdout",
     "output_type": "stream",
     "text": [
      "/kaggle/input/house-prices-advanced-regression-techniques/sample_submission.csv\n",
      "/kaggle/input/house-prices-advanced-regression-techniques/data_description.txt\n",
      "/kaggle/input/house-prices-advanced-regression-techniques/train.csv\n",
      "/kaggle/input/house-prices-advanced-regression-techniques/test.csv\n"
     ]
    },
    {
     "data": {
      "text/html": [
       "<style type='text/css'>\n",
       ".datatable table.frame { margin-bottom: 0; }\n",
       ".datatable table.frame thead { border-bottom: none; }\n",
       ".datatable table.frame tr.coltypes td {  color: #FFFFFF;  line-height: 6px;  padding: 0 0.5em;}\n",
       ".datatable .bool    { background: #DDDD99; }\n",
       ".datatable .object  { background: #565656; }\n",
       ".datatable .int     { background: #5D9E5D; }\n",
       ".datatable .float   { background: #4040CC; }\n",
       ".datatable .str     { background: #CC4040; }\n",
       ".datatable .time    { background: #40CC40; }\n",
       ".datatable .row_index {  background: var(--jp-border-color3);  border-right: 1px solid var(--jp-border-color0);  color: var(--jp-ui-font-color3);  font-size: 9px;}\n",
       ".datatable .frame tbody td { text-align: left; }\n",
       ".datatable .frame tr.coltypes .row_index {  background: var(--jp-border-color0);}\n",
       ".datatable th:nth-child(2) { padding-left: 12px; }\n",
       ".datatable .hellipsis {  color: var(--jp-cell-editor-border-color);}\n",
       ".datatable .vellipsis {  background: var(--jp-layout-color0);  color: var(--jp-cell-editor-border-color);}\n",
       ".datatable .na {  color: var(--jp-cell-editor-border-color);  font-size: 80%;}\n",
       ".datatable .sp {  opacity: 0.25;}\n",
       ".datatable .footer { font-size: 9px; }\n",
       ".datatable .frame_dimensions {  background: var(--jp-border-color3);  border-top: 1px solid var(--jp-border-color0);  color: var(--jp-ui-font-color3);  display: inline-block;  opacity: 0.6;  padding: 1px 10px 1px 5px;}\n",
       "</style>\n"
      ],
      "text/plain": [
       "<IPython.core.display.HTML object>"
      ]
     },
     "metadata": {},
     "output_type": "display_data"
    }
   ],
   "source": [
    "import numpy as np #linear algebra\n",
    "import pandas as pd # data processing\n",
    "\n",
    "#for graphs, visuals, etc.\n",
    "import matplotlib.pyplot as plt\n",
    "import seaborn as sns\n",
    "import missingno as msno\n",
    "import plotly.express as px\n",
    "\n",
    "#Configure Visualization Defaults\n",
    "# %matplotlib inline = show plots in Jupyter Notebook browser\n",
    "%matplotlib inline\n",
    "plt.style.use('ggplot')\n",
    "sns.set_style('white')\n",
    "\n",
    "import cufflinks as cf\n",
    "cf.go_offline()\n",
    "\n",
    "import os\n",
    "for dirname, _, filenames in os.walk('/kaggle/input'):\n",
    "    for filename in filenames:\n",
    "        print(os.path.join(dirname, filename))\n",
    "        \n",
    "# ignore warnings\n",
    "import warnings\n",
    "warnings.filterwarnings('ignore')\n",
    "\n",
    "# outliers\n",
    "from collections import Counter  ## used in droping outliers\n",
    "# encoding categorical features\n",
    "from sklearn.preprocessing import(\n",
    "    StandardScaler,# standard scalar will scale data from (-3 to 3)\n",
    "    LabelEncoder, # for label encoding categorical features\n",
    "    OneHotEncoder, # used for onehot encoding categorical features\n",
    ") \n",
    "# ML models\n",
    "from sklearn.svm import SVR\n",
    "from sklearn.model_selection import(\n",
    "    train_test_split,# used to split the data into training and testing\n",
    "    RandomizedSearchCV,# used for tuning the models parameters\n",
    "    cross_val_score,\n",
    ")\n",
    "from scipy.stats import(\n",
    "    uniform,\n",
    "    randint,\n",
    "    )\n",
    "from sklearn.linear_model import (\n",
    "    LinearRegression,\n",
    "    Ridge,\n",
    "    Lasso\n",
    ")\n",
    "# for printing a table\n",
    "from prettytable import(\n",
    " PrettyTable,\n",
    " ALL,\n",
    " FRAME,\n",
    "    )\n",
    "from sklearn.tree import DecisionTreeRegressor\n",
    "from sklearn.ensemble import RandomForestRegressor\n",
    "from xgboost import XGBRegressor\n",
    "from lightgbm import LGBMRegressor\n",
    "from sklearn.metrics import mean_squared_error\n"
   ]
  },
  {
   "cell_type": "markdown",
   "metadata": {},
   "source": [
    "# <b>4 <span style='color:#94D4F6'>|</span> Import Data</b>"
   ]
  },
  {
   "cell_type": "code",
   "execution_count": 3,
   "metadata": {
    "execution": {
     "iopub.execute_input": "2023-04-05T07:40:32.157801Z",
     "iopub.status.busy": "2023-04-05T07:40:32.157383Z",
     "iopub.status.idle": "2023-04-05T07:40:32.237220Z",
     "shell.execute_reply": "2023-04-05T07:40:32.236116Z",
     "shell.execute_reply.started": "2023-04-05T07:40:32.157762Z"
    }
   },
   "outputs": [],
   "source": [
    "df = pd.read_csv('/kaggle/input/house-prices-advanced-regression-techniques/train.csv')\n",
    "df_test = pd.read_csv('/kaggle/input/house-prices-advanced-regression-techniques/test.csv')"
   ]
  },
  {
   "cell_type": "markdown",
   "metadata": {},
   "source": [
    "# <b>5 <span style='color:#94D4F6'>|</span> PreProcessing</b>\n",
    "<div style=\"color:white;display:fill;border-radius:8px;background-color:#03112A;font-size:150%;letter-spacing:1.0px\"><p style=\"padding: 10px;color:white;\"><b><b><span style='color:#94D4F6'>5.1 |</span></b> How data Look! </b></p></div>"
   ]
  },
  {
   "cell_type": "code",
   "execution_count": 4,
   "metadata": {
    "execution": {
     "iopub.execute_input": "2023-04-05T07:40:32.239744Z",
     "iopub.status.busy": "2023-04-05T07:40:32.239301Z",
     "iopub.status.idle": "2023-04-05T07:40:32.296965Z",
     "shell.execute_reply": "2023-04-05T07:40:32.295513Z",
     "shell.execute_reply.started": "2023-04-05T07:40:32.239700Z"
    }
   },
   "outputs": [
    {
     "data": {
      "text/html": [
       "<div>\n",
       "<style scoped>\n",
       "    .dataframe tbody tr th:only-of-type {\n",
       "        vertical-align: middle;\n",
       "    }\n",
       "\n",
       "    .dataframe tbody tr th {\n",
       "        vertical-align: top;\n",
       "    }\n",
       "\n",
       "    .dataframe thead th {\n",
       "        text-align: right;\n",
       "    }\n",
       "</style>\n",
       "<table border=\"1\" class=\"dataframe\">\n",
       "  <thead>\n",
       "    <tr style=\"text-align: right;\">\n",
       "      <th></th>\n",
       "      <th>Id</th>\n",
       "      <th>MSSubClass</th>\n",
       "      <th>MSZoning</th>\n",
       "      <th>LotFrontage</th>\n",
       "      <th>LotArea</th>\n",
       "      <th>Street</th>\n",
       "      <th>Alley</th>\n",
       "      <th>LotShape</th>\n",
       "      <th>LandContour</th>\n",
       "      <th>Utilities</th>\n",
       "      <th>...</th>\n",
       "      <th>PoolArea</th>\n",
       "      <th>PoolQC</th>\n",
       "      <th>Fence</th>\n",
       "      <th>MiscFeature</th>\n",
       "      <th>MiscVal</th>\n",
       "      <th>MoSold</th>\n",
       "      <th>YrSold</th>\n",
       "      <th>SaleType</th>\n",
       "      <th>SaleCondition</th>\n",
       "      <th>SalePrice</th>\n",
       "    </tr>\n",
       "  </thead>\n",
       "  <tbody>\n",
       "    <tr>\n",
       "      <th>0</th>\n",
       "      <td>1</td>\n",
       "      <td>60</td>\n",
       "      <td>RL</td>\n",
       "      <td>65.0</td>\n",
       "      <td>8450</td>\n",
       "      <td>Pave</td>\n",
       "      <td>NaN</td>\n",
       "      <td>Reg</td>\n",
       "      <td>Lvl</td>\n",
       "      <td>AllPub</td>\n",
       "      <td>...</td>\n",
       "      <td>0</td>\n",
       "      <td>NaN</td>\n",
       "      <td>NaN</td>\n",
       "      <td>NaN</td>\n",
       "      <td>0</td>\n",
       "      <td>2</td>\n",
       "      <td>2008</td>\n",
       "      <td>WD</td>\n",
       "      <td>Normal</td>\n",
       "      <td>208500</td>\n",
       "    </tr>\n",
       "    <tr>\n",
       "      <th>1</th>\n",
       "      <td>2</td>\n",
       "      <td>20</td>\n",
       "      <td>RL</td>\n",
       "      <td>80.0</td>\n",
       "      <td>9600</td>\n",
       "      <td>Pave</td>\n",
       "      <td>NaN</td>\n",
       "      <td>Reg</td>\n",
       "      <td>Lvl</td>\n",
       "      <td>AllPub</td>\n",
       "      <td>...</td>\n",
       "      <td>0</td>\n",
       "      <td>NaN</td>\n",
       "      <td>NaN</td>\n",
       "      <td>NaN</td>\n",
       "      <td>0</td>\n",
       "      <td>5</td>\n",
       "      <td>2007</td>\n",
       "      <td>WD</td>\n",
       "      <td>Normal</td>\n",
       "      <td>181500</td>\n",
       "    </tr>\n",
       "    <tr>\n",
       "      <th>2</th>\n",
       "      <td>3</td>\n",
       "      <td>60</td>\n",
       "      <td>RL</td>\n",
       "      <td>68.0</td>\n",
       "      <td>11250</td>\n",
       "      <td>Pave</td>\n",
       "      <td>NaN</td>\n",
       "      <td>IR1</td>\n",
       "      <td>Lvl</td>\n",
       "      <td>AllPub</td>\n",
       "      <td>...</td>\n",
       "      <td>0</td>\n",
       "      <td>NaN</td>\n",
       "      <td>NaN</td>\n",
       "      <td>NaN</td>\n",
       "      <td>0</td>\n",
       "      <td>9</td>\n",
       "      <td>2008</td>\n",
       "      <td>WD</td>\n",
       "      <td>Normal</td>\n",
       "      <td>223500</td>\n",
       "    </tr>\n",
       "    <tr>\n",
       "      <th>3</th>\n",
       "      <td>4</td>\n",
       "      <td>70</td>\n",
       "      <td>RL</td>\n",
       "      <td>60.0</td>\n",
       "      <td>9550</td>\n",
       "      <td>Pave</td>\n",
       "      <td>NaN</td>\n",
       "      <td>IR1</td>\n",
       "      <td>Lvl</td>\n",
       "      <td>AllPub</td>\n",
       "      <td>...</td>\n",
       "      <td>0</td>\n",
       "      <td>NaN</td>\n",
       "      <td>NaN</td>\n",
       "      <td>NaN</td>\n",
       "      <td>0</td>\n",
       "      <td>2</td>\n",
       "      <td>2006</td>\n",
       "      <td>WD</td>\n",
       "      <td>Abnorml</td>\n",
       "      <td>140000</td>\n",
       "    </tr>\n",
       "    <tr>\n",
       "      <th>4</th>\n",
       "      <td>5</td>\n",
       "      <td>60</td>\n",
       "      <td>RL</td>\n",
       "      <td>84.0</td>\n",
       "      <td>14260</td>\n",
       "      <td>Pave</td>\n",
       "      <td>NaN</td>\n",
       "      <td>IR1</td>\n",
       "      <td>Lvl</td>\n",
       "      <td>AllPub</td>\n",
       "      <td>...</td>\n",
       "      <td>0</td>\n",
       "      <td>NaN</td>\n",
       "      <td>NaN</td>\n",
       "      <td>NaN</td>\n",
       "      <td>0</td>\n",
       "      <td>12</td>\n",
       "      <td>2008</td>\n",
       "      <td>WD</td>\n",
       "      <td>Normal</td>\n",
       "      <td>250000</td>\n",
       "    </tr>\n",
       "  </tbody>\n",
       "</table>\n",
       "<p>5 rows × 81 columns</p>\n",
       "</div>"
      ],
      "text/plain": [
       "   Id  MSSubClass MSZoning  LotFrontage  LotArea Street Alley LotShape  \\\n",
       "0   1          60       RL         65.0     8450   Pave   NaN      Reg   \n",
       "1   2          20       RL         80.0     9600   Pave   NaN      Reg   \n",
       "2   3          60       RL         68.0    11250   Pave   NaN      IR1   \n",
       "3   4          70       RL         60.0     9550   Pave   NaN      IR1   \n",
       "4   5          60       RL         84.0    14260   Pave   NaN      IR1   \n",
       "\n",
       "  LandContour Utilities  ... PoolArea PoolQC Fence MiscFeature MiscVal MoSold  \\\n",
       "0         Lvl    AllPub  ...        0    NaN   NaN         NaN       0      2   \n",
       "1         Lvl    AllPub  ...        0    NaN   NaN         NaN       0      5   \n",
       "2         Lvl    AllPub  ...        0    NaN   NaN         NaN       0      9   \n",
       "3         Lvl    AllPub  ...        0    NaN   NaN         NaN       0      2   \n",
       "4         Lvl    AllPub  ...        0    NaN   NaN         NaN       0     12   \n",
       "\n",
       "  YrSold  SaleType  SaleCondition  SalePrice  \n",
       "0   2008        WD         Normal     208500  \n",
       "1   2007        WD         Normal     181500  \n",
       "2   2008        WD         Normal     223500  \n",
       "3   2006        WD        Abnorml     140000  \n",
       "4   2008        WD         Normal     250000  \n",
       "\n",
       "[5 rows x 81 columns]"
      ]
     },
     "execution_count": 4,
     "metadata": {},
     "output_type": "execute_result"
    }
   ],
   "source": [
    "# train Data\n",
    "df.head()"
   ]
  },
  {
   "cell_type": "code",
   "execution_count": 5,
   "metadata": {
    "execution": {
     "iopub.execute_input": "2023-04-05T07:40:32.300442Z",
     "iopub.status.busy": "2023-04-05T07:40:32.299975Z",
     "iopub.status.idle": "2023-04-05T07:40:32.335089Z",
     "shell.execute_reply": "2023-04-05T07:40:32.333215Z",
     "shell.execute_reply.started": "2023-04-05T07:40:32.300398Z"
    }
   },
   "outputs": [
    {
     "data": {
      "text/html": [
       "<div>\n",
       "<style scoped>\n",
       "    .dataframe tbody tr th:only-of-type {\n",
       "        vertical-align: middle;\n",
       "    }\n",
       "\n",
       "    .dataframe tbody tr th {\n",
       "        vertical-align: top;\n",
       "    }\n",
       "\n",
       "    .dataframe thead th {\n",
       "        text-align: right;\n",
       "    }\n",
       "</style>\n",
       "<table border=\"1\" class=\"dataframe\">\n",
       "  <thead>\n",
       "    <tr style=\"text-align: right;\">\n",
       "      <th></th>\n",
       "      <th>Id</th>\n",
       "      <th>MSSubClass</th>\n",
       "      <th>MSZoning</th>\n",
       "      <th>LotFrontage</th>\n",
       "      <th>LotArea</th>\n",
       "      <th>Street</th>\n",
       "      <th>Alley</th>\n",
       "      <th>LotShape</th>\n",
       "      <th>LandContour</th>\n",
       "      <th>Utilities</th>\n",
       "      <th>...</th>\n",
       "      <th>ScreenPorch</th>\n",
       "      <th>PoolArea</th>\n",
       "      <th>PoolQC</th>\n",
       "      <th>Fence</th>\n",
       "      <th>MiscFeature</th>\n",
       "      <th>MiscVal</th>\n",
       "      <th>MoSold</th>\n",
       "      <th>YrSold</th>\n",
       "      <th>SaleType</th>\n",
       "      <th>SaleCondition</th>\n",
       "    </tr>\n",
       "  </thead>\n",
       "  <tbody>\n",
       "    <tr>\n",
       "      <th>0</th>\n",
       "      <td>1461</td>\n",
       "      <td>20</td>\n",
       "      <td>RH</td>\n",
       "      <td>80.0</td>\n",
       "      <td>11622</td>\n",
       "      <td>Pave</td>\n",
       "      <td>NaN</td>\n",
       "      <td>Reg</td>\n",
       "      <td>Lvl</td>\n",
       "      <td>AllPub</td>\n",
       "      <td>...</td>\n",
       "      <td>120</td>\n",
       "      <td>0</td>\n",
       "      <td>NaN</td>\n",
       "      <td>MnPrv</td>\n",
       "      <td>NaN</td>\n",
       "      <td>0</td>\n",
       "      <td>6</td>\n",
       "      <td>2010</td>\n",
       "      <td>WD</td>\n",
       "      <td>Normal</td>\n",
       "    </tr>\n",
       "    <tr>\n",
       "      <th>1</th>\n",
       "      <td>1462</td>\n",
       "      <td>20</td>\n",
       "      <td>RL</td>\n",
       "      <td>81.0</td>\n",
       "      <td>14267</td>\n",
       "      <td>Pave</td>\n",
       "      <td>NaN</td>\n",
       "      <td>IR1</td>\n",
       "      <td>Lvl</td>\n",
       "      <td>AllPub</td>\n",
       "      <td>...</td>\n",
       "      <td>0</td>\n",
       "      <td>0</td>\n",
       "      <td>NaN</td>\n",
       "      <td>NaN</td>\n",
       "      <td>Gar2</td>\n",
       "      <td>12500</td>\n",
       "      <td>6</td>\n",
       "      <td>2010</td>\n",
       "      <td>WD</td>\n",
       "      <td>Normal</td>\n",
       "    </tr>\n",
       "    <tr>\n",
       "      <th>2</th>\n",
       "      <td>1463</td>\n",
       "      <td>60</td>\n",
       "      <td>RL</td>\n",
       "      <td>74.0</td>\n",
       "      <td>13830</td>\n",
       "      <td>Pave</td>\n",
       "      <td>NaN</td>\n",
       "      <td>IR1</td>\n",
       "      <td>Lvl</td>\n",
       "      <td>AllPub</td>\n",
       "      <td>...</td>\n",
       "      <td>0</td>\n",
       "      <td>0</td>\n",
       "      <td>NaN</td>\n",
       "      <td>MnPrv</td>\n",
       "      <td>NaN</td>\n",
       "      <td>0</td>\n",
       "      <td>3</td>\n",
       "      <td>2010</td>\n",
       "      <td>WD</td>\n",
       "      <td>Normal</td>\n",
       "    </tr>\n",
       "    <tr>\n",
       "      <th>3</th>\n",
       "      <td>1464</td>\n",
       "      <td>60</td>\n",
       "      <td>RL</td>\n",
       "      <td>78.0</td>\n",
       "      <td>9978</td>\n",
       "      <td>Pave</td>\n",
       "      <td>NaN</td>\n",
       "      <td>IR1</td>\n",
       "      <td>Lvl</td>\n",
       "      <td>AllPub</td>\n",
       "      <td>...</td>\n",
       "      <td>0</td>\n",
       "      <td>0</td>\n",
       "      <td>NaN</td>\n",
       "      <td>NaN</td>\n",
       "      <td>NaN</td>\n",
       "      <td>0</td>\n",
       "      <td>6</td>\n",
       "      <td>2010</td>\n",
       "      <td>WD</td>\n",
       "      <td>Normal</td>\n",
       "    </tr>\n",
       "    <tr>\n",
       "      <th>4</th>\n",
       "      <td>1465</td>\n",
       "      <td>120</td>\n",
       "      <td>RL</td>\n",
       "      <td>43.0</td>\n",
       "      <td>5005</td>\n",
       "      <td>Pave</td>\n",
       "      <td>NaN</td>\n",
       "      <td>IR1</td>\n",
       "      <td>HLS</td>\n",
       "      <td>AllPub</td>\n",
       "      <td>...</td>\n",
       "      <td>144</td>\n",
       "      <td>0</td>\n",
       "      <td>NaN</td>\n",
       "      <td>NaN</td>\n",
       "      <td>NaN</td>\n",
       "      <td>0</td>\n",
       "      <td>1</td>\n",
       "      <td>2010</td>\n",
       "      <td>WD</td>\n",
       "      <td>Normal</td>\n",
       "    </tr>\n",
       "  </tbody>\n",
       "</table>\n",
       "<p>5 rows × 80 columns</p>\n",
       "</div>"
      ],
      "text/plain": [
       "     Id  MSSubClass MSZoning  LotFrontage  LotArea Street Alley LotShape  \\\n",
       "0  1461          20       RH         80.0    11622   Pave   NaN      Reg   \n",
       "1  1462          20       RL         81.0    14267   Pave   NaN      IR1   \n",
       "2  1463          60       RL         74.0    13830   Pave   NaN      IR1   \n",
       "3  1464          60       RL         78.0     9978   Pave   NaN      IR1   \n",
       "4  1465         120       RL         43.0     5005   Pave   NaN      IR1   \n",
       "\n",
       "  LandContour Utilities  ... ScreenPorch PoolArea PoolQC  Fence MiscFeature  \\\n",
       "0         Lvl    AllPub  ...         120        0    NaN  MnPrv         NaN   \n",
       "1         Lvl    AllPub  ...           0        0    NaN    NaN        Gar2   \n",
       "2         Lvl    AllPub  ...           0        0    NaN  MnPrv         NaN   \n",
       "3         Lvl    AllPub  ...           0        0    NaN    NaN         NaN   \n",
       "4         HLS    AllPub  ...         144        0    NaN    NaN         NaN   \n",
       "\n",
       "  MiscVal MoSold  YrSold  SaleType  SaleCondition  \n",
       "0       0      6    2010        WD         Normal  \n",
       "1   12500      6    2010        WD         Normal  \n",
       "2       0      3    2010        WD         Normal  \n",
       "3       0      6    2010        WD         Normal  \n",
       "4       0      1    2010        WD         Normal  \n",
       "\n",
       "[5 rows x 80 columns]"
      ]
     },
     "execution_count": 5,
     "metadata": {},
     "output_type": "execute_result"
    }
   ],
   "source": [
    "# test Data\n",
    "df_test.head()"
   ]
  },
  {
   "cell_type": "markdown",
   "metadata": {},
   "source": [
    "<span style='font-family:comic Sans MS; color:navy'> Skip of Price which we will predict,all data is the same and we should do preProcessing on both of(df and df_test)</span>"
   ]
  },
  {
   "cell_type": "markdown",
   "metadata": {},
   "source": [
    "<div style=\"color:white;display:fill;border-radius:8px;background-color:#03112A;font-size:150%;letter-spacing:1.0px\"><p style=\"padding: 10px;color:white;\"><b><b><span style='color:#94D4F6'>5.2 |</span></b> Data Information </b></p></div>"
   ]
  },
  {
   "cell_type": "code",
   "execution_count": 1,
   "metadata": {
    "execution": {
     "iopub.execute_input": "2023-04-05T07:40:32.340816Z",
     "iopub.status.busy": "2023-04-05T07:40:32.336967Z",
     "iopub.status.idle": "2023-04-05T07:40:32.349820Z",
     "shell.execute_reply": "2023-04-05T07:40:32.347964Z",
     "shell.execute_reply.started": "2023-04-05T07:40:32.340757Z"
    }
   },
   "outputs": [
    {
     "name": "stdout",
     "output_type": "stream",
     "text": [
      "shape of the training dataset:\n"
     ]
    },
    {
     "ename": "NameError",
     "evalue": "name 'df' is not defined",
     "output_type": "error",
     "traceback": [
      "\u001b[1;31m---------------------------------------------------------------------------\u001b[0m",
      "\u001b[1;31mNameError\u001b[0m                                 Traceback (most recent call last)",
      "\u001b[1;32m~\\AppData\\Local\\Temp\\ipykernel_11924\\1449776405.py\u001b[0m in \u001b[0;36m<module>\u001b[1;34m\u001b[0m\n\u001b[0;32m      1\u001b[0m \u001b[1;31m## shape of the training dataset\u001b[0m\u001b[1;33m\u001b[0m\u001b[1;33m\u001b[0m\u001b[0m\n\u001b[0;32m      2\u001b[0m \u001b[0mprint\u001b[0m\u001b[1;33m(\u001b[0m\u001b[1;34m'shape of the training dataset:'\u001b[0m\u001b[1;33m)\u001b[0m\u001b[1;33m\u001b[0m\u001b[1;33m\u001b[0m\u001b[0m\n\u001b[1;32m----> 3\u001b[1;33m \u001b[0mprint\u001b[0m\u001b[1;33m(\u001b[0m\u001b[1;34m'There are {} rows and {} columns in train dataset.'\u001b[0m\u001b[1;33m.\u001b[0m\u001b[0mformat\u001b[0m\u001b[1;33m(\u001b[0m\u001b[0mdf\u001b[0m\u001b[1;33m.\u001b[0m\u001b[0mshape\u001b[0m\u001b[1;33m[\u001b[0m\u001b[1;36m0\u001b[0m\u001b[1;33m]\u001b[0m\u001b[1;33m,\u001b[0m\u001b[0mdf\u001b[0m\u001b[1;33m.\u001b[0m\u001b[0mshape\u001b[0m\u001b[1;33m[\u001b[0m\u001b[1;36m1\u001b[0m\u001b[1;33m]\u001b[0m\u001b[1;33m)\u001b[0m\u001b[1;33m)\u001b[0m\u001b[1;33m\u001b[0m\u001b[1;33m\u001b[0m\u001b[0m\n\u001b[0m",
      "\u001b[1;31mNameError\u001b[0m: name 'df' is not defined"
     ]
    }
   ],
   "source": [
    "## shape of the training dataset\n",
    "print('shape of the training dataset:')\n",
    "print('There are {} rows and {} columns in train dataset.'.format(df.shape[0],df.shape[1]))"
   ]
  },
  {
   "cell_type": "code",
   "execution_count": 7,
   "metadata": {
    "execution": {
     "iopub.execute_input": "2023-04-05T07:40:32.352018Z",
     "iopub.status.busy": "2023-04-05T07:40:32.351683Z",
     "iopub.status.idle": "2023-04-05T07:40:32.367655Z",
     "shell.execute_reply": "2023-04-05T07:40:32.366636Z",
     "shell.execute_reply.started": "2023-04-05T07:40:32.351987Z"
    }
   },
   "outputs": [
    {
     "data": {
      "text/plain": [
       "Index(['Id', 'MSSubClass', 'MSZoning', 'LotFrontage', 'LotArea', 'Street',\n",
       "       'Alley', 'LotShape', 'LandContour', 'Utilities', 'LotConfig',\n",
       "       'LandSlope', 'Neighborhood', 'Condition1', 'Condition2', 'BldgType',\n",
       "       'HouseStyle', 'OverallQual', 'OverallCond', 'YearBuilt', 'YearRemodAdd',\n",
       "       'RoofStyle', 'RoofMatl', 'Exterior1st', 'Exterior2nd', 'MasVnrType',\n",
       "       'MasVnrArea', 'ExterQual', 'ExterCond', 'Foundation', 'BsmtQual',\n",
       "       'BsmtCond', 'BsmtExposure', 'BsmtFinType1', 'BsmtFinSF1',\n",
       "       'BsmtFinType2', 'BsmtFinSF2', 'BsmtUnfSF', 'TotalBsmtSF', 'Heating',\n",
       "       'HeatingQC', 'CentralAir', 'Electrical', '1stFlrSF', '2ndFlrSF',\n",
       "       'LowQualFinSF', 'GrLivArea', 'BsmtFullBath', 'BsmtHalfBath', 'FullBath',\n",
       "       'HalfBath', 'BedroomAbvGr', 'KitchenAbvGr', 'KitchenQual',\n",
       "       'TotRmsAbvGrd', 'Functional', 'Fireplaces', 'FireplaceQu', 'GarageType',\n",
       "       'GarageYrBlt', 'GarageFinish', 'GarageCars', 'GarageArea', 'GarageQual',\n",
       "       'GarageCond', 'PavedDrive', 'WoodDeckSF', 'OpenPorchSF',\n",
       "       'EnclosedPorch', '3SsnPorch', 'ScreenPorch', 'PoolArea', 'PoolQC',\n",
       "       'Fence', 'MiscFeature', 'MiscVal', 'MoSold', 'YrSold', 'SaleType',\n",
       "       'SaleCondition', 'SalePrice'],\n",
       "      dtype='object')"
      ]
     },
     "execution_count": 7,
     "metadata": {},
     "output_type": "execute_result"
    }
   ],
   "source": [
    "# Data Columns\n",
    "df.columns"
   ]
  },
  {
   "cell_type": "markdown",
   "metadata": {},
   "source": [
    "<span style='font-family:comic Sans MS; color:navy'>We have 80 Coulmns in our dataSet</span>"
   ]
  },
  {
   "cell_type": "code",
   "execution_count": 8,
   "metadata": {
    "execution": {
     "iopub.execute_input": "2023-04-05T07:40:32.969233Z",
     "iopub.status.busy": "2023-04-05T07:40:32.968817Z",
     "iopub.status.idle": "2023-04-05T07:40:33.005784Z",
     "shell.execute_reply": "2023-04-05T07:40:33.004061Z",
     "shell.execute_reply.started": "2023-04-05T07:40:32.969196Z"
    }
   },
   "outputs": [
    {
     "name": "stdout",
     "output_type": "stream",
     "text": [
      "<class 'pandas.core.frame.DataFrame'>\n",
      "RangeIndex: 1460 entries, 0 to 1459\n",
      "Data columns (total 81 columns):\n",
      " #   Column         Non-Null Count  Dtype  \n",
      "---  ------         --------------  -----  \n",
      " 0   Id             1460 non-null   int64  \n",
      " 1   MSSubClass     1460 non-null   int64  \n",
      " 2   MSZoning       1460 non-null   object \n",
      " 3   LotFrontage    1201 non-null   float64\n",
      " 4   LotArea        1460 non-null   int64  \n",
      " 5   Street         1460 non-null   object \n",
      " 6   Alley          91 non-null     object \n",
      " 7   LotShape       1460 non-null   object \n",
      " 8   LandContour    1460 non-null   object \n",
      " 9   Utilities      1460 non-null   object \n",
      " 10  LotConfig      1460 non-null   object \n",
      " 11  LandSlope      1460 non-null   object \n",
      " 12  Neighborhood   1460 non-null   object \n",
      " 13  Condition1     1460 non-null   object \n",
      " 14  Condition2     1460 non-null   object \n",
      " 15  BldgType       1460 non-null   object \n",
      " 16  HouseStyle     1460 non-null   object \n",
      " 17  OverallQual    1460 non-null   int64  \n",
      " 18  OverallCond    1460 non-null   int64  \n",
      " 19  YearBuilt      1460 non-null   int64  \n",
      " 20  YearRemodAdd   1460 non-null   int64  \n",
      " 21  RoofStyle      1460 non-null   object \n",
      " 22  RoofMatl       1460 non-null   object \n",
      " 23  Exterior1st    1460 non-null   object \n",
      " 24  Exterior2nd    1460 non-null   object \n",
      " 25  MasVnrType     1452 non-null   object \n",
      " 26  MasVnrArea     1452 non-null   float64\n",
      " 27  ExterQual      1460 non-null   object \n",
      " 28  ExterCond      1460 non-null   object \n",
      " 29  Foundation     1460 non-null   object \n",
      " 30  BsmtQual       1423 non-null   object \n",
      " 31  BsmtCond       1423 non-null   object \n",
      " 32  BsmtExposure   1422 non-null   object \n",
      " 33  BsmtFinType1   1423 non-null   object \n",
      " 34  BsmtFinSF1     1460 non-null   int64  \n",
      " 35  BsmtFinType2   1422 non-null   object \n",
      " 36  BsmtFinSF2     1460 non-null   int64  \n",
      " 37  BsmtUnfSF      1460 non-null   int64  \n",
      " 38  TotalBsmtSF    1460 non-null   int64  \n",
      " 39  Heating        1460 non-null   object \n",
      " 40  HeatingQC      1460 non-null   object \n",
      " 41  CentralAir     1460 non-null   object \n",
      " 42  Electrical     1459 non-null   object \n",
      " 43  1stFlrSF       1460 non-null   int64  \n",
      " 44  2ndFlrSF       1460 non-null   int64  \n",
      " 45  LowQualFinSF   1460 non-null   int64  \n",
      " 46  GrLivArea      1460 non-null   int64  \n",
      " 47  BsmtFullBath   1460 non-null   int64  \n",
      " 48  BsmtHalfBath   1460 non-null   int64  \n",
      " 49  FullBath       1460 non-null   int64  \n",
      " 50  HalfBath       1460 non-null   int64  \n",
      " 51  BedroomAbvGr   1460 non-null   int64  \n",
      " 52  KitchenAbvGr   1460 non-null   int64  \n",
      " 53  KitchenQual    1460 non-null   object \n",
      " 54  TotRmsAbvGrd   1460 non-null   int64  \n",
      " 55  Functional     1460 non-null   object \n",
      " 56  Fireplaces     1460 non-null   int64  \n",
      " 57  FireplaceQu    770 non-null    object \n",
      " 58  GarageType     1379 non-null   object \n",
      " 59  GarageYrBlt    1379 non-null   float64\n",
      " 60  GarageFinish   1379 non-null   object \n",
      " 61  GarageCars     1460 non-null   int64  \n",
      " 62  GarageArea     1460 non-null   int64  \n",
      " 63  GarageQual     1379 non-null   object \n",
      " 64  GarageCond     1379 non-null   object \n",
      " 65  PavedDrive     1460 non-null   object \n",
      " 66  WoodDeckSF     1460 non-null   int64  \n",
      " 67  OpenPorchSF    1460 non-null   int64  \n",
      " 68  EnclosedPorch  1460 non-null   int64  \n",
      " 69  3SsnPorch      1460 non-null   int64  \n",
      " 70  ScreenPorch    1460 non-null   int64  \n",
      " 71  PoolArea       1460 non-null   int64  \n",
      " 72  PoolQC         7 non-null      object \n",
      " 73  Fence          281 non-null    object \n",
      " 74  MiscFeature    54 non-null     object \n",
      " 75  MiscVal        1460 non-null   int64  \n",
      " 76  MoSold         1460 non-null   int64  \n",
      " 77  YrSold         1460 non-null   int64  \n",
      " 78  SaleType       1460 non-null   object \n",
      " 79  SaleCondition  1460 non-null   object \n",
      " 80  SalePrice      1460 non-null   int64  \n",
      "dtypes: float64(3), int64(35), object(43)\n",
      "memory usage: 924.0+ KB\n"
     ]
    }
   ],
   "source": [
    "# DataFrame Informatin\n",
    "df.info()"
   ]
  },
  {
   "cell_type": "markdown",
   "metadata": {},
   "source": [
    "<span style='font-family:comic Sans MS; color:navy'>In this dataset, we have columns with categorical data and empty data, which we need to modify to predict and train the data.</span>"
   ]
  },
  {
   "cell_type": "code",
   "execution_count": 16,
   "metadata": {
    "execution": {
     "iopub.execute_input": "2023-03-23T05:23:04.262218Z",
     "iopub.status.busy": "2023-03-23T05:23:04.261453Z",
     "iopub.status.idle": "2023-03-23T05:23:04.508623Z",
     "shell.execute_reply": "2023-03-23T05:23:04.507305Z",
     "shell.execute_reply.started": "2023-03-23T05:23:04.262164Z"
    }
   },
   "outputs": [
    {
     "data": {
      "text/html": [
       "<style type=\"text/css\">\n",
       "#T_caa57_row0_col0, #T_caa57_row0_col1, #T_caa57_row0_col2, #T_caa57_row0_col4, #T_caa57_row0_col5, #T_caa57_row0_col15, #T_caa57_row0_col17, #T_caa57_row0_col18, #T_caa57_row0_col19, #T_caa57_row0_col20, #T_caa57_row0_col21, #T_caa57_row0_col22, #T_caa57_row0_col23, #T_caa57_row0_col24, #T_caa57_row0_col26, #T_caa57_row0_col27, #T_caa57_row0_col28, #T_caa57_row0_col29, #T_caa57_row0_col30, #T_caa57_row0_col31, #T_caa57_row0_col32, #T_caa57_row0_col33, #T_caa57_row0_col35, #T_caa57_row1_col36, #T_caa57_row3_col36, #T_caa57_row4_col36, #T_caa57_row5_col36, #T_caa57_row6_col7, #T_caa57_row6_col36, #T_caa57_row7_col0, #T_caa57_row7_col3, #T_caa57_row7_col6, #T_caa57_row7_col7, #T_caa57_row7_col8, #T_caa57_row7_col9, #T_caa57_row7_col10, #T_caa57_row7_col11, #T_caa57_row7_col12, #T_caa57_row7_col13, #T_caa57_row7_col14, #T_caa57_row7_col16, #T_caa57_row7_col25, #T_caa57_row7_col34, #T_caa57_row7_col36, #T_caa57_row7_col37 {\n",
       "  background-color: #ffff66;\n",
       "  color: #000000;\n",
       "}\n",
       "#T_caa57_row0_col3, #T_caa57_row0_col37, #T_caa57_row1_col4, #T_caa57_row1_col5, #T_caa57_row1_col17, #T_caa57_row1_col18, #T_caa57_row1_col19, #T_caa57_row1_col20, #T_caa57_row1_col21, #T_caa57_row1_col22, #T_caa57_row1_col23, #T_caa57_row1_col24, #T_caa57_row1_col26, #T_caa57_row1_col31, #T_caa57_row1_col33, #T_caa57_row1_col34, #T_caa57_row1_col35, #T_caa57_row2_col2, #T_caa57_row2_col4, #T_caa57_row2_col5, #T_caa57_row2_col6, #T_caa57_row2_col7, #T_caa57_row2_col17, #T_caa57_row2_col18, #T_caa57_row2_col19, #T_caa57_row2_col20, #T_caa57_row2_col21, #T_caa57_row2_col22, #T_caa57_row2_col23, #T_caa57_row2_col24, #T_caa57_row2_col25, #T_caa57_row2_col26, #T_caa57_row2_col35, #T_caa57_row2_col36, #T_caa57_row3_col0, #T_caa57_row3_col1, #T_caa57_row3_col2, #T_caa57_row3_col3, #T_caa57_row3_col4, #T_caa57_row3_col5, #T_caa57_row3_col8, #T_caa57_row3_col9, #T_caa57_row3_col10, #T_caa57_row3_col11, #T_caa57_row3_col12, #T_caa57_row3_col13, #T_caa57_row3_col14, #T_caa57_row3_col15, #T_caa57_row3_col16, #T_caa57_row3_col17, #T_caa57_row3_col18, #T_caa57_row3_col19, #T_caa57_row3_col20, #T_caa57_row3_col21, #T_caa57_row3_col22, #T_caa57_row3_col23, #T_caa57_row3_col24, #T_caa57_row3_col26, #T_caa57_row3_col27, #T_caa57_row3_col28, #T_caa57_row3_col29, #T_caa57_row3_col30, #T_caa57_row3_col31, #T_caa57_row3_col32, #T_caa57_row3_col33, #T_caa57_row3_col34, #T_caa57_row3_col35, #T_caa57_row4_col1, #T_caa57_row4_col4, #T_caa57_row4_col5, #T_caa57_row4_col8, #T_caa57_row4_col9, #T_caa57_row4_col10, #T_caa57_row4_col14, #T_caa57_row4_col15, #T_caa57_row4_col17, #T_caa57_row4_col18, #T_caa57_row4_col19, #T_caa57_row4_col20, #T_caa57_row4_col21, #T_caa57_row4_col22, #T_caa57_row4_col23, #T_caa57_row4_col24, #T_caa57_row4_col26, #T_caa57_row4_col28, #T_caa57_row4_col29, #T_caa57_row4_col30, #T_caa57_row4_col31, #T_caa57_row4_col32, #T_caa57_row4_col33, #T_caa57_row4_col34, #T_caa57_row4_col35, #T_caa57_row5_col4, #T_caa57_row5_col5, #T_caa57_row5_col8, #T_caa57_row5_col10, #T_caa57_row5_col14, #T_caa57_row5_col15, #T_caa57_row5_col17, #T_caa57_row5_col18, #T_caa57_row5_col19, #T_caa57_row5_col20, #T_caa57_row5_col21, #T_caa57_row5_col22, #T_caa57_row5_col23, #T_caa57_row5_col24, #T_caa57_row5_col26, #T_caa57_row5_col28, #T_caa57_row5_col30, #T_caa57_row5_col31, #T_caa57_row5_col32, #T_caa57_row5_col33, #T_caa57_row5_col34, #T_caa57_row5_col35, #T_caa57_row6_col5, #T_caa57_row6_col10, #T_caa57_row6_col15, #T_caa57_row6_col17, #T_caa57_row6_col18, #T_caa57_row6_col19, #T_caa57_row6_col20, #T_caa57_row6_col21, #T_caa57_row6_col22, #T_caa57_row6_col23, #T_caa57_row6_col24, #T_caa57_row6_col26, #T_caa57_row6_col30, #T_caa57_row6_col31, #T_caa57_row6_col32, #T_caa57_row6_col33, #T_caa57_row6_col34, #T_caa57_row7_col17, #T_caa57_row7_col18, #T_caa57_row7_col19, #T_caa57_row7_col20, #T_caa57_row7_col22, #T_caa57_row7_col24, #T_caa57_row7_col26 {\n",
       "  background-color: #008066;\n",
       "  color: #f1f1f1;\n",
       "}\n",
       "#T_caa57_row0_col6 {\n",
       "  background-color: #b8dc66;\n",
       "  color: #000000;\n",
       "}\n",
       "#T_caa57_row0_col7, #T_caa57_row0_col36 {\n",
       "  background-color: #b9dc66;\n",
       "  color: #000000;\n",
       "}\n",
       "#T_caa57_row0_col8 {\n",
       "  background-color: #e8f366;\n",
       "  color: #000000;\n",
       "}\n",
       "#T_caa57_row0_col9, #T_caa57_row0_col13 {\n",
       "  background-color: #42a066;\n",
       "  color: #f1f1f1;\n",
       "}\n",
       "#T_caa57_row0_col10, #T_caa57_row5_col7 {\n",
       "  background-color: #fdfe66;\n",
       "  color: #000000;\n",
       "}\n",
       "#T_caa57_row0_col11 {\n",
       "  background-color: #a0d066;\n",
       "  color: #000000;\n",
       "}\n",
       "#T_caa57_row0_col12 {\n",
       "  background-color: #3d9e66;\n",
       "  color: #f1f1f1;\n",
       "}\n",
       "#T_caa57_row0_col14 {\n",
       "  background-color: #b4da66;\n",
       "  color: #000000;\n",
       "}\n",
       "#T_caa57_row0_col16, #T_caa57_row2_col14, #T_caa57_row5_col16, #T_caa57_row5_col37, #T_caa57_row6_col12 {\n",
       "  background-color: #369a66;\n",
       "  color: #f1f1f1;\n",
       "}\n",
       "#T_caa57_row0_col25 {\n",
       "  background-color: #aed666;\n",
       "  color: #000000;\n",
       "}\n",
       "#T_caa57_row0_col34, #T_caa57_row4_col11 {\n",
       "  background-color: #188c66;\n",
       "  color: #f1f1f1;\n",
       "}\n",
       "#T_caa57_row1_col0, #T_caa57_row5_col0 {\n",
       "  background-color: #80c066;\n",
       "  color: #000000;\n",
       "}\n",
       "#T_caa57_row1_col1 {\n",
       "  background-color: #068266;\n",
       "  color: #f1f1f1;\n",
       "}\n",
       "#T_caa57_row1_col2, #T_caa57_row2_col3, #T_caa57_row2_col30, #T_caa57_row5_col2 {\n",
       "  background-color: #0a8466;\n",
       "  color: #f1f1f1;\n",
       "}\n",
       "#T_caa57_row1_col3, #T_caa57_row2_col29, #T_caa57_row3_col37, #T_caa57_row6_col29 {\n",
       "  background-color: #0b8566;\n",
       "  color: #f1f1f1;\n",
       "}\n",
       "#T_caa57_row1_col6, #T_caa57_row4_col7 {\n",
       "  background-color: #fafc66;\n",
       "  color: #000000;\n",
       "}\n",
       "#T_caa57_row1_col7, #T_caa57_row5_col25 {\n",
       "  background-color: #fcfe66;\n",
       "  color: #000000;\n",
       "}\n",
       "#T_caa57_row1_col8, #T_caa57_row1_col28 {\n",
       "  background-color: #108866;\n",
       "  color: #f1f1f1;\n",
       "}\n",
       "#T_caa57_row1_col9, #T_caa57_row2_col9 {\n",
       "  background-color: #148a66;\n",
       "  color: #f1f1f1;\n",
       "}\n",
       "#T_caa57_row1_col10, #T_caa57_row1_col29, #T_caa57_row2_col15, #T_caa57_row2_col34, #T_caa57_row4_col2, #T_caa57_row6_col1 {\n",
       "  background-color: #088466;\n",
       "  color: #f1f1f1;\n",
       "}\n",
       "#T_caa57_row1_col11, #T_caa57_row6_col13 {\n",
       "  background-color: #3e9e66;\n",
       "  color: #f1f1f1;\n",
       "}\n",
       "#T_caa57_row1_col12, #T_caa57_row5_col13 {\n",
       "  background-color: #2c9666;\n",
       "  color: #f1f1f1;\n",
       "}\n",
       "#T_caa57_row1_col13, #T_caa57_row2_col11 {\n",
       "  background-color: #309866;\n",
       "  color: #f1f1f1;\n",
       "}\n",
       "#T_caa57_row1_col14, #T_caa57_row4_col37 {\n",
       "  background-color: #2b9566;\n",
       "  color: #f1f1f1;\n",
       "}\n",
       "#T_caa57_row1_col15, #T_caa57_row6_col4, #T_caa57_row6_col35, #T_caa57_row7_col4, #T_caa57_row7_col5, #T_caa57_row7_col21, #T_caa57_row7_col35 {\n",
       "  background-color: #018066;\n",
       "  color: #f1f1f1;\n",
       "}\n",
       "#T_caa57_row1_col16 {\n",
       "  background-color: #389c66;\n",
       "  color: #f1f1f1;\n",
       "}\n",
       "#T_caa57_row1_col25, #T_caa57_row5_col6 {\n",
       "  background-color: #fbfd66;\n",
       "  color: #000000;\n",
       "}\n",
       "#T_caa57_row1_col27 {\n",
       "  background-color: #52a866;\n",
       "  color: #f1f1f1;\n",
       "}\n",
       "#T_caa57_row1_col30, #T_caa57_row2_col1, #T_caa57_row2_col13 {\n",
       "  background-color: #038166;\n",
       "  color: #f1f1f1;\n",
       "}\n",
       "#T_caa57_row1_col32, #T_caa57_row7_col23 {\n",
       "  background-color: #028066;\n",
       "  color: #f1f1f1;\n",
       "}\n",
       "#T_caa57_row1_col37 {\n",
       "  background-color: #3c9e66;\n",
       "  color: #f1f1f1;\n",
       "}\n",
       "#T_caa57_row2_col0 {\n",
       "  background-color: #49a466;\n",
       "  color: #f1f1f1;\n",
       "}\n",
       "#T_caa57_row2_col8, #T_caa57_row2_col10 {\n",
       "  background-color: #1c8e66;\n",
       "  color: #f1f1f1;\n",
       "}\n",
       "#T_caa57_row2_col12 {\n",
       "  background-color: #128866;\n",
       "  color: #f1f1f1;\n",
       "}\n",
       "#T_caa57_row2_col16, #T_caa57_row2_col32, #T_caa57_row5_col3 {\n",
       "  background-color: #098466;\n",
       "  color: #f1f1f1;\n",
       "}\n",
       "#T_caa57_row2_col27 {\n",
       "  background-color: #259266;\n",
       "  color: #f1f1f1;\n",
       "}\n",
       "#T_caa57_row2_col28 {\n",
       "  background-color: #158a66;\n",
       "  color: #f1f1f1;\n",
       "}\n",
       "#T_caa57_row2_col31, #T_caa57_row5_col1 {\n",
       "  background-color: #058266;\n",
       "  color: #f1f1f1;\n",
       "}\n",
       "#T_caa57_row2_col33, #T_caa57_row4_col3 {\n",
       "  background-color: #078366;\n",
       "  color: #f1f1f1;\n",
       "}\n",
       "#T_caa57_row2_col37, #T_caa57_row6_col8 {\n",
       "  background-color: #1a8c66;\n",
       "  color: #f1f1f1;\n",
       "}\n",
       "#T_caa57_row3_col6 {\n",
       "  background-color: #eef666;\n",
       "  color: #000000;\n",
       "}\n",
       "#T_caa57_row3_col7, #T_caa57_row4_col6, #T_caa57_row7_col27 {\n",
       "  background-color: #f8fc66;\n",
       "  color: #000000;\n",
       "}\n",
       "#T_caa57_row3_col25 {\n",
       "  background-color: #f1f866;\n",
       "  color: #000000;\n",
       "}\n",
       "#T_caa57_row4_col0 {\n",
       "  background-color: #40a066;\n",
       "  color: #f1f1f1;\n",
       "}\n",
       "#T_caa57_row4_col12 {\n",
       "  background-color: #219066;\n",
       "  color: #f1f1f1;\n",
       "}\n",
       "#T_caa57_row4_col13, #T_caa57_row6_col9 {\n",
       "  background-color: #209066;\n",
       "  color: #f1f1f1;\n",
       "}\n",
       "#T_caa57_row4_col16 {\n",
       "  background-color: #269266;\n",
       "  color: #f1f1f1;\n",
       "}\n",
       "#T_caa57_row4_col25 {\n",
       "  background-color: #f9fc66;\n",
       "  color: #000000;\n",
       "}\n",
       "#T_caa57_row4_col27 {\n",
       "  background-color: #3a9c66;\n",
       "  color: #f1f1f1;\n",
       "}\n",
       "#T_caa57_row5_col9 {\n",
       "  background-color: #118866;\n",
       "  color: #f1f1f1;\n",
       "}\n",
       "#T_caa57_row5_col11 {\n",
       "  background-color: #349a66;\n",
       "  color: #f1f1f1;\n",
       "}\n",
       "#T_caa57_row5_col12 {\n",
       "  background-color: #299466;\n",
       "  color: #f1f1f1;\n",
       "}\n",
       "#T_caa57_row5_col27, #T_caa57_row7_col32 {\n",
       "  background-color: #54aa66;\n",
       "  color: #f1f1f1;\n",
       "}\n",
       "#T_caa57_row5_col29 {\n",
       "  background-color: #048266;\n",
       "  color: #f1f1f1;\n",
       "}\n",
       "#T_caa57_row6_col0 {\n",
       "  background-color: #c0e066;\n",
       "  color: #000000;\n",
       "}\n",
       "#T_caa57_row6_col2, #T_caa57_row6_col3 {\n",
       "  background-color: #0c8666;\n",
       "  color: #f1f1f1;\n",
       "}\n",
       "#T_caa57_row6_col6, #T_caa57_row6_col25 {\n",
       "  background-color: #fefe66;\n",
       "  color: #000000;\n",
       "}\n",
       "#T_caa57_row6_col11 {\n",
       "  background-color: #58ac66;\n",
       "  color: #f1f1f1;\n",
       "}\n",
       "#T_caa57_row6_col14 {\n",
       "  background-color: #5aac66;\n",
       "  color: #f1f1f1;\n",
       "}\n",
       "#T_caa57_row6_col16 {\n",
       "  background-color: #45a266;\n",
       "  color: #f1f1f1;\n",
       "}\n",
       "#T_caa57_row6_col27, #T_caa57_row7_col15 {\n",
       "  background-color: #64b266;\n",
       "  color: #f1f1f1;\n",
       "}\n",
       "#T_caa57_row6_col28 {\n",
       "  background-color: #1d8e66;\n",
       "  color: #f1f1f1;\n",
       "}\n",
       "#T_caa57_row6_col37 {\n",
       "  background-color: #48a366;\n",
       "  color: #f1f1f1;\n",
       "}\n",
       "#T_caa57_row7_col1 {\n",
       "  background-color: #1e8e66;\n",
       "  color: #f1f1f1;\n",
       "}\n",
       "#T_caa57_row7_col2 {\n",
       "  background-color: #3f9f66;\n",
       "  color: #f1f1f1;\n",
       "}\n",
       "#T_caa57_row7_col28 {\n",
       "  background-color: #96cb66;\n",
       "  color: #000000;\n",
       "}\n",
       "#T_caa57_row7_col29 {\n",
       "  background-color: #5faf66;\n",
       "  color: #f1f1f1;\n",
       "}\n",
       "#T_caa57_row7_col30 {\n",
       "  background-color: #60b066;\n",
       "  color: #f1f1f1;\n",
       "}\n",
       "#T_caa57_row7_col31 {\n",
       "  background-color: #59ac66;\n",
       "  color: #f1f1f1;\n",
       "}\n",
       "#T_caa57_row7_col33 {\n",
       "  background-color: #81c066;\n",
       "  color: #000000;\n",
       "}\n",
       "</style>\n",
       "<table id=\"T_caa57_\">\n",
       "  <thead>\n",
       "    <tr>\n",
       "      <th class=\"blank level0\" >&nbsp;</th>\n",
       "      <th class=\"col_heading level0 col0\" >Id</th>\n",
       "      <th class=\"col_heading level0 col1\" >MSSubClass</th>\n",
       "      <th class=\"col_heading level0 col2\" >LotFrontage</th>\n",
       "      <th class=\"col_heading level0 col3\" >LotArea</th>\n",
       "      <th class=\"col_heading level0 col4\" >OverallQual</th>\n",
       "      <th class=\"col_heading level0 col5\" >OverallCond</th>\n",
       "      <th class=\"col_heading level0 col6\" >YearBuilt</th>\n",
       "      <th class=\"col_heading level0 col7\" >YearRemodAdd</th>\n",
       "      <th class=\"col_heading level0 col8\" >MasVnrArea</th>\n",
       "      <th class=\"col_heading level0 col9\" >BsmtFinSF1</th>\n",
       "      <th class=\"col_heading level0 col10\" >BsmtFinSF2</th>\n",
       "      <th class=\"col_heading level0 col11\" >BsmtUnfSF</th>\n",
       "      <th class=\"col_heading level0 col12\" >TotalBsmtSF</th>\n",
       "      <th class=\"col_heading level0 col13\" >1stFlrSF</th>\n",
       "      <th class=\"col_heading level0 col14\" >2ndFlrSF</th>\n",
       "      <th class=\"col_heading level0 col15\" >LowQualFinSF</th>\n",
       "      <th class=\"col_heading level0 col16\" >GrLivArea</th>\n",
       "      <th class=\"col_heading level0 col17\" >BsmtFullBath</th>\n",
       "      <th class=\"col_heading level0 col18\" >BsmtHalfBath</th>\n",
       "      <th class=\"col_heading level0 col19\" >FullBath</th>\n",
       "      <th class=\"col_heading level0 col20\" >HalfBath</th>\n",
       "      <th class=\"col_heading level0 col21\" >BedroomAbvGr</th>\n",
       "      <th class=\"col_heading level0 col22\" >KitchenAbvGr</th>\n",
       "      <th class=\"col_heading level0 col23\" >TotRmsAbvGrd</th>\n",
       "      <th class=\"col_heading level0 col24\" >Fireplaces</th>\n",
       "      <th class=\"col_heading level0 col25\" >GarageYrBlt</th>\n",
       "      <th class=\"col_heading level0 col26\" >GarageCars</th>\n",
       "      <th class=\"col_heading level0 col27\" >GarageArea</th>\n",
       "      <th class=\"col_heading level0 col28\" >WoodDeckSF</th>\n",
       "      <th class=\"col_heading level0 col29\" >OpenPorchSF</th>\n",
       "      <th class=\"col_heading level0 col30\" >EnclosedPorch</th>\n",
       "      <th class=\"col_heading level0 col31\" >3SsnPorch</th>\n",
       "      <th class=\"col_heading level0 col32\" >ScreenPorch</th>\n",
       "      <th class=\"col_heading level0 col33\" >PoolArea</th>\n",
       "      <th class=\"col_heading level0 col34\" >MiscVal</th>\n",
       "      <th class=\"col_heading level0 col35\" >MoSold</th>\n",
       "      <th class=\"col_heading level0 col36\" >YrSold</th>\n",
       "      <th class=\"col_heading level0 col37\" >SalePrice</th>\n",
       "    </tr>\n",
       "  </thead>\n",
       "  <tbody>\n",
       "    <tr>\n",
       "      <th id=\"T_caa57_level0_row0\" class=\"row_heading level0 row0\" >count</th>\n",
       "      <td id=\"T_caa57_row0_col0\" class=\"data row0 col0\" >1460.000000</td>\n",
       "      <td id=\"T_caa57_row0_col1\" class=\"data row0 col1\" >1460.000000</td>\n",
       "      <td id=\"T_caa57_row0_col2\" class=\"data row0 col2\" >1201.000000</td>\n",
       "      <td id=\"T_caa57_row0_col3\" class=\"data row0 col3\" >1460.000000</td>\n",
       "      <td id=\"T_caa57_row0_col4\" class=\"data row0 col4\" >1460.000000</td>\n",
       "      <td id=\"T_caa57_row0_col5\" class=\"data row0 col5\" >1460.000000</td>\n",
       "      <td id=\"T_caa57_row0_col6\" class=\"data row0 col6\" >1460.000000</td>\n",
       "      <td id=\"T_caa57_row0_col7\" class=\"data row0 col7\" >1460.000000</td>\n",
       "      <td id=\"T_caa57_row0_col8\" class=\"data row0 col8\" >1452.000000</td>\n",
       "      <td id=\"T_caa57_row0_col9\" class=\"data row0 col9\" >1460.000000</td>\n",
       "      <td id=\"T_caa57_row0_col10\" class=\"data row0 col10\" >1460.000000</td>\n",
       "      <td id=\"T_caa57_row0_col11\" class=\"data row0 col11\" >1460.000000</td>\n",
       "      <td id=\"T_caa57_row0_col12\" class=\"data row0 col12\" >1460.000000</td>\n",
       "      <td id=\"T_caa57_row0_col13\" class=\"data row0 col13\" >1460.000000</td>\n",
       "      <td id=\"T_caa57_row0_col14\" class=\"data row0 col14\" >1460.000000</td>\n",
       "      <td id=\"T_caa57_row0_col15\" class=\"data row0 col15\" >1460.000000</td>\n",
       "      <td id=\"T_caa57_row0_col16\" class=\"data row0 col16\" >1460.000000</td>\n",
       "      <td id=\"T_caa57_row0_col17\" class=\"data row0 col17\" >1460.000000</td>\n",
       "      <td id=\"T_caa57_row0_col18\" class=\"data row0 col18\" >1460.000000</td>\n",
       "      <td id=\"T_caa57_row0_col19\" class=\"data row0 col19\" >1460.000000</td>\n",
       "      <td id=\"T_caa57_row0_col20\" class=\"data row0 col20\" >1460.000000</td>\n",
       "      <td id=\"T_caa57_row0_col21\" class=\"data row0 col21\" >1460.000000</td>\n",
       "      <td id=\"T_caa57_row0_col22\" class=\"data row0 col22\" >1460.000000</td>\n",
       "      <td id=\"T_caa57_row0_col23\" class=\"data row0 col23\" >1460.000000</td>\n",
       "      <td id=\"T_caa57_row0_col24\" class=\"data row0 col24\" >1460.000000</td>\n",
       "      <td id=\"T_caa57_row0_col25\" class=\"data row0 col25\" >1379.000000</td>\n",
       "      <td id=\"T_caa57_row0_col26\" class=\"data row0 col26\" >1460.000000</td>\n",
       "      <td id=\"T_caa57_row0_col27\" class=\"data row0 col27\" >1460.000000</td>\n",
       "      <td id=\"T_caa57_row0_col28\" class=\"data row0 col28\" >1460.000000</td>\n",
       "      <td id=\"T_caa57_row0_col29\" class=\"data row0 col29\" >1460.000000</td>\n",
       "      <td id=\"T_caa57_row0_col30\" class=\"data row0 col30\" >1460.000000</td>\n",
       "      <td id=\"T_caa57_row0_col31\" class=\"data row0 col31\" >1460.000000</td>\n",
       "      <td id=\"T_caa57_row0_col32\" class=\"data row0 col32\" >1460.000000</td>\n",
       "      <td id=\"T_caa57_row0_col33\" class=\"data row0 col33\" >1460.000000</td>\n",
       "      <td id=\"T_caa57_row0_col34\" class=\"data row0 col34\" >1460.000000</td>\n",
       "      <td id=\"T_caa57_row0_col35\" class=\"data row0 col35\" >1460.000000</td>\n",
       "      <td id=\"T_caa57_row0_col36\" class=\"data row0 col36\" >1460.000000</td>\n",
       "      <td id=\"T_caa57_row0_col37\" class=\"data row0 col37\" >1460.000000</td>\n",
       "    </tr>\n",
       "    <tr>\n",
       "      <th id=\"T_caa57_level0_row1\" class=\"row_heading level0 row1\" >mean</th>\n",
       "      <td id=\"T_caa57_row1_col0\" class=\"data row1 col0\" >730.500000</td>\n",
       "      <td id=\"T_caa57_row1_col1\" class=\"data row1 col1\" >56.897260</td>\n",
       "      <td id=\"T_caa57_row1_col2\" class=\"data row1 col2\" >70.049958</td>\n",
       "      <td id=\"T_caa57_row1_col3\" class=\"data row1 col3\" >10516.828082</td>\n",
       "      <td id=\"T_caa57_row1_col4\" class=\"data row1 col4\" >6.099315</td>\n",
       "      <td id=\"T_caa57_row1_col5\" class=\"data row1 col5\" >5.575342</td>\n",
       "      <td id=\"T_caa57_row1_col6\" class=\"data row1 col6\" >1971.267808</td>\n",
       "      <td id=\"T_caa57_row1_col7\" class=\"data row1 col7\" >1984.865753</td>\n",
       "      <td id=\"T_caa57_row1_col8\" class=\"data row1 col8\" >103.685262</td>\n",
       "      <td id=\"T_caa57_row1_col9\" class=\"data row1 col9\" >443.639726</td>\n",
       "      <td id=\"T_caa57_row1_col10\" class=\"data row1 col10\" >46.549315</td>\n",
       "      <td id=\"T_caa57_row1_col11\" class=\"data row1 col11\" >567.240411</td>\n",
       "      <td id=\"T_caa57_row1_col12\" class=\"data row1 col12\" >1057.429452</td>\n",
       "      <td id=\"T_caa57_row1_col13\" class=\"data row1 col13\" >1162.626712</td>\n",
       "      <td id=\"T_caa57_row1_col14\" class=\"data row1 col14\" >346.992466</td>\n",
       "      <td id=\"T_caa57_row1_col15\" class=\"data row1 col15\" >5.844521</td>\n",
       "      <td id=\"T_caa57_row1_col16\" class=\"data row1 col16\" >1515.463699</td>\n",
       "      <td id=\"T_caa57_row1_col17\" class=\"data row1 col17\" >0.425342</td>\n",
       "      <td id=\"T_caa57_row1_col18\" class=\"data row1 col18\" >0.057534</td>\n",
       "      <td id=\"T_caa57_row1_col19\" class=\"data row1 col19\" >1.565068</td>\n",
       "      <td id=\"T_caa57_row1_col20\" class=\"data row1 col20\" >0.382877</td>\n",
       "      <td id=\"T_caa57_row1_col21\" class=\"data row1 col21\" >2.866438</td>\n",
       "      <td id=\"T_caa57_row1_col22\" class=\"data row1 col22\" >1.046575</td>\n",
       "      <td id=\"T_caa57_row1_col23\" class=\"data row1 col23\" >6.517808</td>\n",
       "      <td id=\"T_caa57_row1_col24\" class=\"data row1 col24\" >0.613014</td>\n",
       "      <td id=\"T_caa57_row1_col25\" class=\"data row1 col25\" >1978.506164</td>\n",
       "      <td id=\"T_caa57_row1_col26\" class=\"data row1 col26\" >1.767123</td>\n",
       "      <td id=\"T_caa57_row1_col27\" class=\"data row1 col27\" >472.980137</td>\n",
       "      <td id=\"T_caa57_row1_col28\" class=\"data row1 col28\" >94.244521</td>\n",
       "      <td id=\"T_caa57_row1_col29\" class=\"data row1 col29\" >46.660274</td>\n",
       "      <td id=\"T_caa57_row1_col30\" class=\"data row1 col30\" >21.954110</td>\n",
       "      <td id=\"T_caa57_row1_col31\" class=\"data row1 col31\" >3.409589</td>\n",
       "      <td id=\"T_caa57_row1_col32\" class=\"data row1 col32\" >15.060959</td>\n",
       "      <td id=\"T_caa57_row1_col33\" class=\"data row1 col33\" >2.758904</td>\n",
       "      <td id=\"T_caa57_row1_col34\" class=\"data row1 col34\" >43.489041</td>\n",
       "      <td id=\"T_caa57_row1_col35\" class=\"data row1 col35\" >6.321918</td>\n",
       "      <td id=\"T_caa57_row1_col36\" class=\"data row1 col36\" >2007.815753</td>\n",
       "      <td id=\"T_caa57_row1_col37\" class=\"data row1 col37\" >180921.195890</td>\n",
       "    </tr>\n",
       "    <tr>\n",
       "      <th id=\"T_caa57_level0_row2\" class=\"row_heading level0 row2\" >std</th>\n",
       "      <td id=\"T_caa57_row2_col0\" class=\"data row2 col0\" >421.610009</td>\n",
       "      <td id=\"T_caa57_row2_col1\" class=\"data row2 col1\" >42.300571</td>\n",
       "      <td id=\"T_caa57_row2_col2\" class=\"data row2 col2\" >24.284752</td>\n",
       "      <td id=\"T_caa57_row2_col3\" class=\"data row2 col3\" >9981.264932</td>\n",
       "      <td id=\"T_caa57_row2_col4\" class=\"data row2 col4\" >1.382997</td>\n",
       "      <td id=\"T_caa57_row2_col5\" class=\"data row2 col5\" >1.112799</td>\n",
       "      <td id=\"T_caa57_row2_col6\" class=\"data row2 col6\" >30.202904</td>\n",
       "      <td id=\"T_caa57_row2_col7\" class=\"data row2 col7\" >20.645407</td>\n",
       "      <td id=\"T_caa57_row2_col8\" class=\"data row2 col8\" >181.066207</td>\n",
       "      <td id=\"T_caa57_row2_col9\" class=\"data row2 col9\" >456.098091</td>\n",
       "      <td id=\"T_caa57_row2_col10\" class=\"data row2 col10\" >161.319273</td>\n",
       "      <td id=\"T_caa57_row2_col11\" class=\"data row2 col11\" >441.866955</td>\n",
       "      <td id=\"T_caa57_row2_col12\" class=\"data row2 col12\" >438.705324</td>\n",
       "      <td id=\"T_caa57_row2_col13\" class=\"data row2 col13\" >386.587738</td>\n",
       "      <td id=\"T_caa57_row2_col14\" class=\"data row2 col14\" >436.528436</td>\n",
       "      <td id=\"T_caa57_row2_col15\" class=\"data row2 col15\" >48.623081</td>\n",
       "      <td id=\"T_caa57_row2_col16\" class=\"data row2 col16\" >525.480383</td>\n",
       "      <td id=\"T_caa57_row2_col17\" class=\"data row2 col17\" >0.518911</td>\n",
       "      <td id=\"T_caa57_row2_col18\" class=\"data row2 col18\" >0.238753</td>\n",
       "      <td id=\"T_caa57_row2_col19\" class=\"data row2 col19\" >0.550916</td>\n",
       "      <td id=\"T_caa57_row2_col20\" class=\"data row2 col20\" >0.502885</td>\n",
       "      <td id=\"T_caa57_row2_col21\" class=\"data row2 col21\" >0.815778</td>\n",
       "      <td id=\"T_caa57_row2_col22\" class=\"data row2 col22\" >0.220338</td>\n",
       "      <td id=\"T_caa57_row2_col23\" class=\"data row2 col23\" >1.625393</td>\n",
       "      <td id=\"T_caa57_row2_col24\" class=\"data row2 col24\" >0.644666</td>\n",
       "      <td id=\"T_caa57_row2_col25\" class=\"data row2 col25\" >24.689725</td>\n",
       "      <td id=\"T_caa57_row2_col26\" class=\"data row2 col26\" >0.747315</td>\n",
       "      <td id=\"T_caa57_row2_col27\" class=\"data row2 col27\" >213.804841</td>\n",
       "      <td id=\"T_caa57_row2_col28\" class=\"data row2 col28\" >125.338794</td>\n",
       "      <td id=\"T_caa57_row2_col29\" class=\"data row2 col29\" >66.256028</td>\n",
       "      <td id=\"T_caa57_row2_col30\" class=\"data row2 col30\" >61.119149</td>\n",
       "      <td id=\"T_caa57_row2_col31\" class=\"data row2 col31\" >29.317331</td>\n",
       "      <td id=\"T_caa57_row2_col32\" class=\"data row2 col32\" >55.757415</td>\n",
       "      <td id=\"T_caa57_row2_col33\" class=\"data row2 col33\" >40.177307</td>\n",
       "      <td id=\"T_caa57_row2_col34\" class=\"data row2 col34\" >496.123024</td>\n",
       "      <td id=\"T_caa57_row2_col35\" class=\"data row2 col35\" >2.703626</td>\n",
       "      <td id=\"T_caa57_row2_col36\" class=\"data row2 col36\" >1.328095</td>\n",
       "      <td id=\"T_caa57_row2_col37\" class=\"data row2 col37\" >79442.502883</td>\n",
       "    </tr>\n",
       "    <tr>\n",
       "      <th id=\"T_caa57_level0_row3\" class=\"row_heading level0 row3\" >min</th>\n",
       "      <td id=\"T_caa57_row3_col0\" class=\"data row3 col0\" >1.000000</td>\n",
       "      <td id=\"T_caa57_row3_col1\" class=\"data row3 col1\" >20.000000</td>\n",
       "      <td id=\"T_caa57_row3_col2\" class=\"data row3 col2\" >21.000000</td>\n",
       "      <td id=\"T_caa57_row3_col3\" class=\"data row3 col3\" >1300.000000</td>\n",
       "      <td id=\"T_caa57_row3_col4\" class=\"data row3 col4\" >1.000000</td>\n",
       "      <td id=\"T_caa57_row3_col5\" class=\"data row3 col5\" >1.000000</td>\n",
       "      <td id=\"T_caa57_row3_col6\" class=\"data row3 col6\" >1872.000000</td>\n",
       "      <td id=\"T_caa57_row3_col7\" class=\"data row3 col7\" >1950.000000</td>\n",
       "      <td id=\"T_caa57_row3_col8\" class=\"data row3 col8\" >0.000000</td>\n",
       "      <td id=\"T_caa57_row3_col9\" class=\"data row3 col9\" >0.000000</td>\n",
       "      <td id=\"T_caa57_row3_col10\" class=\"data row3 col10\" >0.000000</td>\n",
       "      <td id=\"T_caa57_row3_col11\" class=\"data row3 col11\" >0.000000</td>\n",
       "      <td id=\"T_caa57_row3_col12\" class=\"data row3 col12\" >0.000000</td>\n",
       "      <td id=\"T_caa57_row3_col13\" class=\"data row3 col13\" >334.000000</td>\n",
       "      <td id=\"T_caa57_row3_col14\" class=\"data row3 col14\" >0.000000</td>\n",
       "      <td id=\"T_caa57_row3_col15\" class=\"data row3 col15\" >0.000000</td>\n",
       "      <td id=\"T_caa57_row3_col16\" class=\"data row3 col16\" >334.000000</td>\n",
       "      <td id=\"T_caa57_row3_col17\" class=\"data row3 col17\" >0.000000</td>\n",
       "      <td id=\"T_caa57_row3_col18\" class=\"data row3 col18\" >0.000000</td>\n",
       "      <td id=\"T_caa57_row3_col19\" class=\"data row3 col19\" >0.000000</td>\n",
       "      <td id=\"T_caa57_row3_col20\" class=\"data row3 col20\" >0.000000</td>\n",
       "      <td id=\"T_caa57_row3_col21\" class=\"data row3 col21\" >0.000000</td>\n",
       "      <td id=\"T_caa57_row3_col22\" class=\"data row3 col22\" >0.000000</td>\n",
       "      <td id=\"T_caa57_row3_col23\" class=\"data row3 col23\" >2.000000</td>\n",
       "      <td id=\"T_caa57_row3_col24\" class=\"data row3 col24\" >0.000000</td>\n",
       "      <td id=\"T_caa57_row3_col25\" class=\"data row3 col25\" >1900.000000</td>\n",
       "      <td id=\"T_caa57_row3_col26\" class=\"data row3 col26\" >0.000000</td>\n",
       "      <td id=\"T_caa57_row3_col27\" class=\"data row3 col27\" >0.000000</td>\n",
       "      <td id=\"T_caa57_row3_col28\" class=\"data row3 col28\" >0.000000</td>\n",
       "      <td id=\"T_caa57_row3_col29\" class=\"data row3 col29\" >0.000000</td>\n",
       "      <td id=\"T_caa57_row3_col30\" class=\"data row3 col30\" >0.000000</td>\n",
       "      <td id=\"T_caa57_row3_col31\" class=\"data row3 col31\" >0.000000</td>\n",
       "      <td id=\"T_caa57_row3_col32\" class=\"data row3 col32\" >0.000000</td>\n",
       "      <td id=\"T_caa57_row3_col33\" class=\"data row3 col33\" >0.000000</td>\n",
       "      <td id=\"T_caa57_row3_col34\" class=\"data row3 col34\" >0.000000</td>\n",
       "      <td id=\"T_caa57_row3_col35\" class=\"data row3 col35\" >1.000000</td>\n",
       "      <td id=\"T_caa57_row3_col36\" class=\"data row3 col36\" >2006.000000</td>\n",
       "      <td id=\"T_caa57_row3_col37\" class=\"data row3 col37\" >34900.000000</td>\n",
       "    </tr>\n",
       "    <tr>\n",
       "      <th id=\"T_caa57_level0_row4\" class=\"row_heading level0 row4\" >25%</th>\n",
       "      <td id=\"T_caa57_row4_col0\" class=\"data row4 col0\" >365.750000</td>\n",
       "      <td id=\"T_caa57_row4_col1\" class=\"data row4 col1\" >20.000000</td>\n",
       "      <td id=\"T_caa57_row4_col2\" class=\"data row4 col2\" >59.000000</td>\n",
       "      <td id=\"T_caa57_row4_col3\" class=\"data row4 col3\" >7553.500000</td>\n",
       "      <td id=\"T_caa57_row4_col4\" class=\"data row4 col4\" >5.000000</td>\n",
       "      <td id=\"T_caa57_row4_col5\" class=\"data row4 col5\" >5.000000</td>\n",
       "      <td id=\"T_caa57_row4_col6\" class=\"data row4 col6\" >1954.000000</td>\n",
       "      <td id=\"T_caa57_row4_col7\" class=\"data row4 col7\" >1967.000000</td>\n",
       "      <td id=\"T_caa57_row4_col8\" class=\"data row4 col8\" >0.000000</td>\n",
       "      <td id=\"T_caa57_row4_col9\" class=\"data row4 col9\" >0.000000</td>\n",
       "      <td id=\"T_caa57_row4_col10\" class=\"data row4 col10\" >0.000000</td>\n",
       "      <td id=\"T_caa57_row4_col11\" class=\"data row4 col11\" >223.000000</td>\n",
       "      <td id=\"T_caa57_row4_col12\" class=\"data row4 col12\" >795.750000</td>\n",
       "      <td id=\"T_caa57_row4_col13\" class=\"data row4 col13\" >882.000000</td>\n",
       "      <td id=\"T_caa57_row4_col14\" class=\"data row4 col14\" >0.000000</td>\n",
       "      <td id=\"T_caa57_row4_col15\" class=\"data row4 col15\" >0.000000</td>\n",
       "      <td id=\"T_caa57_row4_col16\" class=\"data row4 col16\" >1129.500000</td>\n",
       "      <td id=\"T_caa57_row4_col17\" class=\"data row4 col17\" >0.000000</td>\n",
       "      <td id=\"T_caa57_row4_col18\" class=\"data row4 col18\" >0.000000</td>\n",
       "      <td id=\"T_caa57_row4_col19\" class=\"data row4 col19\" >1.000000</td>\n",
       "      <td id=\"T_caa57_row4_col20\" class=\"data row4 col20\" >0.000000</td>\n",
       "      <td id=\"T_caa57_row4_col21\" class=\"data row4 col21\" >2.000000</td>\n",
       "      <td id=\"T_caa57_row4_col22\" class=\"data row4 col22\" >1.000000</td>\n",
       "      <td id=\"T_caa57_row4_col23\" class=\"data row4 col23\" >5.000000</td>\n",
       "      <td id=\"T_caa57_row4_col24\" class=\"data row4 col24\" >0.000000</td>\n",
       "      <td id=\"T_caa57_row4_col25\" class=\"data row4 col25\" >1961.000000</td>\n",
       "      <td id=\"T_caa57_row4_col26\" class=\"data row4 col26\" >1.000000</td>\n",
       "      <td id=\"T_caa57_row4_col27\" class=\"data row4 col27\" >334.500000</td>\n",
       "      <td id=\"T_caa57_row4_col28\" class=\"data row4 col28\" >0.000000</td>\n",
       "      <td id=\"T_caa57_row4_col29\" class=\"data row4 col29\" >0.000000</td>\n",
       "      <td id=\"T_caa57_row4_col30\" class=\"data row4 col30\" >0.000000</td>\n",
       "      <td id=\"T_caa57_row4_col31\" class=\"data row4 col31\" >0.000000</td>\n",
       "      <td id=\"T_caa57_row4_col32\" class=\"data row4 col32\" >0.000000</td>\n",
       "      <td id=\"T_caa57_row4_col33\" class=\"data row4 col33\" >0.000000</td>\n",
       "      <td id=\"T_caa57_row4_col34\" class=\"data row4 col34\" >0.000000</td>\n",
       "      <td id=\"T_caa57_row4_col35\" class=\"data row4 col35\" >5.000000</td>\n",
       "      <td id=\"T_caa57_row4_col36\" class=\"data row4 col36\" >2007.000000</td>\n",
       "      <td id=\"T_caa57_row4_col37\" class=\"data row4 col37\" >129975.000000</td>\n",
       "    </tr>\n",
       "    <tr>\n",
       "      <th id=\"T_caa57_level0_row5\" class=\"row_heading level0 row5\" >50%</th>\n",
       "      <td id=\"T_caa57_row5_col0\" class=\"data row5 col0\" >730.500000</td>\n",
       "      <td id=\"T_caa57_row5_col1\" class=\"data row5 col1\" >50.000000</td>\n",
       "      <td id=\"T_caa57_row5_col2\" class=\"data row5 col2\" >69.000000</td>\n",
       "      <td id=\"T_caa57_row5_col3\" class=\"data row5 col3\" >9478.500000</td>\n",
       "      <td id=\"T_caa57_row5_col4\" class=\"data row5 col4\" >6.000000</td>\n",
       "      <td id=\"T_caa57_row5_col5\" class=\"data row5 col5\" >5.000000</td>\n",
       "      <td id=\"T_caa57_row5_col6\" class=\"data row5 col6\" >1973.000000</td>\n",
       "      <td id=\"T_caa57_row5_col7\" class=\"data row5 col7\" >1994.000000</td>\n",
       "      <td id=\"T_caa57_row5_col8\" class=\"data row5 col8\" >0.000000</td>\n",
       "      <td id=\"T_caa57_row5_col9\" class=\"data row5 col9\" >383.500000</td>\n",
       "      <td id=\"T_caa57_row5_col10\" class=\"data row5 col10\" >0.000000</td>\n",
       "      <td id=\"T_caa57_row5_col11\" class=\"data row5 col11\" >477.500000</td>\n",
       "      <td id=\"T_caa57_row5_col12\" class=\"data row5 col12\" >991.500000</td>\n",
       "      <td id=\"T_caa57_row5_col13\" class=\"data row5 col13\" >1087.000000</td>\n",
       "      <td id=\"T_caa57_row5_col14\" class=\"data row5 col14\" >0.000000</td>\n",
       "      <td id=\"T_caa57_row5_col15\" class=\"data row5 col15\" >0.000000</td>\n",
       "      <td id=\"T_caa57_row5_col16\" class=\"data row5 col16\" >1464.000000</td>\n",
       "      <td id=\"T_caa57_row5_col17\" class=\"data row5 col17\" >0.000000</td>\n",
       "      <td id=\"T_caa57_row5_col18\" class=\"data row5 col18\" >0.000000</td>\n",
       "      <td id=\"T_caa57_row5_col19\" class=\"data row5 col19\" >2.000000</td>\n",
       "      <td id=\"T_caa57_row5_col20\" class=\"data row5 col20\" >0.000000</td>\n",
       "      <td id=\"T_caa57_row5_col21\" class=\"data row5 col21\" >3.000000</td>\n",
       "      <td id=\"T_caa57_row5_col22\" class=\"data row5 col22\" >1.000000</td>\n",
       "      <td id=\"T_caa57_row5_col23\" class=\"data row5 col23\" >6.000000</td>\n",
       "      <td id=\"T_caa57_row5_col24\" class=\"data row5 col24\" >1.000000</td>\n",
       "      <td id=\"T_caa57_row5_col25\" class=\"data row5 col25\" >1980.000000</td>\n",
       "      <td id=\"T_caa57_row5_col26\" class=\"data row5 col26\" >2.000000</td>\n",
       "      <td id=\"T_caa57_row5_col27\" class=\"data row5 col27\" >480.000000</td>\n",
       "      <td id=\"T_caa57_row5_col28\" class=\"data row5 col28\" >0.000000</td>\n",
       "      <td id=\"T_caa57_row5_col29\" class=\"data row5 col29\" >25.000000</td>\n",
       "      <td id=\"T_caa57_row5_col30\" class=\"data row5 col30\" >0.000000</td>\n",
       "      <td id=\"T_caa57_row5_col31\" class=\"data row5 col31\" >0.000000</td>\n",
       "      <td id=\"T_caa57_row5_col32\" class=\"data row5 col32\" >0.000000</td>\n",
       "      <td id=\"T_caa57_row5_col33\" class=\"data row5 col33\" >0.000000</td>\n",
       "      <td id=\"T_caa57_row5_col34\" class=\"data row5 col34\" >0.000000</td>\n",
       "      <td id=\"T_caa57_row5_col35\" class=\"data row5 col35\" >6.000000</td>\n",
       "      <td id=\"T_caa57_row5_col36\" class=\"data row5 col36\" >2008.000000</td>\n",
       "      <td id=\"T_caa57_row5_col37\" class=\"data row5 col37\" >163000.000000</td>\n",
       "    </tr>\n",
       "    <tr>\n",
       "      <th id=\"T_caa57_level0_row6\" class=\"row_heading level0 row6\" >75%</th>\n",
       "      <td id=\"T_caa57_row6_col0\" class=\"data row6 col0\" >1095.250000</td>\n",
       "      <td id=\"T_caa57_row6_col1\" class=\"data row6 col1\" >70.000000</td>\n",
       "      <td id=\"T_caa57_row6_col2\" class=\"data row6 col2\" >80.000000</td>\n",
       "      <td id=\"T_caa57_row6_col3\" class=\"data row6 col3\" >11601.500000</td>\n",
       "      <td id=\"T_caa57_row6_col4\" class=\"data row6 col4\" >7.000000</td>\n",
       "      <td id=\"T_caa57_row6_col5\" class=\"data row6 col5\" >6.000000</td>\n",
       "      <td id=\"T_caa57_row6_col6\" class=\"data row6 col6\" >2000.000000</td>\n",
       "      <td id=\"T_caa57_row6_col7\" class=\"data row6 col7\" >2004.000000</td>\n",
       "      <td id=\"T_caa57_row6_col8\" class=\"data row6 col8\" >166.000000</td>\n",
       "      <td id=\"T_caa57_row6_col9\" class=\"data row6 col9\" >712.250000</td>\n",
       "      <td id=\"T_caa57_row6_col10\" class=\"data row6 col10\" >0.000000</td>\n",
       "      <td id=\"T_caa57_row6_col11\" class=\"data row6 col11\" >808.000000</td>\n",
       "      <td id=\"T_caa57_row6_col12\" class=\"data row6 col12\" >1298.250000</td>\n",
       "      <td id=\"T_caa57_row6_col13\" class=\"data row6 col13\" >1391.250000</td>\n",
       "      <td id=\"T_caa57_row6_col14\" class=\"data row6 col14\" >728.000000</td>\n",
       "      <td id=\"T_caa57_row6_col15\" class=\"data row6 col15\" >0.000000</td>\n",
       "      <td id=\"T_caa57_row6_col16\" class=\"data row6 col16\" >1776.750000</td>\n",
       "      <td id=\"T_caa57_row6_col17\" class=\"data row6 col17\" >1.000000</td>\n",
       "      <td id=\"T_caa57_row6_col18\" class=\"data row6 col18\" >0.000000</td>\n",
       "      <td id=\"T_caa57_row6_col19\" class=\"data row6 col19\" >2.000000</td>\n",
       "      <td id=\"T_caa57_row6_col20\" class=\"data row6 col20\" >1.000000</td>\n",
       "      <td id=\"T_caa57_row6_col21\" class=\"data row6 col21\" >3.000000</td>\n",
       "      <td id=\"T_caa57_row6_col22\" class=\"data row6 col22\" >1.000000</td>\n",
       "      <td id=\"T_caa57_row6_col23\" class=\"data row6 col23\" >7.000000</td>\n",
       "      <td id=\"T_caa57_row6_col24\" class=\"data row6 col24\" >1.000000</td>\n",
       "      <td id=\"T_caa57_row6_col25\" class=\"data row6 col25\" >2002.000000</td>\n",
       "      <td id=\"T_caa57_row6_col26\" class=\"data row6 col26\" >2.000000</td>\n",
       "      <td id=\"T_caa57_row6_col27\" class=\"data row6 col27\" >576.000000</td>\n",
       "      <td id=\"T_caa57_row6_col28\" class=\"data row6 col28\" >168.000000</td>\n",
       "      <td id=\"T_caa57_row6_col29\" class=\"data row6 col29\" >68.000000</td>\n",
       "      <td id=\"T_caa57_row6_col30\" class=\"data row6 col30\" >0.000000</td>\n",
       "      <td id=\"T_caa57_row6_col31\" class=\"data row6 col31\" >0.000000</td>\n",
       "      <td id=\"T_caa57_row6_col32\" class=\"data row6 col32\" >0.000000</td>\n",
       "      <td id=\"T_caa57_row6_col33\" class=\"data row6 col33\" >0.000000</td>\n",
       "      <td id=\"T_caa57_row6_col34\" class=\"data row6 col34\" >0.000000</td>\n",
       "      <td id=\"T_caa57_row6_col35\" class=\"data row6 col35\" >8.000000</td>\n",
       "      <td id=\"T_caa57_row6_col36\" class=\"data row6 col36\" >2009.000000</td>\n",
       "      <td id=\"T_caa57_row6_col37\" class=\"data row6 col37\" >214000.000000</td>\n",
       "    </tr>\n",
       "    <tr>\n",
       "      <th id=\"T_caa57_level0_row7\" class=\"row_heading level0 row7\" >max</th>\n",
       "      <td id=\"T_caa57_row7_col0\" class=\"data row7 col0\" >1460.000000</td>\n",
       "      <td id=\"T_caa57_row7_col1\" class=\"data row7 col1\" >190.000000</td>\n",
       "      <td id=\"T_caa57_row7_col2\" class=\"data row7 col2\" >313.000000</td>\n",
       "      <td id=\"T_caa57_row7_col3\" class=\"data row7 col3\" >215245.000000</td>\n",
       "      <td id=\"T_caa57_row7_col4\" class=\"data row7 col4\" >10.000000</td>\n",
       "      <td id=\"T_caa57_row7_col5\" class=\"data row7 col5\" >9.000000</td>\n",
       "      <td id=\"T_caa57_row7_col6\" class=\"data row7 col6\" >2010.000000</td>\n",
       "      <td id=\"T_caa57_row7_col7\" class=\"data row7 col7\" >2010.000000</td>\n",
       "      <td id=\"T_caa57_row7_col8\" class=\"data row7 col8\" >1600.000000</td>\n",
       "      <td id=\"T_caa57_row7_col9\" class=\"data row7 col9\" >5644.000000</td>\n",
       "      <td id=\"T_caa57_row7_col10\" class=\"data row7 col10\" >1474.000000</td>\n",
       "      <td id=\"T_caa57_row7_col11\" class=\"data row7 col11\" >2336.000000</td>\n",
       "      <td id=\"T_caa57_row7_col12\" class=\"data row7 col12\" >6110.000000</td>\n",
       "      <td id=\"T_caa57_row7_col13\" class=\"data row7 col13\" >4692.000000</td>\n",
       "      <td id=\"T_caa57_row7_col14\" class=\"data row7 col14\" >2065.000000</td>\n",
       "      <td id=\"T_caa57_row7_col15\" class=\"data row7 col15\" >572.000000</td>\n",
       "      <td id=\"T_caa57_row7_col16\" class=\"data row7 col16\" >5642.000000</td>\n",
       "      <td id=\"T_caa57_row7_col17\" class=\"data row7 col17\" >3.000000</td>\n",
       "      <td id=\"T_caa57_row7_col18\" class=\"data row7 col18\" >2.000000</td>\n",
       "      <td id=\"T_caa57_row7_col19\" class=\"data row7 col19\" >3.000000</td>\n",
       "      <td id=\"T_caa57_row7_col20\" class=\"data row7 col20\" >2.000000</td>\n",
       "      <td id=\"T_caa57_row7_col21\" class=\"data row7 col21\" >8.000000</td>\n",
       "      <td id=\"T_caa57_row7_col22\" class=\"data row7 col22\" >3.000000</td>\n",
       "      <td id=\"T_caa57_row7_col23\" class=\"data row7 col23\" >14.000000</td>\n",
       "      <td id=\"T_caa57_row7_col24\" class=\"data row7 col24\" >3.000000</td>\n",
       "      <td id=\"T_caa57_row7_col25\" class=\"data row7 col25\" >2010.000000</td>\n",
       "      <td id=\"T_caa57_row7_col26\" class=\"data row7 col26\" >4.000000</td>\n",
       "      <td id=\"T_caa57_row7_col27\" class=\"data row7 col27\" >1418.000000</td>\n",
       "      <td id=\"T_caa57_row7_col28\" class=\"data row7 col28\" >857.000000</td>\n",
       "      <td id=\"T_caa57_row7_col29\" class=\"data row7 col29\" >547.000000</td>\n",
       "      <td id=\"T_caa57_row7_col30\" class=\"data row7 col30\" >552.000000</td>\n",
       "      <td id=\"T_caa57_row7_col31\" class=\"data row7 col31\" >508.000000</td>\n",
       "      <td id=\"T_caa57_row7_col32\" class=\"data row7 col32\" >480.000000</td>\n",
       "      <td id=\"T_caa57_row7_col33\" class=\"data row7 col33\" >738.000000</td>\n",
       "      <td id=\"T_caa57_row7_col34\" class=\"data row7 col34\" >15500.000000</td>\n",
       "      <td id=\"T_caa57_row7_col35\" class=\"data row7 col35\" >12.000000</td>\n",
       "      <td id=\"T_caa57_row7_col36\" class=\"data row7 col36\" >2010.000000</td>\n",
       "      <td id=\"T_caa57_row7_col37\" class=\"data row7 col37\" >755000.000000</td>\n",
       "    </tr>\n",
       "  </tbody>\n",
       "</table>\n"
      ],
      "text/plain": [
       "<pandas.io.formats.style.Styler at 0x7f3164ce4dd0>"
      ]
     },
     "execution_count": 16,
     "metadata": {},
     "output_type": "execute_result"
    }
   ],
   "source": [
    "df.describe().style.background_gradient(cmap ='summer')"
   ]
  },
  {
   "cell_type": "markdown",
   "metadata": {},
   "source": [
    "<span style='font-family:comic Sans MS; color:navy'>Although we don't have only numerical columns, we can get some mathematical specifications from the table below</span>"
   ]
  },
  {
   "cell_type": "code",
   "execution_count": 17,
   "metadata": {
    "execution": {
     "iopub.execute_input": "2023-03-23T05:23:04.510146Z",
     "iopub.status.busy": "2023-03-23T05:23:04.509839Z",
     "iopub.status.idle": "2023-03-23T05:23:04.525205Z",
     "shell.execute_reply": "2023-03-23T05:23:04.523721Z",
     "shell.execute_reply.started": "2023-03-23T05:23:04.510115Z"
    }
   },
   "outputs": [
    {
     "name": "stdout",
     "output_type": "stream",
     "text": [
      "Number of numerical columns: 38\n"
     ]
    },
    {
     "data": {
      "text/plain": [
       "Id                  730.500000\n",
       "MSSubClass           56.897260\n",
       "LotFrontage          70.049958\n",
       "LotArea           10516.828082\n",
       "OverallQual           6.099315\n",
       "OverallCond           5.575342\n",
       "YearBuilt          1971.267808\n",
       "YearRemodAdd       1984.865753\n",
       "MasVnrArea          103.685262\n",
       "BsmtFinSF1          443.639726\n",
       "BsmtFinSF2           46.549315\n",
       "BsmtUnfSF           567.240411\n",
       "TotalBsmtSF        1057.429452\n",
       "1stFlrSF           1162.626712\n",
       "2ndFlrSF            346.992466\n",
       "LowQualFinSF          5.844521\n",
       "GrLivArea          1515.463699\n",
       "BsmtFullBath          0.425342\n",
       "BsmtHalfBath          0.057534\n",
       "FullBath              1.565068\n",
       "HalfBath              0.382877\n",
       "BedroomAbvGr          2.866438\n",
       "KitchenAbvGr          1.046575\n",
       "TotRmsAbvGrd          6.517808\n",
       "Fireplaces            0.613014\n",
       "GarageYrBlt        1978.506164\n",
       "GarageCars            1.767123\n",
       "GarageArea          472.980137\n",
       "WoodDeckSF           94.244521\n",
       "OpenPorchSF          46.660274\n",
       "EnclosedPorch        21.954110\n",
       "3SsnPorch             3.409589\n",
       "ScreenPorch          15.060959\n",
       "PoolArea              2.758904\n",
       "MiscVal              43.489041\n",
       "MoSold                6.321918\n",
       "YrSold             2007.815753\n",
       "SalePrice        180921.195890\n",
       "dtype: float64"
      ]
     },
     "execution_count": 17,
     "metadata": {},
     "output_type": "execute_result"
    }
   ],
   "source": [
    "print('Number of numerical columns:',df.mean(numeric_only=True).count())\n",
    "df.mean(numeric_only=True)# mean of numerical columns"
   ]
  },
  {
   "cell_type": "markdown",
   "metadata": {},
   "source": [
    "# <b>6 <span style='color:#94D4F6'>|</span>Exploratory Data Analysis</b>"
   ]
  },
  {
   "cell_type": "code",
   "execution_count": 18,
   "metadata": {
    "execution": {
     "iopub.execute_input": "2023-03-23T05:23:04.527224Z",
     "iopub.status.busy": "2023-03-23T05:23:04.526769Z",
     "iopub.status.idle": "2023-03-23T05:23:04.543804Z",
     "shell.execute_reply": "2023-03-23T05:23:04.542744Z",
     "shell.execute_reply.started": "2023-03-23T05:23:04.527171Z"
    }
   },
   "outputs": [
    {
     "data": {
      "text/plain": [
       "<Figure size 600x300 with 0 Axes>"
      ]
     },
     "metadata": {},
     "output_type": "display_data"
    }
   ],
   "source": [
    "# The theme and size and resolution of the plots\n",
    "# figure size\n",
    "plt.figure(figsize=(6,3))  \n",
    "# background, color type\n",
    "sns.set_theme(style=\"whitegrid\", palette=\"muted\")\n",
    "sns.set_context('notebook', font_scale = 1.0, rc={\"lines.linewidth\": 1.5})\n",
    "# font properties\n",
    "plt.rcParams['font.family']='cursive'\n",
    "plt.rcParams['font.stretch']='condensed'\n",
    "plt.rcParams['font.style']='italic'\n",
    "plt.rcParams['font.weight']='heavy'\n",
    "plt.rcParams['font.size']=15\n",
    "# resolution\n",
    "plt.rcParams['figure.dpi'] = 120  # resolution"
   ]
  },
  {
   "cell_type": "markdown",
   "metadata": {},
   "source": [
    "<span style='font-family:comic Sans MS; color:navy'>here,I just do some basic settings for graph.</span>"
   ]
  },
  {
   "cell_type": "code",
   "execution_count": 19,
   "metadata": {
    "execution": {
     "iopub.execute_input": "2023-03-23T05:23:04.545275Z",
     "iopub.status.busy": "2023-03-23T05:23:04.544865Z",
     "iopub.status.idle": "2023-03-23T05:23:04.959256Z",
     "shell.execute_reply": "2023-03-23T05:23:04.957971Z",
     "shell.execute_reply.started": "2023-03-23T05:23:04.545233Z"
    }
   },
   "outputs": [
    {
     "data": {
      "image/png": "[encoded data removed]",
      "text/plain": [
       "<Figure size 768x576 with 1 Axes>"
      ]
     },
     "metadata": {},
     "output_type": "display_data"
    }
   ],
   "source": [
    "sns.distplot(df['SalePrice']);\n",
    "plt.title(\"House Price Distribution\")\n",
    "plt.xticks([100000,200000,300000,400000,500000,600000,700000],['100k','200k','300k','400k','500k','600k','700k'])\n",
    "plt.show()\n"
   ]
  },
  {
   "cell_type": "markdown",
   "metadata": {},
   "source": [
    "<span style='font-family:comic Sans MS; color:navy'>As you can see, the most sold price is in the range of 100k-200k</span>"
   ]
  },
  {
   "cell_type": "code",
   "execution_count": null,
   "metadata": {
    "execution": {
     "iopub.execute_input": "2023-03-23T05:23:04.962417Z",
     "iopub.status.busy": "2023-03-23T05:23:04.961061Z"
    }
   },
   "outputs": [],
   "source": [
    "fig, axes = plt.subplots(2, 2, figsize=(10, 15))\n",
    "plt.subplots_adjust(left=0.1,    \n",
    "                    bottom=0.1,\n",
    "                    right=0.9,\n",
    "                    top=0.9,)\n",
    "fig.suptitle('Sale Price with 4 top correlated features')\n",
    "axes[0,0].set_xticklabels(axes[0,0].get_xticklabels(), rotation=90)\n",
    "axes[0,1].set_xticklabels(axes[0,1].get_xticklabels(), rotation=90)\n",
    "axes[1,0].set_xticklabels(axes[1,0].get_xticklabels(), rotation=90)\n",
    "axes[1,1].set_xticklabels(axes[1,1].get_xticklabels(), rotation=90)\n",
    "# ---------------------------------------------------------\n",
    "# OverallQual\n",
    "sns.boxplot(ax=axes[0,0],data = df,x='OverallQual',y='SalePrice',whis=2.5,fliersize=2)\n",
    "axes[0,0].set_yticklabels(['0','100k','200k','300k','400k','500k','600k','700k'])\n",
    "axes[0,0].set_xlabel('Overall Quality')\n",
    "axes[0,0].set_ylabel('Price')\n",
    "\n",
    "# GrLivArea\n",
    "sns.scatterplot(ax=axes[0,1],x='SalePrice', y='GrLivArea',data=df,hue='SalePrice')\n",
    "axes[0,1].set_xticklabels(['0','100k','200k','300k','400k','500k','600k','700k'])\n",
    "axes[0,1].set_xlabel('Price')\n",
    "axes[0,1].set_ylabel('Being high above the ground')\n",
    "\n",
    "\n",
    "# GarageCars\n",
    "sns.boxplot(ax=axes[1,0],data = df,x='GarageCars',y='SalePrice',whis=2.5,fliersize=2)\n",
    "axes[1,0].set_yticklabels(['0','100k','200k','300k','400k','500k','600k','700k'])\n",
    "axes[1,0].set_xlabel('Number of Car')\n",
    "axes[1,0].set_ylabel('Price')\n",
    "\n",
    "# GarageArea\n",
    "sns.scatterplot(ax=axes[1,1],x='SalePrice', y='GarageArea',data=df,hue='SalePrice')\n",
    "axes[1,1].set_xticklabels(['0','100k','200k','300k','400k','500k','600k','700k'])\n",
    "axes[1,1].set_xlabel('Price')\n",
    "axes[1,1].set_ylabel('Garage area')\n",
    "\n",
    "# Set the spacing between subplots\n",
    "fig.subplots_adjust(wspace=0.3, hspace=0.2)"
   ]
  },
  {
   "cell_type": "markdown",
   "metadata": {},
   "source": [
    "<span style='font-family:comic Sans MS; color:navy'>As you can see, the Quality of the home is the top correlated feature in our data set which we showed in 10 categories by difrince in price(which is a variable that I don't like because I don't know how it was computed; a funny exercise would be to predict 'OverallQual' using all the other variables available), in the second graph we showed(linear relationship), if the Ground Area be big it has more price, and third part we can see the relation of GrageCars(How many cars can we put) and price and the last one we see the garage areas and the effect of that on house price. </span>"
   ]
  },
  {
   "cell_type": "code",
   "execution_count": null,
   "metadata": {},
   "outputs": [],
   "source": [
    "# Setting\n",
    "fig, axes = plt.subplots(2, 2, figsize=(10, 15))\n",
    "plt.subplots_adjust(left=0.1,bottom=0.1,right=0.9,top=0.9)\n",
    "fig.suptitle('Sale Price with 4 top correlated features')\n",
    "axes[0,0].set_xticklabels(axes[0,0].get_xticklabels(), rotation=90)\n",
    "axes[0,1].set_xticklabels(axes[0,1].get_xticklabels(), rotation=90)\n",
    "axes[1,0].set_xticklabels(axes[1,0].get_xticklabels(), rotation=90)\n",
    "axes[1,1].set_xticklabels(axes[1,1].get_xticklabels(), rotation=90)\n",
    "# ------------------------------------------------------------------------\n",
    "# YearBuilt\n",
    "sns.scatterplot(ax=axes[0,0],x='SalePrice', y='YearBuilt',data=df,hue='SalePrice')\n",
    "axes[0,0].set_xticklabels(['0','100k','200k','300k','400k','500k','600k','700k'])\n",
    "axes[0,0].set_xlabel('Price')\n",
    "axes[0,0].set_ylabel('Year')\n",
    "# ------------------------------------------\n",
    "# FullBath\n",
    "# FullBath: Full bathrooms above grade\n",
    "sns.boxplot(ax=axes[0,1],data = df,x='FullBath',y='SalePrice',whis=2.5,fliersize=2)\n",
    "axes[0,1].set_yticklabels(['0','100k','200k','300k','400k','500k','600k','700k'])\n",
    "axes[0,1].set_xlabel('Number of bathroom')\n",
    "axes[0,1].set_ylabel('Price')\n",
    "# -------------------------------------------\n",
    "# Total square feet of basement area\n",
    "sns.scatterplot(ax=axes[1,0],x='SalePrice', y='TotalBsmtSF',data=df,hue='SalePrice')\n",
    "axes[1,0].set_xticklabels(['0','100k','200k','300k','400k','500k','600k','700k'])\n",
    "axes[1,0].set_xlabel('Price')\n",
    "axes[1,0].set_ylabel('Underground Area')\n",
    "# --------------------------------------------\n",
    "# 1stFlrSF\n",
    "sns.scatterplot(ax=axes[1,1],x='SalePrice', y='1stFlrSF',data=df,hue='SalePrice')\n",
    "axes[1,1].set_xticklabels(['0','100k','200k','300k','400k','500k','600k','700k'])\n",
    "axes[1,1].set_xlabel('Price')\n",
    "axes[1,1].set_ylabel('First Floor Area')\n",
    "\n",
    "# Set the spacing between subplots\n",
    "fig.subplots_adjust(wspace=0.3, hspace=0.2)"
   ]
  },
  {
   "cell_type": "markdown",
   "metadata": {},
   "source": [
    "<span style='font-family:comic Sans MS; color:navy'>As you can see, The year the houses were built has a great impact on the price of the house, as you can see in the picture on the left and above, old houses are cheap and new houses have to be bought at a high price, and it is very clear that house construction has increased in recent years.</span>\n",
    "\n",
    "<span style='font-family:comic Sans MS; color:navy'> - The number of bathrooms that a house has also affects the price, so it can be said that the houses that have this convenience have a good price.</span>\n",
    "    \n",
    "<span style='font-family:comic Sans MS; color:navy'> - And in the third graph, we have shown the relationship between the underground area of a house and its price, which very clearly tells us that a larger area costs more.</span>\n",
    "    \n",
    "<span style='font-family:comic Sans MS; color:navy'> - The third and fourth graphs express the same issue, in the fourth graph we have shown that the larger the area of the first floor, the higher the price of the house.\n",
    "</span>"
   ]
  },
  {
   "cell_type": "markdown",
   "metadata": {},
   "source": [
    "# <b>6 <span style='color:#94D4F6'>|</span> Featur Engineering</b>"
   ]
  },
  {
   "cell_type": "markdown",
   "metadata": {},
   "source": [
    "<div style=\"color:white;display:fill;border-radius:8px;background-color:#03112A;font-size:150%;letter-spacing:1.0px\"><p style=\"padding: 10px;color:white;\"><b><b><span style='color:#94D4F6'>6.1 |</span></b> Taking care of missing data </b></p></div>"
   ]
  },
  {
   "cell_type": "code",
   "execution_count": null,
   "metadata": {},
   "outputs": [],
   "source": [
    "# cols names which contains missing values\n",
    "df.columns[df.isnull().sum() > 0]"
   ]
  },
  {
   "cell_type": "markdown",
   "metadata": {},
   "source": [
    "<span style='font-family:comic Sans MS; color:navy'>We have Null data in 19 columns</span>"
   ]
  },
  {
   "cell_type": "code",
   "execution_count": null,
   "metadata": {},
   "outputs": [],
   "source": [
    "!pip install -q autoviz\n",
    "!pip install -q -U --pre pycaret\n",
    "from sklearn.pipeline import Pipeline\n",
    "from autoviz.classify_method import data_cleaning_suggestions ,data_suggestions\n",
    "from pycaret  import regression\n",
    "from scipy import stats\n",
    "data_cleaning_suggestions(df)"
   ]
  },
  {
   "cell_type": "code",
   "execution_count": null,
   "metadata": {},
   "outputs": [],
   "source": [
    "# Show missing Value\n",
    "msno.matrix(df)"
   ]
  },
  {
   "cell_type": "markdown",
   "metadata": {},
   "source": [
    "<span style='font-family:comic Sans MS; color:navy'>missing values in each columns will be presented by white lines</span>\n"
   ]
  },
  {
   "cell_type": "code",
   "execution_count": null,
   "metadata": {},
   "outputs": [],
   "source": [
    "# Fill missing value by previous value\n",
    "df.fillna(method='bfill',inplace=True)\n",
    "# Or we can fill missing value by next value\n",
    "df.fillna(method='ffill',inplace = True)\\"
   ]
  },
  {
   "cell_type": "markdown",
   "metadata": {},
   "source": [
    "<span style='font-family:comic Sans MS; color:navy'>We have two Option for fill the missing value one fill by befor value other fill by next value</span>"
   ]
  },
  {
   "cell_type": "code",
   "execution_count": null,
   "metadata": {},
   "outputs": [],
   "source": [
    "msno.matrix(df)"
   ]
  },
  {
   "cell_type": "markdown",
   "metadata": {},
   "source": [
    "<span style='font-family:comic Sans MS; color:navy'>As you can see, we don't have any missing value now in our dataSet</span>"
   ]
  },
  {
   "cell_type": "code",
   "execution_count": null,
   "metadata": {},
   "outputs": [],
   "source": [
    "## cols names which contains missing values\n",
    "df.columns[df.isnull().sum() > 0]"
   ]
  },
  {
   "cell_type": "markdown",
   "metadata": {},
   "source": [
    "<span style='font-family:comic Sans MS; color:navy'>As you can see,by this commend we don't have Null data</span>"
   ]
  },
  {
   "cell_type": "markdown",
   "metadata": {},
   "source": [
    "<div style=\"color:white;display:fill;border-radius:8px;background-color:#03112A;font-size:150%;letter-spacing:1.0px\"><p style=\"padding: 10px;color:white;\"><b><b><span style='color:#94D4F6'>6.2 |</span></b> Drop duplicate data </b></p></div>"
   ]
  },
  {
   "cell_type": "code",
   "execution_count": null,
   "metadata": {},
   "outputs": [],
   "source": [
    "## shows number of duplicated values in the dataset\n",
    "print('Number of duplicated values in dataset: ', df.duplicated().sum())"
   ]
  },
  {
   "cell_type": "markdown",
   "metadata": {},
   "source": [
    "<span style='font-family:comic Sans MS; color:navy'>As you can see,we don't have duplicate data in our dataSet</span>"
   ]
  },
  {
   "cell_type": "markdown",
   "metadata": {},
   "source": [
    "<div style=\"color:white;display:fill;border-radius:8px;background-color:#03112A;font-size:150%;letter-spacing:1.0px\"><p style=\"padding: 10px;color:white;\"><b><b><span style='color:#94D4F6'>6.3 |</span></b> Drop outliers in the data </b></p></div>"
   ]
  },
  {
   "cell_type": "code",
   "execution_count": null,
   "metadata": {},
   "outputs": [],
   "source": [
    "numeric_columns = [x for i,x in enumerate(df.select_dtypes(include=np.number).columns.tolist())\n",
    "                   if(x!='SalePrice')] \n",
    "numeric_columns"
   ]
  },
  {
   "cell_type": "code",
   "execution_count": null,
   "metadata": {},
   "outputs": [],
   "source": [
    "def IQR_method (df,n,features):\n",
    "    outlier_list = []\n",
    "    for column in features:\n",
    "        # 1st quartile (25%)\n",
    "        Q1 = np.percentile(df[column], 25)\n",
    "        # 3rd quartile (75%)\n",
    "        Q3 = np.percentile(df[column],75)\n",
    "        # Interquartile range (IQR)\n",
    "        IQR = Q3 - Q1\n",
    "        # outlier step\n",
    "        outlier_step = 1.5 * IQR\n",
    "        # Determining a list of indices of outliers\n",
    "        outlier_list_column = df[(df[column] < Q1 - outlier_step) | (df[column] > Q3 + outlier_step )].index\n",
    "        # appending the list of outliers\n",
    "        outlier_list.extend(outlier_list_column)\n",
    "    # selecting observations containing more than x outliers\n",
    "    outlier_list = Counter(outlier_list)        \n",
    "    multiple_outliers = list( k for k, v in outlier_list.items() if v > n)\n",
    "    # Calculate the number of records below and above lower and above bound value respectively\n",
    "    out1 = df[df[column] < Q1 - outlier_step]\n",
    "    out2 = df[df[column] > Q3 + outlier_step]\n",
    "    print('Total number of deleted outliers is:', out1.shape[0]+out2.shape[0]) \n",
    "    return multiple_outliers"
   ]
  },
  {
   "cell_type": "code",
   "execution_count": null,
   "metadata": {},
   "outputs": [],
   "source": [
    "## drop outliers using IQR_method\n",
    "Outliers_IQR = IQR_method(df,1,numeric_columns)\n",
    "# print(Outliers_IQR)\n",
    "df = df.drop(Outliers_IQR, axis = 0).reset_index(drop=True)"
   ]
  },
  {
   "cell_type": "markdown",
   "metadata": {},
   "source": [
    "<div style=\"color:white;display:fill;border-radius:8px;background-color:#03112A;font-size:150%;letter-spacing:1.0px\"><p style=\"padding: 10px;color:white;\"><b><b><span style='color:#94D4F6'>6.4 |</span></b> Feature selection </b></p></div>\n"
   ]
  },
  {
   "cell_type": "code",
   "execution_count": null,
   "metadata": {},
   "outputs": [],
   "source": [
    "# correlation matrix between numerical cols in the dataset.\n",
    "fig, ax = plt.subplots(figsize=(38,38))\n",
    "coer = df.corr()\n",
    "sns.heatmap(coer, annot = True, ax=ax, vmin=-1, vmax=1, center= 0, cmap= 'coolwarm', linewidths=3, linecolor='black')\n",
    "plt.show()"
   ]
  },
  {
   "cell_type": "markdown",
   "metadata": {},
   "source": [
    "<span style='font-family:comic Sans MS; color:navy'>As you can see, we have some unnecessary columns which we didn't need for Price Prediction or maybe have a weak correlation.</span>"
   ]
  },
  {
   "cell_type": "code",
   "execution_count": null,
   "metadata": {},
   "outputs": [],
   "source": [
    "df.corr()['SalePrice'].sort_values(ascending=False)[0:20] "
   ]
  },
  {
   "cell_type": "code",
   "execution_count": null,
   "metadata": {},
   "outputs": [],
   "source": [
    "col_drops = ['Id', 'MSSubClass', 'BsmtFinSF2', 'LowQualFinSF', 'BsmtHalfBath',\n",
    "             'KitchenAbvGr', '3SsnPorch', 'MiscVal', 'ScreenPorch', 'PoolArea','YrSold'] ## cols to drop \n",
    "df.drop(col_drops,axis=1,inplace=True)"
   ]
  },
  {
   "cell_type": "markdown",
   "metadata": {},
   "source": [
    "<div style=\"color:white;display:fill;border-radius:8px;background-color:#03112A;font-size:150%;letter-spacing:1.0px\"><p style=\"padding: 10px;color:white;\"><b><b><span style='color:#94D4F6'>6.5 |</span></b> Label encoding of categorical data </b></p></div>\n"
   ]
  },
  {
   "cell_type": "code",
   "execution_count": null,
   "metadata": {},
   "outputs": [],
   "source": [
    "numeric_cols = df.select_dtypes(include=np.number).columns.tolist()\n",
    "categorical_cols = set(df.columns).difference(set(numeric_cols))   \n",
    "print(categorical_cols)"
   ]
  },
  {
   "cell_type": "markdown",
   "metadata": {},
   "source": [
    "<span style='font-family:comic Sans MS; color:navy'>As you can see, here we have some categorical columns now we want to change them to predict.</span>"
   ]
  },
  {
   "cell_type": "code",
   "execution_count": null,
   "metadata": {},
   "outputs": [],
   "source": [
    "## print all unique values in categorical columns\n",
    "for i, x in enumerate(categorical_cols):  \n",
    "    print(x, df[x].unique())"
   ]
  },
  {
   "cell_type": "markdown",
   "metadata": {},
   "source": [
    "<span style='font-family:comic Sans MS; color:navy'>Below we have some columns with their Unique data which come to dataSet ones</span>"
   ]
  },
  {
   "cell_type": "code",
   "execution_count": null,
   "metadata": {},
   "outputs": [],
   "source": [
    "## drop this col since it has one value\n",
    "df.drop(['Utilities'],axis=1,inplace=True)"
   ]
  },
  {
   "cell_type": "markdown",
   "metadata": {},
   "source": [
    "<span style='font-family:comic Sans MS; color:navy'>here we delete the data come ones</span>"
   ]
  },
  {
   "cell_type": "code",
   "execution_count": null,
   "metadata": {},
   "outputs": [],
   "source": [
    "numeric_cols = df.select_dtypes(include=np.number).columns.tolist()\n",
    "categorical_cols = set(df.columns).difference(set(numeric_cols)) "
   ]
  },
  {
   "cell_type": "code",
   "execution_count": null,
   "metadata": {},
   "outputs": [],
   "source": [
    "## names of columns that will label encoded\n",
    "lecols = []  \n",
    "for x in categorical_cols:\n",
    "    lecols.append(x)\n",
    "le = LabelEncoder() #imported\n",
    "df[lecols] = df[lecols].apply(le.fit_transform) #fit data\n",
    "df.head()"
   ]
  },
  {
   "cell_type": "markdown",
   "metadata": {},
   "source": [
    "<div style=\"color:white;display:fill;border-radius:8px;background-color:#03112A;font-size:150%;letter-spacing:1.0px\"><p style=\"padding: 10px;color:white;\"><b><b><span style='color:#94D4F6'>6.6 |</span></b> Feature Scaling </b></p></div>\n"
   ]
  },
  {
   "cell_type": "code",
   "execution_count": null,
   "metadata": {},
   "outputs": [],
   "source": [
    "# scalar for all numerical columns excluding target column\n",
    "sc_X = StandardScaler()\n",
    "# scalar for the target column\n",
    "sc_y = StandardScaler()\n",
    "# list of col  names that include numerical values\n",
    "numeric_cols = df.select_dtypes(include=np.number).columns.tolist()\n",
    "# list of all numeric cols excluding the target col\n",
    "numeric_cols_x = [x for i,x in enumerate(numeric_cols) if(x!='SalePrice')]\n",
    "# list includes target col name\n",
    "numeric_cols_y = [x for i,x in enumerate(numeric_cols) if(x not in numeric_cols_x)]\n",
    "df[numeric_cols_x] = sc_X.fit_transform(df[numeric_cols_x])\n",
    "df[numeric_cols_y]= sc_y.fit_transform(df[numeric_cols_y])\n",
    "df.head()"
   ]
  },
  {
   "cell_type": "markdown",
   "metadata": {},
   "source": [
    "<div style=\"color:white;display:fill;border-radius:8px;background-color:#03112A;font-size:150%;letter-spacing:1.0px\"><p style=\"padding: 10px;color:white;\"><b><b><span style='color:#94D4F6'>6.7 |</span></b> Define the independent and dependent variables </b></p></div>"
   ]
  },
  {
   "cell_type": "code",
   "execution_count": null,
   "metadata": {},
   "outputs": [],
   "source": [
    "X = df.iloc[:, :-1].values ## independent variables\n",
    "y = df.iloc[:, -1].values  ## dependent variables"
   ]
  },
  {
   "cell_type": "markdown",
   "metadata": {},
   "source": [
    "<div style=\"color:white;display:fill;border-radius:8px;background-color:#03112A;font-size:150%;letter-spacing:1.0px\"><p style=\"padding: 10px;color:white;\"><b><b><span style='color:#94D4F6'>6.8 |</span></b> Splitting the dataset into training and testing </b></p></div>"
   ]
  },
  {
   "cell_type": "code",
   "execution_count": null,
   "metadata": {},
   "outputs": [],
   "source": [
    "X_train,X_test,y_train,y_test = train_test_split(X,y,test_size=0.2,random_state=0)\n"
   ]
  },
  {
   "cell_type": "markdown",
   "metadata": {},
   "source": [
    "<span style='font-family:comic Sans MS; color:navy'>splitting the dataset into 80% training and 20% testing</span>"
   ]
  },
  {
   "cell_type": "markdown",
   "metadata": {},
   "source": [
    "# <b>7 <span style='color:#94D4F6'>|</span>The machine learning models</b>"
   ]
  },
  {
   "cell_type": "markdown",
   "metadata": {},
   "source": [
    "<div style=\"color:white;display:fill;border-radius:8px;background-color:#03112A;font-size:150%;letter-spacing:1.0px\"><p style=\"padding: 10px;color:white;\"><b><b><span style='color:#94D4F6'>7.1 |</span></b> Initial models test </b></p></div>"
   ]
  },
  {
   "cell_type": "code",
   "execution_count": null,
   "metadata": {},
   "outputs": [],
   "source": [
    "init_models = {\n",
    "    'support vector linear' : SVR(kernel='linear'),\n",
    "    'support vector kernel' : SVR(kernel= 'rbf'),\n",
    "    'XGBOOST':XGBRegressor(),\n",
    "    'Decision Tree' : DecisionTreeRegressor(),\n",
    "    'Random Forest' : RandomForestRegressor(),\n",
    "    'LGBM' : LGBMRegressor()\n",
    "}\n",
    "R2 = []\n",
    "models_names = []\n",
    "for i,(key,model) in enumerate(init_models.items()):\n",
    "    model.fit(X_train,y_train)\n",
    "    models_names.append(key)\n",
    "    R2.append(np.mean(cross_val_score(model,X_train,y_train,cv=5)))\n",
    "models_scores = pd.DataFrame({'model name':models_names,'R2 score':R2})\n",
    "models_scores.head(7)"
   ]
  },
  {
   "cell_type": "markdown",
   "metadata": {},
   "source": [
    "- **<mark style=\"background-color:#D1D96A;color:black;border-radius:5px;opacity:0.7\">  plot cross validation R2 scores for the models   </mark>**"
   ]
  },
  {
   "cell_type": "code",
   "execution_count": null,
   "metadata": {},
   "outputs": [],
   "source": [
    "fig, ax = plt.subplots()\n",
    "ax.set_xticklabels(ax.get_xticklabels(), rotation=70)\n",
    "ax.set_title(\"models R2 score\")\n",
    "sns.barplot(data=models_scores, x='model name', y=\"R2 score\")\n",
    "plt.show()\n"
   ]
  },
  {
   "cell_type": "markdown",
   "metadata": {},
   "source": [
    "<span style='font-family:comic Sans MS; color:navy'>As you can see, the LGBM model is the best and we use it for our final prediction and submission.</span>"
   ]
  },
  {
   "cell_type": "markdown",
   "metadata": {},
   "source": [
    "<div style=\"color:white;display:fill;border-radius:8px;background-color:#03112A;font-size:150%;letter-spacing:1.0px\"><p style=\"padding: 10px;color:white;\"><b><b><span style='color:#94D4F6'>7.2 |</span></b> Tuning the parameters of promising models </b></p></div>"
   ]
  },
  {
   "cell_type": "markdown",
   "metadata": {},
   "source": [
    "<span style='font-family:comic Sans MS; color:navy'>In the below, we have some model which was better for prediction,  we should try to make them better and choose one of them.</span>"
   ]
  },
  {
   "cell_type": "markdown",
   "metadata": {},
   "source": [
    "- **<mark style=\"background-color:#D1D96A;color:black;border-radius:5px;opacity:0.7\">Random Forest </mark>**"
   ]
  },
  {
   "cell_type": "code",
   "execution_count": null,
   "metadata": {},
   "outputs": [],
   "source": [
    "import pickle # to store the result and prevent a run every round.\n",
    "rf = RandomForestRegressor(random_state=0,n_estimators=10)\n",
    "param_grid = {\n",
    "    'max_features':['auto','sqrt'],\n",
    "    'max_depth':[int(x) for x in np.linspace(5,30,6)],\n",
    "    'min_samples_split':[2,5,10,15,100],\n",
    "    'min_samples_leaf':[1,2,5,10],\n",
    "}\n",
    "rf_cv = RandomizedSearchCV(rf,param_grid,n_iter = 40,refit = 'recall',\n",
    "                           scoring = 'neg_mean_squared_error',cv=5,verbose=0,random_state=42,n_jobs=-1)\n",
    "rf_cv.fit(X_train,y_train)"
   ]
  },
  {
   "cell_type": "markdown",
   "metadata": {},
   "source": [
    "- **<mark style=\"background-color:#D1D96A;color:black;border-radius:5px;opacity:0.7\"> XGBOOST </mark>**"
   ]
  },
  {
   "cell_type": "code",
   "execution_count": null,
   "metadata": {},
   "outputs": [],
   "source": [
    "xgb = XGBRegressor()\n",
    "param_grid = {\n",
    "    'learning_rate':[0.0001,0.001,0.01,0.1,1],\n",
    "    'max_depth':range(3,21,3),\n",
    "    'gamma':[i/10.0 for i in range(0,5)],\n",
    "    'colsample_bytree':[i/10.0 for i in range(3,10)],\n",
    "    'reg_alpha':[1e-5, 1e-2, 0.1, 1, 10, 100],\n",
    "    'reg_lambda':[1e-5, 1e-2, 0.1, 1, 10, 100]\n",
    "}\n",
    "xgb_cv = RandomizedSearchCV(xgb,param_grid,n_iter=100, refit='recall',\n",
    "                           scoring = 'neg_mean_squared_error',verbose=0,random_state=42,n_jobs=-1)\n",
    "xgb_cv.fit(X_train,y_train)"
   ]
  },
  {
   "cell_type": "markdown",
   "metadata": {},
   "source": [
    "- **<mark style=\"background-color:#D1D96A;color:black;border-radius:5px;opacity:0.7\"> LGBM</mark>**"
   ]
  },
  {
   "cell_type": "code",
   "execution_count": null,
   "metadata": {
    "_kg_hide-input": false
   },
   "outputs": [],
   "source": [
    "lgbm = LGBMRegressor()\n",
    "param_grid = {\n",
    "    'learning_rate' : [0.0001,0.001,0.01,0.1,1],\n",
    "    'max_depth':range(3,21,3),\n",
    "    \"colsample_bytree\": [i/10.0 for i in range(3,10)],\n",
    "    \"reg_alpha\": [1e-5, 1e-2, 0.1, 1, 10, 100],\n",
    "    \"reg_lambda\": [1e-5, 1e-2, 0.1, 1, 10, 100]\n",
    "    \n",
    "}\n",
    "lgbm_cv = RandomizedSearchCV(lgbm, param_grid, n_iter = 100, refit='recall',\n",
    "         scoring='neg_mean_squared_error', cv = 5, verbose=0, random_state=42, n_jobs = -1)\n",
    "lgbm_cv.fit(X_train,y_train)"
   ]
  },
  {
   "cell_type": "markdown",
   "metadata": {},
   "source": [
    "<div style=\"color:white;display:fill;border-radius:8px;background-color:#03112A;font-size:150%;letter-spacing:1.0px\"><p style=\"padding: 10px;color:white;\"><b><b><span style='color:#94D4F6'>7.3 |</span></b> Accuracy of models after tuning </b></p></div>\n"
   ]
  },
  {
   "cell_type": "markdown",
   "metadata": {},
   "source": [
    "- **<mark style=\"background-color:#D1D96A;color:black;border-radius:5px;opacity:0.7\"> A table that shows the cross validation R2 score and RMSE after tuning</mark>**"
   ]
  },
  {
   "cell_type": "code",
   "execution_count": null,
   "metadata": {},
   "outputs": [],
   "source": [
    "print(' Cross validation scores of the models after tuning \\n')\n",
    "table = [[\"Model name\",\"R2 score\",'RMSE'],\n",
    "        ['XGBOOST',1+xgb_cv.best_score_, -xgb_cv.best_score_],\n",
    "        ['Random forest',1+rf_cv.best_score_, -rf_cv.best_score_],\n",
    "        ['LGBM',1+lgbm_cv.best_score_, -lgbm_cv.best_score_],]\n",
    "tab =PrettyTable(table[0])\n",
    "tab.add_row(table[1])\n",
    "tab.add_row(table[2])\n",
    "tab.add_row(table[3])\n",
    "tab.hrules = ALL\n",
    "tab.vrules = ALL\n",
    "print(tab)"
   ]
  },
  {
   "cell_type": "markdown",
   "metadata": {},
   "source": [
    "<span style='font-family:comic Sans MS; color:navy'>As you can see, all of the model accuracies improved and once again the LGBM model is the best and we use it for our final prediction and competition submission.</span>\n"
   ]
  },
  {
   "cell_type": "markdown",
   "metadata": {},
   "source": [
    "<div style=\"color:white;display:fill;border-radius:8px;background-color:#03112A;font-size:150%;letter-spacing:1.0px\"><p style=\"padding: 10px;color:white;\"><b><b><span style='color:#94D4F6'>4.4 |</span></b> Define the final regression model </b></p></div>"
   ]
  },
  {
   "cell_type": "code",
   "execution_count": null,
   "metadata": {},
   "outputs": [],
   "source": [
    "regressor = LGBMRegressor(**lgbm_cv.best_params_)"
   ]
  },
  {
   "cell_type": "markdown",
   "metadata": {},
   "source": [
    "<span style='font-family:comic Sans MS; color:navy'>Here we define the best model using optimized parameters based step 7.3</span>"
   ]
  },
  {
   "cell_type": "markdown",
   "metadata": {},
   "source": [
    "# <b>8 <span style='color:#94D4F6'>|</span>Training and Testing the regression Model</b>"
   ]
  },
  {
   "cell_type": "code",
   "execution_count": null,
   "metadata": {},
   "outputs": [],
   "source": [
    "regressor.fit(X_train, y_train)"
   ]
  },
  {
   "cell_type": "markdown",
   "metadata": {},
   "source": [
    "<span style='font-family:comic Sans MS; color:navy'>Here we train the final regression model</span>"
   ]
  },
  {
   "cell_type": "markdown",
   "metadata": {},
   "source": [
    "<div style=\"color:white;display:fill;border-radius:8px;background-color:#03112A;font-size:150%;letter-spacing:1.0px\"><p style=\"padding: 10px;color:white;\"><b><b><span style='color:#94D4F6'>8.1 |</span></b> Testing the regression model </b></p></div>"
   ]
  },
  {
   "cell_type": "code",
   "execution_count": null,
   "metadata": {},
   "outputs": [],
   "source": [
    "# prediciting the value of y for the test set X_test\n",
    "y_pred = regressor.predict(X_test)\n",
    "# printing the predicted values and test values side by side\n",
    "\n",
    "## we control which print only two decimal points\n",
    "np.set_printoptions(precision=2)\n",
    "print(np.concatenate((y_pred.reshape(len(y_pred),1), y_test.reshape(len(y_test),1)),1))"
   ]
  },
  {
   "cell_type": "markdown",
   "metadata": {},
   "source": [
    "# <b>9 <span style='color:#94D4F6'>|</span> Deal with Test Data</b>"
   ]
  },
  {
   "cell_type": "code",
   "execution_count": null,
   "metadata": {},
   "outputs": [],
   "source": [
    "df_test.head()"
   ]
  },
  {
   "cell_type": "code",
   "execution_count": null,
   "metadata": {},
   "outputs": [],
   "source": [
    "df_test.shape"
   ]
  },
  {
   "cell_type": "markdown",
   "metadata": {},
   "source": [
    "<span style='font-family:comic Sans MS; color:navy'>As you can see, we have 80 columns including columns which not necessary for our prediction and columns with missing data and categorical data.</span>"
   ]
  },
  {
   "cell_type": "code",
   "execution_count": null,
   "metadata": {},
   "outputs": [],
   "source": [
    "df_test.columns"
   ]
  },
  {
   "cell_type": "markdown",
   "metadata": {},
   "source": [
    "<span style='font-family:comic Sans MS; color:navy'>As you can see, we have the 80 columns name here and we should do some preProcessing operations on our data</span>"
   ]
  },
  {
   "cell_type": "markdown",
   "metadata": {},
   "source": [
    "- **<mark style=\"background-color:#D1D96A;color:black;border-radius:5px;opacity:0.7\">Dealing with missing data in the test dataset</mark>**"
   ]
  },
  {
   "cell_type": "code",
   "execution_count": null,
   "metadata": {},
   "outputs": [],
   "source": [
    "df_test.columns[df_test.isnull().sum() > 0]"
   ]
  },
  {
   "cell_type": "code",
   "execution_count": null,
   "metadata": {},
   "outputs": [],
   "source": [
    "# fill missing values by previous value\n",
    "df_test.fillna(method='bfill',inplace=True)\n",
    "# fill missing values by next value\n",
    "df_test.fillna(method='ffill',inplace=True)"
   ]
  },
  {
   "cell_type": "markdown",
   "metadata": {},
   "source": [
    "<span style='font-family:comic Sans MS; color:navy'>here we fill the missing Data with previous data and the next value</span>"
   ]
  },
  {
   "cell_type": "markdown",
   "metadata": {},
   "source": [
    "- **<mark style=\"background-color:#D1D96A;color:black;border-radius:5px;opacity:0.7\">Let's transform the dataset similar to the training set</mark>**"
   ]
  },
  {
   "cell_type": "code",
   "execution_count": null,
   "metadata": {},
   "outputs": [],
   "source": [
    "Id = df_test['Id'].values"
   ]
  },
  {
   "cell_type": "markdown",
   "metadata": {},
   "source": [
    "<span style='font-family:comic Sans MS; color:navy'>We just need Id Columns for the submission file</span>"
   ]
  },
  {
   "cell_type": "code",
   "execution_count": null,
   "metadata": {},
   "outputs": [],
   "source": [
    "# Columns we should drop\n",
    "new_col_drops = ['Id', 'MSSubClass', 'BsmtFinSF2', 'LowQualFinSF', 'BsmtHalfBath',\n",
    "             'KitchenAbvGr', '3SsnPorch', 'MiscVal', 'ScreenPorch', 'PoolArea','YrSold', 'Utilities']\n",
    "df_test.drop(new_col_drops,inplace=True,axis=1)"
   ]
  },
  {
   "cell_type": "markdown",
   "metadata": {},
   "source": [
    "<span style='font-family:comic Sans MS; color:navy'>We drop some columns, the same as the data set we train </span>"
   ]
  },
  {
   "cell_type": "code",
   "execution_count": null,
   "metadata": {},
   "outputs": [],
   "source": [
    "new_numeric_col = df_test.select_dtypes(include = np.number).columns.tolist()\n",
    "new_catagorical_cols= set(df_test.columns).difference(set(new_numeric_col))\n",
    "# names of columns that will label encoded\n",
    "new_lecols = []\n",
    "for x in new_catagorical_cols:\n",
    "    new_lecols.append(x)\n",
    "df_test[new_lecols] = df_test[new_lecols].apply(le.fit_transform)"
   ]
  },
  {
   "cell_type": "code",
   "execution_count": null,
   "metadata": {},
   "outputs": [],
   "source": [
    "#list of col  names that include numerical values\n",
    "new_numeric_cols = df_test.select_dtypes(include=np.number).columns.tolist()  \n",
    "df_test[new_numeric_cols] = sc_X.transform(df_test[new_numeric_cols])"
   ]
  },
  {
   "cell_type": "code",
   "execution_count": null,
   "metadata": {},
   "outputs": [],
   "source": [
    "X_new = df_test.iloc[:,:].values\n",
    "y_new = sc_y.inverse_transform([regressor.predict(X_new)])\n",
    "y_new_formatted = [ '%.0f' % elem for elem in y_new[0] ]\n"
   ]
  },
  {
   "cell_type": "code",
   "execution_count": null,
   "metadata": {},
   "outputs": [],
   "source": [
    "data = {'Id': Id, 'SalePrice': y_new_formatted }\n",
    "df_sub = pd.DataFrame(data)\n",
    "df_sub.head()"
   ]
  },
  {
   "cell_type": "markdown",
   "metadata": {},
   "source": [
    "<span style='font-family:comic Sans MS; color:navy'>Here we were preparing a data frame for the submitted file.</span>"
   ]
  },
  {
   "cell_type": "code",
   "execution_count": null,
   "metadata": {},
   "outputs": [],
   "source": [
    "df_sub.to_csv('Submission.csv', index=False)"
   ]
  },
  {
   "cell_type": "markdown",
   "metadata": {},
   "source": [
    "<span style='font-family:comic Sans MS; color:navy'>Done!</span>"
   ]
  },
  {
   "cell_type": "markdown",
   "metadata": {},
   "source": [
    "<center>\n",
    "<span style=\"font-family:Comic Sans MS; color:red\"><h2>Thank You😊</h2></span>\n",
    "</center>"
   ]
  },
  {
   "cell_type": "code",
   "execution_count": null,
   "metadata": {},
   "outputs": [],
   "source": []
  }
 ],
 "metadata": {
  "kernelspec": {
   "display_name": "Python 3 (ipykernel)",
   "language": "python",
   "name": "python3"
  },
  "language_info": {
   "codemirror_mode": {
    "name": "ipython",
    "version": 3
   },
   "file_extension": ".py",
   "mimetype": "text/x-python",
   "name": "python",
   "nbconvert_exporter": "python",
   "pygments_lexer": "ipython3",
   "version": "3.9.13"
  }
 },
 "nbformat": 4,
 "nbformat_minor": 4
}
